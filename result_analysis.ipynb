{
 "cells": [
  {
   "cell_type": "code",
   "execution_count": null,
   "metadata": {},
   "outputs": [],
   "source": [
    "import json\n",
    "import numpy as np\n",
    "import pandas as pd\n",
    "\n",
    "\n",
    "def read_json_file(file_path):\n",
    "    with open(file_path, \"r\") as json_file:\n",
    "        data = json.load(json_file)\n",
    "    return data"
   ]
  },
  {
   "cell_type": "code",
   "execution_count": null,
   "metadata": {},
   "outputs": [],
   "source": [
    "df_ground_truth = pd.read_csv(\"./examples/ground_truth.csv\")"
   ]
  },
  {
   "cell_type": "code",
   "execution_count": null,
   "metadata": {},
   "outputs": [],
   "source": [
    "results = read_json_file(\"./results/anonimo1_0.json\")\n",
    "\n",
    "df = pd.DataFrame({\n",
    "    \"info\": [\"upper_arm\", \"chest\", \"waist\", \"hip\", \"thigh\", \"calf\"],\n",
    "    \"value\": [\n",
    "        np.mean([results[\"left_arm\"], results[\"right_arm\"]]),\n",
    "        results[\"chest\"],\n",
    "        results[\"waist\"],\n",
    "        results[\"hip\"],\n",
    "        np.mean([results[\"left_tight\"], results[\"right_tigh\"]]),\n",
    "        np.mean([results[\"left_calf \"], results[\"right_calf\"]]),\n",
    "    ],\n",
    "})"
   ]
  },
  {
   "cell_type": "code",
   "execution_count": null,
   "metadata": {},
   "outputs": [],
   "source": [
    "df"
   ]
  },
  {
   "cell_type": "code",
   "execution_count": null,
   "metadata": {},
   "outputs": [],
   "source": []
  }
 ],
 "metadata": {
  "kernelspec": {
   "display_name": "env",
   "language": "python",
   "name": "python3"
  },
  "language_info": {
   "codemirror_mode": {
    "name": "ipython",
    "version": 3
   },
   "file_extension": ".py",
   "mimetype": "text/x-python",
   "name": "python",
   "nbconvert_exporter": "python",
   "pygments_lexer": "ipython3",
   "version": "3.9.2"
  }
 },
 "nbformat": 4,
 "nbformat_minor": 2
}
