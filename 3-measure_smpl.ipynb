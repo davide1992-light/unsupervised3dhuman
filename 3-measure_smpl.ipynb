{
 "cells": [
  {
   "cell_type": "code",
   "execution_count": null,
   "metadata": {},
   "outputs": [],
   "source": [
    "from SMPLmeasure import SMPLmeasure"
   ]
  },
  {
   "cell_type": "code",
   "execution_count": null,
   "metadata": {},
   "outputs": [],
   "source": [
    "measure_smpl = SMPLmeasure.SMPLmeasure()"
   ]
  },
  {
   "cell_type": "code",
   "execution_count": null,
   "metadata": {},
   "outputs": [],
   "source": [
    "n = 1\n",
    "direction = \"front\"\n",
    "filename = f\"./results/ex{n}{direction}_pred.ply\"\n",
    "height = 1.73\n",
    "measure_smpl.measure_smpl(filename=filename, height=height)"
   ]
  },
  {
   "cell_type": "code",
   "execution_count": null,
   "metadata": {},
   "outputs": [],
   "source": [
    "{\n",
    "    \"left_tight\": 0.5833439538364857,\n",
    "    \"right_tigh\": 0.5838235679340689,\n",
    "    \"left_calf \": 0.38618640623245337,\n",
    "    \"right_calf\": 0.3916792872952529,\n",
    "    \"chest\": 1.0216209731456938,\n",
    "    \"waist\": 0.9797910026113187,\n",
    "    \"hip\": 1.0507605797825927,\n",
    "    \"left_arm\": 0.3092451830139889,\n",
    "    \"right_arm\": 0.30988321675585956,\n",
    "}"
   ]
  }
 ],
 "metadata": {
  "kernelspec": {
   "display_name": "env",
   "language": "python",
   "name": "python3"
  },
  "language_info": {
   "codemirror_mode": {
    "name": "ipython",
    "version": 3
   },
   "file_extension": ".py",
   "mimetype": "text/x-python",
   "name": "python",
   "nbconvert_exporter": "python",
   "pygments_lexer": "ipython3",
   "version": "3.9.2"
  }
 },
 "nbformat": 4,
 "nbformat_minor": 2
}
