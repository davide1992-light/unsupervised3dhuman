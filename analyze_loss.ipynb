{
 "cells": [
  {
   "cell_type": "code",
   "execution_count": null,
   "metadata": {},
   "outputs": [],
   "source": [
    "import json\n",
    "import pandas as pd\n",
    "import plotly.graph_objects as go\n",
    "import plotly.express as px"
   ]
  },
  {
   "cell_type": "code",
   "execution_count": null,
   "metadata": {},
   "outputs": [],
   "source": [
    "with open(\"./store_epoch.json\") as f:\n",
    "    store_epoch = json.load(f)"
   ]
  },
  {
   "cell_type": "code",
   "execution_count": null,
   "metadata": {},
   "outputs": [],
   "source": [
    "x = [i for i in range(len(store_epoch[\"loss\"]))]\n",
    "y = store_epoch[\"loss\"]\n",
    "\n",
    "fig = go.Figure(data=go.Scatter(x=x, y=y, mode=\"lines\"))\n",
    "# fig.update_yaxes(type=\"log\")\n",
    "fig.update_layout(title=\"Loss\", xaxis_title=\"Epoch\", yaxis_title=\"Loss\")\n",
    "\n",
    "fig.show()"
   ]
  },
  {
   "cell_type": "code",
   "execution_count": null,
   "metadata": {},
   "outputs": [],
   "source": [
    "x = [i for i in range(len(store_epoch[\"scale\"]))]\n",
    "y = store_epoch[\"scale\"]\n",
    "\n",
    "fig = go.Figure(data=go.Scatter(x=x, y=y, mode=\"lines\"))\n",
    "\n",
    "fig.update_layout(title=\"Scale\", xaxis_title=\"Epoch\", yaxis_title=\"Scale\")\n",
    "\n",
    "fig.show()"
   ]
  },
  {
   "cell_type": "code",
   "execution_count": null,
   "metadata": {},
   "outputs": [],
   "source": [
    "df = pd.DataFrame(store_epoch[\"betas\"])\n",
    "betas = [\"b\" + str(i + 1) for i in range(10)]\n",
    "df.columns = betas\n",
    "df[\"Epoch\"] = df.index\n",
    "\n",
    "fig = px.line(df, x=\"Epoch\", y=betas, title=\"Betas\")\n",
    "fig.show()"
   ]
  },
  {
   "cell_type": "code",
   "execution_count": null,
   "metadata": {},
   "outputs": [],
   "source": [
    "df = pd.DataFrame(store_epoch[\"global_orient\"])\n",
    "global_orient = [\"g\" + str(i + 1) for i in range(3)]\n",
    "df.columns = global_orient\n",
    "df[\"Epoch\"] = df.index\n",
    "\n",
    "fig = px.line(df, x=\"Epoch\", y=global_orient, title=\"Global Orient\")\n",
    "fig.show()"
   ]
  },
  {
   "cell_type": "code",
   "execution_count": null,
   "metadata": {},
   "outputs": [],
   "source": [
    "df = pd.DataFrame(store_epoch[\"body_pose\"])\n",
    "body_pose = [\"b\" + str(i + 1) for i in range(69)]\n",
    "df.columns = body_pose\n",
    "df[\"Epoch\"] = df.index\n",
    "\n",
    "fig = px.line(df, x=\"Epoch\", y=body_pose, title=\"Body Pose\")\n",
    "fig.show()"
   ]
  },
  {
   "cell_type": "code",
   "execution_count": null,
   "metadata": {},
   "outputs": [],
   "source": [
    "df = pd.DataFrame(store_epoch[\"camera_translation\"])\n",
    "camera_translation = [\"b\" + str(i + 1) for i in range(3)]\n",
    "df.columns = camera_translation\n",
    "df[\"Epoch\"] = df.index\n",
    "\n",
    "fig = px.line(df, x=\"Epoch\", y=camera_translation, title=\"Camera Translation\")\n",
    "fig.show()"
   ]
  },
  {
   "cell_type": "code",
   "execution_count": null,
   "metadata": {},
   "outputs": [],
   "source": [
    "df = pd.DataFrame(store_epoch[\"back_trans\"])\n",
    "back_trans = [\"b\" + str(i + 1) for i in range(3)]\n",
    "df.columns = back_trans\n",
    "df[\"Epoch\"] = df.index\n",
    "\n",
    "fig = px.line(df, x=\"Epoch\", y=back_trans, title=\"Back Translation\")\n",
    "fig.show()"
   ]
  },
  {
   "cell_type": "code",
   "execution_count": null,
   "metadata": {},
   "outputs": [],
   "source": [
    "x = [i for i in range(len(store_epoch[\"sigma\"]))]\n",
    "y = store_epoch[\"sigma\"]\n",
    "\n",
    "fig = go.Figure(data=go.Scatter(x=x, y=y, mode=\"lines\"))\n",
    "\n",
    "fig.update_layout(title=\"Sigma\", xaxis_title=\"Epoch\", yaxis_title=\"Scale\")\n",
    "\n",
    "fig.show()"
   ]
  }
 ],
 "metadata": {
  "kernelspec": {
   "display_name": "env",
   "language": "python",
   "name": "python3"
  },
  "language_info": {
   "codemirror_mode": {
    "name": "ipython",
    "version": 3
   },
   "file_extension": ".py",
   "mimetype": "text/x-python",
   "name": "python",
   "nbconvert_exporter": "python",
   "pygments_lexer": "ipython3",
   "version": "3.9.2"
  }
 },
 "nbformat": 4,
 "nbformat_minor": 2
}
