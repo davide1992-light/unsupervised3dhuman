{
 "cells": [
  {
   "cell_type": "code",
   "execution_count": 3,
   "metadata": {},
   "outputs": [],
   "source": [
    "import os\n",
    "from utils.preprocess import preprocess"
   ]
  },
  {
   "cell_type": "code",
   "execution_count": 11,
   "metadata": {},
   "outputs": [],
   "source": [
    "example_path = \"./examples/\"\n",
    "result_path = \"./results/\"\n",
    "\n",
    "anonimos = [\"anonimo20\", \"anonimo21\"]\n",
    "\n",
    "for anonimo in anonimos:\n",
    "    samples = os.listdir(example_path + anonimo)\n",
    "\n",
    "    for sample in samples:\n",
    "        if not os.path.exists(f\"{result_path}{anonimo}_{sample}\"):\n",
    "            os.mkdir(f\"{result_path}{anonimo}_{sample}\")\n",
    "\n",
    "        direction = \"front\"\n",
    "        input_ply_path = f\"{example_path}{anonimo}/{sample}/a.ply\"\n",
    "        output_ply_path = f\"{result_path}{anonimo}_{sample}/{direction}_proc.ply\"\n",
    "        preprocess(input_ply_path, output_ply_path, direction)\n",
    "\n",
    "        direction = \"back\"\n",
    "        input_ply_path = f\"{example_path}{anonimo}/{sample}/c.ply\"\n",
    "        output_ply_path = f\"{result_path}{anonimo}_{sample}/{direction}_proc.ply\"\n",
    "        preprocess(input_ply_path, output_ply_path, direction)"
   ]
  }
 ],
 "metadata": {
  "kernelspec": {
   "display_name": "env",
   "language": "python",
   "name": "python3"
  },
  "language_info": {
   "codemirror_mode": {
    "name": "ipython",
    "version": 3
   },
   "file_extension": ".py",
   "mimetype": "text/x-python",
   "name": "python",
   "nbconvert_exporter": "python",
   "pygments_lexer": "ipython3",
   "version": "3.10.12"
  }
 },
 "nbformat": 4,
 "nbformat_minor": 2
}
