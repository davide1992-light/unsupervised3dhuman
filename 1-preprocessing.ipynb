{
 "cells": [
  {
   "cell_type": "code",
   "execution_count": 1,
   "metadata": {},
   "outputs": [],
   "source": [
    "from utils.center_rotate_scale import center_rotate_scale"
   ]
  },
  {
   "cell_type": "code",
   "execution_count": 2,
   "metadata": {},
   "outputs": [],
   "source": [
    "for n in [1, 2, 3, 4]:\n",
    "    direction = \"front\"\n",
    "    input_ply_path = f\"./examples/ex{n}{direction}.ply\"\n",
    "    output_ply_path = f\"./results/ex{n}{direction}_rot.ply\"\n",
    "    center_rotate_scale(input_ply_path, output_ply_path, direction)\n",
    "\n",
    "    direction = \"back\"\n",
    "    input_ply_path = f\"./examples/ex{n}{direction}.ply\"\n",
    "    output_ply_path = f\"./results/ex{n}{direction}_rot.ply\"\n",
    "    center_rotate_scale(input_ply_path, output_ply_path, direction)"
   ]
  }
 ],
 "metadata": {
  "kernelspec": {
   "display_name": "env",
   "language": "python",
   "name": "python3"
  },
  "language_info": {
   "codemirror_mode": {
    "name": "ipython",
    "version": 3
   },
   "file_extension": ".py",
   "mimetype": "text/x-python",
   "name": "python",
   "nbconvert_exporter": "python",
   "pygments_lexer": "ipython3",
   "version": "3.9.2"
  }
 },
 "nbformat": 4,
 "nbformat_minor": 2
}
