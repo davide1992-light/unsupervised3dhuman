{
 "cells": [
  {
   "cell_type": "code",
   "execution_count": null,
   "metadata": {},
   "outputs": [],
   "source": [
    "from utils.center_rotate import center_rotate"
   ]
  },
  {
   "cell_type": "code",
   "execution_count": null,
   "metadata": {},
   "outputs": [],
   "source": [
    "n = 1\n",
    "\n",
    "direction = \"front\"\n",
    "input_ply_path = f\"./examples/ex{n}{direction}.ply\"\n",
    "output_ply_path = f\"./examples/ex{n}{direction}_rot.ply\"\n",
    "center_rotate(input_ply_path,output_ply_path,direction)\n",
    "\n",
    "direction = \"back\"\n",
    "input_ply_path = f\"./examples/ex{n}{direction}.ply\"\n",
    "output_ply_path = f\"./examples/ex{n}{direction}_rot.ply\"\n",
    "center_rotate(input_ply_path,output_ply_path,direction)"
   ]
  }
 ],
 "metadata": {
  "kernelspec": {
   "display_name": "env",
   "language": "python",
   "name": "python3"
  },
  "language_info": {
   "codemirror_mode": {
    "name": "ipython",
    "version": 3
   },
   "file_extension": ".py",
   "mimetype": "text/x-python",
   "name": "python",
   "nbconvert_exporter": "python",
   "pygments_lexer": "ipython3",
   "version": "3.9.2"
  }
 },
 "nbformat": 4,
 "nbformat_minor": 2
}
