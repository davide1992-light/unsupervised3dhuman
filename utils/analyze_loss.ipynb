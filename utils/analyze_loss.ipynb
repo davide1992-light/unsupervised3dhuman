{
 "cells": [
  {
   "cell_type": "code",
   "execution_count": 36,
   "metadata": {},
   "outputs": [],
   "source": [
    "import json\n",
    "import pandas as pd\n",
    "import plotly.graph_objects as go\n",
    "import plotly.express as px"
   ]
  },
  {
   "cell_type": "code",
   "execution_count": 37,
   "metadata": {},
   "outputs": [],
   "source": [
    "with open(\"../results/store_epoch.json\") as f:\n",
    "    store_epoch = json.load(f)"
   ]
  },
  {
   "cell_type": "code",
   "execution_count": 38,
   "metadata": {},
   "outputs": [
    {
     "data": {
      "application/vnd.plotly.v1+json": {
       "config": {
        "plotlyServerURL": "https://plot.ly"
       },
       "data": [
        {
         "mode": "lines",
         "type": "scatter",
         "x": [
          0,
          1,
          2,
          3,
          4,
          5,
          6,
          7,
          8,
          9,
          10,
          11,
          12,
          13,
          14,
          15,
          16,
          17,
          18,
          19,
          20,
          21,
          22,
          23,
          24,
          25,
          26,
          27,
          28,
          29,
          30,
          31,
          32,
          33,
          34,
          35,
          36,
          37,
          38,
          39,
          40,
          41,
          42,
          43,
          44,
          45,
          46,
          47,
          48,
          49
         ],
         "y": [
          671078.125,
          133448.140625,
          116477.015625,
          101600.5078125,
          97878.2109375,
          95186.7109375,
          92797.5,
          91047.8125,
          89480.515625,
          88170.7578125,
          86847.234375,
          85500.984375,
          84326.453125,
          83150.09375,
          81999.3984375,
          80448.65625,
          78997.0625,
          77545.8125,
          76353.5,
          75159.2109375,
          73962.3125,
          72762.734375,
          71560.296875,
          70354.75,
          69145.9453125,
          67933.609375,
          66717.453125,
          65497.125,
          64316.3828125,
          62895.7578125,
          61490.44140625,
          60251.8671875,
          59006.9609375,
          57755.08984375,
          56495.63671875,
          55227.890625,
          53951.1796875,
          52664.7734375,
          51395.6796875,
          49999.14453125,
          48678.40625,
          47347.0234375,
          45711.6796875,
          44178.85546875,
          42327.421875,
          40105.3046875,
          38220.32421875,
          36826.7890625,
          35144.21875,
          33656.96875
         ]
        }
       ],
       "layout": {
        "template": {
         "data": {
          "bar": [
           {
            "error_x": {
             "color": "#2a3f5f"
            },
            "error_y": {
             "color": "#2a3f5f"
            },
            "marker": {
             "line": {
              "color": "#E5ECF6",
              "width": 0.5
             },
             "pattern": {
              "fillmode": "overlay",
              "size": 10,
              "solidity": 0.2
             }
            },
            "type": "bar"
           }
          ],
          "barpolar": [
           {
            "marker": {
             "line": {
              "color": "#E5ECF6",
              "width": 0.5
             },
             "pattern": {
              "fillmode": "overlay",
              "size": 10,
              "solidity": 0.2
             }
            },
            "type": "barpolar"
           }
          ],
          "carpet": [
           {
            "aaxis": {
             "endlinecolor": "#2a3f5f",
             "gridcolor": "white",
             "linecolor": "white",
             "minorgridcolor": "white",
             "startlinecolor": "#2a3f5f"
            },
            "baxis": {
             "endlinecolor": "#2a3f5f",
             "gridcolor": "white",
             "linecolor": "white",
             "minorgridcolor": "white",
             "startlinecolor": "#2a3f5f"
            },
            "type": "carpet"
           }
          ],
          "choropleth": [
           {
            "colorbar": {
             "outlinewidth": 0,
             "ticks": ""
            },
            "type": "choropleth"
           }
          ],
          "contour": [
           {
            "colorbar": {
             "outlinewidth": 0,
             "ticks": ""
            },
            "colorscale": [
             [
              0,
              "#0d0887"
             ],
             [
              0.1111111111111111,
              "#46039f"
             ],
             [
              0.2222222222222222,
              "#7201a8"
             ],
             [
              0.3333333333333333,
              "#9c179e"
             ],
             [
              0.4444444444444444,
              "#bd3786"
             ],
             [
              0.5555555555555556,
              "#d8576b"
             ],
             [
              0.6666666666666666,
              "#ed7953"
             ],
             [
              0.7777777777777778,
              "#fb9f3a"
             ],
             [
              0.8888888888888888,
              "#fdca26"
             ],
             [
              1,
              "#f0f921"
             ]
            ],
            "type": "contour"
           }
          ],
          "contourcarpet": [
           {
            "colorbar": {
             "outlinewidth": 0,
             "ticks": ""
            },
            "type": "contourcarpet"
           }
          ],
          "heatmap": [
           {
            "colorbar": {
             "outlinewidth": 0,
             "ticks": ""
            },
            "colorscale": [
             [
              0,
              "#0d0887"
             ],
             [
              0.1111111111111111,
              "#46039f"
             ],
             [
              0.2222222222222222,
              "#7201a8"
             ],
             [
              0.3333333333333333,
              "#9c179e"
             ],
             [
              0.4444444444444444,
              "#bd3786"
             ],
             [
              0.5555555555555556,
              "#d8576b"
             ],
             [
              0.6666666666666666,
              "#ed7953"
             ],
             [
              0.7777777777777778,
              "#fb9f3a"
             ],
             [
              0.8888888888888888,
              "#fdca26"
             ],
             [
              1,
              "#f0f921"
             ]
            ],
            "type": "heatmap"
           }
          ],
          "heatmapgl": [
           {
            "colorbar": {
             "outlinewidth": 0,
             "ticks": ""
            },
            "colorscale": [
             [
              0,
              "#0d0887"
             ],
             [
              0.1111111111111111,
              "#46039f"
             ],
             [
              0.2222222222222222,
              "#7201a8"
             ],
             [
              0.3333333333333333,
              "#9c179e"
             ],
             [
              0.4444444444444444,
              "#bd3786"
             ],
             [
              0.5555555555555556,
              "#d8576b"
             ],
             [
              0.6666666666666666,
              "#ed7953"
             ],
             [
              0.7777777777777778,
              "#fb9f3a"
             ],
             [
              0.8888888888888888,
              "#fdca26"
             ],
             [
              1,
              "#f0f921"
             ]
            ],
            "type": "heatmapgl"
           }
          ],
          "histogram": [
           {
            "marker": {
             "pattern": {
              "fillmode": "overlay",
              "size": 10,
              "solidity": 0.2
             }
            },
            "type": "histogram"
           }
          ],
          "histogram2d": [
           {
            "colorbar": {
             "outlinewidth": 0,
             "ticks": ""
            },
            "colorscale": [
             [
              0,
              "#0d0887"
             ],
             [
              0.1111111111111111,
              "#46039f"
             ],
             [
              0.2222222222222222,
              "#7201a8"
             ],
             [
              0.3333333333333333,
              "#9c179e"
             ],
             [
              0.4444444444444444,
              "#bd3786"
             ],
             [
              0.5555555555555556,
              "#d8576b"
             ],
             [
              0.6666666666666666,
              "#ed7953"
             ],
             [
              0.7777777777777778,
              "#fb9f3a"
             ],
             [
              0.8888888888888888,
              "#fdca26"
             ],
             [
              1,
              "#f0f921"
             ]
            ],
            "type": "histogram2d"
           }
          ],
          "histogram2dcontour": [
           {
            "colorbar": {
             "outlinewidth": 0,
             "ticks": ""
            },
            "colorscale": [
             [
              0,
              "#0d0887"
             ],
             [
              0.1111111111111111,
              "#46039f"
             ],
             [
              0.2222222222222222,
              "#7201a8"
             ],
             [
              0.3333333333333333,
              "#9c179e"
             ],
             [
              0.4444444444444444,
              "#bd3786"
             ],
             [
              0.5555555555555556,
              "#d8576b"
             ],
             [
              0.6666666666666666,
              "#ed7953"
             ],
             [
              0.7777777777777778,
              "#fb9f3a"
             ],
             [
              0.8888888888888888,
              "#fdca26"
             ],
             [
              1,
              "#f0f921"
             ]
            ],
            "type": "histogram2dcontour"
           }
          ],
          "mesh3d": [
           {
            "colorbar": {
             "outlinewidth": 0,
             "ticks": ""
            },
            "type": "mesh3d"
           }
          ],
          "parcoords": [
           {
            "line": {
             "colorbar": {
              "outlinewidth": 0,
              "ticks": ""
             }
            },
            "type": "parcoords"
           }
          ],
          "pie": [
           {
            "automargin": true,
            "type": "pie"
           }
          ],
          "scatter": [
           {
            "fillpattern": {
             "fillmode": "overlay",
             "size": 10,
             "solidity": 0.2
            },
            "type": "scatter"
           }
          ],
          "scatter3d": [
           {
            "line": {
             "colorbar": {
              "outlinewidth": 0,
              "ticks": ""
             }
            },
            "marker": {
             "colorbar": {
              "outlinewidth": 0,
              "ticks": ""
             }
            },
            "type": "scatter3d"
           }
          ],
          "scattercarpet": [
           {
            "marker": {
             "colorbar": {
              "outlinewidth": 0,
              "ticks": ""
             }
            },
            "type": "scattercarpet"
           }
          ],
          "scattergeo": [
           {
            "marker": {
             "colorbar": {
              "outlinewidth": 0,
              "ticks": ""
             }
            },
            "type": "scattergeo"
           }
          ],
          "scattergl": [
           {
            "marker": {
             "colorbar": {
              "outlinewidth": 0,
              "ticks": ""
             }
            },
            "type": "scattergl"
           }
          ],
          "scattermapbox": [
           {
            "marker": {
             "colorbar": {
              "outlinewidth": 0,
              "ticks": ""
             }
            },
            "type": "scattermapbox"
           }
          ],
          "scatterpolar": [
           {
            "marker": {
             "colorbar": {
              "outlinewidth": 0,
              "ticks": ""
             }
            },
            "type": "scatterpolar"
           }
          ],
          "scatterpolargl": [
           {
            "marker": {
             "colorbar": {
              "outlinewidth": 0,
              "ticks": ""
             }
            },
            "type": "scatterpolargl"
           }
          ],
          "scatterternary": [
           {
            "marker": {
             "colorbar": {
              "outlinewidth": 0,
              "ticks": ""
             }
            },
            "type": "scatterternary"
           }
          ],
          "surface": [
           {
            "colorbar": {
             "outlinewidth": 0,
             "ticks": ""
            },
            "colorscale": [
             [
              0,
              "#0d0887"
             ],
             [
              0.1111111111111111,
              "#46039f"
             ],
             [
              0.2222222222222222,
              "#7201a8"
             ],
             [
              0.3333333333333333,
              "#9c179e"
             ],
             [
              0.4444444444444444,
              "#bd3786"
             ],
             [
              0.5555555555555556,
              "#d8576b"
             ],
             [
              0.6666666666666666,
              "#ed7953"
             ],
             [
              0.7777777777777778,
              "#fb9f3a"
             ],
             [
              0.8888888888888888,
              "#fdca26"
             ],
             [
              1,
              "#f0f921"
             ]
            ],
            "type": "surface"
           }
          ],
          "table": [
           {
            "cells": {
             "fill": {
              "color": "#EBF0F8"
             },
             "line": {
              "color": "white"
             }
            },
            "header": {
             "fill": {
              "color": "#C8D4E3"
             },
             "line": {
              "color": "white"
             }
            },
            "type": "table"
           }
          ]
         },
         "layout": {
          "annotationdefaults": {
           "arrowcolor": "#2a3f5f",
           "arrowhead": 0,
           "arrowwidth": 1
          },
          "autotypenumbers": "strict",
          "coloraxis": {
           "colorbar": {
            "outlinewidth": 0,
            "ticks": ""
           }
          },
          "colorscale": {
           "diverging": [
            [
             0,
             "#8e0152"
            ],
            [
             0.1,
             "#c51b7d"
            ],
            [
             0.2,
             "#de77ae"
            ],
            [
             0.3,
             "#f1b6da"
            ],
            [
             0.4,
             "#fde0ef"
            ],
            [
             0.5,
             "#f7f7f7"
            ],
            [
             0.6,
             "#e6f5d0"
            ],
            [
             0.7,
             "#b8e186"
            ],
            [
             0.8,
             "#7fbc41"
            ],
            [
             0.9,
             "#4d9221"
            ],
            [
             1,
             "#276419"
            ]
           ],
           "sequential": [
            [
             0,
             "#0d0887"
            ],
            [
             0.1111111111111111,
             "#46039f"
            ],
            [
             0.2222222222222222,
             "#7201a8"
            ],
            [
             0.3333333333333333,
             "#9c179e"
            ],
            [
             0.4444444444444444,
             "#bd3786"
            ],
            [
             0.5555555555555556,
             "#d8576b"
            ],
            [
             0.6666666666666666,
             "#ed7953"
            ],
            [
             0.7777777777777778,
             "#fb9f3a"
            ],
            [
             0.8888888888888888,
             "#fdca26"
            ],
            [
             1,
             "#f0f921"
            ]
           ],
           "sequentialminus": [
            [
             0,
             "#0d0887"
            ],
            [
             0.1111111111111111,
             "#46039f"
            ],
            [
             0.2222222222222222,
             "#7201a8"
            ],
            [
             0.3333333333333333,
             "#9c179e"
            ],
            [
             0.4444444444444444,
             "#bd3786"
            ],
            [
             0.5555555555555556,
             "#d8576b"
            ],
            [
             0.6666666666666666,
             "#ed7953"
            ],
            [
             0.7777777777777778,
             "#fb9f3a"
            ],
            [
             0.8888888888888888,
             "#fdca26"
            ],
            [
             1,
             "#f0f921"
            ]
           ]
          },
          "colorway": [
           "#636efa",
           "#EF553B",
           "#00cc96",
           "#ab63fa",
           "#FFA15A",
           "#19d3f3",
           "#FF6692",
           "#B6E880",
           "#FF97FF",
           "#FECB52"
          ],
          "font": {
           "color": "#2a3f5f"
          },
          "geo": {
           "bgcolor": "white",
           "lakecolor": "white",
           "landcolor": "#E5ECF6",
           "showlakes": true,
           "showland": true,
           "subunitcolor": "white"
          },
          "hoverlabel": {
           "align": "left"
          },
          "hovermode": "closest",
          "mapbox": {
           "style": "light"
          },
          "paper_bgcolor": "white",
          "plot_bgcolor": "#E5ECF6",
          "polar": {
           "angularaxis": {
            "gridcolor": "white",
            "linecolor": "white",
            "ticks": ""
           },
           "bgcolor": "#E5ECF6",
           "radialaxis": {
            "gridcolor": "white",
            "linecolor": "white",
            "ticks": ""
           }
          },
          "scene": {
           "xaxis": {
            "backgroundcolor": "#E5ECF6",
            "gridcolor": "white",
            "gridwidth": 2,
            "linecolor": "white",
            "showbackground": true,
            "ticks": "",
            "zerolinecolor": "white"
           },
           "yaxis": {
            "backgroundcolor": "#E5ECF6",
            "gridcolor": "white",
            "gridwidth": 2,
            "linecolor": "white",
            "showbackground": true,
            "ticks": "",
            "zerolinecolor": "white"
           },
           "zaxis": {
            "backgroundcolor": "#E5ECF6",
            "gridcolor": "white",
            "gridwidth": 2,
            "linecolor": "white",
            "showbackground": true,
            "ticks": "",
            "zerolinecolor": "white"
           }
          },
          "shapedefaults": {
           "line": {
            "color": "#2a3f5f"
           }
          },
          "ternary": {
           "aaxis": {
            "gridcolor": "white",
            "linecolor": "white",
            "ticks": ""
           },
           "baxis": {
            "gridcolor": "white",
            "linecolor": "white",
            "ticks": ""
           },
           "bgcolor": "#E5ECF6",
           "caxis": {
            "gridcolor": "white",
            "linecolor": "white",
            "ticks": ""
           }
          },
          "title": {
           "x": 0.05
          },
          "xaxis": {
           "automargin": true,
           "gridcolor": "white",
           "linecolor": "white",
           "ticks": "",
           "title": {
            "standoff": 15
           },
           "zerolinecolor": "white",
           "zerolinewidth": 2
          },
          "yaxis": {
           "automargin": true,
           "gridcolor": "white",
           "linecolor": "white",
           "ticks": "",
           "title": {
            "standoff": 15
           },
           "zerolinecolor": "white",
           "zerolinewidth": 2
          }
         }
        },
        "title": {
         "text": "Loss"
        },
        "xaxis": {
         "title": {
          "text": "Epoch"
         }
        },
        "yaxis": {
         "title": {
          "text": "Loss"
         }
        }
       }
      },
      "text/html": [
       "<div>                            <div id=\"523a9d3a-7228-4315-97ec-239be270412c\" class=\"plotly-graph-div\" style=\"height:525px; width:100%;\"></div>            <script type=\"text/javascript\">                require([\"plotly\"], function(Plotly) {                    window.PLOTLYENV=window.PLOTLYENV || {};                                    if (document.getElementById(\"523a9d3a-7228-4315-97ec-239be270412c\")) {                    Plotly.newPlot(                        \"523a9d3a-7228-4315-97ec-239be270412c\",                        [{\"mode\":\"lines\",\"x\":[0,1,2,3,4,5,6,7,8,9,10,11,12,13,14,15,16,17,18,19,20,21,22,23,24,25,26,27,28,29,30,31,32,33,34,35,36,37,38,39,40,41,42,43,44,45,46,47,48,49],\"y\":[671078.125,133448.140625,116477.015625,101600.5078125,97878.2109375,95186.7109375,92797.5,91047.8125,89480.515625,88170.7578125,86847.234375,85500.984375,84326.453125,83150.09375,81999.3984375,80448.65625,78997.0625,77545.8125,76353.5,75159.2109375,73962.3125,72762.734375,71560.296875,70354.75,69145.9453125,67933.609375,66717.453125,65497.125,64316.3828125,62895.7578125,61490.44140625,60251.8671875,59006.9609375,57755.08984375,56495.63671875,55227.890625,53951.1796875,52664.7734375,51395.6796875,49999.14453125,48678.40625,47347.0234375,45711.6796875,44178.85546875,42327.421875,40105.3046875,38220.32421875,36826.7890625,35144.21875,33656.96875],\"type\":\"scatter\"}],                        {\"template\":{\"data\":{\"histogram2dcontour\":[{\"type\":\"histogram2dcontour\",\"colorbar\":{\"outlinewidth\":0,\"ticks\":\"\"},\"colorscale\":[[0.0,\"#0d0887\"],[0.1111111111111111,\"#46039f\"],[0.2222222222222222,\"#7201a8\"],[0.3333333333333333,\"#9c179e\"],[0.4444444444444444,\"#bd3786\"],[0.5555555555555556,\"#d8576b\"],[0.6666666666666666,\"#ed7953\"],[0.7777777777777778,\"#fb9f3a\"],[0.8888888888888888,\"#fdca26\"],[1.0,\"#f0f921\"]]}],\"choropleth\":[{\"type\":\"choropleth\",\"colorbar\":{\"outlinewidth\":0,\"ticks\":\"\"}}],\"histogram2d\":[{\"type\":\"histogram2d\",\"colorbar\":{\"outlinewidth\":0,\"ticks\":\"\"},\"colorscale\":[[0.0,\"#0d0887\"],[0.1111111111111111,\"#46039f\"],[0.2222222222222222,\"#7201a8\"],[0.3333333333333333,\"#9c179e\"],[0.4444444444444444,\"#bd3786\"],[0.5555555555555556,\"#d8576b\"],[0.6666666666666666,\"#ed7953\"],[0.7777777777777778,\"#fb9f3a\"],[0.8888888888888888,\"#fdca26\"],[1.0,\"#f0f921\"]]}],\"heatmap\":[{\"type\":\"heatmap\",\"colorbar\":{\"outlinewidth\":0,\"ticks\":\"\"},\"colorscale\":[[0.0,\"#0d0887\"],[0.1111111111111111,\"#46039f\"],[0.2222222222222222,\"#7201a8\"],[0.3333333333333333,\"#9c179e\"],[0.4444444444444444,\"#bd3786\"],[0.5555555555555556,\"#d8576b\"],[0.6666666666666666,\"#ed7953\"],[0.7777777777777778,\"#fb9f3a\"],[0.8888888888888888,\"#fdca26\"],[1.0,\"#f0f921\"]]}],\"heatmapgl\":[{\"type\":\"heatmapgl\",\"colorbar\":{\"outlinewidth\":0,\"ticks\":\"\"},\"colorscale\":[[0.0,\"#0d0887\"],[0.1111111111111111,\"#46039f\"],[0.2222222222222222,\"#7201a8\"],[0.3333333333333333,\"#9c179e\"],[0.4444444444444444,\"#bd3786\"],[0.5555555555555556,\"#d8576b\"],[0.6666666666666666,\"#ed7953\"],[0.7777777777777778,\"#fb9f3a\"],[0.8888888888888888,\"#fdca26\"],[1.0,\"#f0f921\"]]}],\"contourcarpet\":[{\"type\":\"contourcarpet\",\"colorbar\":{\"outlinewidth\":0,\"ticks\":\"\"}}],\"contour\":[{\"type\":\"contour\",\"colorbar\":{\"outlinewidth\":0,\"ticks\":\"\"},\"colorscale\":[[0.0,\"#0d0887\"],[0.1111111111111111,\"#46039f\"],[0.2222222222222222,\"#7201a8\"],[0.3333333333333333,\"#9c179e\"],[0.4444444444444444,\"#bd3786\"],[0.5555555555555556,\"#d8576b\"],[0.6666666666666666,\"#ed7953\"],[0.7777777777777778,\"#fb9f3a\"],[0.8888888888888888,\"#fdca26\"],[1.0,\"#f0f921\"]]}],\"surface\":[{\"type\":\"surface\",\"colorbar\":{\"outlinewidth\":0,\"ticks\":\"\"},\"colorscale\":[[0.0,\"#0d0887\"],[0.1111111111111111,\"#46039f\"],[0.2222222222222222,\"#7201a8\"],[0.3333333333333333,\"#9c179e\"],[0.4444444444444444,\"#bd3786\"],[0.5555555555555556,\"#d8576b\"],[0.6666666666666666,\"#ed7953\"],[0.7777777777777778,\"#fb9f3a\"],[0.8888888888888888,\"#fdca26\"],[1.0,\"#f0f921\"]]}],\"mesh3d\":[{\"type\":\"mesh3d\",\"colorbar\":{\"outlinewidth\":0,\"ticks\":\"\"}}],\"scatter\":[{\"fillpattern\":{\"fillmode\":\"overlay\",\"size\":10,\"solidity\":0.2},\"type\":\"scatter\"}],\"parcoords\":[{\"type\":\"parcoords\",\"line\":{\"colorbar\":{\"outlinewidth\":0,\"ticks\":\"\"}}}],\"scatterpolargl\":[{\"type\":\"scatterpolargl\",\"marker\":{\"colorbar\":{\"outlinewidth\":0,\"ticks\":\"\"}}}],\"bar\":[{\"error_x\":{\"color\":\"#2a3f5f\"},\"error_y\":{\"color\":\"#2a3f5f\"},\"marker\":{\"line\":{\"color\":\"#E5ECF6\",\"width\":0.5},\"pattern\":{\"fillmode\":\"overlay\",\"size\":10,\"solidity\":0.2}},\"type\":\"bar\"}],\"scattergeo\":[{\"type\":\"scattergeo\",\"marker\":{\"colorbar\":{\"outlinewidth\":0,\"ticks\":\"\"}}}],\"scatterpolar\":[{\"type\":\"scatterpolar\",\"marker\":{\"colorbar\":{\"outlinewidth\":0,\"ticks\":\"\"}}}],\"histogram\":[{\"marker\":{\"pattern\":{\"fillmode\":\"overlay\",\"size\":10,\"solidity\":0.2}},\"type\":\"histogram\"}],\"scattergl\":[{\"type\":\"scattergl\",\"marker\":{\"colorbar\":{\"outlinewidth\":0,\"ticks\":\"\"}}}],\"scatter3d\":[{\"type\":\"scatter3d\",\"line\":{\"colorbar\":{\"outlinewidth\":0,\"ticks\":\"\"}},\"marker\":{\"colorbar\":{\"outlinewidth\":0,\"ticks\":\"\"}}}],\"scattermapbox\":[{\"type\":\"scattermapbox\",\"marker\":{\"colorbar\":{\"outlinewidth\":0,\"ticks\":\"\"}}}],\"scatterternary\":[{\"type\":\"scatterternary\",\"marker\":{\"colorbar\":{\"outlinewidth\":0,\"ticks\":\"\"}}}],\"scattercarpet\":[{\"type\":\"scattercarpet\",\"marker\":{\"colorbar\":{\"outlinewidth\":0,\"ticks\":\"\"}}}],\"carpet\":[{\"aaxis\":{\"endlinecolor\":\"#2a3f5f\",\"gridcolor\":\"white\",\"linecolor\":\"white\",\"minorgridcolor\":\"white\",\"startlinecolor\":\"#2a3f5f\"},\"baxis\":{\"endlinecolor\":\"#2a3f5f\",\"gridcolor\":\"white\",\"linecolor\":\"white\",\"minorgridcolor\":\"white\",\"startlinecolor\":\"#2a3f5f\"},\"type\":\"carpet\"}],\"table\":[{\"cells\":{\"fill\":{\"color\":\"#EBF0F8\"},\"line\":{\"color\":\"white\"}},\"header\":{\"fill\":{\"color\":\"#C8D4E3\"},\"line\":{\"color\":\"white\"}},\"type\":\"table\"}],\"barpolar\":[{\"marker\":{\"line\":{\"color\":\"#E5ECF6\",\"width\":0.5},\"pattern\":{\"fillmode\":\"overlay\",\"size\":10,\"solidity\":0.2}},\"type\":\"barpolar\"}],\"pie\":[{\"automargin\":true,\"type\":\"pie\"}]},\"layout\":{\"autotypenumbers\":\"strict\",\"colorway\":[\"#636efa\",\"#EF553B\",\"#00cc96\",\"#ab63fa\",\"#FFA15A\",\"#19d3f3\",\"#FF6692\",\"#B6E880\",\"#FF97FF\",\"#FECB52\"],\"font\":{\"color\":\"#2a3f5f\"},\"hovermode\":\"closest\",\"hoverlabel\":{\"align\":\"left\"},\"paper_bgcolor\":\"white\",\"plot_bgcolor\":\"#E5ECF6\",\"polar\":{\"bgcolor\":\"#E5ECF6\",\"angularaxis\":{\"gridcolor\":\"white\",\"linecolor\":\"white\",\"ticks\":\"\"},\"radialaxis\":{\"gridcolor\":\"white\",\"linecolor\":\"white\",\"ticks\":\"\"}},\"ternary\":{\"bgcolor\":\"#E5ECF6\",\"aaxis\":{\"gridcolor\":\"white\",\"linecolor\":\"white\",\"ticks\":\"\"},\"baxis\":{\"gridcolor\":\"white\",\"linecolor\":\"white\",\"ticks\":\"\"},\"caxis\":{\"gridcolor\":\"white\",\"linecolor\":\"white\",\"ticks\":\"\"}},\"coloraxis\":{\"colorbar\":{\"outlinewidth\":0,\"ticks\":\"\"}},\"colorscale\":{\"sequential\":[[0.0,\"#0d0887\"],[0.1111111111111111,\"#46039f\"],[0.2222222222222222,\"#7201a8\"],[0.3333333333333333,\"#9c179e\"],[0.4444444444444444,\"#bd3786\"],[0.5555555555555556,\"#d8576b\"],[0.6666666666666666,\"#ed7953\"],[0.7777777777777778,\"#fb9f3a\"],[0.8888888888888888,\"#fdca26\"],[1.0,\"#f0f921\"]],\"sequentialminus\":[[0.0,\"#0d0887\"],[0.1111111111111111,\"#46039f\"],[0.2222222222222222,\"#7201a8\"],[0.3333333333333333,\"#9c179e\"],[0.4444444444444444,\"#bd3786\"],[0.5555555555555556,\"#d8576b\"],[0.6666666666666666,\"#ed7953\"],[0.7777777777777778,\"#fb9f3a\"],[0.8888888888888888,\"#fdca26\"],[1.0,\"#f0f921\"]],\"diverging\":[[0,\"#8e0152\"],[0.1,\"#c51b7d\"],[0.2,\"#de77ae\"],[0.3,\"#f1b6da\"],[0.4,\"#fde0ef\"],[0.5,\"#f7f7f7\"],[0.6,\"#e6f5d0\"],[0.7,\"#b8e186\"],[0.8,\"#7fbc41\"],[0.9,\"#4d9221\"],[1,\"#276419\"]]},\"xaxis\":{\"gridcolor\":\"white\",\"linecolor\":\"white\",\"ticks\":\"\",\"title\":{\"standoff\":15},\"zerolinecolor\":\"white\",\"automargin\":true,\"zerolinewidth\":2},\"yaxis\":{\"gridcolor\":\"white\",\"linecolor\":\"white\",\"ticks\":\"\",\"title\":{\"standoff\":15},\"zerolinecolor\":\"white\",\"automargin\":true,\"zerolinewidth\":2},\"scene\":{\"xaxis\":{\"backgroundcolor\":\"#E5ECF6\",\"gridcolor\":\"white\",\"linecolor\":\"white\",\"showbackground\":true,\"ticks\":\"\",\"zerolinecolor\":\"white\",\"gridwidth\":2},\"yaxis\":{\"backgroundcolor\":\"#E5ECF6\",\"gridcolor\":\"white\",\"linecolor\":\"white\",\"showbackground\":true,\"ticks\":\"\",\"zerolinecolor\":\"white\",\"gridwidth\":2},\"zaxis\":{\"backgroundcolor\":\"#E5ECF6\",\"gridcolor\":\"white\",\"linecolor\":\"white\",\"showbackground\":true,\"ticks\":\"\",\"zerolinecolor\":\"white\",\"gridwidth\":2}},\"shapedefaults\":{\"line\":{\"color\":\"#2a3f5f\"}},\"annotationdefaults\":{\"arrowcolor\":\"#2a3f5f\",\"arrowhead\":0,\"arrowwidth\":1},\"geo\":{\"bgcolor\":\"white\",\"landcolor\":\"#E5ECF6\",\"subunitcolor\":\"white\",\"showland\":true,\"showlakes\":true,\"lakecolor\":\"white\"},\"title\":{\"x\":0.05},\"mapbox\":{\"style\":\"light\"}}},\"title\":{\"text\":\"Loss\"},\"xaxis\":{\"title\":{\"text\":\"Epoch\"}},\"yaxis\":{\"title\":{\"text\":\"Loss\"}}},                        {\"responsive\": true}                    ).then(function(){\n",
       "                            \n",
       "var gd = document.getElementById('523a9d3a-7228-4315-97ec-239be270412c');\n",
       "var x = new MutationObserver(function (mutations, observer) {{\n",
       "        var display = window.getComputedStyle(gd).display;\n",
       "        if (!display || display === 'none') {{\n",
       "            console.log([gd, 'removed!']);\n",
       "            Plotly.purge(gd);\n",
       "            observer.disconnect();\n",
       "        }}\n",
       "}});\n",
       "\n",
       "// Listen for the removal of the full notebook cells\n",
       "var notebookContainer = gd.closest('#notebook-container');\n",
       "if (notebookContainer) {{\n",
       "    x.observe(notebookContainer, {childList: true});\n",
       "}}\n",
       "\n",
       "// Listen for the clearing of the current output cell\n",
       "var outputEl = gd.closest('.output');\n",
       "if (outputEl) {{\n",
       "    x.observe(outputEl, {childList: true});\n",
       "}}\n",
       "\n",
       "                        })                };                });            </script>        </div>"
      ]
     },
     "metadata": {},
     "output_type": "display_data"
    }
   ],
   "source": [
    "x = [i for i in range(len(store_epoch[\"loss\"]))]\n",
    "y = store_epoch[\"loss\"]\n",
    "\n",
    "fig = go.Figure(data=go.Scatter(x=x, y=y, mode=\"lines\"))\n",
    "# fig.update_yaxes(type=\"log\")\n",
    "fig.update_layout(title=\"Loss\", xaxis_title=\"Epoch\", yaxis_title=\"Loss\")\n",
    "\n",
    "fig.show()"
   ]
  },
  {
   "cell_type": "code",
   "execution_count": 39,
   "metadata": {},
   "outputs": [
    {
     "data": {
      "application/vnd.plotly.v1+json": {
       "config": {
        "plotlyServerURL": "https://plot.ly"
       },
       "data": [
        {
         "hovertemplate": "variable=b1<br>Epoch=%{x}<br>value=%{y}<extra></extra>",
         "legendgroup": "b1",
         "line": {
          "color": "#636efa",
          "dash": "solid"
         },
         "marker": {
          "symbol": "circle"
         },
         "mode": "lines",
         "name": "b1",
         "orientation": "v",
         "showlegend": true,
         "type": "scatter",
         "x": [
          0,
          1,
          2,
          3,
          4,
          5,
          6,
          7,
          8,
          9,
          10,
          11,
          12,
          13,
          14,
          15,
          16,
          17,
          18,
          19,
          20,
          21,
          22,
          23,
          24,
          25,
          26,
          27,
          28,
          29,
          30,
          31,
          32,
          33,
          34,
          35,
          36,
          37,
          38,
          39,
          40,
          41,
          42,
          43,
          44,
          45,
          46,
          47,
          48,
          49
         ],
         "xaxis": "x",
         "y": [
          -0.015361864119768143,
          -0.18243370950222015,
          -0.6491297483444214,
          -0.8375347256660461,
          -0.9801450371742249,
          -1.166006088256836,
          -1.278126835823059,
          -1.3116090297698975,
          -1.3364516496658325,
          -1.361906886100769,
          -1.3932740688323975,
          -1.3933180570602417,
          -1.3933180570602417,
          -1.3933411836624146,
          -1.4595245122909546,
          -1.518412709236145,
          -1.603959083557129,
          -1.603917121887207,
          -1.603917121887207,
          -1.603917121887207,
          -1.603917121887207,
          -1.603917121887207,
          -1.603917121887207,
          -1.603917121887207,
          -1.603917121887207,
          -1.603917121887207,
          -1.603917121887207,
          -1.6039167642593384,
          -1.6023683547973633,
          -1.631729006767273,
          -1.6317418813705444,
          -1.6317418813705444,
          -1.6317418813705444,
          -1.6317418813705444,
          -1.6317418813705444,
          -1.6317418813705444,
          -1.6317427158355713,
          -1.6317427158355713,
          -1.6804267168045044,
          -1.6810122728347778,
          -1.6810212135314941,
          -1.7576324939727783,
          -1.851406216621399,
          -1.949710726737976,
          -2.345125675201416,
          -2.5368552207946777,
          -2.5398736000061035,
          -2.706169366836548,
          -2.760190486907959,
          -2.760190486907959
         ],
         "yaxis": "y"
        },
        {
         "hovertemplate": "variable=b2<br>Epoch=%{x}<br>value=%{y}<extra></extra>",
         "legendgroup": "b2",
         "line": {
          "color": "#EF553B",
          "dash": "solid"
         },
         "marker": {
          "symbol": "circle"
         },
         "mode": "lines",
         "name": "b2",
         "orientation": "v",
         "showlegend": true,
         "type": "scatter",
         "x": [
          0,
          1,
          2,
          3,
          4,
          5,
          6,
          7,
          8,
          9,
          10,
          11,
          12,
          13,
          14,
          15,
          16,
          17,
          18,
          19,
          20,
          21,
          22,
          23,
          24,
          25,
          26,
          27,
          28,
          29,
          30,
          31,
          32,
          33,
          34,
          35,
          36,
          37,
          38,
          39,
          40,
          41,
          42,
          43,
          44,
          45,
          46,
          47,
          48,
          49
         ],
         "xaxis": "x",
         "y": [
          0.003344099037349224,
          0.018681680783629417,
          0.06166766956448555,
          0.06876980513334274,
          0.0694379135966301,
          0.07151097059249878,
          0.07383991032838821,
          0.07490026950836182,
          0.07523497939109802,
          0.07523490488529205,
          0.07487864792346954,
          0.07487752288579941,
          0.07487752288579941,
          0.07487659156322479,
          0.07224086672067642,
          0.07016730308532715,
          0.06527997553348541,
          0.06528410315513611,
          0.06528410315513611,
          0.06528410315513611,
          0.06528410315513611,
          0.06528410315513611,
          0.06528410315513611,
          0.06528410315513611,
          0.06528410315513611,
          0.06528410315513611,
          0.06528410315513611,
          0.06528420001268387,
          0.06419073790311813,
          0.05672804266214371,
          0.056725386530160904,
          0.056725386530160904,
          0.056725386530160904,
          0.056725386530160904,
          0.056725386530160904,
          0.056725386530160904,
          0.05672520771622658,
          0.05672520771622658,
          0.04773646965622902,
          0.047649744898080826,
          0.04764842614531517,
          0.03781449794769287,
          0.027073277160525322,
          0.020471692085266113,
          -0.02551988884806633,
          -0.044778045266866684,
          -0.045171964913606644,
          -0.07021637260913849,
          -0.07932965457439423,
          -0.07932965457439423
         ],
         "yaxis": "y"
        },
        {
         "hovertemplate": "variable=b3<br>Epoch=%{x}<br>value=%{y}<extra></extra>",
         "legendgroup": "b3",
         "line": {
          "color": "#00cc96",
          "dash": "solid"
         },
         "marker": {
          "symbol": "circle"
         },
         "mode": "lines",
         "name": "b3",
         "orientation": "v",
         "showlegend": true,
         "type": "scatter",
         "x": [
          0,
          1,
          2,
          3,
          4,
          5,
          6,
          7,
          8,
          9,
          10,
          11,
          12,
          13,
          14,
          15,
          16,
          17,
          18,
          19,
          20,
          21,
          22,
          23,
          24,
          25,
          26,
          27,
          28,
          29,
          30,
          31,
          32,
          33,
          34,
          35,
          36,
          37,
          38,
          39,
          40,
          41,
          42,
          43,
          44,
          45,
          46,
          47,
          48,
          49
         ],
         "xaxis": "x",
         "y": [
          0.0009066069032996893,
          0.01871250569820404,
          0.06862407922744751,
          0.08841477334499359,
          0.10210566967725754,
          0.11880575120449066,
          0.12806519865989685,
          0.13035006821155548,
          0.13188034296035767,
          0.13342025876045227,
          0.13525545597076416,
          0.135257750749588,
          0.135257750749588,
          0.135258749127388,
          0.13834120333194733,
          0.14140348136425018,
          0.14632511138916016,
          0.14632315933704376,
          0.14632315933704376,
          0.14632315933704376,
          0.14632315933704376,
          0.14632315933704376,
          0.14632315933704376,
          0.14632315933704376,
          0.14632315933704376,
          0.14632315933704376,
          0.14632315933704376,
          0.14632315933704376,
          0.1461607962846756,
          0.14758087694644928,
          0.147581547498703,
          0.147581547498703,
          0.147581547498703,
          0.147581547498703,
          0.147581547498703,
          0.147581547498703,
          0.14758159220218658,
          0.14758159220218658,
          0.15018296241760254,
          0.1502154916524887,
          0.1502159833908081,
          0.15434977412223816,
          0.15921249985694885,
          0.16472937166690826,
          0.19110526144504547,
          0.20413649082183838,
          0.204329252243042,
          0.21516411006450653,
          0.2187655121088028,
          0.2187655121088028
         ],
         "yaxis": "y"
        },
        {
         "hovertemplate": "variable=b4<br>Epoch=%{x}<br>value=%{y}<extra></extra>",
         "legendgroup": "b4",
         "line": {
          "color": "#ab63fa",
          "dash": "solid"
         },
         "marker": {
          "symbol": "circle"
         },
         "mode": "lines",
         "name": "b4",
         "orientation": "v",
         "showlegend": true,
         "type": "scatter",
         "x": [
          0,
          1,
          2,
          3,
          4,
          5,
          6,
          7,
          8,
          9,
          10,
          11,
          12,
          13,
          14,
          15,
          16,
          17,
          18,
          19,
          20,
          21,
          22,
          23,
          24,
          25,
          26,
          27,
          28,
          29,
          30,
          31,
          32,
          33,
          34,
          35,
          36,
          37,
          38,
          39,
          40,
          41,
          42,
          43,
          44,
          45,
          46,
          47,
          48,
          49
         ],
         "xaxis": "x",
         "y": [
          -0.0004426552914083004,
          -0.008470548316836357,
          -0.027812957763671875,
          -0.030427169054746628,
          -0.026335716247558594,
          -0.01567300222814083,
          -0.007165794260799885,
          -0.0038374001160264015,
          -0.0010473440634086728,
          0.0019717777613550425,
          0.005836240481585264,
          0.005842387676239014,
          0.005842387676239014,
          0.005846155807375908,
          0.016050565987825394,
          0.024277454242110252,
          0.036536093801259995,
          0.03652925044298172,
          0.03652925044298172,
          0.03652925044298172,
          0.03652925044298172,
          0.03652925044298172,
          0.03652925044298172,
          0.03652925044298172,
          0.03652925044298172,
          0.03652925044298172,
          0.03652925044298172,
          0.036529164761304855,
          0.03790996968746185,
          0.047025199979543686,
          0.04702860489487648,
          0.04702860489487648,
          0.04702860489487648,
          0.04702860489487648,
          0.04702860489487648,
          0.04702860489487648,
          0.047028835862874985,
          0.047028835862874985,
          0.05915972962975502,
          0.05929039046168327,
          0.059292376041412354,
          0.07615731656551361,
          0.09682664275169373,
          0.11512982845306396,
          0.18931002914905548,
          0.2207176685333252,
          0.2212834358215332,
          0.25338447093963623,
          0.2641727328300476,
          0.2641727328300476
         ],
         "yaxis": "y"
        },
        {
         "hovertemplate": "variable=b5<br>Epoch=%{x}<br>value=%{y}<extra></extra>",
         "legendgroup": "b5",
         "line": {
          "color": "#FFA15A",
          "dash": "solid"
         },
         "marker": {
          "symbol": "circle"
         },
         "mode": "lines",
         "name": "b5",
         "orientation": "v",
         "showlegend": true,
         "type": "scatter",
         "x": [
          0,
          1,
          2,
          3,
          4,
          5,
          6,
          7,
          8,
          9,
          10,
          11,
          12,
          13,
          14,
          15,
          16,
          17,
          18,
          19,
          20,
          21,
          22,
          23,
          24,
          25,
          26,
          27,
          28,
          29,
          30,
          31,
          32,
          33,
          34,
          35,
          36,
          37,
          38,
          39,
          40,
          41,
          42,
          43,
          44,
          45,
          46,
          47,
          48,
          49
         ],
         "xaxis": "x",
         "y": [
          0.00043721008114516735,
          0.0020529243629425764,
          0.008501042611896992,
          0.015272214077413082,
          0.02219315990805626,
          0.031458642333745956,
          0.03741850703954697,
          0.039510328322649,
          0.04129860922694206,
          0.043262921273708344,
          0.04585874080657959,
          0.045862827450037,
          0.045862827450037,
          0.0458652526140213,
          0.052633438259363174,
          0.05840541049838066,
          0.06778416037559509,
          0.06777829676866531,
          0.06777829676866531,
          0.06777829676866531,
          0.06777829676866531,
          0.06777829676866531,
          0.06777829676866531,
          0.06777829676866531,
          0.06777829676866531,
          0.06777829676866531,
          0.06777829676866531,
          0.06777819246053696,
          0.06815405935049057,
          0.07435154914855957,
          0.07435394823551178,
          0.07435394823551178,
          0.07435394823551178,
          0.07435394823551178,
          0.07435394823551178,
          0.07435394823551178,
          0.07435411214828491,
          0.07435411214828491,
          0.0829019695520401,
          0.08299320191144943,
          0.08299458771944046,
          0.09434282034635544,
          0.10786209255456924,
          0.11994108557701111,
          0.1732955276966095,
          0.19585232436656952,
          0.19624198973178864,
          0.21872970461845398,
          0.2263999730348587,
          0.2263999730348587
         ],
         "yaxis": "y"
        },
        {
         "hovertemplate": "variable=b6<br>Epoch=%{x}<br>value=%{y}<extra></extra>",
         "legendgroup": "b6",
         "line": {
          "color": "#19d3f3",
          "dash": "solid"
         },
         "marker": {
          "symbol": "circle"
         },
         "mode": "lines",
         "name": "b6",
         "orientation": "v",
         "showlegend": true,
         "type": "scatter",
         "x": [
          0,
          1,
          2,
          3,
          4,
          5,
          6,
          7,
          8,
          9,
          10,
          11,
          12,
          13,
          14,
          15,
          16,
          17,
          18,
          19,
          20,
          21,
          22,
          23,
          24,
          25,
          26,
          27,
          28,
          29,
          30,
          31,
          32,
          33,
          34,
          35,
          36,
          37,
          38,
          39,
          40,
          41,
          42,
          43,
          44,
          45,
          46,
          47,
          48,
          49
         ],
         "xaxis": "x",
         "y": [
          0.000583804736379534,
          0.002917526988312602,
          0.00824464950710535,
          0.008548351936042309,
          0.00734424265101552,
          0.005813909694552422,
          0.004954023286700249,
          0.004720314405858517,
          0.004470202140510082,
          0.00413365988060832,
          0.0036312732845544815,
          0.0036304055247455835,
          0.0036304055247455835,
          0.0036298627965152264,
          0.002182172378525138,
          0.0010641029803082347,
          -0.0006750099710188806,
          -0.0006739504169672728,
          -0.0006739504169672728,
          -0.0006739504169672728,
          -0.0006739504169672728,
          -0.0006739504169672728,
          -0.0006739504169672728,
          -0.0006739504169672728,
          -0.0006739504169672728,
          -0.0006739504169672728,
          -0.0006739504169672728,
          -0.0006739342352375388,
          -0.0008025771821849048,
          -0.002017360646277666,
          -0.0020178460981696844,
          -0.0020178460981696844,
          -0.0020178460981696844,
          -0.0020178460981696844,
          -0.0020178460981696844,
          -0.0020178460981696844,
          -0.0020178789272904396,
          -0.0020178789272904396,
          -0.0037834863178431988,
          -0.003802930237725377,
          -0.003803225699812174,
          -0.006417818367481232,
          -0.00962207280099392,
          -0.01253178808838129,
          -0.02324751392006874,
          -0.026377856731414795,
          -0.02642722614109516,
          -0.028955714777112007,
          -0.029766390100121498,
          -0.029766390100121498
         ],
         "yaxis": "y"
        },
        {
         "hovertemplate": "variable=b7<br>Epoch=%{x}<br>value=%{y}<extra></extra>",
         "legendgroup": "b7",
         "line": {
          "color": "#FF6692",
          "dash": "solid"
         },
         "marker": {
          "symbol": "circle"
         },
         "mode": "lines",
         "name": "b7",
         "orientation": "v",
         "showlegend": true,
         "type": "scatter",
         "x": [
          0,
          1,
          2,
          3,
          4,
          5,
          6,
          7,
          8,
          9,
          10,
          11,
          12,
          13,
          14,
          15,
          16,
          17,
          18,
          19,
          20,
          21,
          22,
          23,
          24,
          25,
          26,
          27,
          28,
          29,
          30,
          31,
          32,
          33,
          34,
          35,
          36,
          37,
          38,
          39,
          40,
          41,
          42,
          43,
          44,
          45,
          46,
          47,
          48,
          49
         ],
         "xaxis": "x",
         "y": [
          -0.000809964956715703,
          -0.0035570068284869194,
          -0.010201780125498772,
          -0.011647496372461319,
          -0.014947826974093914,
          -0.024745700880885124,
          -0.03287980332970619,
          -0.03604733198881149,
          -0.03839688375592232,
          -0.04070424288511276,
          -0.04340644180774689,
          -0.043410368263721466,
          -0.043410368263721466,
          -0.04341263324022293,
          -0.049490660429000854,
          -0.05441967025399208,
          -0.0607050359249115,
          -0.0607026107609272,
          -0.0607026107609272,
          -0.0607026107609272,
          -0.0607026107609272,
          -0.0607026107609272,
          -0.0607026107609272,
          -0.0607026107609272,
          -0.0607026107609272,
          -0.0607026107609272,
          -0.0607026107609272,
          -0.0607026182115078,
          -0.061483971774578094,
          -0.0648358091711998,
          -0.06483706086874008,
          -0.06483706086874008,
          -0.06483706086874008,
          -0.06483706086874008,
          -0.06483706086874008,
          -0.06483706086874008,
          -0.06483714282512665,
          -0.06483714282512665,
          -0.0694519430398941,
          -0.06950603425502777,
          -0.06950685381889343,
          -0.07702099531888962,
          -0.08674293011426926,
          -0.09609892219305038,
          -0.12811148166656494,
          -0.14343878626823425,
          -0.14371052384376526,
          -0.15866924822330475,
          -0.1635066270828247,
          -0.1635066270828247
         ],
         "yaxis": "y"
        },
        {
         "hovertemplate": "variable=b8<br>Epoch=%{x}<br>value=%{y}<extra></extra>",
         "legendgroup": "b8",
         "line": {
          "color": "#B6E880",
          "dash": "solid"
         },
         "marker": {
          "symbol": "circle"
         },
         "mode": "lines",
         "name": "b8",
         "orientation": "v",
         "showlegend": true,
         "type": "scatter",
         "x": [
          0,
          1,
          2,
          3,
          4,
          5,
          6,
          7,
          8,
          9,
          10,
          11,
          12,
          13,
          14,
          15,
          16,
          17,
          18,
          19,
          20,
          21,
          22,
          23,
          24,
          25,
          26,
          27,
          28,
          29,
          30,
          31,
          32,
          33,
          34,
          35,
          36,
          37,
          38,
          39,
          40,
          41,
          42,
          43,
          44,
          45,
          46,
          47,
          48,
          49
         ],
         "xaxis": "x",
         "y": [
          0.00106170610524714,
          0.006366899237036705,
          0.020773684605956078,
          0.028752654790878296,
          0.036627672612667084,
          0.047963403165340424,
          0.05530397221446037,
          0.05776555463671684,
          0.05977010726928711,
          0.0619315542280674,
          0.06472710520029068,
          0.06473138183355331,
          0.06473138183355331,
          0.06473386287689209,
          0.07166006416082382,
          0.07753439992666245,
          0.08639080822467804,
          0.08638571202754974,
          0.08638571202754974,
          0.08638571202754974,
          0.08638571202754974,
          0.08638571202754974,
          0.08638571202754974,
          0.08638571202754974,
          0.08638571202754974,
          0.08638571202754974,
          0.08638571202754974,
          0.08638563752174377,
          0.08666479587554932,
          0.09173387289047241,
          0.09173587709665298,
          0.09173587709665298,
          0.09173587709665298,
          0.09173587709665298,
          0.09173587709665298,
          0.09173587709665298,
          0.09173601120710373,
          0.09173601120710373,
          0.09899444133043289,
          0.0990746021270752,
          0.0990758165717125,
          0.10934633016586304,
          0.12178020924329758,
          0.1334277242422104,
          0.18172793090343475,
          0.20317214727401733,
          0.20353913307189941,
          0.2242830991744995,
          0.2312200516462326,
          0.2312200516462326
         ],
         "yaxis": "y"
        },
        {
         "hovertemplate": "variable=b9<br>Epoch=%{x}<br>value=%{y}<extra></extra>",
         "legendgroup": "b9",
         "line": {
          "color": "#FF97FF",
          "dash": "solid"
         },
         "marker": {
          "symbol": "circle"
         },
         "mode": "lines",
         "name": "b9",
         "orientation": "v",
         "showlegend": true,
         "type": "scatter",
         "x": [
          0,
          1,
          2,
          3,
          4,
          5,
          6,
          7,
          8,
          9,
          10,
          11,
          12,
          13,
          14,
          15,
          16,
          17,
          18,
          19,
          20,
          21,
          22,
          23,
          24,
          25,
          26,
          27,
          28,
          29,
          30,
          31,
          32,
          33,
          34,
          35,
          36,
          37,
          38,
          39,
          40,
          41,
          42,
          43,
          44,
          45,
          46,
          47,
          48,
          49
         ],
         "xaxis": "x",
         "y": [
          0.0005756089230999351,
          0.0005455607897602022,
          0.0004781288735102862,
          0.00014312700659502298,
          -0.00011447002179920673,
          0.0007908538682386279,
          0.0017420651856809855,
          0.002147543476894498,
          0.0024337826762348413,
          0.0027206544764339924,
          0.0030639690812677145,
          0.003064497606828809,
          0.003064497606828809,
          0.003064823802560568,
          0.00397019786760211,
          0.004738386254757643,
          0.005862527526915073,
          0.005861933808773756,
          0.005861933808773756,
          0.005861933808773756,
          0.005861933808773756,
          0.005861933808773756,
          0.005861933808773756,
          0.005861933808773756,
          0.005861933808773756,
          0.005861933808773756,
          0.005861933808773756,
          0.005861927289515734,
          0.005960195790976286,
          0.006698767188936472,
          0.006699051707983017,
          0.006699051707983017,
          0.006699051707983017,
          0.006699051707983017,
          0.006699051707983017,
          0.006699051707983017,
          0.006699070800095797,
          0.006699070800095797,
          0.007722859736531973,
          0.007734160870313644,
          0.007734332699328661,
          0.009267843328416348,
          0.011208688840270042,
          0.01310237217694521,
          0.020202526822686195,
          0.023355333134531975,
          0.023411491885781288,
          0.02651146799325943,
          0.027535276487469673,
          0.027535276487469673
         ],
         "yaxis": "y"
        },
        {
         "hovertemplate": "variable=b10<br>Epoch=%{x}<br>value=%{y}<extra></extra>",
         "legendgroup": "b10",
         "line": {
          "color": "#FECB52",
          "dash": "solid"
         },
         "marker": {
          "symbol": "circle"
         },
         "mode": "lines",
         "name": "b10",
         "orientation": "v",
         "showlegend": true,
         "type": "scatter",
         "x": [
          0,
          1,
          2,
          3,
          4,
          5,
          6,
          7,
          8,
          9,
          10,
          11,
          12,
          13,
          14,
          15,
          16,
          17,
          18,
          19,
          20,
          21,
          22,
          23,
          24,
          25,
          26,
          27,
          28,
          29,
          30,
          31,
          32,
          33,
          34,
          35,
          36,
          37,
          38,
          39,
          40,
          41,
          42,
          43,
          44,
          45,
          46,
          47,
          48,
          49
         ],
         "xaxis": "x",
         "y": [
          0.0005042609409429133,
          0.005498873069882393,
          0.021504243835806847,
          0.0323466919362545,
          0.044955626130104065,
          0.0640995129942894,
          0.07689403742551804,
          0.08133627474308014,
          0.08496735244989395,
          0.08887806534767151,
          0.09392493218183517,
          0.09393271803855896,
          0.09393271803855896,
          0.09393728524446487,
          0.10661105811595917,
          0.11726314574480057,
          0.13327831029891968,
          0.13326913118362427,
          0.13326913118362427,
          0.13326913118362427,
          0.13326913118362427,
          0.13326913118362427,
          0.13326913118362427,
          0.13326913118362427,
          0.13326913118362427,
          0.13326913118362427,
          0.13326913118362427,
          0.13326899707317352,
          0.13398949801921844,
          0.14351008832454681,
          0.14351381361484528,
          0.14351381361484528,
          0.14351381361484528,
          0.14351381361484528,
          0.14351381361484528,
          0.14351381361484528,
          0.14351406693458557,
          0.14351406693458557,
          0.1569564938545227,
          0.15710443258285522,
          0.1571066826581955,
          0.17611819505691528,
          0.19922280311584473,
          0.22055332362651825,
          0.3083857595920563,
          0.34673333168029785,
          0.3473884165287018,
          0.3842006027698517,
          0.3964577615261078,
          0.3964577615261078
         ],
         "yaxis": "y"
        }
       ],
       "layout": {
        "legend": {
         "title": {
          "text": "variable"
         },
         "tracegroupgap": 0
        },
        "template": {
         "data": {
          "bar": [
           {
            "error_x": {
             "color": "#2a3f5f"
            },
            "error_y": {
             "color": "#2a3f5f"
            },
            "marker": {
             "line": {
              "color": "#E5ECF6",
              "width": 0.5
             },
             "pattern": {
              "fillmode": "overlay",
              "size": 10,
              "solidity": 0.2
             }
            },
            "type": "bar"
           }
          ],
          "barpolar": [
           {
            "marker": {
             "line": {
              "color": "#E5ECF6",
              "width": 0.5
             },
             "pattern": {
              "fillmode": "overlay",
              "size": 10,
              "solidity": 0.2
             }
            },
            "type": "barpolar"
           }
          ],
          "carpet": [
           {
            "aaxis": {
             "endlinecolor": "#2a3f5f",
             "gridcolor": "white",
             "linecolor": "white",
             "minorgridcolor": "white",
             "startlinecolor": "#2a3f5f"
            },
            "baxis": {
             "endlinecolor": "#2a3f5f",
             "gridcolor": "white",
             "linecolor": "white",
             "minorgridcolor": "white",
             "startlinecolor": "#2a3f5f"
            },
            "type": "carpet"
           }
          ],
          "choropleth": [
           {
            "colorbar": {
             "outlinewidth": 0,
             "ticks": ""
            },
            "type": "choropleth"
           }
          ],
          "contour": [
           {
            "colorbar": {
             "outlinewidth": 0,
             "ticks": ""
            },
            "colorscale": [
             [
              0,
              "#0d0887"
             ],
             [
              0.1111111111111111,
              "#46039f"
             ],
             [
              0.2222222222222222,
              "#7201a8"
             ],
             [
              0.3333333333333333,
              "#9c179e"
             ],
             [
              0.4444444444444444,
              "#bd3786"
             ],
             [
              0.5555555555555556,
              "#d8576b"
             ],
             [
              0.6666666666666666,
              "#ed7953"
             ],
             [
              0.7777777777777778,
              "#fb9f3a"
             ],
             [
              0.8888888888888888,
              "#fdca26"
             ],
             [
              1,
              "#f0f921"
             ]
            ],
            "type": "contour"
           }
          ],
          "contourcarpet": [
           {
            "colorbar": {
             "outlinewidth": 0,
             "ticks": ""
            },
            "type": "contourcarpet"
           }
          ],
          "heatmap": [
           {
            "colorbar": {
             "outlinewidth": 0,
             "ticks": ""
            },
            "colorscale": [
             [
              0,
              "#0d0887"
             ],
             [
              0.1111111111111111,
              "#46039f"
             ],
             [
              0.2222222222222222,
              "#7201a8"
             ],
             [
              0.3333333333333333,
              "#9c179e"
             ],
             [
              0.4444444444444444,
              "#bd3786"
             ],
             [
              0.5555555555555556,
              "#d8576b"
             ],
             [
              0.6666666666666666,
              "#ed7953"
             ],
             [
              0.7777777777777778,
              "#fb9f3a"
             ],
             [
              0.8888888888888888,
              "#fdca26"
             ],
             [
              1,
              "#f0f921"
             ]
            ],
            "type": "heatmap"
           }
          ],
          "heatmapgl": [
           {
            "colorbar": {
             "outlinewidth": 0,
             "ticks": ""
            },
            "colorscale": [
             [
              0,
              "#0d0887"
             ],
             [
              0.1111111111111111,
              "#46039f"
             ],
             [
              0.2222222222222222,
              "#7201a8"
             ],
             [
              0.3333333333333333,
              "#9c179e"
             ],
             [
              0.4444444444444444,
              "#bd3786"
             ],
             [
              0.5555555555555556,
              "#d8576b"
             ],
             [
              0.6666666666666666,
              "#ed7953"
             ],
             [
              0.7777777777777778,
              "#fb9f3a"
             ],
             [
              0.8888888888888888,
              "#fdca26"
             ],
             [
              1,
              "#f0f921"
             ]
            ],
            "type": "heatmapgl"
           }
          ],
          "histogram": [
           {
            "marker": {
             "pattern": {
              "fillmode": "overlay",
              "size": 10,
              "solidity": 0.2
             }
            },
            "type": "histogram"
           }
          ],
          "histogram2d": [
           {
            "colorbar": {
             "outlinewidth": 0,
             "ticks": ""
            },
            "colorscale": [
             [
              0,
              "#0d0887"
             ],
             [
              0.1111111111111111,
              "#46039f"
             ],
             [
              0.2222222222222222,
              "#7201a8"
             ],
             [
              0.3333333333333333,
              "#9c179e"
             ],
             [
              0.4444444444444444,
              "#bd3786"
             ],
             [
              0.5555555555555556,
              "#d8576b"
             ],
             [
              0.6666666666666666,
              "#ed7953"
             ],
             [
              0.7777777777777778,
              "#fb9f3a"
             ],
             [
              0.8888888888888888,
              "#fdca26"
             ],
             [
              1,
              "#f0f921"
             ]
            ],
            "type": "histogram2d"
           }
          ],
          "histogram2dcontour": [
           {
            "colorbar": {
             "outlinewidth": 0,
             "ticks": ""
            },
            "colorscale": [
             [
              0,
              "#0d0887"
             ],
             [
              0.1111111111111111,
              "#46039f"
             ],
             [
              0.2222222222222222,
              "#7201a8"
             ],
             [
              0.3333333333333333,
              "#9c179e"
             ],
             [
              0.4444444444444444,
              "#bd3786"
             ],
             [
              0.5555555555555556,
              "#d8576b"
             ],
             [
              0.6666666666666666,
              "#ed7953"
             ],
             [
              0.7777777777777778,
              "#fb9f3a"
             ],
             [
              0.8888888888888888,
              "#fdca26"
             ],
             [
              1,
              "#f0f921"
             ]
            ],
            "type": "histogram2dcontour"
           }
          ],
          "mesh3d": [
           {
            "colorbar": {
             "outlinewidth": 0,
             "ticks": ""
            },
            "type": "mesh3d"
           }
          ],
          "parcoords": [
           {
            "line": {
             "colorbar": {
              "outlinewidth": 0,
              "ticks": ""
             }
            },
            "type": "parcoords"
           }
          ],
          "pie": [
           {
            "automargin": true,
            "type": "pie"
           }
          ],
          "scatter": [
           {
            "fillpattern": {
             "fillmode": "overlay",
             "size": 10,
             "solidity": 0.2
            },
            "type": "scatter"
           }
          ],
          "scatter3d": [
           {
            "line": {
             "colorbar": {
              "outlinewidth": 0,
              "ticks": ""
             }
            },
            "marker": {
             "colorbar": {
              "outlinewidth": 0,
              "ticks": ""
             }
            },
            "type": "scatter3d"
           }
          ],
          "scattercarpet": [
           {
            "marker": {
             "colorbar": {
              "outlinewidth": 0,
              "ticks": ""
             }
            },
            "type": "scattercarpet"
           }
          ],
          "scattergeo": [
           {
            "marker": {
             "colorbar": {
              "outlinewidth": 0,
              "ticks": ""
             }
            },
            "type": "scattergeo"
           }
          ],
          "scattergl": [
           {
            "marker": {
             "colorbar": {
              "outlinewidth": 0,
              "ticks": ""
             }
            },
            "type": "scattergl"
           }
          ],
          "scattermapbox": [
           {
            "marker": {
             "colorbar": {
              "outlinewidth": 0,
              "ticks": ""
             }
            },
            "type": "scattermapbox"
           }
          ],
          "scatterpolar": [
           {
            "marker": {
             "colorbar": {
              "outlinewidth": 0,
              "ticks": ""
             }
            },
            "type": "scatterpolar"
           }
          ],
          "scatterpolargl": [
           {
            "marker": {
             "colorbar": {
              "outlinewidth": 0,
              "ticks": ""
             }
            },
            "type": "scatterpolargl"
           }
          ],
          "scatterternary": [
           {
            "marker": {
             "colorbar": {
              "outlinewidth": 0,
              "ticks": ""
             }
            },
            "type": "scatterternary"
           }
          ],
          "surface": [
           {
            "colorbar": {
             "outlinewidth": 0,
             "ticks": ""
            },
            "colorscale": [
             [
              0,
              "#0d0887"
             ],
             [
              0.1111111111111111,
              "#46039f"
             ],
             [
              0.2222222222222222,
              "#7201a8"
             ],
             [
              0.3333333333333333,
              "#9c179e"
             ],
             [
              0.4444444444444444,
              "#bd3786"
             ],
             [
              0.5555555555555556,
              "#d8576b"
             ],
             [
              0.6666666666666666,
              "#ed7953"
             ],
             [
              0.7777777777777778,
              "#fb9f3a"
             ],
             [
              0.8888888888888888,
              "#fdca26"
             ],
             [
              1,
              "#f0f921"
             ]
            ],
            "type": "surface"
           }
          ],
          "table": [
           {
            "cells": {
             "fill": {
              "color": "#EBF0F8"
             },
             "line": {
              "color": "white"
             }
            },
            "header": {
             "fill": {
              "color": "#C8D4E3"
             },
             "line": {
              "color": "white"
             }
            },
            "type": "table"
           }
          ]
         },
         "layout": {
          "annotationdefaults": {
           "arrowcolor": "#2a3f5f",
           "arrowhead": 0,
           "arrowwidth": 1
          },
          "autotypenumbers": "strict",
          "coloraxis": {
           "colorbar": {
            "outlinewidth": 0,
            "ticks": ""
           }
          },
          "colorscale": {
           "diverging": [
            [
             0,
             "#8e0152"
            ],
            [
             0.1,
             "#c51b7d"
            ],
            [
             0.2,
             "#de77ae"
            ],
            [
             0.3,
             "#f1b6da"
            ],
            [
             0.4,
             "#fde0ef"
            ],
            [
             0.5,
             "#f7f7f7"
            ],
            [
             0.6,
             "#e6f5d0"
            ],
            [
             0.7,
             "#b8e186"
            ],
            [
             0.8,
             "#7fbc41"
            ],
            [
             0.9,
             "#4d9221"
            ],
            [
             1,
             "#276419"
            ]
           ],
           "sequential": [
            [
             0,
             "#0d0887"
            ],
            [
             0.1111111111111111,
             "#46039f"
            ],
            [
             0.2222222222222222,
             "#7201a8"
            ],
            [
             0.3333333333333333,
             "#9c179e"
            ],
            [
             0.4444444444444444,
             "#bd3786"
            ],
            [
             0.5555555555555556,
             "#d8576b"
            ],
            [
             0.6666666666666666,
             "#ed7953"
            ],
            [
             0.7777777777777778,
             "#fb9f3a"
            ],
            [
             0.8888888888888888,
             "#fdca26"
            ],
            [
             1,
             "#f0f921"
            ]
           ],
           "sequentialminus": [
            [
             0,
             "#0d0887"
            ],
            [
             0.1111111111111111,
             "#46039f"
            ],
            [
             0.2222222222222222,
             "#7201a8"
            ],
            [
             0.3333333333333333,
             "#9c179e"
            ],
            [
             0.4444444444444444,
             "#bd3786"
            ],
            [
             0.5555555555555556,
             "#d8576b"
            ],
            [
             0.6666666666666666,
             "#ed7953"
            ],
            [
             0.7777777777777778,
             "#fb9f3a"
            ],
            [
             0.8888888888888888,
             "#fdca26"
            ],
            [
             1,
             "#f0f921"
            ]
           ]
          },
          "colorway": [
           "#636efa",
           "#EF553B",
           "#00cc96",
           "#ab63fa",
           "#FFA15A",
           "#19d3f3",
           "#FF6692",
           "#B6E880",
           "#FF97FF",
           "#FECB52"
          ],
          "font": {
           "color": "#2a3f5f"
          },
          "geo": {
           "bgcolor": "white",
           "lakecolor": "white",
           "landcolor": "#E5ECF6",
           "showlakes": true,
           "showland": true,
           "subunitcolor": "white"
          },
          "hoverlabel": {
           "align": "left"
          },
          "hovermode": "closest",
          "mapbox": {
           "style": "light"
          },
          "paper_bgcolor": "white",
          "plot_bgcolor": "#E5ECF6",
          "polar": {
           "angularaxis": {
            "gridcolor": "white",
            "linecolor": "white",
            "ticks": ""
           },
           "bgcolor": "#E5ECF6",
           "radialaxis": {
            "gridcolor": "white",
            "linecolor": "white",
            "ticks": ""
           }
          },
          "scene": {
           "xaxis": {
            "backgroundcolor": "#E5ECF6",
            "gridcolor": "white",
            "gridwidth": 2,
            "linecolor": "white",
            "showbackground": true,
            "ticks": "",
            "zerolinecolor": "white"
           },
           "yaxis": {
            "backgroundcolor": "#E5ECF6",
            "gridcolor": "white",
            "gridwidth": 2,
            "linecolor": "white",
            "showbackground": true,
            "ticks": "",
            "zerolinecolor": "white"
           },
           "zaxis": {
            "backgroundcolor": "#E5ECF6",
            "gridcolor": "white",
            "gridwidth": 2,
            "linecolor": "white",
            "showbackground": true,
            "ticks": "",
            "zerolinecolor": "white"
           }
          },
          "shapedefaults": {
           "line": {
            "color": "#2a3f5f"
           }
          },
          "ternary": {
           "aaxis": {
            "gridcolor": "white",
            "linecolor": "white",
            "ticks": ""
           },
           "baxis": {
            "gridcolor": "white",
            "linecolor": "white",
            "ticks": ""
           },
           "bgcolor": "#E5ECF6",
           "caxis": {
            "gridcolor": "white",
            "linecolor": "white",
            "ticks": ""
           }
          },
          "title": {
           "x": 0.05
          },
          "xaxis": {
           "automargin": true,
           "gridcolor": "white",
           "linecolor": "white",
           "ticks": "",
           "title": {
            "standoff": 15
           },
           "zerolinecolor": "white",
           "zerolinewidth": 2
          },
          "yaxis": {
           "automargin": true,
           "gridcolor": "white",
           "linecolor": "white",
           "ticks": "",
           "title": {
            "standoff": 15
           },
           "zerolinecolor": "white",
           "zerolinewidth": 2
          }
         }
        },
        "title": {
         "text": "Betas"
        },
        "xaxis": {
         "anchor": "y",
         "domain": [
          0,
          1
         ],
         "title": {
          "text": "Epoch"
         }
        },
        "yaxis": {
         "anchor": "x",
         "domain": [
          0,
          1
         ],
         "title": {
          "text": "value"
         }
        }
       }
      },
      "text/html": [
       "<div>                            <div id=\"dd208827-fbbe-4bbe-a8c8-90e885e3f984\" class=\"plotly-graph-div\" style=\"height:525px; width:100%;\"></div>            <script type=\"text/javascript\">                require([\"plotly\"], function(Plotly) {                    window.PLOTLYENV=window.PLOTLYENV || {};                                    if (document.getElementById(\"dd208827-fbbe-4bbe-a8c8-90e885e3f984\")) {                    Plotly.newPlot(                        \"dd208827-fbbe-4bbe-a8c8-90e885e3f984\",                        [{\"hovertemplate\":\"variable=b1\\u003cbr\\u003eEpoch=%{x}\\u003cbr\\u003evalue=%{y}\\u003cextra\\u003e\\u003c\\u002fextra\\u003e\",\"legendgroup\":\"b1\",\"line\":{\"color\":\"#636efa\",\"dash\":\"solid\"},\"marker\":{\"symbol\":\"circle\"},\"mode\":\"lines\",\"name\":\"b1\",\"orientation\":\"v\",\"showlegend\":true,\"x\":[0,1,2,3,4,5,6,7,8,9,10,11,12,13,14,15,16,17,18,19,20,21,22,23,24,25,26,27,28,29,30,31,32,33,34,35,36,37,38,39,40,41,42,43,44,45,46,47,48,49],\"xaxis\":\"x\",\"y\":[-0.015361864119768143,-0.18243370950222015,-0.6491297483444214,-0.8375347256660461,-0.9801450371742249,-1.166006088256836,-1.278126835823059,-1.3116090297698975,-1.3364516496658325,-1.361906886100769,-1.3932740688323975,-1.3933180570602417,-1.3933180570602417,-1.3933411836624146,-1.4595245122909546,-1.518412709236145,-1.603959083557129,-1.603917121887207,-1.603917121887207,-1.603917121887207,-1.603917121887207,-1.603917121887207,-1.603917121887207,-1.603917121887207,-1.603917121887207,-1.603917121887207,-1.603917121887207,-1.6039167642593384,-1.6023683547973633,-1.631729006767273,-1.6317418813705444,-1.6317418813705444,-1.6317418813705444,-1.6317418813705444,-1.6317418813705444,-1.6317418813705444,-1.6317427158355713,-1.6317427158355713,-1.6804267168045044,-1.6810122728347778,-1.6810212135314941,-1.7576324939727783,-1.851406216621399,-1.949710726737976,-2.345125675201416,-2.5368552207946777,-2.5398736000061035,-2.706169366836548,-2.760190486907959,-2.760190486907959],\"yaxis\":\"y\",\"type\":\"scatter\"},{\"hovertemplate\":\"variable=b2\\u003cbr\\u003eEpoch=%{x}\\u003cbr\\u003evalue=%{y}\\u003cextra\\u003e\\u003c\\u002fextra\\u003e\",\"legendgroup\":\"b2\",\"line\":{\"color\":\"#EF553B\",\"dash\":\"solid\"},\"marker\":{\"symbol\":\"circle\"},\"mode\":\"lines\",\"name\":\"b2\",\"orientation\":\"v\",\"showlegend\":true,\"x\":[0,1,2,3,4,5,6,7,8,9,10,11,12,13,14,15,16,17,18,19,20,21,22,23,24,25,26,27,28,29,30,31,32,33,34,35,36,37,38,39,40,41,42,43,44,45,46,47,48,49],\"xaxis\":\"x\",\"y\":[0.003344099037349224,0.018681680783629417,0.06166766956448555,0.06876980513334274,0.0694379135966301,0.07151097059249878,0.07383991032838821,0.07490026950836182,0.07523497939109802,0.07523490488529205,0.07487864792346954,0.07487752288579941,0.07487752288579941,0.07487659156322479,0.07224086672067642,0.07016730308532715,0.06527997553348541,0.06528410315513611,0.06528410315513611,0.06528410315513611,0.06528410315513611,0.06528410315513611,0.06528410315513611,0.06528410315513611,0.06528410315513611,0.06528410315513611,0.06528410315513611,0.06528420001268387,0.06419073790311813,0.05672804266214371,0.056725386530160904,0.056725386530160904,0.056725386530160904,0.056725386530160904,0.056725386530160904,0.056725386530160904,0.05672520771622658,0.05672520771622658,0.04773646965622902,0.047649744898080826,0.04764842614531517,0.03781449794769287,0.027073277160525322,0.020471692085266113,-0.02551988884806633,-0.044778045266866684,-0.045171964913606644,-0.07021637260913849,-0.07932965457439423,-0.07932965457439423],\"yaxis\":\"y\",\"type\":\"scatter\"},{\"hovertemplate\":\"variable=b3\\u003cbr\\u003eEpoch=%{x}\\u003cbr\\u003evalue=%{y}\\u003cextra\\u003e\\u003c\\u002fextra\\u003e\",\"legendgroup\":\"b3\",\"line\":{\"color\":\"#00cc96\",\"dash\":\"solid\"},\"marker\":{\"symbol\":\"circle\"},\"mode\":\"lines\",\"name\":\"b3\",\"orientation\":\"v\",\"showlegend\":true,\"x\":[0,1,2,3,4,5,6,7,8,9,10,11,12,13,14,15,16,17,18,19,20,21,22,23,24,25,26,27,28,29,30,31,32,33,34,35,36,37,38,39,40,41,42,43,44,45,46,47,48,49],\"xaxis\":\"x\",\"y\":[0.0009066069032996893,0.01871250569820404,0.06862407922744751,0.08841477334499359,0.10210566967725754,0.11880575120449066,0.12806519865989685,0.13035006821155548,0.13188034296035767,0.13342025876045227,0.13525545597076416,0.135257750749588,0.135257750749588,0.135258749127388,0.13834120333194733,0.14140348136425018,0.14632511138916016,0.14632315933704376,0.14632315933704376,0.14632315933704376,0.14632315933704376,0.14632315933704376,0.14632315933704376,0.14632315933704376,0.14632315933704376,0.14632315933704376,0.14632315933704376,0.14632315933704376,0.1461607962846756,0.14758087694644928,0.147581547498703,0.147581547498703,0.147581547498703,0.147581547498703,0.147581547498703,0.147581547498703,0.14758159220218658,0.14758159220218658,0.15018296241760254,0.1502154916524887,0.1502159833908081,0.15434977412223816,0.15921249985694885,0.16472937166690826,0.19110526144504547,0.20413649082183838,0.204329252243042,0.21516411006450653,0.2187655121088028,0.2187655121088028],\"yaxis\":\"y\",\"type\":\"scatter\"},{\"hovertemplate\":\"variable=b4\\u003cbr\\u003eEpoch=%{x}\\u003cbr\\u003evalue=%{y}\\u003cextra\\u003e\\u003c\\u002fextra\\u003e\",\"legendgroup\":\"b4\",\"line\":{\"color\":\"#ab63fa\",\"dash\":\"solid\"},\"marker\":{\"symbol\":\"circle\"},\"mode\":\"lines\",\"name\":\"b4\",\"orientation\":\"v\",\"showlegend\":true,\"x\":[0,1,2,3,4,5,6,7,8,9,10,11,12,13,14,15,16,17,18,19,20,21,22,23,24,25,26,27,28,29,30,31,32,33,34,35,36,37,38,39,40,41,42,43,44,45,46,47,48,49],\"xaxis\":\"x\",\"y\":[-0.0004426552914083004,-0.008470548316836357,-0.027812957763671875,-0.030427169054746628,-0.026335716247558594,-0.01567300222814083,-0.007165794260799885,-0.0038374001160264015,-0.0010473440634086728,0.0019717777613550425,0.005836240481585264,0.005842387676239014,0.005842387676239014,0.005846155807375908,0.016050565987825394,0.024277454242110252,0.036536093801259995,0.03652925044298172,0.03652925044298172,0.03652925044298172,0.03652925044298172,0.03652925044298172,0.03652925044298172,0.03652925044298172,0.03652925044298172,0.03652925044298172,0.03652925044298172,0.036529164761304855,0.03790996968746185,0.047025199979543686,0.04702860489487648,0.04702860489487648,0.04702860489487648,0.04702860489487648,0.04702860489487648,0.04702860489487648,0.047028835862874985,0.047028835862874985,0.05915972962975502,0.05929039046168327,0.059292376041412354,0.07615731656551361,0.09682664275169373,0.11512982845306396,0.18931002914905548,0.2207176685333252,0.2212834358215332,0.25338447093963623,0.2641727328300476,0.2641727328300476],\"yaxis\":\"y\",\"type\":\"scatter\"},{\"hovertemplate\":\"variable=b5\\u003cbr\\u003eEpoch=%{x}\\u003cbr\\u003evalue=%{y}\\u003cextra\\u003e\\u003c\\u002fextra\\u003e\",\"legendgroup\":\"b5\",\"line\":{\"color\":\"#FFA15A\",\"dash\":\"solid\"},\"marker\":{\"symbol\":\"circle\"},\"mode\":\"lines\",\"name\":\"b5\",\"orientation\":\"v\",\"showlegend\":true,\"x\":[0,1,2,3,4,5,6,7,8,9,10,11,12,13,14,15,16,17,18,19,20,21,22,23,24,25,26,27,28,29,30,31,32,33,34,35,36,37,38,39,40,41,42,43,44,45,46,47,48,49],\"xaxis\":\"x\",\"y\":[0.00043721008114516735,0.0020529243629425764,0.008501042611896992,0.015272214077413082,0.02219315990805626,0.031458642333745956,0.03741850703954697,0.039510328322649,0.04129860922694206,0.043262921273708344,0.04585874080657959,0.045862827450037,0.045862827450037,0.0458652526140213,0.052633438259363174,0.05840541049838066,0.06778416037559509,0.06777829676866531,0.06777829676866531,0.06777829676866531,0.06777829676866531,0.06777829676866531,0.06777829676866531,0.06777829676866531,0.06777829676866531,0.06777829676866531,0.06777829676866531,0.06777819246053696,0.06815405935049057,0.07435154914855957,0.07435394823551178,0.07435394823551178,0.07435394823551178,0.07435394823551178,0.07435394823551178,0.07435394823551178,0.07435411214828491,0.07435411214828491,0.0829019695520401,0.08299320191144943,0.08299458771944046,0.09434282034635544,0.10786209255456924,0.11994108557701111,0.1732955276966095,0.19585232436656952,0.19624198973178864,0.21872970461845398,0.2263999730348587,0.2263999730348587],\"yaxis\":\"y\",\"type\":\"scatter\"},{\"hovertemplate\":\"variable=b6\\u003cbr\\u003eEpoch=%{x}\\u003cbr\\u003evalue=%{y}\\u003cextra\\u003e\\u003c\\u002fextra\\u003e\",\"legendgroup\":\"b6\",\"line\":{\"color\":\"#19d3f3\",\"dash\":\"solid\"},\"marker\":{\"symbol\":\"circle\"},\"mode\":\"lines\",\"name\":\"b6\",\"orientation\":\"v\",\"showlegend\":true,\"x\":[0,1,2,3,4,5,6,7,8,9,10,11,12,13,14,15,16,17,18,19,20,21,22,23,24,25,26,27,28,29,30,31,32,33,34,35,36,37,38,39,40,41,42,43,44,45,46,47,48,49],\"xaxis\":\"x\",\"y\":[0.000583804736379534,0.002917526988312602,0.00824464950710535,0.008548351936042309,0.00734424265101552,0.005813909694552422,0.004954023286700249,0.004720314405858517,0.004470202140510082,0.00413365988060832,0.0036312732845544815,0.0036304055247455835,0.0036304055247455835,0.0036298627965152264,0.002182172378525138,0.0010641029803082347,-0.0006750099710188806,-0.0006739504169672728,-0.0006739504169672728,-0.0006739504169672728,-0.0006739504169672728,-0.0006739504169672728,-0.0006739504169672728,-0.0006739504169672728,-0.0006739504169672728,-0.0006739504169672728,-0.0006739504169672728,-0.0006739342352375388,-0.0008025771821849048,-0.002017360646277666,-0.0020178460981696844,-0.0020178460981696844,-0.0020178460981696844,-0.0020178460981696844,-0.0020178460981696844,-0.0020178460981696844,-0.0020178789272904396,-0.0020178789272904396,-0.0037834863178431988,-0.003802930237725377,-0.003803225699812174,-0.006417818367481232,-0.00962207280099392,-0.01253178808838129,-0.02324751392006874,-0.026377856731414795,-0.02642722614109516,-0.028955714777112007,-0.029766390100121498,-0.029766390100121498],\"yaxis\":\"y\",\"type\":\"scatter\"},{\"hovertemplate\":\"variable=b7\\u003cbr\\u003eEpoch=%{x}\\u003cbr\\u003evalue=%{y}\\u003cextra\\u003e\\u003c\\u002fextra\\u003e\",\"legendgroup\":\"b7\",\"line\":{\"color\":\"#FF6692\",\"dash\":\"solid\"},\"marker\":{\"symbol\":\"circle\"},\"mode\":\"lines\",\"name\":\"b7\",\"orientation\":\"v\",\"showlegend\":true,\"x\":[0,1,2,3,4,5,6,7,8,9,10,11,12,13,14,15,16,17,18,19,20,21,22,23,24,25,26,27,28,29,30,31,32,33,34,35,36,37,38,39,40,41,42,43,44,45,46,47,48,49],\"xaxis\":\"x\",\"y\":[-0.000809964956715703,-0.0035570068284869194,-0.010201780125498772,-0.011647496372461319,-0.014947826974093914,-0.024745700880885124,-0.03287980332970619,-0.03604733198881149,-0.03839688375592232,-0.04070424288511276,-0.04340644180774689,-0.043410368263721466,-0.043410368263721466,-0.04341263324022293,-0.049490660429000854,-0.05441967025399208,-0.0607050359249115,-0.0607026107609272,-0.0607026107609272,-0.0607026107609272,-0.0607026107609272,-0.0607026107609272,-0.0607026107609272,-0.0607026107609272,-0.0607026107609272,-0.0607026107609272,-0.0607026107609272,-0.0607026182115078,-0.061483971774578094,-0.0648358091711998,-0.06483706086874008,-0.06483706086874008,-0.06483706086874008,-0.06483706086874008,-0.06483706086874008,-0.06483706086874008,-0.06483714282512665,-0.06483714282512665,-0.0694519430398941,-0.06950603425502777,-0.06950685381889343,-0.07702099531888962,-0.08674293011426926,-0.09609892219305038,-0.12811148166656494,-0.14343878626823425,-0.14371052384376526,-0.15866924822330475,-0.1635066270828247,-0.1635066270828247],\"yaxis\":\"y\",\"type\":\"scatter\"},{\"hovertemplate\":\"variable=b8\\u003cbr\\u003eEpoch=%{x}\\u003cbr\\u003evalue=%{y}\\u003cextra\\u003e\\u003c\\u002fextra\\u003e\",\"legendgroup\":\"b8\",\"line\":{\"color\":\"#B6E880\",\"dash\":\"solid\"},\"marker\":{\"symbol\":\"circle\"},\"mode\":\"lines\",\"name\":\"b8\",\"orientation\":\"v\",\"showlegend\":true,\"x\":[0,1,2,3,4,5,6,7,8,9,10,11,12,13,14,15,16,17,18,19,20,21,22,23,24,25,26,27,28,29,30,31,32,33,34,35,36,37,38,39,40,41,42,43,44,45,46,47,48,49],\"xaxis\":\"x\",\"y\":[0.00106170610524714,0.006366899237036705,0.020773684605956078,0.028752654790878296,0.036627672612667084,0.047963403165340424,0.05530397221446037,0.05776555463671684,0.05977010726928711,0.0619315542280674,0.06472710520029068,0.06473138183355331,0.06473138183355331,0.06473386287689209,0.07166006416082382,0.07753439992666245,0.08639080822467804,0.08638571202754974,0.08638571202754974,0.08638571202754974,0.08638571202754974,0.08638571202754974,0.08638571202754974,0.08638571202754974,0.08638571202754974,0.08638571202754974,0.08638571202754974,0.08638563752174377,0.08666479587554932,0.09173387289047241,0.09173587709665298,0.09173587709665298,0.09173587709665298,0.09173587709665298,0.09173587709665298,0.09173587709665298,0.09173601120710373,0.09173601120710373,0.09899444133043289,0.0990746021270752,0.0990758165717125,0.10934633016586304,0.12178020924329758,0.1334277242422104,0.18172793090343475,0.20317214727401733,0.20353913307189941,0.2242830991744995,0.2312200516462326,0.2312200516462326],\"yaxis\":\"y\",\"type\":\"scatter\"},{\"hovertemplate\":\"variable=b9\\u003cbr\\u003eEpoch=%{x}\\u003cbr\\u003evalue=%{y}\\u003cextra\\u003e\\u003c\\u002fextra\\u003e\",\"legendgroup\":\"b9\",\"line\":{\"color\":\"#FF97FF\",\"dash\":\"solid\"},\"marker\":{\"symbol\":\"circle\"},\"mode\":\"lines\",\"name\":\"b9\",\"orientation\":\"v\",\"showlegend\":true,\"x\":[0,1,2,3,4,5,6,7,8,9,10,11,12,13,14,15,16,17,18,19,20,21,22,23,24,25,26,27,28,29,30,31,32,33,34,35,36,37,38,39,40,41,42,43,44,45,46,47,48,49],\"xaxis\":\"x\",\"y\":[0.0005756089230999351,0.0005455607897602022,0.0004781288735102862,0.00014312700659502298,-0.00011447002179920673,0.0007908538682386279,0.0017420651856809855,0.002147543476894498,0.0024337826762348413,0.0027206544764339924,0.0030639690812677145,0.003064497606828809,0.003064497606828809,0.003064823802560568,0.00397019786760211,0.004738386254757643,0.005862527526915073,0.005861933808773756,0.005861933808773756,0.005861933808773756,0.005861933808773756,0.005861933808773756,0.005861933808773756,0.005861933808773756,0.005861933808773756,0.005861933808773756,0.005861933808773756,0.005861927289515734,0.005960195790976286,0.006698767188936472,0.006699051707983017,0.006699051707983017,0.006699051707983017,0.006699051707983017,0.006699051707983017,0.006699051707983017,0.006699070800095797,0.006699070800095797,0.007722859736531973,0.007734160870313644,0.007734332699328661,0.009267843328416348,0.011208688840270042,0.01310237217694521,0.020202526822686195,0.023355333134531975,0.023411491885781288,0.02651146799325943,0.027535276487469673,0.027535276487469673],\"yaxis\":\"y\",\"type\":\"scatter\"},{\"hovertemplate\":\"variable=b10\\u003cbr\\u003eEpoch=%{x}\\u003cbr\\u003evalue=%{y}\\u003cextra\\u003e\\u003c\\u002fextra\\u003e\",\"legendgroup\":\"b10\",\"line\":{\"color\":\"#FECB52\",\"dash\":\"solid\"},\"marker\":{\"symbol\":\"circle\"},\"mode\":\"lines\",\"name\":\"b10\",\"orientation\":\"v\",\"showlegend\":true,\"x\":[0,1,2,3,4,5,6,7,8,9,10,11,12,13,14,15,16,17,18,19,20,21,22,23,24,25,26,27,28,29,30,31,32,33,34,35,36,37,38,39,40,41,42,43,44,45,46,47,48,49],\"xaxis\":\"x\",\"y\":[0.0005042609409429133,0.005498873069882393,0.021504243835806847,0.0323466919362545,0.044955626130104065,0.0640995129942894,0.07689403742551804,0.08133627474308014,0.08496735244989395,0.08887806534767151,0.09392493218183517,0.09393271803855896,0.09393271803855896,0.09393728524446487,0.10661105811595917,0.11726314574480057,0.13327831029891968,0.13326913118362427,0.13326913118362427,0.13326913118362427,0.13326913118362427,0.13326913118362427,0.13326913118362427,0.13326913118362427,0.13326913118362427,0.13326913118362427,0.13326913118362427,0.13326899707317352,0.13398949801921844,0.14351008832454681,0.14351381361484528,0.14351381361484528,0.14351381361484528,0.14351381361484528,0.14351381361484528,0.14351381361484528,0.14351406693458557,0.14351406693458557,0.1569564938545227,0.15710443258285522,0.1571066826581955,0.17611819505691528,0.19922280311584473,0.22055332362651825,0.3083857595920563,0.34673333168029785,0.3473884165287018,0.3842006027698517,0.3964577615261078,0.3964577615261078],\"yaxis\":\"y\",\"type\":\"scatter\"}],                        {\"template\":{\"data\":{\"histogram2dcontour\":[{\"type\":\"histogram2dcontour\",\"colorbar\":{\"outlinewidth\":0,\"ticks\":\"\"},\"colorscale\":[[0.0,\"#0d0887\"],[0.1111111111111111,\"#46039f\"],[0.2222222222222222,\"#7201a8\"],[0.3333333333333333,\"#9c179e\"],[0.4444444444444444,\"#bd3786\"],[0.5555555555555556,\"#d8576b\"],[0.6666666666666666,\"#ed7953\"],[0.7777777777777778,\"#fb9f3a\"],[0.8888888888888888,\"#fdca26\"],[1.0,\"#f0f921\"]]}],\"choropleth\":[{\"type\":\"choropleth\",\"colorbar\":{\"outlinewidth\":0,\"ticks\":\"\"}}],\"histogram2d\":[{\"type\":\"histogram2d\",\"colorbar\":{\"outlinewidth\":0,\"ticks\":\"\"},\"colorscale\":[[0.0,\"#0d0887\"],[0.1111111111111111,\"#46039f\"],[0.2222222222222222,\"#7201a8\"],[0.3333333333333333,\"#9c179e\"],[0.4444444444444444,\"#bd3786\"],[0.5555555555555556,\"#d8576b\"],[0.6666666666666666,\"#ed7953\"],[0.7777777777777778,\"#fb9f3a\"],[0.8888888888888888,\"#fdca26\"],[1.0,\"#f0f921\"]]}],\"heatmap\":[{\"type\":\"heatmap\",\"colorbar\":{\"outlinewidth\":0,\"ticks\":\"\"},\"colorscale\":[[0.0,\"#0d0887\"],[0.1111111111111111,\"#46039f\"],[0.2222222222222222,\"#7201a8\"],[0.3333333333333333,\"#9c179e\"],[0.4444444444444444,\"#bd3786\"],[0.5555555555555556,\"#d8576b\"],[0.6666666666666666,\"#ed7953\"],[0.7777777777777778,\"#fb9f3a\"],[0.8888888888888888,\"#fdca26\"],[1.0,\"#f0f921\"]]}],\"heatmapgl\":[{\"type\":\"heatmapgl\",\"colorbar\":{\"outlinewidth\":0,\"ticks\":\"\"},\"colorscale\":[[0.0,\"#0d0887\"],[0.1111111111111111,\"#46039f\"],[0.2222222222222222,\"#7201a8\"],[0.3333333333333333,\"#9c179e\"],[0.4444444444444444,\"#bd3786\"],[0.5555555555555556,\"#d8576b\"],[0.6666666666666666,\"#ed7953\"],[0.7777777777777778,\"#fb9f3a\"],[0.8888888888888888,\"#fdca26\"],[1.0,\"#f0f921\"]]}],\"contourcarpet\":[{\"type\":\"contourcarpet\",\"colorbar\":{\"outlinewidth\":0,\"ticks\":\"\"}}],\"contour\":[{\"type\":\"contour\",\"colorbar\":{\"outlinewidth\":0,\"ticks\":\"\"},\"colorscale\":[[0.0,\"#0d0887\"],[0.1111111111111111,\"#46039f\"],[0.2222222222222222,\"#7201a8\"],[0.3333333333333333,\"#9c179e\"],[0.4444444444444444,\"#bd3786\"],[0.5555555555555556,\"#d8576b\"],[0.6666666666666666,\"#ed7953\"],[0.7777777777777778,\"#fb9f3a\"],[0.8888888888888888,\"#fdca26\"],[1.0,\"#f0f921\"]]}],\"surface\":[{\"type\":\"surface\",\"colorbar\":{\"outlinewidth\":0,\"ticks\":\"\"},\"colorscale\":[[0.0,\"#0d0887\"],[0.1111111111111111,\"#46039f\"],[0.2222222222222222,\"#7201a8\"],[0.3333333333333333,\"#9c179e\"],[0.4444444444444444,\"#bd3786\"],[0.5555555555555556,\"#d8576b\"],[0.6666666666666666,\"#ed7953\"],[0.7777777777777778,\"#fb9f3a\"],[0.8888888888888888,\"#fdca26\"],[1.0,\"#f0f921\"]]}],\"mesh3d\":[{\"type\":\"mesh3d\",\"colorbar\":{\"outlinewidth\":0,\"ticks\":\"\"}}],\"scatter\":[{\"fillpattern\":{\"fillmode\":\"overlay\",\"size\":10,\"solidity\":0.2},\"type\":\"scatter\"}],\"parcoords\":[{\"type\":\"parcoords\",\"line\":{\"colorbar\":{\"outlinewidth\":0,\"ticks\":\"\"}}}],\"scatterpolargl\":[{\"type\":\"scatterpolargl\",\"marker\":{\"colorbar\":{\"outlinewidth\":0,\"ticks\":\"\"}}}],\"bar\":[{\"error_x\":{\"color\":\"#2a3f5f\"},\"error_y\":{\"color\":\"#2a3f5f\"},\"marker\":{\"line\":{\"color\":\"#E5ECF6\",\"width\":0.5},\"pattern\":{\"fillmode\":\"overlay\",\"size\":10,\"solidity\":0.2}},\"type\":\"bar\"}],\"scattergeo\":[{\"type\":\"scattergeo\",\"marker\":{\"colorbar\":{\"outlinewidth\":0,\"ticks\":\"\"}}}],\"scatterpolar\":[{\"type\":\"scatterpolar\",\"marker\":{\"colorbar\":{\"outlinewidth\":0,\"ticks\":\"\"}}}],\"histogram\":[{\"marker\":{\"pattern\":{\"fillmode\":\"overlay\",\"size\":10,\"solidity\":0.2}},\"type\":\"histogram\"}],\"scattergl\":[{\"type\":\"scattergl\",\"marker\":{\"colorbar\":{\"outlinewidth\":0,\"ticks\":\"\"}}}],\"scatter3d\":[{\"type\":\"scatter3d\",\"line\":{\"colorbar\":{\"outlinewidth\":0,\"ticks\":\"\"}},\"marker\":{\"colorbar\":{\"outlinewidth\":0,\"ticks\":\"\"}}}],\"scattermapbox\":[{\"type\":\"scattermapbox\",\"marker\":{\"colorbar\":{\"outlinewidth\":0,\"ticks\":\"\"}}}],\"scatterternary\":[{\"type\":\"scatterternary\",\"marker\":{\"colorbar\":{\"outlinewidth\":0,\"ticks\":\"\"}}}],\"scattercarpet\":[{\"type\":\"scattercarpet\",\"marker\":{\"colorbar\":{\"outlinewidth\":0,\"ticks\":\"\"}}}],\"carpet\":[{\"aaxis\":{\"endlinecolor\":\"#2a3f5f\",\"gridcolor\":\"white\",\"linecolor\":\"white\",\"minorgridcolor\":\"white\",\"startlinecolor\":\"#2a3f5f\"},\"baxis\":{\"endlinecolor\":\"#2a3f5f\",\"gridcolor\":\"white\",\"linecolor\":\"white\",\"minorgridcolor\":\"white\",\"startlinecolor\":\"#2a3f5f\"},\"type\":\"carpet\"}],\"table\":[{\"cells\":{\"fill\":{\"color\":\"#EBF0F8\"},\"line\":{\"color\":\"white\"}},\"header\":{\"fill\":{\"color\":\"#C8D4E3\"},\"line\":{\"color\":\"white\"}},\"type\":\"table\"}],\"barpolar\":[{\"marker\":{\"line\":{\"color\":\"#E5ECF6\",\"width\":0.5},\"pattern\":{\"fillmode\":\"overlay\",\"size\":10,\"solidity\":0.2}},\"type\":\"barpolar\"}],\"pie\":[{\"automargin\":true,\"type\":\"pie\"}]},\"layout\":{\"autotypenumbers\":\"strict\",\"colorway\":[\"#636efa\",\"#EF553B\",\"#00cc96\",\"#ab63fa\",\"#FFA15A\",\"#19d3f3\",\"#FF6692\",\"#B6E880\",\"#FF97FF\",\"#FECB52\"],\"font\":{\"color\":\"#2a3f5f\"},\"hovermode\":\"closest\",\"hoverlabel\":{\"align\":\"left\"},\"paper_bgcolor\":\"white\",\"plot_bgcolor\":\"#E5ECF6\",\"polar\":{\"bgcolor\":\"#E5ECF6\",\"angularaxis\":{\"gridcolor\":\"white\",\"linecolor\":\"white\",\"ticks\":\"\"},\"radialaxis\":{\"gridcolor\":\"white\",\"linecolor\":\"white\",\"ticks\":\"\"}},\"ternary\":{\"bgcolor\":\"#E5ECF6\",\"aaxis\":{\"gridcolor\":\"white\",\"linecolor\":\"white\",\"ticks\":\"\"},\"baxis\":{\"gridcolor\":\"white\",\"linecolor\":\"white\",\"ticks\":\"\"},\"caxis\":{\"gridcolor\":\"white\",\"linecolor\":\"white\",\"ticks\":\"\"}},\"coloraxis\":{\"colorbar\":{\"outlinewidth\":0,\"ticks\":\"\"}},\"colorscale\":{\"sequential\":[[0.0,\"#0d0887\"],[0.1111111111111111,\"#46039f\"],[0.2222222222222222,\"#7201a8\"],[0.3333333333333333,\"#9c179e\"],[0.4444444444444444,\"#bd3786\"],[0.5555555555555556,\"#d8576b\"],[0.6666666666666666,\"#ed7953\"],[0.7777777777777778,\"#fb9f3a\"],[0.8888888888888888,\"#fdca26\"],[1.0,\"#f0f921\"]],\"sequentialminus\":[[0.0,\"#0d0887\"],[0.1111111111111111,\"#46039f\"],[0.2222222222222222,\"#7201a8\"],[0.3333333333333333,\"#9c179e\"],[0.4444444444444444,\"#bd3786\"],[0.5555555555555556,\"#d8576b\"],[0.6666666666666666,\"#ed7953\"],[0.7777777777777778,\"#fb9f3a\"],[0.8888888888888888,\"#fdca26\"],[1.0,\"#f0f921\"]],\"diverging\":[[0,\"#8e0152\"],[0.1,\"#c51b7d\"],[0.2,\"#de77ae\"],[0.3,\"#f1b6da\"],[0.4,\"#fde0ef\"],[0.5,\"#f7f7f7\"],[0.6,\"#e6f5d0\"],[0.7,\"#b8e186\"],[0.8,\"#7fbc41\"],[0.9,\"#4d9221\"],[1,\"#276419\"]]},\"xaxis\":{\"gridcolor\":\"white\",\"linecolor\":\"white\",\"ticks\":\"\",\"title\":{\"standoff\":15},\"zerolinecolor\":\"white\",\"automargin\":true,\"zerolinewidth\":2},\"yaxis\":{\"gridcolor\":\"white\",\"linecolor\":\"white\",\"ticks\":\"\",\"title\":{\"standoff\":15},\"zerolinecolor\":\"white\",\"automargin\":true,\"zerolinewidth\":2},\"scene\":{\"xaxis\":{\"backgroundcolor\":\"#E5ECF6\",\"gridcolor\":\"white\",\"linecolor\":\"white\",\"showbackground\":true,\"ticks\":\"\",\"zerolinecolor\":\"white\",\"gridwidth\":2},\"yaxis\":{\"backgroundcolor\":\"#E5ECF6\",\"gridcolor\":\"white\",\"linecolor\":\"white\",\"showbackground\":true,\"ticks\":\"\",\"zerolinecolor\":\"white\",\"gridwidth\":2},\"zaxis\":{\"backgroundcolor\":\"#E5ECF6\",\"gridcolor\":\"white\",\"linecolor\":\"white\",\"showbackground\":true,\"ticks\":\"\",\"zerolinecolor\":\"white\",\"gridwidth\":2}},\"shapedefaults\":{\"line\":{\"color\":\"#2a3f5f\"}},\"annotationdefaults\":{\"arrowcolor\":\"#2a3f5f\",\"arrowhead\":0,\"arrowwidth\":1},\"geo\":{\"bgcolor\":\"white\",\"landcolor\":\"#E5ECF6\",\"subunitcolor\":\"white\",\"showland\":true,\"showlakes\":true,\"lakecolor\":\"white\"},\"title\":{\"x\":0.05},\"mapbox\":{\"style\":\"light\"}}},\"xaxis\":{\"anchor\":\"y\",\"domain\":[0.0,1.0],\"title\":{\"text\":\"Epoch\"}},\"yaxis\":{\"anchor\":\"x\",\"domain\":[0.0,1.0],\"title\":{\"text\":\"value\"}},\"legend\":{\"title\":{\"text\":\"variable\"},\"tracegroupgap\":0},\"title\":{\"text\":\"Betas\"}},                        {\"responsive\": true}                    ).then(function(){\n",
       "                            \n",
       "var gd = document.getElementById('dd208827-fbbe-4bbe-a8c8-90e885e3f984');\n",
       "var x = new MutationObserver(function (mutations, observer) {{\n",
       "        var display = window.getComputedStyle(gd).display;\n",
       "        if (!display || display === 'none') {{\n",
       "            console.log([gd, 'removed!']);\n",
       "            Plotly.purge(gd);\n",
       "            observer.disconnect();\n",
       "        }}\n",
       "}});\n",
       "\n",
       "// Listen for the removal of the full notebook cells\n",
       "var notebookContainer = gd.closest('#notebook-container');\n",
       "if (notebookContainer) {{\n",
       "    x.observe(notebookContainer, {childList: true});\n",
       "}}\n",
       "\n",
       "// Listen for the clearing of the current output cell\n",
       "var outputEl = gd.closest('.output');\n",
       "if (outputEl) {{\n",
       "    x.observe(outputEl, {childList: true});\n",
       "}}\n",
       "\n",
       "                        })                };                });            </script>        </div>"
      ]
     },
     "metadata": {},
     "output_type": "display_data"
    }
   ],
   "source": [
    "df = pd.DataFrame(store_epoch[\"betas\"])\n",
    "betas = [\"b\" + str(i + 1) for i in range(10)]\n",
    "df.columns = betas\n",
    "df[\"Epoch\"] = df.index\n",
    "\n",
    "fig = px.line(df, x=\"Epoch\", y=betas, title=\"Betas\")\n",
    "fig.show()"
   ]
  },
  {
   "cell_type": "code",
   "execution_count": 40,
   "metadata": {},
   "outputs": [
    {
     "data": {
      "application/vnd.plotly.v1+json": {
       "config": {
        "plotlyServerURL": "https://plot.ly"
       },
       "data": [
        {
         "hovertemplate": "variable=g1<br>Epoch=%{x}<br>value=%{y}<extra></extra>",
         "legendgroup": "g1",
         "line": {
          "color": "#636efa",
          "dash": "solid"
         },
         "marker": {
          "symbol": "circle"
         },
         "mode": "lines",
         "name": "g1",
         "orientation": "v",
         "showlegend": true,
         "type": "scatter",
         "x": [
          0,
          1,
          2,
          3,
          4,
          5,
          6,
          7,
          8,
          9,
          10,
          11,
          12,
          13,
          14,
          15,
          16,
          17,
          18,
          19,
          20,
          21,
          22,
          23,
          24,
          25,
          26,
          27,
          28,
          29,
          30,
          31,
          32,
          33,
          34,
          35,
          36,
          37,
          38,
          39,
          40,
          41,
          42,
          43,
          44,
          45,
          46,
          47,
          48,
          49
         ],
         "xaxis": "x",
         "y": [
          0.09008858352899551,
          0.08690711110830307,
          0.0821998119354248,
          0.11274296045303345,
          0.1320248693227768,
          0.12514744699001312,
          0.10732165724039078,
          0.09872767329216003,
          0.09376455098390579,
          0.08997831493616104,
          0.08669079095125198,
          0.0866871178150177,
          0.0866871178150177,
          0.08668534457683563,
          0.08200141787528992,
          0.07783079892396927,
          0.07670530676841736,
          0.07670038193464279,
          0.07670038193464279,
          0.07670038193464279,
          0.07670038193464279,
          0.07670038193464279,
          0.07670038193464279,
          0.07670038193464279,
          0.07670038193464279,
          0.07670038193464279,
          0.07670038193464279,
          0.07670008391141891,
          0.07353819161653519,
          0.0707196369767189,
          0.07071906328201294,
          0.07071906328201294,
          0.07071906328201294,
          0.07071906328201294,
          0.07071906328201294,
          0.07071906328201294,
          0.07071902602910995,
          0.07071902602910995,
          0.06877553462982178,
          0.06874626129865646,
          0.06874582171440125,
          0.0634581446647644,
          0.05422893166542053,
          0.0458616279065609,
          0.03770878165960312,
          0.029588732868433,
          0.02946588583290577,
          0.023932334035634995,
          0.022718137130141258,
          0.022718137130141258
         ],
         "yaxis": "y"
        },
        {
         "hovertemplate": "variable=g2<br>Epoch=%{x}<br>value=%{y}<extra></extra>",
         "legendgroup": "g2",
         "line": {
          "color": "#EF553B",
          "dash": "solid"
         },
         "marker": {
          "symbol": "circle"
         },
         "mode": "lines",
         "name": "g2",
         "orientation": "v",
         "showlegend": true,
         "type": "scatter",
         "x": [
          0,
          1,
          2,
          3,
          4,
          5,
          6,
          7,
          8,
          9,
          10,
          11,
          12,
          13,
          14,
          15,
          16,
          17,
          18,
          19,
          20,
          21,
          22,
          23,
          24,
          25,
          26,
          27,
          28,
          29,
          30,
          31,
          32,
          33,
          34,
          35,
          36,
          37,
          38,
          39,
          40,
          41,
          42,
          43,
          44,
          45,
          46,
          47,
          48,
          49
         ],
         "xaxis": "x",
         "y": [
          0.011627374216914177,
          0.04115597903728485,
          0.11345202475786209,
          0.12511272728443146,
          0.12573190033435822,
          0.11593998223543167,
          0.10802729427814484,
          0.10617660731077194,
          0.10519090294837952,
          0.10392387211322784,
          0.10210331529378891,
          0.1021001860499382,
          0.1021001860499382,
          0.10209833085536957,
          0.09805198013782501,
          0.09608939290046692,
          0.09580948203802109,
          0.0958072617650032,
          0.0958072617650032,
          0.0958072617650032,
          0.0958072617650032,
          0.0958072617650032,
          0.0958072617650032,
          0.0958072617650032,
          0.0958072617650032,
          0.0958072617650032,
          0.0958072617650032,
          0.09580709785223007,
          0.09381694346666336,
          0.09423236548900604,
          0.09423276036977768,
          0.09423276036977768,
          0.09423276036977768,
          0.09423276036977768,
          0.09423276036977768,
          0.09423276036977768,
          0.09423279017210007,
          0.09423279017210007,
          0.09545070677995682,
          0.09545724093914032,
          0.09545733779668808,
          0.09427788108587265,
          0.09167132526636124,
          0.08942843228578568,
          0.08647473156452179,
          0.08247079700231552,
          0.08235429227352142,
          0.07717397809028625,
          0.07592455297708511,
          0.07592455297708511
         ],
         "yaxis": "y"
        },
        {
         "hovertemplate": "variable=g3<br>Epoch=%{x}<br>value=%{y}<extra></extra>",
         "legendgroup": "g3",
         "line": {
          "color": "#00cc96",
          "dash": "solid"
         },
         "marker": {
          "symbol": "circle"
         },
         "mode": "lines",
         "name": "g3",
         "orientation": "v",
         "showlegend": true,
         "type": "scatter",
         "x": [
          0,
          1,
          2,
          3,
          4,
          5,
          6,
          7,
          8,
          9,
          10,
          11,
          12,
          13,
          14,
          15,
          16,
          17,
          18,
          19,
          20,
          21,
          22,
          23,
          24,
          25,
          26,
          27,
          28,
          29,
          30,
          31,
          32,
          33,
          34,
          35,
          36,
          37,
          38,
          39,
          40,
          41,
          42,
          43,
          44,
          45,
          46,
          47,
          48,
          49
         ],
         "xaxis": "x",
         "y": [
          0.005364804994314909,
          -0.011741499416530132,
          -0.04457257688045502,
          -0.029088763520121574,
          -0.018310824409127235,
          -0.025934571400284767,
          -0.032572828233242035,
          -0.033657900989055634,
          -0.03350728750228882,
          -0.032963961362838745,
          -0.031731896102428436,
          -0.03172910585999489,
          -0.03172910585999489,
          -0.03172728791832924,
          -0.0271149929612875,
          -0.024484753608703613,
          -0.02130914106965065,
          -0.02131493017077446,
          -0.02131493017077446,
          -0.02131493017077446,
          -0.02131493017077446,
          -0.02131493017077446,
          -0.02131493017077446,
          -0.02131493017077446,
          -0.02131493017077446,
          -0.02131493017077446,
          -0.02131493017077446,
          -0.021315136924386024,
          -0.023941291496157646,
          -0.026159008964896202,
          -0.02615940384566784,
          -0.02615940384566784,
          -0.02615940384566784,
          -0.02615940384566784,
          -0.02615940384566784,
          -0.02615940384566784,
          -0.02615942619740963,
          -0.02615942619740963,
          -0.02720274217426777,
          -0.027211861684918404,
          -0.027212001383304596,
          -0.028301209211349487,
          -0.029762398451566696,
          -0.027927367016673088,
          -0.030306441709399223,
          -0.031407684087753296,
          -0.03141301870346069,
          -0.03221254050731659,
          -0.03232761472463608,
          -0.03232761472463608
         ],
         "yaxis": "y"
        }
       ],
       "layout": {
        "legend": {
         "title": {
          "text": "variable"
         },
         "tracegroupgap": 0
        },
        "template": {
         "data": {
          "bar": [
           {
            "error_x": {
             "color": "#2a3f5f"
            },
            "error_y": {
             "color": "#2a3f5f"
            },
            "marker": {
             "line": {
              "color": "#E5ECF6",
              "width": 0.5
             },
             "pattern": {
              "fillmode": "overlay",
              "size": 10,
              "solidity": 0.2
             }
            },
            "type": "bar"
           }
          ],
          "barpolar": [
           {
            "marker": {
             "line": {
              "color": "#E5ECF6",
              "width": 0.5
             },
             "pattern": {
              "fillmode": "overlay",
              "size": 10,
              "solidity": 0.2
             }
            },
            "type": "barpolar"
           }
          ],
          "carpet": [
           {
            "aaxis": {
             "endlinecolor": "#2a3f5f",
             "gridcolor": "white",
             "linecolor": "white",
             "minorgridcolor": "white",
             "startlinecolor": "#2a3f5f"
            },
            "baxis": {
             "endlinecolor": "#2a3f5f",
             "gridcolor": "white",
             "linecolor": "white",
             "minorgridcolor": "white",
             "startlinecolor": "#2a3f5f"
            },
            "type": "carpet"
           }
          ],
          "choropleth": [
           {
            "colorbar": {
             "outlinewidth": 0,
             "ticks": ""
            },
            "type": "choropleth"
           }
          ],
          "contour": [
           {
            "colorbar": {
             "outlinewidth": 0,
             "ticks": ""
            },
            "colorscale": [
             [
              0,
              "#0d0887"
             ],
             [
              0.1111111111111111,
              "#46039f"
             ],
             [
              0.2222222222222222,
              "#7201a8"
             ],
             [
              0.3333333333333333,
              "#9c179e"
             ],
             [
              0.4444444444444444,
              "#bd3786"
             ],
             [
              0.5555555555555556,
              "#d8576b"
             ],
             [
              0.6666666666666666,
              "#ed7953"
             ],
             [
              0.7777777777777778,
              "#fb9f3a"
             ],
             [
              0.8888888888888888,
              "#fdca26"
             ],
             [
              1,
              "#f0f921"
             ]
            ],
            "type": "contour"
           }
          ],
          "contourcarpet": [
           {
            "colorbar": {
             "outlinewidth": 0,
             "ticks": ""
            },
            "type": "contourcarpet"
           }
          ],
          "heatmap": [
           {
            "colorbar": {
             "outlinewidth": 0,
             "ticks": ""
            },
            "colorscale": [
             [
              0,
              "#0d0887"
             ],
             [
              0.1111111111111111,
              "#46039f"
             ],
             [
              0.2222222222222222,
              "#7201a8"
             ],
             [
              0.3333333333333333,
              "#9c179e"
             ],
             [
              0.4444444444444444,
              "#bd3786"
             ],
             [
              0.5555555555555556,
              "#d8576b"
             ],
             [
              0.6666666666666666,
              "#ed7953"
             ],
             [
              0.7777777777777778,
              "#fb9f3a"
             ],
             [
              0.8888888888888888,
              "#fdca26"
             ],
             [
              1,
              "#f0f921"
             ]
            ],
            "type": "heatmap"
           }
          ],
          "heatmapgl": [
           {
            "colorbar": {
             "outlinewidth": 0,
             "ticks": ""
            },
            "colorscale": [
             [
              0,
              "#0d0887"
             ],
             [
              0.1111111111111111,
              "#46039f"
             ],
             [
              0.2222222222222222,
              "#7201a8"
             ],
             [
              0.3333333333333333,
              "#9c179e"
             ],
             [
              0.4444444444444444,
              "#bd3786"
             ],
             [
              0.5555555555555556,
              "#d8576b"
             ],
             [
              0.6666666666666666,
              "#ed7953"
             ],
             [
              0.7777777777777778,
              "#fb9f3a"
             ],
             [
              0.8888888888888888,
              "#fdca26"
             ],
             [
              1,
              "#f0f921"
             ]
            ],
            "type": "heatmapgl"
           }
          ],
          "histogram": [
           {
            "marker": {
             "pattern": {
              "fillmode": "overlay",
              "size": 10,
              "solidity": 0.2
             }
            },
            "type": "histogram"
           }
          ],
          "histogram2d": [
           {
            "colorbar": {
             "outlinewidth": 0,
             "ticks": ""
            },
            "colorscale": [
             [
              0,
              "#0d0887"
             ],
             [
              0.1111111111111111,
              "#46039f"
             ],
             [
              0.2222222222222222,
              "#7201a8"
             ],
             [
              0.3333333333333333,
              "#9c179e"
             ],
             [
              0.4444444444444444,
              "#bd3786"
             ],
             [
              0.5555555555555556,
              "#d8576b"
             ],
             [
              0.6666666666666666,
              "#ed7953"
             ],
             [
              0.7777777777777778,
              "#fb9f3a"
             ],
             [
              0.8888888888888888,
              "#fdca26"
             ],
             [
              1,
              "#f0f921"
             ]
            ],
            "type": "histogram2d"
           }
          ],
          "histogram2dcontour": [
           {
            "colorbar": {
             "outlinewidth": 0,
             "ticks": ""
            },
            "colorscale": [
             [
              0,
              "#0d0887"
             ],
             [
              0.1111111111111111,
              "#46039f"
             ],
             [
              0.2222222222222222,
              "#7201a8"
             ],
             [
              0.3333333333333333,
              "#9c179e"
             ],
             [
              0.4444444444444444,
              "#bd3786"
             ],
             [
              0.5555555555555556,
              "#d8576b"
             ],
             [
              0.6666666666666666,
              "#ed7953"
             ],
             [
              0.7777777777777778,
              "#fb9f3a"
             ],
             [
              0.8888888888888888,
              "#fdca26"
             ],
             [
              1,
              "#f0f921"
             ]
            ],
            "type": "histogram2dcontour"
           }
          ],
          "mesh3d": [
           {
            "colorbar": {
             "outlinewidth": 0,
             "ticks": ""
            },
            "type": "mesh3d"
           }
          ],
          "parcoords": [
           {
            "line": {
             "colorbar": {
              "outlinewidth": 0,
              "ticks": ""
             }
            },
            "type": "parcoords"
           }
          ],
          "pie": [
           {
            "automargin": true,
            "type": "pie"
           }
          ],
          "scatter": [
           {
            "fillpattern": {
             "fillmode": "overlay",
             "size": 10,
             "solidity": 0.2
            },
            "type": "scatter"
           }
          ],
          "scatter3d": [
           {
            "line": {
             "colorbar": {
              "outlinewidth": 0,
              "ticks": ""
             }
            },
            "marker": {
             "colorbar": {
              "outlinewidth": 0,
              "ticks": ""
             }
            },
            "type": "scatter3d"
           }
          ],
          "scattercarpet": [
           {
            "marker": {
             "colorbar": {
              "outlinewidth": 0,
              "ticks": ""
             }
            },
            "type": "scattercarpet"
           }
          ],
          "scattergeo": [
           {
            "marker": {
             "colorbar": {
              "outlinewidth": 0,
              "ticks": ""
             }
            },
            "type": "scattergeo"
           }
          ],
          "scattergl": [
           {
            "marker": {
             "colorbar": {
              "outlinewidth": 0,
              "ticks": ""
             }
            },
            "type": "scattergl"
           }
          ],
          "scattermapbox": [
           {
            "marker": {
             "colorbar": {
              "outlinewidth": 0,
              "ticks": ""
             }
            },
            "type": "scattermapbox"
           }
          ],
          "scatterpolar": [
           {
            "marker": {
             "colorbar": {
              "outlinewidth": 0,
              "ticks": ""
             }
            },
            "type": "scatterpolar"
           }
          ],
          "scatterpolargl": [
           {
            "marker": {
             "colorbar": {
              "outlinewidth": 0,
              "ticks": ""
             }
            },
            "type": "scatterpolargl"
           }
          ],
          "scatterternary": [
           {
            "marker": {
             "colorbar": {
              "outlinewidth": 0,
              "ticks": ""
             }
            },
            "type": "scatterternary"
           }
          ],
          "surface": [
           {
            "colorbar": {
             "outlinewidth": 0,
             "ticks": ""
            },
            "colorscale": [
             [
              0,
              "#0d0887"
             ],
             [
              0.1111111111111111,
              "#46039f"
             ],
             [
              0.2222222222222222,
              "#7201a8"
             ],
             [
              0.3333333333333333,
              "#9c179e"
             ],
             [
              0.4444444444444444,
              "#bd3786"
             ],
             [
              0.5555555555555556,
              "#d8576b"
             ],
             [
              0.6666666666666666,
              "#ed7953"
             ],
             [
              0.7777777777777778,
              "#fb9f3a"
             ],
             [
              0.8888888888888888,
              "#fdca26"
             ],
             [
              1,
              "#f0f921"
             ]
            ],
            "type": "surface"
           }
          ],
          "table": [
           {
            "cells": {
             "fill": {
              "color": "#EBF0F8"
             },
             "line": {
              "color": "white"
             }
            },
            "header": {
             "fill": {
              "color": "#C8D4E3"
             },
             "line": {
              "color": "white"
             }
            },
            "type": "table"
           }
          ]
         },
         "layout": {
          "annotationdefaults": {
           "arrowcolor": "#2a3f5f",
           "arrowhead": 0,
           "arrowwidth": 1
          },
          "autotypenumbers": "strict",
          "coloraxis": {
           "colorbar": {
            "outlinewidth": 0,
            "ticks": ""
           }
          },
          "colorscale": {
           "diverging": [
            [
             0,
             "#8e0152"
            ],
            [
             0.1,
             "#c51b7d"
            ],
            [
             0.2,
             "#de77ae"
            ],
            [
             0.3,
             "#f1b6da"
            ],
            [
             0.4,
             "#fde0ef"
            ],
            [
             0.5,
             "#f7f7f7"
            ],
            [
             0.6,
             "#e6f5d0"
            ],
            [
             0.7,
             "#b8e186"
            ],
            [
             0.8,
             "#7fbc41"
            ],
            [
             0.9,
             "#4d9221"
            ],
            [
             1,
             "#276419"
            ]
           ],
           "sequential": [
            [
             0,
             "#0d0887"
            ],
            [
             0.1111111111111111,
             "#46039f"
            ],
            [
             0.2222222222222222,
             "#7201a8"
            ],
            [
             0.3333333333333333,
             "#9c179e"
            ],
            [
             0.4444444444444444,
             "#bd3786"
            ],
            [
             0.5555555555555556,
             "#d8576b"
            ],
            [
             0.6666666666666666,
             "#ed7953"
            ],
            [
             0.7777777777777778,
             "#fb9f3a"
            ],
            [
             0.8888888888888888,
             "#fdca26"
            ],
            [
             1,
             "#f0f921"
            ]
           ],
           "sequentialminus": [
            [
             0,
             "#0d0887"
            ],
            [
             0.1111111111111111,
             "#46039f"
            ],
            [
             0.2222222222222222,
             "#7201a8"
            ],
            [
             0.3333333333333333,
             "#9c179e"
            ],
            [
             0.4444444444444444,
             "#bd3786"
            ],
            [
             0.5555555555555556,
             "#d8576b"
            ],
            [
             0.6666666666666666,
             "#ed7953"
            ],
            [
             0.7777777777777778,
             "#fb9f3a"
            ],
            [
             0.8888888888888888,
             "#fdca26"
            ],
            [
             1,
             "#f0f921"
            ]
           ]
          },
          "colorway": [
           "#636efa",
           "#EF553B",
           "#00cc96",
           "#ab63fa",
           "#FFA15A",
           "#19d3f3",
           "#FF6692",
           "#B6E880",
           "#FF97FF",
           "#FECB52"
          ],
          "font": {
           "color": "#2a3f5f"
          },
          "geo": {
           "bgcolor": "white",
           "lakecolor": "white",
           "landcolor": "#E5ECF6",
           "showlakes": true,
           "showland": true,
           "subunitcolor": "white"
          },
          "hoverlabel": {
           "align": "left"
          },
          "hovermode": "closest",
          "mapbox": {
           "style": "light"
          },
          "paper_bgcolor": "white",
          "plot_bgcolor": "#E5ECF6",
          "polar": {
           "angularaxis": {
            "gridcolor": "white",
            "linecolor": "white",
            "ticks": ""
           },
           "bgcolor": "#E5ECF6",
           "radialaxis": {
            "gridcolor": "white",
            "linecolor": "white",
            "ticks": ""
           }
          },
          "scene": {
           "xaxis": {
            "backgroundcolor": "#E5ECF6",
            "gridcolor": "white",
            "gridwidth": 2,
            "linecolor": "white",
            "showbackground": true,
            "ticks": "",
            "zerolinecolor": "white"
           },
           "yaxis": {
            "backgroundcolor": "#E5ECF6",
            "gridcolor": "white",
            "gridwidth": 2,
            "linecolor": "white",
            "showbackground": true,
            "ticks": "",
            "zerolinecolor": "white"
           },
           "zaxis": {
            "backgroundcolor": "#E5ECF6",
            "gridcolor": "white",
            "gridwidth": 2,
            "linecolor": "white",
            "showbackground": true,
            "ticks": "",
            "zerolinecolor": "white"
           }
          },
          "shapedefaults": {
           "line": {
            "color": "#2a3f5f"
           }
          },
          "ternary": {
           "aaxis": {
            "gridcolor": "white",
            "linecolor": "white",
            "ticks": ""
           },
           "baxis": {
            "gridcolor": "white",
            "linecolor": "white",
            "ticks": ""
           },
           "bgcolor": "#E5ECF6",
           "caxis": {
            "gridcolor": "white",
            "linecolor": "white",
            "ticks": ""
           }
          },
          "title": {
           "x": 0.05
          },
          "xaxis": {
           "automargin": true,
           "gridcolor": "white",
           "linecolor": "white",
           "ticks": "",
           "title": {
            "standoff": 15
           },
           "zerolinecolor": "white",
           "zerolinewidth": 2
          },
          "yaxis": {
           "automargin": true,
           "gridcolor": "white",
           "linecolor": "white",
           "ticks": "",
           "title": {
            "standoff": 15
           },
           "zerolinecolor": "white",
           "zerolinewidth": 2
          }
         }
        },
        "title": {
         "text": "Global Orient"
        },
        "xaxis": {
         "anchor": "y",
         "domain": [
          0,
          1
         ],
         "title": {
          "text": "Epoch"
         }
        },
        "yaxis": {
         "anchor": "x",
         "domain": [
          0,
          1
         ],
         "title": {
          "text": "value"
         }
        }
       }
      },
      "text/html": [
       "<div>                            <div id=\"aa8767e1-77c1-4244-8eab-fb1a5d6dc6b8\" class=\"plotly-graph-div\" style=\"height:525px; width:100%;\"></div>            <script type=\"text/javascript\">                require([\"plotly\"], function(Plotly) {                    window.PLOTLYENV=window.PLOTLYENV || {};                                    if (document.getElementById(\"aa8767e1-77c1-4244-8eab-fb1a5d6dc6b8\")) {                    Plotly.newPlot(                        \"aa8767e1-77c1-4244-8eab-fb1a5d6dc6b8\",                        [{\"hovertemplate\":\"variable=g1\\u003cbr\\u003eEpoch=%{x}\\u003cbr\\u003evalue=%{y}\\u003cextra\\u003e\\u003c\\u002fextra\\u003e\",\"legendgroup\":\"g1\",\"line\":{\"color\":\"#636efa\",\"dash\":\"solid\"},\"marker\":{\"symbol\":\"circle\"},\"mode\":\"lines\",\"name\":\"g1\",\"orientation\":\"v\",\"showlegend\":true,\"x\":[0,1,2,3,4,5,6,7,8,9,10,11,12,13,14,15,16,17,18,19,20,21,22,23,24,25,26,27,28,29,30,31,32,33,34,35,36,37,38,39,40,41,42,43,44,45,46,47,48,49],\"xaxis\":\"x\",\"y\":[0.09008858352899551,0.08690711110830307,0.0821998119354248,0.11274296045303345,0.1320248693227768,0.12514744699001312,0.10732165724039078,0.09872767329216003,0.09376455098390579,0.08997831493616104,0.08669079095125198,0.0866871178150177,0.0866871178150177,0.08668534457683563,0.08200141787528992,0.07783079892396927,0.07670530676841736,0.07670038193464279,0.07670038193464279,0.07670038193464279,0.07670038193464279,0.07670038193464279,0.07670038193464279,0.07670038193464279,0.07670038193464279,0.07670038193464279,0.07670038193464279,0.07670008391141891,0.07353819161653519,0.0707196369767189,0.07071906328201294,0.07071906328201294,0.07071906328201294,0.07071906328201294,0.07071906328201294,0.07071906328201294,0.07071902602910995,0.07071902602910995,0.06877553462982178,0.06874626129865646,0.06874582171440125,0.0634581446647644,0.05422893166542053,0.0458616279065609,0.03770878165960312,0.029588732868433,0.02946588583290577,0.023932334035634995,0.022718137130141258,0.022718137130141258],\"yaxis\":\"y\",\"type\":\"scatter\"},{\"hovertemplate\":\"variable=g2\\u003cbr\\u003eEpoch=%{x}\\u003cbr\\u003evalue=%{y}\\u003cextra\\u003e\\u003c\\u002fextra\\u003e\",\"legendgroup\":\"g2\",\"line\":{\"color\":\"#EF553B\",\"dash\":\"solid\"},\"marker\":{\"symbol\":\"circle\"},\"mode\":\"lines\",\"name\":\"g2\",\"orientation\":\"v\",\"showlegend\":true,\"x\":[0,1,2,3,4,5,6,7,8,9,10,11,12,13,14,15,16,17,18,19,20,21,22,23,24,25,26,27,28,29,30,31,32,33,34,35,36,37,38,39,40,41,42,43,44,45,46,47,48,49],\"xaxis\":\"x\",\"y\":[0.011627374216914177,0.04115597903728485,0.11345202475786209,0.12511272728443146,0.12573190033435822,0.11593998223543167,0.10802729427814484,0.10617660731077194,0.10519090294837952,0.10392387211322784,0.10210331529378891,0.1021001860499382,0.1021001860499382,0.10209833085536957,0.09805198013782501,0.09608939290046692,0.09580948203802109,0.0958072617650032,0.0958072617650032,0.0958072617650032,0.0958072617650032,0.0958072617650032,0.0958072617650032,0.0958072617650032,0.0958072617650032,0.0958072617650032,0.0958072617650032,0.09580709785223007,0.09381694346666336,0.09423236548900604,0.09423276036977768,0.09423276036977768,0.09423276036977768,0.09423276036977768,0.09423276036977768,0.09423276036977768,0.09423279017210007,0.09423279017210007,0.09545070677995682,0.09545724093914032,0.09545733779668808,0.09427788108587265,0.09167132526636124,0.08942843228578568,0.08647473156452179,0.08247079700231552,0.08235429227352142,0.07717397809028625,0.07592455297708511,0.07592455297708511],\"yaxis\":\"y\",\"type\":\"scatter\"},{\"hovertemplate\":\"variable=g3\\u003cbr\\u003eEpoch=%{x}\\u003cbr\\u003evalue=%{y}\\u003cextra\\u003e\\u003c\\u002fextra\\u003e\",\"legendgroup\":\"g3\",\"line\":{\"color\":\"#00cc96\",\"dash\":\"solid\"},\"marker\":{\"symbol\":\"circle\"},\"mode\":\"lines\",\"name\":\"g3\",\"orientation\":\"v\",\"showlegend\":true,\"x\":[0,1,2,3,4,5,6,7,8,9,10,11,12,13,14,15,16,17,18,19,20,21,22,23,24,25,26,27,28,29,30,31,32,33,34,35,36,37,38,39,40,41,42,43,44,45,46,47,48,49],\"xaxis\":\"x\",\"y\":[0.005364804994314909,-0.011741499416530132,-0.04457257688045502,-0.029088763520121574,-0.018310824409127235,-0.025934571400284767,-0.032572828233242035,-0.033657900989055634,-0.03350728750228882,-0.032963961362838745,-0.031731896102428436,-0.03172910585999489,-0.03172910585999489,-0.03172728791832924,-0.0271149929612875,-0.024484753608703613,-0.02130914106965065,-0.02131493017077446,-0.02131493017077446,-0.02131493017077446,-0.02131493017077446,-0.02131493017077446,-0.02131493017077446,-0.02131493017077446,-0.02131493017077446,-0.02131493017077446,-0.02131493017077446,-0.021315136924386024,-0.023941291496157646,-0.026159008964896202,-0.02615940384566784,-0.02615940384566784,-0.02615940384566784,-0.02615940384566784,-0.02615940384566784,-0.02615940384566784,-0.02615942619740963,-0.02615942619740963,-0.02720274217426777,-0.027211861684918404,-0.027212001383304596,-0.028301209211349487,-0.029762398451566696,-0.027927367016673088,-0.030306441709399223,-0.031407684087753296,-0.03141301870346069,-0.03221254050731659,-0.03232761472463608,-0.03232761472463608],\"yaxis\":\"y\",\"type\":\"scatter\"}],                        {\"template\":{\"data\":{\"histogram2dcontour\":[{\"type\":\"histogram2dcontour\",\"colorbar\":{\"outlinewidth\":0,\"ticks\":\"\"},\"colorscale\":[[0.0,\"#0d0887\"],[0.1111111111111111,\"#46039f\"],[0.2222222222222222,\"#7201a8\"],[0.3333333333333333,\"#9c179e\"],[0.4444444444444444,\"#bd3786\"],[0.5555555555555556,\"#d8576b\"],[0.6666666666666666,\"#ed7953\"],[0.7777777777777778,\"#fb9f3a\"],[0.8888888888888888,\"#fdca26\"],[1.0,\"#f0f921\"]]}],\"choropleth\":[{\"type\":\"choropleth\",\"colorbar\":{\"outlinewidth\":0,\"ticks\":\"\"}}],\"histogram2d\":[{\"type\":\"histogram2d\",\"colorbar\":{\"outlinewidth\":0,\"ticks\":\"\"},\"colorscale\":[[0.0,\"#0d0887\"],[0.1111111111111111,\"#46039f\"],[0.2222222222222222,\"#7201a8\"],[0.3333333333333333,\"#9c179e\"],[0.4444444444444444,\"#bd3786\"],[0.5555555555555556,\"#d8576b\"],[0.6666666666666666,\"#ed7953\"],[0.7777777777777778,\"#fb9f3a\"],[0.8888888888888888,\"#fdca26\"],[1.0,\"#f0f921\"]]}],\"heatmap\":[{\"type\":\"heatmap\",\"colorbar\":{\"outlinewidth\":0,\"ticks\":\"\"},\"colorscale\":[[0.0,\"#0d0887\"],[0.1111111111111111,\"#46039f\"],[0.2222222222222222,\"#7201a8\"],[0.3333333333333333,\"#9c179e\"],[0.4444444444444444,\"#bd3786\"],[0.5555555555555556,\"#d8576b\"],[0.6666666666666666,\"#ed7953\"],[0.7777777777777778,\"#fb9f3a\"],[0.8888888888888888,\"#fdca26\"],[1.0,\"#f0f921\"]]}],\"heatmapgl\":[{\"type\":\"heatmapgl\",\"colorbar\":{\"outlinewidth\":0,\"ticks\":\"\"},\"colorscale\":[[0.0,\"#0d0887\"],[0.1111111111111111,\"#46039f\"],[0.2222222222222222,\"#7201a8\"],[0.3333333333333333,\"#9c179e\"],[0.4444444444444444,\"#bd3786\"],[0.5555555555555556,\"#d8576b\"],[0.6666666666666666,\"#ed7953\"],[0.7777777777777778,\"#fb9f3a\"],[0.8888888888888888,\"#fdca26\"],[1.0,\"#f0f921\"]]}],\"contourcarpet\":[{\"type\":\"contourcarpet\",\"colorbar\":{\"outlinewidth\":0,\"ticks\":\"\"}}],\"contour\":[{\"type\":\"contour\",\"colorbar\":{\"outlinewidth\":0,\"ticks\":\"\"},\"colorscale\":[[0.0,\"#0d0887\"],[0.1111111111111111,\"#46039f\"],[0.2222222222222222,\"#7201a8\"],[0.3333333333333333,\"#9c179e\"],[0.4444444444444444,\"#bd3786\"],[0.5555555555555556,\"#d8576b\"],[0.6666666666666666,\"#ed7953\"],[0.7777777777777778,\"#fb9f3a\"],[0.8888888888888888,\"#fdca26\"],[1.0,\"#f0f921\"]]}],\"surface\":[{\"type\":\"surface\",\"colorbar\":{\"outlinewidth\":0,\"ticks\":\"\"},\"colorscale\":[[0.0,\"#0d0887\"],[0.1111111111111111,\"#46039f\"],[0.2222222222222222,\"#7201a8\"],[0.3333333333333333,\"#9c179e\"],[0.4444444444444444,\"#bd3786\"],[0.5555555555555556,\"#d8576b\"],[0.6666666666666666,\"#ed7953\"],[0.7777777777777778,\"#fb9f3a\"],[0.8888888888888888,\"#fdca26\"],[1.0,\"#f0f921\"]]}],\"mesh3d\":[{\"type\":\"mesh3d\",\"colorbar\":{\"outlinewidth\":0,\"ticks\":\"\"}}],\"scatter\":[{\"fillpattern\":{\"fillmode\":\"overlay\",\"size\":10,\"solidity\":0.2},\"type\":\"scatter\"}],\"parcoords\":[{\"type\":\"parcoords\",\"line\":{\"colorbar\":{\"outlinewidth\":0,\"ticks\":\"\"}}}],\"scatterpolargl\":[{\"type\":\"scatterpolargl\",\"marker\":{\"colorbar\":{\"outlinewidth\":0,\"ticks\":\"\"}}}],\"bar\":[{\"error_x\":{\"color\":\"#2a3f5f\"},\"error_y\":{\"color\":\"#2a3f5f\"},\"marker\":{\"line\":{\"color\":\"#E5ECF6\",\"width\":0.5},\"pattern\":{\"fillmode\":\"overlay\",\"size\":10,\"solidity\":0.2}},\"type\":\"bar\"}],\"scattergeo\":[{\"type\":\"scattergeo\",\"marker\":{\"colorbar\":{\"outlinewidth\":0,\"ticks\":\"\"}}}],\"scatterpolar\":[{\"type\":\"scatterpolar\",\"marker\":{\"colorbar\":{\"outlinewidth\":0,\"ticks\":\"\"}}}],\"histogram\":[{\"marker\":{\"pattern\":{\"fillmode\":\"overlay\",\"size\":10,\"solidity\":0.2}},\"type\":\"histogram\"}],\"scattergl\":[{\"type\":\"scattergl\",\"marker\":{\"colorbar\":{\"outlinewidth\":0,\"ticks\":\"\"}}}],\"scatter3d\":[{\"type\":\"scatter3d\",\"line\":{\"colorbar\":{\"outlinewidth\":0,\"ticks\":\"\"}},\"marker\":{\"colorbar\":{\"outlinewidth\":0,\"ticks\":\"\"}}}],\"scattermapbox\":[{\"type\":\"scattermapbox\",\"marker\":{\"colorbar\":{\"outlinewidth\":0,\"ticks\":\"\"}}}],\"scatterternary\":[{\"type\":\"scatterternary\",\"marker\":{\"colorbar\":{\"outlinewidth\":0,\"ticks\":\"\"}}}],\"scattercarpet\":[{\"type\":\"scattercarpet\",\"marker\":{\"colorbar\":{\"outlinewidth\":0,\"ticks\":\"\"}}}],\"carpet\":[{\"aaxis\":{\"endlinecolor\":\"#2a3f5f\",\"gridcolor\":\"white\",\"linecolor\":\"white\",\"minorgridcolor\":\"white\",\"startlinecolor\":\"#2a3f5f\"},\"baxis\":{\"endlinecolor\":\"#2a3f5f\",\"gridcolor\":\"white\",\"linecolor\":\"white\",\"minorgridcolor\":\"white\",\"startlinecolor\":\"#2a3f5f\"},\"type\":\"carpet\"}],\"table\":[{\"cells\":{\"fill\":{\"color\":\"#EBF0F8\"},\"line\":{\"color\":\"white\"}},\"header\":{\"fill\":{\"color\":\"#C8D4E3\"},\"line\":{\"color\":\"white\"}},\"type\":\"table\"}],\"barpolar\":[{\"marker\":{\"line\":{\"color\":\"#E5ECF6\",\"width\":0.5},\"pattern\":{\"fillmode\":\"overlay\",\"size\":10,\"solidity\":0.2}},\"type\":\"barpolar\"}],\"pie\":[{\"automargin\":true,\"type\":\"pie\"}]},\"layout\":{\"autotypenumbers\":\"strict\",\"colorway\":[\"#636efa\",\"#EF553B\",\"#00cc96\",\"#ab63fa\",\"#FFA15A\",\"#19d3f3\",\"#FF6692\",\"#B6E880\",\"#FF97FF\",\"#FECB52\"],\"font\":{\"color\":\"#2a3f5f\"},\"hovermode\":\"closest\",\"hoverlabel\":{\"align\":\"left\"},\"paper_bgcolor\":\"white\",\"plot_bgcolor\":\"#E5ECF6\",\"polar\":{\"bgcolor\":\"#E5ECF6\",\"angularaxis\":{\"gridcolor\":\"white\",\"linecolor\":\"white\",\"ticks\":\"\"},\"radialaxis\":{\"gridcolor\":\"white\",\"linecolor\":\"white\",\"ticks\":\"\"}},\"ternary\":{\"bgcolor\":\"#E5ECF6\",\"aaxis\":{\"gridcolor\":\"white\",\"linecolor\":\"white\",\"ticks\":\"\"},\"baxis\":{\"gridcolor\":\"white\",\"linecolor\":\"white\",\"ticks\":\"\"},\"caxis\":{\"gridcolor\":\"white\",\"linecolor\":\"white\",\"ticks\":\"\"}},\"coloraxis\":{\"colorbar\":{\"outlinewidth\":0,\"ticks\":\"\"}},\"colorscale\":{\"sequential\":[[0.0,\"#0d0887\"],[0.1111111111111111,\"#46039f\"],[0.2222222222222222,\"#7201a8\"],[0.3333333333333333,\"#9c179e\"],[0.4444444444444444,\"#bd3786\"],[0.5555555555555556,\"#d8576b\"],[0.6666666666666666,\"#ed7953\"],[0.7777777777777778,\"#fb9f3a\"],[0.8888888888888888,\"#fdca26\"],[1.0,\"#f0f921\"]],\"sequentialminus\":[[0.0,\"#0d0887\"],[0.1111111111111111,\"#46039f\"],[0.2222222222222222,\"#7201a8\"],[0.3333333333333333,\"#9c179e\"],[0.4444444444444444,\"#bd3786\"],[0.5555555555555556,\"#d8576b\"],[0.6666666666666666,\"#ed7953\"],[0.7777777777777778,\"#fb9f3a\"],[0.8888888888888888,\"#fdca26\"],[1.0,\"#f0f921\"]],\"diverging\":[[0,\"#8e0152\"],[0.1,\"#c51b7d\"],[0.2,\"#de77ae\"],[0.3,\"#f1b6da\"],[0.4,\"#fde0ef\"],[0.5,\"#f7f7f7\"],[0.6,\"#e6f5d0\"],[0.7,\"#b8e186\"],[0.8,\"#7fbc41\"],[0.9,\"#4d9221\"],[1,\"#276419\"]]},\"xaxis\":{\"gridcolor\":\"white\",\"linecolor\":\"white\",\"ticks\":\"\",\"title\":{\"standoff\":15},\"zerolinecolor\":\"white\",\"automargin\":true,\"zerolinewidth\":2},\"yaxis\":{\"gridcolor\":\"white\",\"linecolor\":\"white\",\"ticks\":\"\",\"title\":{\"standoff\":15},\"zerolinecolor\":\"white\",\"automargin\":true,\"zerolinewidth\":2},\"scene\":{\"xaxis\":{\"backgroundcolor\":\"#E5ECF6\",\"gridcolor\":\"white\",\"linecolor\":\"white\",\"showbackground\":true,\"ticks\":\"\",\"zerolinecolor\":\"white\",\"gridwidth\":2},\"yaxis\":{\"backgroundcolor\":\"#E5ECF6\",\"gridcolor\":\"white\",\"linecolor\":\"white\",\"showbackground\":true,\"ticks\":\"\",\"zerolinecolor\":\"white\",\"gridwidth\":2},\"zaxis\":{\"backgroundcolor\":\"#E5ECF6\",\"gridcolor\":\"white\",\"linecolor\":\"white\",\"showbackground\":true,\"ticks\":\"\",\"zerolinecolor\":\"white\",\"gridwidth\":2}},\"shapedefaults\":{\"line\":{\"color\":\"#2a3f5f\"}},\"annotationdefaults\":{\"arrowcolor\":\"#2a3f5f\",\"arrowhead\":0,\"arrowwidth\":1},\"geo\":{\"bgcolor\":\"white\",\"landcolor\":\"#E5ECF6\",\"subunitcolor\":\"white\",\"showland\":true,\"showlakes\":true,\"lakecolor\":\"white\"},\"title\":{\"x\":0.05},\"mapbox\":{\"style\":\"light\"}}},\"xaxis\":{\"anchor\":\"y\",\"domain\":[0.0,1.0],\"title\":{\"text\":\"Epoch\"}},\"yaxis\":{\"anchor\":\"x\",\"domain\":[0.0,1.0],\"title\":{\"text\":\"value\"}},\"legend\":{\"title\":{\"text\":\"variable\"},\"tracegroupgap\":0},\"title\":{\"text\":\"Global Orient\"}},                        {\"responsive\": true}                    ).then(function(){\n",
       "                            \n",
       "var gd = document.getElementById('aa8767e1-77c1-4244-8eab-fb1a5d6dc6b8');\n",
       "var x = new MutationObserver(function (mutations, observer) {{\n",
       "        var display = window.getComputedStyle(gd).display;\n",
       "        if (!display || display === 'none') {{\n",
       "            console.log([gd, 'removed!']);\n",
       "            Plotly.purge(gd);\n",
       "            observer.disconnect();\n",
       "        }}\n",
       "}});\n",
       "\n",
       "// Listen for the removal of the full notebook cells\n",
       "var notebookContainer = gd.closest('#notebook-container');\n",
       "if (notebookContainer) {{\n",
       "    x.observe(notebookContainer, {childList: true});\n",
       "}}\n",
       "\n",
       "// Listen for the clearing of the current output cell\n",
       "var outputEl = gd.closest('.output');\n",
       "if (outputEl) {{\n",
       "    x.observe(outputEl, {childList: true});\n",
       "}}\n",
       "\n",
       "                        })                };                });            </script>        </div>"
      ]
     },
     "metadata": {},
     "output_type": "display_data"
    }
   ],
   "source": [
    "df = pd.DataFrame(store_epoch[\"global_orient\"])\n",
    "global_orient = [\"g\" + str(i + 1) for i in range(3)]\n",
    "df.columns = global_orient\n",
    "df[\"Epoch\"] = df.index\n",
    "\n",
    "fig = px.line(df, x=\"Epoch\", y=global_orient, title=\"Global Orient\")\n",
    "fig.show()"
   ]
  },
  {
   "cell_type": "code",
   "execution_count": 41,
   "metadata": {},
   "outputs": [
    {
     "data": {
      "application/vnd.plotly.v1+json": {
       "config": {
        "plotlyServerURL": "https://plot.ly"
       },
       "data": [
        {
         "hovertemplate": "variable=b1<br>Epoch=%{x}<br>value=%{y}<extra></extra>",
         "legendgroup": "b1",
         "line": {
          "color": "#636efa",
          "dash": "solid"
         },
         "marker": {
          "symbol": "circle"
         },
         "mode": "lines",
         "name": "b1",
         "showlegend": true,
         "type": "scattergl",
         "x": [
          0,
          1,
          2,
          3,
          4,
          5,
          6,
          7,
          8,
          9,
          10,
          11,
          12,
          13,
          14,
          15,
          16,
          17,
          18,
          19,
          20,
          21,
          22,
          23,
          24,
          25,
          26,
          27,
          28,
          29,
          30,
          31,
          32,
          33,
          34,
          35,
          36,
          37,
          38,
          39,
          40,
          41,
          42,
          43,
          44,
          45,
          46,
          47,
          48,
          49
         ],
         "xaxis": "x",
         "y": [
          0.03510288894176483,
          0.030558275058865547,
          -0.02783714234828949,
          -0.05248311907052994,
          -0.05696951225399971,
          -0.0311555415391922,
          -0.007106306962668896,
          0.0022562735248357058,
          0.009317860938608646,
          0.01624756120145321,
          0.023365655913949013,
          0.02337503619492054,
          0.02337503619492054,
          0.023380279541015625,
          0.03488486632704735,
          0.041451308876276016,
          0.03886452689766884,
          0.03887743130326271,
          0.03887743130326271,
          0.03887743130326271,
          0.03887743130326271,
          0.03887743130326271,
          0.03887743130326271,
          0.03887743130326271,
          0.03887743130326271,
          0.03887743130326271,
          0.03887743130326271,
          0.03887803480029106,
          0.04333638772368431,
          0.03596601262688637,
          0.0359630361199379,
          0.0359630361199379,
          0.0359630361199379,
          0.0359630361199379,
          0.0359630361199379,
          0.0359630361199379,
          0.03596283122897148,
          0.03596283122897148,
          0.027441730722784996,
          0.027396997436881065,
          0.027396313846111298,
          0.031144743785262108,
          0.042159244418144226,
          0.06035858392715454,
          0.057098302990198135,
          0.06879811733961105,
          0.06915208697319031,
          0.08299527317285538,
          0.08568590879440308,
          0.08568590879440308
         ],
         "yaxis": "y"
        },
        {
         "hovertemplate": "variable=b2<br>Epoch=%{x}<br>value=%{y}<extra></extra>",
         "legendgroup": "b2",
         "line": {
          "color": "#EF553B",
          "dash": "solid"
         },
         "marker": {
          "symbol": "circle"
         },
         "mode": "lines",
         "name": "b2",
         "showlegend": true,
         "type": "scattergl",
         "x": [
          0,
          1,
          2,
          3,
          4,
          5,
          6,
          7,
          8,
          9,
          10,
          11,
          12,
          13,
          14,
          15,
          16,
          17,
          18,
          19,
          20,
          21,
          22,
          23,
          24,
          25,
          26,
          27,
          28,
          29,
          30,
          31,
          32,
          33,
          34,
          35,
          36,
          37,
          38,
          39,
          40,
          41,
          42,
          43,
          44,
          45,
          46,
          47,
          48,
          49
         ],
         "xaxis": "x",
         "y": [
          0.004971021320670843,
          0.04366176202893257,
          0.14653658866882324,
          0.17020884156227112,
          0.168561190366745,
          0.1546284556388855,
          0.14368067681789398,
          0.14079530537128448,
          0.1386968344449997,
          0.13659599423408508,
          0.13475055992603302,
          0.13474860787391663,
          0.13474860787391663,
          0.1347477287054062,
          0.13484054803848267,
          0.1387505680322647,
          0.15880681574344635,
          0.15878617763519287,
          0.15878617763519287,
          0.15878617763519287,
          0.15878617763519287,
          0.15878617763519287,
          0.15878617763519287,
          0.15878617763519287,
          0.15878617763519287,
          0.15878617763519287,
          0.15878617763519287,
          0.15878549218177795,
          0.15757279098033905,
          0.1799602508544922,
          0.17996856570243835,
          0.17996856570243835,
          0.17996856570243835,
          0.17996856570243835,
          0.17996856570243835,
          0.17996856570243835,
          0.17996911704540253,
          0.17996911704540253,
          0.20708125829696655,
          0.20731952786445618,
          0.20732314884662628,
          0.22695297002792358,
          0.24306882917881012,
          0.23894762992858887,
          0.3243153989315033,
          0.3422437608242035,
          0.3423447906970978,
          0.3572697639465332,
          0.3641992211341858,
          0.3641992211341858
         ],
         "yaxis": "y"
        },
        {
         "hovertemplate": "variable=b3<br>Epoch=%{x}<br>value=%{y}<extra></extra>",
         "legendgroup": "b3",
         "line": {
          "color": "#00cc96",
          "dash": "solid"
         },
         "marker": {
          "symbol": "circle"
         },
         "mode": "lines",
         "name": "b3",
         "showlegend": true,
         "type": "scattergl",
         "x": [
          0,
          1,
          2,
          3,
          4,
          5,
          6,
          7,
          8,
          9,
          10,
          11,
          12,
          13,
          14,
          15,
          16,
          17,
          18,
          19,
          20,
          21,
          22,
          23,
          24,
          25,
          26,
          27,
          28,
          29,
          30,
          31,
          32,
          33,
          34,
          35,
          36,
          37,
          38,
          39,
          40,
          41,
          42,
          43,
          44,
          45,
          46,
          47,
          48,
          49
         ],
         "xaxis": "x",
         "y": [
          0.09475752711296082,
          0.1387685090303421,
          0.18543075025081635,
          0.16716930270195007,
          0.14598479866981506,
          0.1418827623128891,
          0.1436907947063446,
          0.14570295810699463,
          0.14735080301761627,
          0.14858055114746094,
          0.1499645859003067,
          0.14996691048145294,
          0.14996691048145294,
          0.14996851980686188,
          0.1545453667640686,
          0.15794388949871063,
          0.15895392000675201,
          0.1589532345533371,
          0.1589532345533371,
          0.1589532345533371,
          0.1589532345533371,
          0.1589532345533371,
          0.1589532345533371,
          0.1589532345533371,
          0.1589532345533371,
          0.1589532345533371,
          0.1589532345533371,
          0.1589532196521759,
          0.1577347069978714,
          0.15455776453018188,
          0.15455658733844757,
          0.15455658733844757,
          0.15455658733844757,
          0.15455658733844757,
          0.15455658733844757,
          0.15455658733844757,
          0.1545564979314804,
          0.1545564979314804,
          0.15071173012256622,
          0.15067999064922333,
          0.15067949891090393,
          0.14839059114456177,
          0.14699941873550415,
          0.1529037058353424,
          0.15522915124893188,
          0.17444542050361633,
          0.17471130192279816,
          0.18474316596984863,
          0.18706145882606506,
          0.18706145882606506
         ],
         "yaxis": "y"
        },
        {
         "hovertemplate": "variable=b4<br>Epoch=%{x}<br>value=%{y}<extra></extra>",
         "legendgroup": "b4",
         "line": {
          "color": "#ab63fa",
          "dash": "solid"
         },
         "marker": {
          "symbol": "circle"
         },
         "mode": "lines",
         "name": "b4",
         "showlegend": true,
         "type": "scattergl",
         "x": [
          0,
          1,
          2,
          3,
          4,
          5,
          6,
          7,
          8,
          9,
          10,
          11,
          12,
          13,
          14,
          15,
          16,
          17,
          18,
          19,
          20,
          21,
          22,
          23,
          24,
          25,
          26,
          27,
          28,
          29,
          30,
          31,
          32,
          33,
          34,
          35,
          36,
          37,
          38,
          39,
          40,
          41,
          42,
          43,
          44,
          45,
          46,
          47,
          48,
          49
         ],
         "xaxis": "x",
         "y": [
          0.007598108612000942,
          -0.006266230251640081,
          -0.01827705278992653,
          -0.04271139204502106,
          -0.05742574855685234,
          -0.03506675735116005,
          -0.00975565891712904,
          -0.000863875902723521,
          0.003992206882685423,
          0.008041762746870518,
          0.012645862065255642,
          0.012652527540922165,
          0.012652527540922165,
          0.012656165286898613,
          0.021165352314710617,
          0.027005935087800026,
          0.029061952605843544,
          0.029067635536193848,
          0.029067635536193848,
          0.029067635536193848,
          0.029067635536193848,
          0.029067635536193848,
          0.029067635536193848,
          0.029067635536193848,
          0.029067635536193848,
          0.029067635536193848,
          0.029067635536193848,
          0.029068008065223694,
          0.030798206105828285,
          0.02751450426876545,
          0.02751397341489792,
          0.02751397341489792,
          0.02751397341489792,
          0.02751397341489792,
          0.02751397341489792,
          0.02751397341489792,
          0.027513938024640083,
          0.027513938024640083,
          0.027398888021707535,
          0.02743719518184662,
          0.02743777632713318,
          0.03888178989291191,
          0.05492842569947243,
          0.06336352229118347,
          0.07561130821704865,
          0.07549809664487839,
          0.07566972821950912,
          0.08549927175045013,
          0.0880817249417305,
          0.0880817249417305
         ],
         "yaxis": "y"
        },
        {
         "hovertemplate": "variable=b5<br>Epoch=%{x}<br>value=%{y}<extra></extra>",
         "legendgroup": "b5",
         "line": {
          "color": "#FFA15A",
          "dash": "solid"
         },
         "marker": {
          "symbol": "circle"
         },
         "mode": "lines",
         "name": "b5",
         "showlegend": true,
         "type": "scattergl",
         "x": [
          0,
          1,
          2,
          3,
          4,
          5,
          6,
          7,
          8,
          9,
          10,
          11,
          12,
          13,
          14,
          15,
          16,
          17,
          18,
          19,
          20,
          21,
          22,
          23,
          24,
          25,
          26,
          27,
          28,
          29,
          30,
          31,
          32,
          33,
          34,
          35,
          36,
          37,
          38,
          39,
          40,
          41,
          42,
          43,
          44,
          45,
          46,
          47,
          48,
          49
         ],
         "xaxis": "x",
         "y": [
          0.0004902401706203818,
          -0.013420107774436474,
          -0.06401807814836502,
          -0.09284504503011703,
          -0.10843317955732346,
          -0.11456181854009628,
          -0.11174982786178589,
          -0.1081075370311737,
          -0.10506363213062286,
          -0.10241539031267166,
          -0.09976938366889954,
          -0.09976552426815033,
          -0.09976552426815033,
          -0.09976296126842499,
          -0.09378042072057724,
          -0.09018974751234055,
          -0.09102917462587357,
          -0.09102590382099152,
          -0.09102590382099152,
          -0.09102590382099152,
          -0.09102590382099152,
          -0.09102590382099152,
          -0.09102590382099152,
          -0.09102590382099152,
          -0.09102590382099152,
          -0.09102590382099152,
          -0.09102590382099152,
          -0.09102574735879898,
          -0.08990884572267532,
          -0.09340173751115799,
          -0.09340330213308334,
          -0.09340330213308334,
          -0.09340330213308334,
          -0.09340330213308334,
          -0.09340330213308334,
          -0.09340330213308334,
          -0.0934034064412117,
          -0.0934034064412117,
          -0.09854879975318909,
          -0.09859319776296616,
          -0.09859387576580048,
          -0.10196676850318909,
          -0.10328179597854614,
          -0.10275789350271225,
          -0.138554647564888,
          -0.14816094934940338,
          -0.14829406142234802,
          -0.15822851657867432,
          -0.16246488690376282,
          -0.16246488690376282
         ],
         "yaxis": "y"
        },
        {
         "hovertemplate": "variable=b6<br>Epoch=%{x}<br>value=%{y}<extra></extra>",
         "legendgroup": "b6",
         "line": {
          "color": "#19d3f3",
          "dash": "solid"
         },
         "marker": {
          "symbol": "circle"
         },
         "mode": "lines",
         "name": "b6",
         "showlegend": true,
         "type": "scattergl",
         "x": [
          0,
          1,
          2,
          3,
          4,
          5,
          6,
          7,
          8,
          9,
          10,
          11,
          12,
          13,
          14,
          15,
          16,
          17,
          18,
          19,
          20,
          21,
          22,
          23,
          24,
          25,
          26,
          27,
          28,
          29,
          30,
          31,
          32,
          33,
          34,
          35,
          36,
          37,
          38,
          39,
          40,
          41,
          42,
          43,
          44,
          45,
          46,
          47,
          48,
          49
         ],
         "xaxis": "x",
         "y": [
          -0.08496998995542526,
          -0.09714706242084503,
          -0.08452896028757095,
          -0.082534559071064,
          -0.07397516071796417,
          -0.06275904178619385,
          -0.05856427550315857,
          -0.06120463088154793,
          -0.06473372131586075,
          -0.06795687228441238,
          -0.0715058296918869,
          -0.07151100039482117,
          -0.07151100039482117,
          -0.07151414453983307,
          -0.07881009578704834,
          -0.08330156654119492,
          -0.08312270045280457,
          -0.08312338590621948,
          -0.08312338590621948,
          -0.08312338590621948,
          -0.08312338590621948,
          -0.08312338590621948,
          -0.08312338590621948,
          -0.08312338590621948,
          -0.08312338590621948,
          -0.08312338590621948,
          -0.08312338590621948,
          -0.08312340825796127,
          -0.08290990442037582,
          -0.07951512932777405,
          -0.07951373606920242,
          -0.07951373606920242,
          -0.07951373606920242,
          -0.07951373606920242,
          -0.07951373606920242,
          -0.07951373606920242,
          -0.07951363921165466,
          -0.07951363921165466,
          -0.07493674755096436,
          -0.07489392161369324,
          -0.07489326596260071,
          -0.06978435069322586,
          -0.06559795141220093,
          -0.0704026073217392,
          -0.05459124222397804,
          -0.06789764761924744,
          -0.06807631254196167,
          -0.07462450116872787,
          -0.07615537196397781,
          -0.07615537196397781
         ],
         "yaxis": "y"
        },
        {
         "hovertemplate": "variable=b7<br>Epoch=%{x}<br>value=%{y}<extra></extra>",
         "legendgroup": "b7",
         "line": {
          "color": "#FF6692",
          "dash": "solid"
         },
         "marker": {
          "symbol": "circle"
         },
         "mode": "lines",
         "name": "b7",
         "showlegend": true,
         "type": "scattergl",
         "x": [
          0,
          1,
          2,
          3,
          4,
          5,
          6,
          7,
          8,
          9,
          10,
          11,
          12,
          13,
          14,
          15,
          16,
          17,
          18,
          19,
          20,
          21,
          22,
          23,
          24,
          25,
          26,
          27,
          28,
          29,
          30,
          31,
          32,
          33,
          34,
          35,
          36,
          37,
          38,
          39,
          40,
          41,
          42,
          43,
          44,
          45,
          46,
          47,
          48,
          49
         ],
         "xaxis": "x",
         "y": [
          0.026608262211084366,
          0.009902620688080788,
          -0.04572002962231636,
          -0.045993171632289886,
          -0.03605048730969429,
          -0.03706779330968857,
          -0.03726315498352051,
          -0.03544997423887253,
          -0.03305874019861221,
          -0.03036406636238098,
          -0.027483098208904266,
          -0.027478661388158798,
          -0.027478661388158798,
          -0.027475448325276375,
          -0.018214290961623192,
          -0.010909094475209713,
          0.0013783928006887436,
          0.0013701340649276972,
          0.0013701340649276972,
          0.0013701340649276972,
          0.0013701340649276972,
          0.0013701340649276972,
          0.0013701340649276972,
          0.0013701340649276972,
          0.0013701340649276972,
          0.0013701340649276972,
          0.0013701340649276972,
          0.0013699635164812207,
          0.00362201314419508,
          0.014639741741120815,
          0.014643000438809395,
          0.014643000438809395,
          0.014643000438809395,
          0.014643000438809395,
          0.014643000438809395,
          0.014643000438809395,
          0.014643215574324131,
          0.014643215574324131,
          0.02503870241343975,
          0.02512810193002224,
          0.02512945793569088,
          0.032410815358161926,
          0.04085230454802513,
          0.046775251626968384,
          0.07200206816196442,
          0.07779732346534729,
          0.07776713371276855,
          0.07495929300785065,
          0.07383199036121368,
          0.07383199036121368
         ],
         "yaxis": "y"
        },
        {
         "hovertemplate": "variable=b8<br>Epoch=%{x}<br>value=%{y}<extra></extra>",
         "legendgroup": "b8",
         "line": {
          "color": "#B6E880",
          "dash": "solid"
         },
         "marker": {
          "symbol": "circle"
         },
         "mode": "lines",
         "name": "b8",
         "showlegend": true,
         "type": "scattergl",
         "x": [
          0,
          1,
          2,
          3,
          4,
          5,
          6,
          7,
          8,
          9,
          10,
          11,
          12,
          13,
          14,
          15,
          16,
          17,
          18,
          19,
          20,
          21,
          22,
          23,
          24,
          25,
          26,
          27,
          28,
          29,
          30,
          31,
          32,
          33,
          34,
          35,
          36,
          37,
          38,
          39,
          40,
          41,
          42,
          43,
          44,
          45,
          46,
          47,
          48,
          49
         ],
         "xaxis": "x",
         "y": [
          0.003922355826944113,
          0.0019637993536889553,
          0.01005335059016943,
          0.014552608132362366,
          0.023083453997969627,
          0.02988322637975216,
          0.03258495405316353,
          0.032466478645801544,
          0.03242070600390434,
          0.03257080540060997,
          0.03279678151011467,
          0.032796964049339294,
          0.032796964049339294,
          0.032796960324048996,
          0.03270264342427254,
          0.03211609274148941,
          0.029470279812812805,
          0.029472850263118744,
          0.029472850263118744,
          0.029472850263118744,
          0.029472850263118744,
          0.029472850263118744,
          0.029472850263118744,
          0.029472850263118744,
          0.029472850263118744,
          0.029472850263118744,
          0.029472850263118744,
          0.02947293221950531,
          0.029506376013159752,
          0.027573112398386,
          0.027572402730584145,
          0.027572402730584145,
          0.027572402730584145,
          0.027572402730584145,
          0.027572402730584145,
          0.027572402730584145,
          0.027572354301810265,
          0.027572354301810265,
          0.025421874597668648,
          0.025407981127500534,
          0.02540777064859867,
          0.02457404136657715,
          0.023772763088345528,
          0.026117179542779922,
          0.02983722649514675,
          0.033072154968976974,
          0.03313069045543671,
          0.034840553998947144,
          0.03517599403858185,
          0.03517599403858185
         ],
         "yaxis": "y"
        },
        {
         "hovertemplate": "variable=b9<br>Epoch=%{x}<br>value=%{y}<extra></extra>",
         "legendgroup": "b9",
         "line": {
          "color": "#FF97FF",
          "dash": "solid"
         },
         "marker": {
          "symbol": "circle"
         },
         "mode": "lines",
         "name": "b9",
         "showlegend": true,
         "type": "scattergl",
         "x": [
          0,
          1,
          2,
          3,
          4,
          5,
          6,
          7,
          8,
          9,
          10,
          11,
          12,
          13,
          14,
          15,
          16,
          17,
          18,
          19,
          20,
          21,
          22,
          23,
          24,
          25,
          26,
          27,
          28,
          29,
          30,
          31,
          32,
          33,
          34,
          35,
          36,
          37,
          38,
          39,
          40,
          41,
          42,
          43,
          44,
          45,
          46,
          47,
          48,
          49
         ],
         "xaxis": "x",
         "y": [
          0.0007616737275384367,
          -0.006555361207574606,
          -0.019168546423316002,
          -0.015649262815713882,
          -0.010593621991574764,
          -0.005827849730849266,
          -0.0004251178470440209,
          0.002769492333754897,
          0.005004813428968191,
          0.006778091192245483,
          0.007803850807249546,
          0.007804102264344692,
          0.007804102264344692,
          0.00780382240191102,
          0.006177518516778946,
          0.004262740258127451,
          -0.0007780403830111027,
          -0.0007704027811996639,
          -0.0007704027811996639,
          -0.0007704027811996639,
          -0.0007704027811996639,
          -0.0007704027811996639,
          -0.0007704027811996639,
          -0.0007704027811996639,
          -0.0007704027811996639,
          -0.0007704027811996639,
          -0.0007704027811996639,
          -0.0007701346185058355,
          0.0026807840913534164,
          0.005116194952279329,
          0.0051166038028895855,
          0.0051166038028895855,
          0.0051166038028895855,
          0.0051166038028895855,
          0.0051166038028895855,
          0.0051166038028895855,
          0.005116632208228111,
          0.005116632208228111,
          0.0062810457311570644,
          0.00629314873367548,
          0.006293333601206541,
          0.00752066308632493,
          0.00984453409910202,
          0.01154087483882904,
          0.02382603846490383,
          0.03426854684948921,
          0.03445785492658615,
          0.04510660097002983,
          0.04865344241261482,
          0.04865344241261482
         ],
         "yaxis": "y"
        },
        {
         "hovertemplate": "variable=b10<br>Epoch=%{x}<br>value=%{y}<extra></extra>",
         "legendgroup": "b10",
         "line": {
          "color": "#FECB52",
          "dash": "solid"
         },
         "marker": {
          "symbol": "circle"
         },
         "mode": "lines",
         "name": "b10",
         "showlegend": true,
         "type": "scattergl",
         "x": [
          0,
          1,
          2,
          3,
          4,
          5,
          6,
          7,
          8,
          9,
          10,
          11,
          12,
          13,
          14,
          15,
          16,
          17,
          18,
          19,
          20,
          21,
          22,
          23,
          24,
          25,
          26,
          27,
          28,
          29,
          30,
          31,
          32,
          33,
          34,
          35,
          36,
          37,
          38,
          39,
          40,
          41,
          42,
          43,
          44,
          45,
          46,
          47,
          48,
          49
         ],
         "xaxis": "x",
         "y": [
          0.017645159736275673,
          0.037149667739868164,
          0.04238343611359596,
          -0.01744452677667141,
          -0.08145982772111893,
          -0.12368328869342804,
          -0.13187740743160248,
          -0.12903758883476257,
          -0.12885062396526337,
          -0.13052386045455933,
          -0.1344493329524994,
          -0.13445600867271423,
          -0.13445600867271423,
          -0.13445940613746643,
          -0.14412818849086761,
          -0.1508340686559677,
          -0.1586264818906784,
          -0.1586194932460785,
          -0.1586194932460785,
          -0.1586194932460785,
          -0.1586194932460785,
          -0.1586194932460785,
          -0.1586194932460785,
          -0.1586194932460785,
          -0.1586194932460785,
          -0.1586194932460785,
          -0.1586194932460785,
          -0.15861934423446655,
          -0.154017835855484,
          -0.14679639041423798,
          -0.14679494500160217,
          -0.14679494500160217,
          -0.14679494500160217,
          -0.14679494500160217,
          -0.14679494500160217,
          -0.14679494500160217,
          -0.146794855594635,
          -0.146794855594635,
          -0.14386405050754547,
          -0.14386557042598724,
          -0.14386560022830963,
          -0.14933393895626068,
          -0.15809977054595947,
          -0.18429039418697357,
          -0.23636412620544434,
          -0.2570444643497467,
          -0.25744935870170593,
          -0.274953156709671,
          -0.2806604206562042,
          -0.2806604206562042
         ],
         "yaxis": "y"
        },
        {
         "hovertemplate": "variable=b11<br>Epoch=%{x}<br>value=%{y}<extra></extra>",
         "legendgroup": "b11",
         "line": {
          "color": "#636efa",
          "dash": "solid"
         },
         "marker": {
          "symbol": "circle"
         },
         "mode": "lines",
         "name": "b11",
         "showlegend": true,
         "type": "scattergl",
         "x": [
          0,
          1,
          2,
          3,
          4,
          5,
          6,
          7,
          8,
          9,
          10,
          11,
          12,
          13,
          14,
          15,
          16,
          17,
          18,
          19,
          20,
          21,
          22,
          23,
          24,
          25,
          26,
          27,
          28,
          29,
          30,
          31,
          32,
          33,
          34,
          35,
          36,
          37,
          38,
          39,
          40,
          41,
          42,
          43,
          44,
          45,
          46,
          47,
          48,
          49
         ],
         "xaxis": "x",
         "y": [
          -0.0038778292946517467,
          -0.026193594560027122,
          -0.08384981751441956,
          -0.08705232292413712,
          -0.0666096955537796,
          -0.02320450358092785,
          0.005863451398909092,
          0.013732544146478176,
          0.019459057599306107,
          0.02537861466407776,
          0.03195912390947342,
          0.03196786716580391,
          0.03196786716580391,
          0.031972385942935944,
          0.042543526738882065,
          0.048696793615818024,
          0.048520203679800034,
          0.048530250787734985,
          0.048530250787734985,
          0.048530250787734985,
          0.048530250787734985,
          0.048530250787734985,
          0.048530250787734985,
          0.048530250787734985,
          0.048530250787734985,
          0.048530250787734985,
          0.048530250787734985,
          0.04853079468011856,
          0.05174305662512779,
          0.04537806659936905,
          0.04537578299641609,
          0.04537578299641609,
          0.04537578299641609,
          0.04537578299641609,
          0.04537578299641609,
          0.04537578299641609,
          0.045375630259513855,
          0.045375630259513855,
          0.03927266225218773,
          0.0392519012093544,
          0.03925158455967903,
          0.044321272522211075,
          0.05508790910243988,
          0.0697731077671051,
          0.06590624153614044,
          0.06651901453733444,
          0.06671832501888275,
          0.0755956619977951,
          0.07778742909431458,
          0.07778742909431458
         ],
         "yaxis": "y"
        },
        {
         "hovertemplate": "variable=b12<br>Epoch=%{x}<br>value=%{y}<extra></extra>",
         "legendgroup": "b12",
         "line": {
          "color": "#EF553B",
          "dash": "solid"
         },
         "marker": {
          "symbol": "circle"
         },
         "mode": "lines",
         "name": "b12",
         "showlegend": true,
         "type": "scattergl",
         "x": [
          0,
          1,
          2,
          3,
          4,
          5,
          6,
          7,
          8,
          9,
          10,
          11,
          12,
          13,
          14,
          15,
          16,
          17,
          18,
          19,
          20,
          21,
          22,
          23,
          24,
          25,
          26,
          27,
          28,
          29,
          30,
          31,
          32,
          33,
          34,
          35,
          36,
          37,
          38,
          39,
          40,
          41,
          42,
          43,
          44,
          45,
          46,
          47,
          48,
          49
         ],
         "xaxis": "x",
         "y": [
          0.04513940215110779,
          0.05463886633515358,
          0.04450000822544098,
          0.03129124268889427,
          0.040041808038949966,
          0.0771746039390564,
          0.09327755868434906,
          0.089958555996418,
          0.08546573668718338,
          0.08118936419487,
          0.07540769129991531,
          0.07539751380681992,
          0.07539751380681992,
          0.07539062947034836,
          0.0573405995965004,
          0.04344559460878372,
          0.03255339711904526,
          0.03256779536604881,
          0.03256779536604881,
          0.03256779536604881,
          0.03256779536604881,
          0.03256779536604881,
          0.03256779536604881,
          0.03256779536604881,
          0.03256779536604881,
          0.03256779536604881,
          0.03256779536604881,
          0.0325683131814003,
          0.04018159210681915,
          0.05302800238132477,
          0.05303172767162323,
          0.05303172767162323,
          0.05303172767162323,
          0.05303172767162323,
          0.05303172767162323,
          0.05303172767162323,
          0.05303197354078293,
          0.05303197354078293,
          0.06452177464962006,
          0.06462345272302628,
          0.06462500989437103,
          0.07413890957832336,
          0.08055871725082397,
          0.0638122484087944,
          0.07371675968170166,
          0.03954343870282173,
          0.03895793855190277,
          0.016498880460858345,
          0.011643359437584877,
          0.011643359437584877
         ],
         "yaxis": "y"
        },
        {
         "hovertemplate": "variable=b13<br>Epoch=%{x}<br>value=%{y}<extra></extra>",
         "legendgroup": "b13",
         "line": {
          "color": "#00cc96",
          "dash": "solid"
         },
         "marker": {
          "symbol": "circle"
         },
         "mode": "lines",
         "name": "b13",
         "showlegend": true,
         "type": "scattergl",
         "x": [
          0,
          1,
          2,
          3,
          4,
          5,
          6,
          7,
          8,
          9,
          10,
          11,
          12,
          13,
          14,
          15,
          16,
          17,
          18,
          19,
          20,
          21,
          22,
          23,
          24,
          25,
          26,
          27,
          28,
          29,
          30,
          31,
          32,
          33,
          34,
          35,
          36,
          37,
          38,
          39,
          40,
          41,
          42,
          43,
          44,
          45,
          46,
          47,
          48,
          49
         ],
         "xaxis": "x",
         "y": [
          0.00801868550479412,
          0.034685391932725906,
          0.09464156627655029,
          0.06308663636445999,
          0.013518774881958961,
          -0.02812979929149151,
          -0.04095429554581642,
          -0.04007977619767189,
          -0.04105911776423454,
          -0.04396606236696243,
          -0.04840182885527611,
          -0.048408567905426025,
          -0.048408567905426025,
          -0.04841221868991852,
          -0.05782878026366234,
          -0.06359394639730453,
          -0.06805809587240219,
          -0.06805814057588577,
          -0.06805814057588577,
          -0.06805814057588577,
          -0.06805814057588577,
          -0.06805814057588577,
          -0.06805814057588577,
          -0.06805814057588577,
          -0.06805814057588577,
          -0.06805814057588577,
          -0.06805814057588577,
          -0.06805825978517532,
          -0.06777802854776382,
          -0.06344985216856003,
          -0.06344857811927795,
          -0.06344857811927795,
          -0.06344857811927795,
          -0.06344857811927795,
          -0.06344857811927795,
          -0.06344857811927795,
          -0.06344849616289139,
          -0.06344849616289139,
          -0.06048599258065224,
          -0.06048225238919258,
          -0.060482196509838104,
          -0.06531879305839539,
          -0.0740647241473198,
          -0.09442690014839172,
          -0.12184552103281021,
          -0.13417784869670868,
          -0.13451430201530457,
          -0.14999346435070038,
          -0.154868483543396,
          -0.154868483543396
         ],
         "yaxis": "y"
        },
        {
         "hovertemplate": "variable=b14<br>Epoch=%{x}<br>value=%{y}<extra></extra>",
         "legendgroup": "b14",
         "line": {
          "color": "#ab63fa",
          "dash": "solid"
         },
         "marker": {
          "symbol": "circle"
         },
         "mode": "lines",
         "name": "b14",
         "showlegend": true,
         "type": "scattergl",
         "x": [
          0,
          1,
          2,
          3,
          4,
          5,
          6,
          7,
          8,
          9,
          10,
          11,
          12,
          13,
          14,
          15,
          16,
          17,
          18,
          19,
          20,
          21,
          22,
          23,
          24,
          25,
          26,
          27,
          28,
          29,
          30,
          31,
          32,
          33,
          34,
          35,
          36,
          37,
          38,
          39,
          40,
          41,
          42,
          43,
          44,
          45,
          46,
          47,
          48,
          49
         ],
         "xaxis": "x",
         "y": [
          0.0058893002569675446,
          0.0472157746553421,
          0.16031043231487274,
          0.18910913169384003,
          0.195423886179924,
          0.192387655377388,
          0.18657705187797546,
          0.18405543267726898,
          0.1818264275789261,
          0.17930173873901367,
          0.1763390600681305,
          0.17633426189422607,
          0.17633426189422607,
          0.17633116245269775,
          0.1694650501012802,
          0.1660769134759903,
          0.16672317683696747,
          0.16671934723854065,
          0.16671934723854065,
          0.16671934723854065,
          0.16671934723854065,
          0.16671934723854065,
          0.16671934723854065,
          0.16671934723854065,
          0.16671934723854065,
          0.16671934723854065,
          0.16671934723854065,
          0.16671912372112274,
          0.16464045643806458,
          0.16665078699588776,
          0.1666516661643982,
          0.1666516661643982,
          0.1666516661643982,
          0.1666516661643982,
          0.1666516661643982,
          0.1666516661643982,
          0.16665172576904297,
          0.16665172576904297,
          0.16902387142181396,
          0.16903363168239594,
          0.16903378069400787,
          0.16672156751155853,
          0.16157805919647217,
          0.157322958111763,
          0.17745351791381836,
          0.18869884312152863,
          0.1887533813714981,
          0.19238612055778503,
          0.19391503930091858,
          0.19391503930091858
         ],
         "yaxis": "y"
        },
        {
         "hovertemplate": "variable=b15<br>Epoch=%{x}<br>value=%{y}<extra></extra>",
         "legendgroup": "b15",
         "line": {
          "color": "#FFA15A",
          "dash": "solid"
         },
         "marker": {
          "symbol": "circle"
         },
         "mode": "lines",
         "name": "b15",
         "showlegend": true,
         "type": "scattergl",
         "x": [
          0,
          1,
          2,
          3,
          4,
          5,
          6,
          7,
          8,
          9,
          10,
          11,
          12,
          13,
          14,
          15,
          16,
          17,
          18,
          19,
          20,
          21,
          22,
          23,
          24,
          25,
          26,
          27,
          28,
          29,
          30,
          31,
          32,
          33,
          34,
          35,
          36,
          37,
          38,
          39,
          40,
          41,
          42,
          43,
          44,
          45,
          46,
          47,
          48,
          49
         ],
         "xaxis": "x",
         "y": [
          -0.03580714017152786,
          0.005266715306788683,
          0.09406452625989914,
          0.041103627532720566,
          -0.00808104407042265,
          -0.019628845155239105,
          -0.006559327710419893,
          0.002714428585022688,
          0.00741477170959115,
          0.010227290913462639,
          0.012066950090229511,
          0.012068876065313816,
          0.012068876065313816,
          0.012070340104401112,
          0.01657695695757866,
          0.02145960181951523,
          0.021880127489566803,
          0.02188372239470482,
          0.02188372239470482,
          0.02188372239470482,
          0.02188372239470482,
          0.02188372239470482,
          0.02188372239470482,
          0.02188372239470482,
          0.02188372239470482,
          0.02188372239470482,
          0.02188372239470482,
          0.021883906796574593,
          0.021484607830643654,
          0.014539362862706184,
          0.014536773785948753,
          0.014536773785948753,
          0.014536773785948753,
          0.014536773785948753,
          0.014536773785948753,
          0.014536773785948753,
          0.014536593109369278,
          0.014536593109369278,
          0.005830216221511364,
          0.005756000988185406,
          0.005754866171628237,
          0.000055018055718392134,
          -0.002715734764933586,
          -0.003273914335295558,
          -0.034008100628852844,
          -0.01858782023191452,
          -0.018191101029515266,
          0.000006614719950448489,
          0.0038902764208614826,
          0.0038902764208614826
         ],
         "yaxis": "y"
        },
        {
         "hovertemplate": "variable=b16<br>Epoch=%{x}<br>value=%{y}<extra></extra>",
         "legendgroup": "b16",
         "line": {
          "color": "#19d3f3",
          "dash": "solid"
         },
         "marker": {
          "symbol": "circle"
         },
         "mode": "lines",
         "name": "b16",
         "showlegend": true,
         "type": "scattergl",
         "x": [
          0,
          1,
          2,
          3,
          4,
          5,
          6,
          7,
          8,
          9,
          10,
          11,
          12,
          13,
          14,
          15,
          16,
          17,
          18,
          19,
          20,
          21,
          22,
          23,
          24,
          25,
          26,
          27,
          28,
          29,
          30,
          31,
          32,
          33,
          34,
          35,
          36,
          37,
          38,
          39,
          40,
          41,
          42,
          43,
          44,
          45,
          46,
          47,
          48,
          49
         ],
         "xaxis": "x",
         "y": [
          0.025439679622650146,
          0.055858828127384186,
          0.10126710683107376,
          0.08168359100818634,
          0.06831485778093338,
          0.08167719095945358,
          0.10541019588708878,
          0.11673469841480255,
          0.12321288138628006,
          0.1279548853635788,
          0.13061395287513733,
          0.1306147277355194,
          0.1306147277355194,
          0.13061469793319702,
          0.13019320368766785,
          0.12963758409023285,
          0.12087441980838776,
          0.12089109420776367,
          0.12089109420776367,
          0.12089109420776367,
          0.12089109420776367,
          0.12089109420776367,
          0.12089109420776367,
          0.12089109420776367,
          0.12089109420776367,
          0.12089109420776367,
          0.12089109420776367,
          0.12089173495769501,
          0.12650632858276367,
          0.12214554101228714,
          0.12214278429746628,
          0.12214278429746628,
          0.12214278429746628,
          0.12214278429746628,
          0.12214278429746628,
          0.12214278429746628,
          0.12214259058237076,
          0.12214259058237076,
          0.1125110387802124,
          0.11242653429508209,
          0.11242524534463882,
          0.105218306183815,
          0.1019989550113678,
          0.1063227578997612,
          0.07999809086322784,
          0.08731544762849808,
          0.08740034699440002,
          0.08468412607908249,
          0.08170651644468307,
          0.08170651644468307
         ],
         "yaxis": "y"
        },
        {
         "hovertemplate": "variable=b17<br>Epoch=%{x}<br>value=%{y}<extra></extra>",
         "legendgroup": "b17",
         "line": {
          "color": "#FF6692",
          "dash": "solid"
         },
         "marker": {
          "symbol": "circle"
         },
         "mode": "lines",
         "name": "b17",
         "showlegend": true,
         "type": "scattergl",
         "x": [
          0,
          1,
          2,
          3,
          4,
          5,
          6,
          7,
          8,
          9,
          10,
          11,
          12,
          13,
          14,
          15,
          16,
          17,
          18,
          19,
          20,
          21,
          22,
          23,
          24,
          25,
          26,
          27,
          28,
          29,
          30,
          31,
          32,
          33,
          34,
          35,
          36,
          37,
          38,
          39,
          40,
          41,
          42,
          43,
          44,
          45,
          46,
          47,
          48,
          49
         ],
         "xaxis": "x",
         "y": [
          0.0020102818962186575,
          -0.02113831602036953,
          -0.0684167742729187,
          -0.0771171972155571,
          -0.07303928583860397,
          -0.07059022784233093,
          -0.06898240745067596,
          -0.06828448921442032,
          -0.06708628684282303,
          -0.0654674768447876,
          -0.06328276544809341,
          -0.06327919661998749,
          -0.06327919661998749,
          -0.06327694654464722,
          -0.05801994726061821,
          -0.05528106540441513,
          -0.05538493022322655,
          -0.055383797734975815,
          -0.055383797734975815,
          -0.055383797734975815,
          -0.055383797734975815,
          -0.055383797734975815,
          -0.055383797734975815,
          -0.055383797734975815,
          -0.055383797734975815,
          -0.055383797734975815,
          -0.055383797734975815,
          -0.055383723229169846,
          -0.05491909384727478,
          -0.056090760976076126,
          -0.05609120801091194,
          -0.05609120801091194,
          -0.05609120801091194,
          -0.05609120801091194,
          -0.05609120801091194,
          -0.05609120801091194,
          -0.05609123781323433,
          -0.05609123781323433,
          -0.057178761810064316,
          -0.05717967823147774,
          -0.05717969313263893,
          -0.055951233953237534,
          -0.053709909319877625,
          -0.05035190284252167,
          -0.05484862998127937,
          -0.056457724422216415,
          -0.05645067244768143,
          -0.057418081909418106,
          -0.05813520401716232,
          -0.05813520401716232
         ],
         "yaxis": "y"
        },
        {
         "hovertemplate": "variable=b18<br>Epoch=%{x}<br>value=%{y}<extra></extra>",
         "legendgroup": "b18",
         "line": {
          "color": "#B6E880",
          "dash": "solid"
         },
         "marker": {
          "symbol": "circle"
         },
         "mode": "lines",
         "name": "b18",
         "showlegend": true,
         "type": "scattergl",
         "x": [
          0,
          1,
          2,
          3,
          4,
          5,
          6,
          7,
          8,
          9,
          10,
          11,
          12,
          13,
          14,
          15,
          16,
          17,
          18,
          19,
          20,
          21,
          22,
          23,
          24,
          25,
          26,
          27,
          28,
          29,
          30,
          31,
          32,
          33,
          34,
          35,
          36,
          37,
          38,
          39,
          40,
          41,
          42,
          43,
          44,
          45,
          46,
          47,
          48,
          49
         ],
         "xaxis": "x",
         "y": [
          0.002162443706765771,
          0.01682404614984989,
          0.049535319209098816,
          0.04266989976167679,
          0.041132040321826935,
          0.053282760083675385,
          0.06324231624603271,
          0.06576468050479889,
          0.06637967377901077,
          0.06636455655097961,
          0.06517750769853592,
          0.0651741474866867,
          0.0651741474866867,
          0.06517162173986435,
          0.05833729729056358,
          0.0533682219684124,
          0.045049410313367844,
          0.04506031423807144,
          0.04506031423807144,
          0.04506031423807144,
          0.04506031423807144,
          0.04506031423807144,
          0.04506031423807144,
          0.04506031423807144,
          0.04506031423807144,
          0.04506031423807144,
          0.04506031423807144,
          0.04506067559123039,
          0.04819705709815025,
          0.047816768288612366,
          0.04781615734100342,
          0.04781615734100342,
          0.04781615734100342,
          0.04781615734100342,
          0.04781615734100342,
          0.04781615734100342,
          0.047816116362810135,
          0.047816116362810135,
          0.045302215963602066,
          0.04527733847498894,
          0.04527696222066879,
          0.04243490472435951,
          0.039651528000831604,
          0.034137435257434845,
          0.022207850590348244,
          0.01917790062725544,
          0.019142882898449898,
          0.017552487552165985,
          0.016933437436819077,
          0.016933437436819077
         ],
         "yaxis": "y"
        },
        {
         "hovertemplate": "variable=b19<br>Epoch=%{x}<br>value=%{y}<extra></extra>",
         "legendgroup": "b19",
         "line": {
          "color": "#FF97FF",
          "dash": "solid"
         },
         "marker": {
          "symbol": "circle"
         },
         "mode": "lines",
         "name": "b19",
         "showlegend": true,
         "type": "scattergl",
         "x": [
          0,
          1,
          2,
          3,
          4,
          5,
          6,
          7,
          8,
          9,
          10,
          11,
          12,
          13,
          14,
          15,
          16,
          17,
          18,
          19,
          20,
          21,
          22,
          23,
          24,
          25,
          26,
          27,
          28,
          29,
          30,
          31,
          32,
          33,
          34,
          35,
          36,
          37,
          38,
          39,
          40,
          41,
          42,
          43,
          44,
          45,
          46,
          47,
          48,
          49
         ],
         "xaxis": "x",
         "y": [
          0.007169833406805992,
          0.12564924359321594,
          0.43535086512565613,
          0.5160503387451172,
          0.5382233262062073,
          0.5495785474777222,
          0.5519933700561523,
          0.5517629384994507,
          0.5500110387802124,
          0.5471637845039368,
          0.5431647300720215,
          0.5431567430496216,
          0.5431567430496216,
          0.5431508421897888,
          0.5301491618156433,
          0.524143397808075,
          0.5224040746688843,
          0.5224018096923828,
          0.5224018096923828,
          0.5224018096923828,
          0.5224018096923828,
          0.5224018096923828,
          0.5224018096923828,
          0.5224018096923828,
          0.5224018096923828,
          0.5224018096923828,
          0.5224018096923828,
          0.5224015712738037,
          0.5168991684913635,
          0.5098260641098022,
          0.5098238587379456,
          0.5098238587379456,
          0.5098238587379456,
          0.5098238587379456,
          0.5098238587379456,
          0.5098238587379456,
          0.509823739528656,
          0.509823739528656,
          0.501427412033081,
          0.5013245940208435,
          0.5013230443000793,
          0.48224514722824097,
          0.45543622970581055,
          0.43281370401382446,
          0.3974640965461731,
          0.3949244022369385,
          0.3945886194705963,
          0.3762543797492981,
          0.370090126991272,
          0.370090126991272
         ],
         "yaxis": "y"
        },
        {
         "hovertemplate": "variable=b20<br>Epoch=%{x}<br>value=%{y}<extra></extra>",
         "legendgroup": "b20",
         "line": {
          "color": "#FECB52",
          "dash": "solid"
         },
         "marker": {
          "symbol": "circle"
         },
         "mode": "lines",
         "name": "b20",
         "showlegend": true,
         "type": "scattergl",
         "x": [
          0,
          1,
          2,
          3,
          4,
          5,
          6,
          7,
          8,
          9,
          10,
          11,
          12,
          13,
          14,
          15,
          16,
          17,
          18,
          19,
          20,
          21,
          22,
          23,
          24,
          25,
          26,
          27,
          28,
          29,
          30,
          31,
          32,
          33,
          34,
          35,
          36,
          37,
          38,
          39,
          40,
          41,
          42,
          43,
          44,
          45,
          46,
          47,
          48,
          49
         ],
         "xaxis": "x",
         "y": [
          0.009155328385531902,
          0.05829031020402908,
          0.19380544126033783,
          0.23934730887413025,
          0.2579866945743561,
          0.2687346041202545,
          0.27080437541007996,
          0.2702721357345581,
          0.26950350403785706,
          0.2686537802219391,
          0.26798391342163086,
          0.2679826319217682,
          0.2679826319217682,
          0.2679814398288727,
          0.26682358980178833,
          0.26869383454322815,
          0.2796107828617096,
          0.2796003520488739,
          0.2796003520488739,
          0.2796003520488739,
          0.2796003520488739,
          0.2796003520488739,
          0.2796003520488739,
          0.2796003520488739,
          0.2796003520488739,
          0.2796003520488739,
          0.2796003520488739,
          0.27959999442100525,
          0.2777358293533325,
          0.28643301129341125,
          0.2864364683628082,
          0.2864364683628082,
          0.2864364683628082,
          0.2864364683628082,
          0.2864364683628082,
          0.2864364683628082,
          0.28643670678138733,
          0.28643670678138733,
          0.29784899950027466,
          0.2979521155357361,
          0.29795369505882263,
          0.30598753690719604,
          0.31188151240348816,
          0.3136579990386963,
          0.3780454993247986,
          0.4058281183242798,
          0.40615883469581604,
          0.4278029501438141,
          0.43579548597335815,
          0.43579548597335815
         ],
         "yaxis": "y"
        },
        {
         "hovertemplate": "variable=b21<br>Epoch=%{x}<br>value=%{y}<extra></extra>",
         "legendgroup": "b21",
         "line": {
          "color": "#636efa",
          "dash": "solid"
         },
         "marker": {
          "symbol": "circle"
         },
         "mode": "lines",
         "name": "b21",
         "showlegend": true,
         "type": "scattergl",
         "x": [
          0,
          1,
          2,
          3,
          4,
          5,
          6,
          7,
          8,
          9,
          10,
          11,
          12,
          13,
          14,
          15,
          16,
          17,
          18,
          19,
          20,
          21,
          22,
          23,
          24,
          25,
          26,
          27,
          28,
          29,
          30,
          31,
          32,
          33,
          34,
          35,
          36,
          37,
          38,
          39,
          40,
          41,
          42,
          43,
          44,
          45,
          46,
          47,
          48,
          49
         ],
         "xaxis": "x",
         "y": [
          -0.0003023389435838908,
          -0.031515561044216156,
          -0.10493133217096329,
          -0.11826802790164948,
          -0.11361200362443924,
          -0.10094492882490158,
          -0.09499472379684448,
          -0.09547611325979233,
          -0.0960516408085823,
          -0.0963362455368042,
          -0.09687115252017975,
          -0.09687232971191406,
          -0.09687232971191406,
          -0.09687324613332748,
          -0.10032074898481369,
          -0.10471080988645554,
          -0.11392765492200851,
          -0.11391738057136536,
          -0.11391738057136536,
          -0.11391738057136536,
          -0.11391738057136536,
          -0.11391738057136536,
          -0.11391738057136536,
          -0.11391738057136536,
          -0.11391738057136536,
          -0.11391738057136536,
          -0.11391738057136536,
          -0.1139170229434967,
          -0.11148762702941895,
          -0.11570089310407639,
          -0.11570262163877487,
          -0.11570262163877487,
          -0.11570262163877487,
          -0.11570262163877487,
          -0.11570262163877487,
          -0.11570262163877487,
          -0.11570274084806442,
          -0.11570274084806442,
          -0.12125902622938156,
          -0.12130428850650787,
          -0.12130497395992279,
          -0.12364768236875534,
          -0.12496745586395264,
          -0.12610477209091187,
          -0.15206071734428406,
          -0.1693037450313568,
          -0.16947369277477264,
          -0.17881128191947937,
          -0.1817537397146225,
          -0.1817537397146225
         ],
         "yaxis": "y"
        },
        {
         "hovertemplate": "variable=b22<br>Epoch=%{x}<br>value=%{y}<extra></extra>",
         "legendgroup": "b22",
         "line": {
          "color": "#EF553B",
          "dash": "solid"
         },
         "marker": {
          "symbol": "circle"
         },
         "mode": "lines",
         "name": "b22",
         "showlegend": true,
         "type": "scattergl",
         "x": [
          0,
          1,
          2,
          3,
          4,
          5,
          6,
          7,
          8,
          9,
          10,
          11,
          12,
          13,
          14,
          15,
          16,
          17,
          18,
          19,
          20,
          21,
          22,
          23,
          24,
          25,
          26,
          27,
          28,
          29,
          30,
          31,
          32,
          33,
          34,
          35,
          36,
          37,
          38,
          39,
          40,
          41,
          42,
          43,
          44,
          45,
          46,
          47,
          48,
          49
         ],
         "xaxis": "x",
         "y": [
          0.004704389255493879,
          0.07639440149068832,
          0.2713117301464081,
          0.3371414840221405,
          0.3743155300617218,
          0.4134277105331421,
          0.43428656458854675,
          0.43956249952316284,
          0.4428219199180603,
          0.44573676586151123,
          0.4489857852458954,
          0.44898900389671326,
          0.44898900389671326,
          0.4489896893501282,
          0.4519968330860138,
          0.4562230110168457,
          0.461480975151062,
          0.46147987246513367,
          0.46147987246513367,
          0.46147987246513367,
          0.46147987246513367,
          0.46147987246513367,
          0.46147987246513367,
          0.46147987246513367,
          0.46147987246513367,
          0.46147987246513367,
          0.46147987246513367,
          0.46147990226745605,
          0.4583462178707123,
          0.45074039697647095,
          0.45073819160461426,
          0.45073819160461426,
          0.45073819160461426,
          0.45073819160461426,
          0.45073819160461426,
          0.45073819160461426,
          0.4507380425930023,
          0.4507380425930023,
          0.44391584396362305,
          0.4438628852367401,
          0.44386208057403564,
          0.4374127984046936,
          0.4296976327896118,
          0.4284876883029938,
          0.4185745418071747,
          0.4208773970603943,
          0.42073720693588257,
          0.4100804924964905,
          0.4056682884693146,
          0.4056682884693146
         ],
         "yaxis": "y"
        },
        {
         "hovertemplate": "variable=b23<br>Epoch=%{x}<br>value=%{y}<extra></extra>",
         "legendgroup": "b23",
         "line": {
          "color": "#00cc96",
          "dash": "solid"
         },
         "marker": {
          "symbol": "circle"
         },
         "mode": "lines",
         "name": "b23",
         "showlegend": true,
         "type": "scattergl",
         "x": [
          0,
          1,
          2,
          3,
          4,
          5,
          6,
          7,
          8,
          9,
          10,
          11,
          12,
          13,
          14,
          15,
          16,
          17,
          18,
          19,
          20,
          21,
          22,
          23,
          24,
          25,
          26,
          27,
          28,
          29,
          30,
          31,
          32,
          33,
          34,
          35,
          36,
          37,
          38,
          39,
          40,
          41,
          42,
          43,
          44,
          45,
          46,
          47,
          48,
          49
         ],
         "xaxis": "x",
         "y": [
          -0.006090345326811075,
          -0.0343305729329586,
          -0.11157330125570297,
          -0.1368608921766281,
          -0.14393247663974762,
          -0.1453242301940918,
          -0.14508944749832153,
          -0.14506912231445312,
          -0.14478370547294617,
          -0.14440762996673584,
          -0.14411386847496033,
          -0.14411334693431854,
          -0.14411334693431854,
          -0.14411285519599915,
          -0.14380301535129547,
          -0.1450204700231552,
          -0.15024466812610626,
          -0.1502387970685959,
          -0.1502387970685959,
          -0.1502387970685959,
          -0.1502387970685959,
          -0.1502387970685959,
          -0.1502387970685959,
          -0.1502387970685959,
          -0.1502387970685959,
          -0.1502387970685959,
          -0.1502387970685959,
          -0.15023858845233917,
          -0.14839719235897064,
          -0.1505056619644165,
          -0.15050667524337769,
          -0.15050667524337769,
          -0.15050667524337769,
          -0.15050667524337769,
          -0.15050667524337769,
          -0.15050667524337769,
          -0.15050674974918365,
          -0.15050674974918365,
          -0.15376979112625122,
          -0.15379659831523895,
          -0.1537970006465912,
          -0.1547994613647461,
          -0.15437434613704681,
          -0.15455986559391022,
          -0.179252028465271,
          -0.194746732711792,
          -0.19494369626045227,
          -0.20667248964309692,
          -0.2107704132795334,
          -0.2107704132795334
         ],
         "yaxis": "y"
        },
        {
         "hovertemplate": "variable=b24<br>Epoch=%{x}<br>value=%{y}<extra></extra>",
         "legendgroup": "b24",
         "line": {
          "color": "#ab63fa",
          "dash": "solid"
         },
         "marker": {
          "symbol": "circle"
         },
         "mode": "lines",
         "name": "b24",
         "showlegend": true,
         "type": "scattergl",
         "x": [
          0,
          1,
          2,
          3,
          4,
          5,
          6,
          7,
          8,
          9,
          10,
          11,
          12,
          13,
          14,
          15,
          16,
          17,
          18,
          19,
          20,
          21,
          22,
          23,
          24,
          25,
          26,
          27,
          28,
          29,
          30,
          31,
          32,
          33,
          34,
          35,
          36,
          37,
          38,
          39,
          40,
          41,
          42,
          43,
          44,
          45,
          46,
          47,
          48,
          49
         ],
         "xaxis": "x",
         "y": [
          0.0009148402605205774,
          0.04102187603712082,
          0.14045293629169464,
          0.14844898879528046,
          0.133091002702713,
          0.10817137360572815,
          0.09501892328262329,
          0.09349629282951355,
          0.09242552518844604,
          0.09093181788921356,
          0.08946093171834946,
          0.08945943415164948,
          0.08945943415164948,
          0.08945898711681366,
          0.09003493189811707,
          0.09333442151546478,
          0.1062636747956276,
          0.10624819993972778,
          0.10624819993972778,
          0.10624819993972778,
          0.10624819993972778,
          0.10624819993972778,
          0.10624819993972778,
          0.10624819993972778,
          0.10624819993972778,
          0.10624819993972778,
          0.10624819993972778,
          0.10624764114618301,
          0.10416394472122192,
          0.1170426681637764,
          0.11704736948013306,
          0.11704736948013306,
          0.11704736948013306,
          0.11704736948013306,
          0.11704736948013306,
          0.11704736948013306,
          0.11704768240451813,
          0.11704768240451813,
          0.13187941908836365,
          0.13199931383132935,
          0.132001131772995,
          0.1393522024154663,
          0.14375221729278564,
          0.1391260176897049,
          0.18729236721992493,
          0.20813597738742828,
          0.2082841843366623,
          0.21986907720565796,
          0.2242358773946762,
          0.2242358773946762
         ],
         "yaxis": "y"
        },
        {
         "hovertemplate": "variable=b25<br>Epoch=%{x}<br>value=%{y}<extra></extra>",
         "legendgroup": "b25",
         "line": {
          "color": "#FFA15A",
          "dash": "solid"
         },
         "marker": {
          "symbol": "circle"
         },
         "mode": "lines",
         "name": "b25",
         "showlegend": true,
         "type": "scattergl",
         "x": [
          0,
          1,
          2,
          3,
          4,
          5,
          6,
          7,
          8,
          9,
          10,
          11,
          12,
          13,
          14,
          15,
          16,
          17,
          18,
          19,
          20,
          21,
          22,
          23,
          24,
          25,
          26,
          27,
          28,
          29,
          30,
          31,
          32,
          33,
          34,
          35,
          36,
          37,
          38,
          39,
          40,
          41,
          42,
          43,
          44,
          45,
          46,
          47,
          48,
          49
         ],
         "xaxis": "x",
         "y": [
          0.02143115922808647,
          0.04983359947800636,
          0.08261556923389435,
          0.03835401311516762,
          -0.0035852089058607817,
          -0.0236071590334177,
          -0.018755925819277763,
          -0.012740940786898136,
          -0.010684090666472912,
          -0.010727254673838615,
          -0.013913026079535484,
          -0.013920539058744907,
          -0.013920539058744907,
          -0.013925016857683659,
          -0.02592316083610058,
          -0.03465787321329117,
          -0.049197252839803696,
          -0.04918110370635986,
          -0.04918110370635986,
          -0.04918110370635986,
          -0.04918110370635986,
          -0.04918110370635986,
          -0.04918110370635986,
          -0.04918110370635986,
          -0.04918110370635986,
          -0.04918110370635986,
          -0.04918110370635986,
          -0.04918061941862106,
          -0.04275759309530258,
          -0.039688438177108765,
          -0.039688773453235626,
          -0.039688773453235626,
          -0.039688773453235626,
          -0.039688773453235626,
          -0.039688773453235626,
          -0.039688773453235626,
          -0.039688803255558014,
          -0.039688803255558014,
          -0.042198099195957184,
          -0.04223527014255524,
          -0.0422358363866806,
          -0.0470837838947773,
          -0.050137948244810104,
          -0.05182430520653725,
          -0.05039653554558754,
          -0.03022840805351734,
          -0.029883170500397682,
          -0.013813546858727932,
          -0.009336239658296108,
          -0.009336239658296108
         ],
         "yaxis": "y"
        },
        {
         "hovertemplate": "variable=b26<br>Epoch=%{x}<br>value=%{y}<extra></extra>",
         "legendgroup": "b26",
         "line": {
          "color": "#19d3f3",
          "dash": "solid"
         },
         "marker": {
          "symbol": "circle"
         },
         "mode": "lines",
         "name": "b26",
         "showlegend": true,
         "type": "scattergl",
         "x": [
          0,
          1,
          2,
          3,
          4,
          5,
          6,
          7,
          8,
          9,
          10,
          11,
          12,
          13,
          14,
          15,
          16,
          17,
          18,
          19,
          20,
          21,
          22,
          23,
          24,
          25,
          26,
          27,
          28,
          29,
          30,
          31,
          32,
          33,
          34,
          35,
          36,
          37,
          38,
          39,
          40,
          41,
          42,
          43,
          44,
          45,
          46,
          47,
          48,
          49
         ],
         "xaxis": "x",
         "y": [
          0.004006171599030495,
          -0.005357685498893261,
          -0.01746460236608982,
          -0.020200548693537712,
          -0.0164785273373127,
          -0.013027394190430641,
          -0.010431487113237381,
          -0.009409765712916851,
          -0.008327607996761799,
          -0.00711449608206749,
          -0.0057600620202720165,
          -0.005758192855864763,
          -0.005758192855864763,
          -0.0057571642100811005,
          -0.003599647432565689,
          -0.0026804383378475904,
          -0.003984822425991297,
          -0.003982664085924625,
          -0.003982664085924625,
          -0.003982664085924625,
          -0.003982664085924625,
          -0.003982664085924625,
          -0.003982664085924625,
          -0.003982664085924625,
          -0.003982664085924625,
          -0.003982664085924625,
          -0.003982664085924625,
          -0.003982572816312313,
          -0.003199552418664098,
          -0.0034712415654212236,
          -0.0034714487846940756,
          -0.0034714487846940756,
          -0.0034714487846940756,
          -0.0034714487846940756,
          -0.0034714487846940756,
          -0.0034714487846940756,
          -0.003471463220193982,
          -0.003471463220193982,
          -0.003978697117418051,
          -0.003977098502218723,
          -0.003977075219154358,
          -0.0032725094351917505,
          -0.0021156950388103724,
          0.00008670192619320005,
          0.002348058158531785,
          0.004787513520568609,
          0.004834618419408798,
          0.0062832310795784,
          0.006485725753009319,
          0.006485725753009319
         ],
         "yaxis": "y"
        },
        {
         "hovertemplate": "variable=b27<br>Epoch=%{x}<br>value=%{y}<extra></extra>",
         "legendgroup": "b27",
         "line": {
          "color": "#FF6692",
          "dash": "solid"
         },
         "marker": {
          "symbol": "circle"
         },
         "mode": "lines",
         "name": "b27",
         "showlegend": true,
         "type": "scattergl",
         "x": [
          0,
          1,
          2,
          3,
          4,
          5,
          6,
          7,
          8,
          9,
          10,
          11,
          12,
          13,
          14,
          15,
          16,
          17,
          18,
          19,
          20,
          21,
          22,
          23,
          24,
          25,
          26,
          27,
          28,
          29,
          30,
          31,
          32,
          33,
          34,
          35,
          36,
          37,
          38,
          39,
          40,
          41,
          42,
          43,
          44,
          45,
          46,
          47,
          48,
          49
         ],
         "xaxis": "x",
         "y": [
          0.002868969226256013,
          0.017555363476276398,
          0.040706321597099304,
          0.014860966242849827,
          -0.005480969324707985,
          -0.014003331772983074,
          -0.014396765269339085,
          -0.013393208384513855,
          -0.013350753113627434,
          -0.01369719859212637,
          -0.014413336291909218,
          -0.014414415694773197,
          -0.014414415694773197,
          -0.01441475935280323,
          -0.014371651224792004,
          -0.012621307745575905,
          -0.007511698175221682,
          -0.007515037897974253,
          -0.007515037897974253,
          -0.007515037897974253,
          -0.007515037897974253,
          -0.007515037897974253,
          -0.007515037897974253,
          -0.007515037897974253,
          -0.007515037897974253,
          -0.007515037897974253,
          -0.007515037897974253,
          -0.0075151207856833935,
          -0.006223806645721197,
          0.002306903712451458,
          0.00230965088121593,
          0.00230965088121593,
          0.00230965088121593,
          0.00230965088121593,
          0.00230965088121593,
          0.00230965088121593,
          0.002309831790626049,
          0.002309831790626049,
          0.010676729492843151,
          0.010744532570242882,
          0.010745563544332981,
          0.015099450014531612,
          0.018151914700865746,
          0.00793672539293766,
          0.006587069481611252,
          0.0007702041766606271,
          0.0005956655950285494,
          -0.0057675945572555065,
          -0.007708507124334574,
          -0.007708507124334574
         ],
         "yaxis": "y"
        },
        {
         "hovertemplate": "variable=b28<br>Epoch=%{x}<br>value=%{y}<extra></extra>",
         "legendgroup": "b28",
         "line": {
          "color": "#B6E880",
          "dash": "solid"
         },
         "marker": {
          "symbol": "circle"
         },
         "mode": "lines",
         "name": "b28",
         "showlegend": true,
         "type": "scattergl",
         "x": [
          0,
          1,
          2,
          3,
          4,
          5,
          6,
          7,
          8,
          9,
          10,
          11,
          12,
          13,
          14,
          15,
          16,
          17,
          18,
          19,
          20,
          21,
          22,
          23,
          24,
          25,
          26,
          27,
          28,
          29,
          30,
          31,
          32,
          33,
          34,
          35,
          36,
          37,
          38,
          39,
          40,
          41,
          42,
          43,
          44,
          45,
          46,
          47,
          48,
          49
         ],
         "xaxis": "x",
         "y": [
          -0.0012277307687327266,
          0.0030256682075560093,
          0.0010586194694042206,
          -0.03312435373663902,
          -0.08116071671247482,
          -0.14836183190345764,
          -0.1868932843208313,
          -0.19623710215091705,
          -0.20333757996559143,
          -0.21108509600162506,
          -0.2203321009874344,
          -0.2203446924686432,
          -0.2203446924686432,
          -0.22035108506679535,
          -0.23648707568645477,
          -0.24745288491249084,
          -0.2528712749481201,
          -0.25287777185440063,
          -0.25287777185440063,
          -0.25287777185440063,
          -0.25287777185440063,
          -0.25287777185440063,
          -0.25287777185440063,
          -0.25287777185440063,
          -0.25287777185440063,
          -0.25287777185440063,
          -0.25287777185440063,
          -0.25287824869155884,
          -0.2533031105995178,
          -0.24154339730739594,
          -0.24153973162174225,
          -0.24153973162174225,
          -0.24153973162174225,
          -0.24153973162174225,
          -0.24153973162174225,
          -0.24153973162174225,
          -0.24153949320316315,
          -0.24153949320316315,
          -0.23148944973945618,
          -0.2314426302909851,
          -0.2314419150352478,
          -0.23487205803394318,
          -0.2445758581161499,
          -0.26589876413345337,
          -0.26368361711502075,
          -0.2628801763057709,
          -0.26293814182281494,
          -0.25963595509529114,
          -0.2569316029548645,
          -0.2569316029548645
         ],
         "yaxis": "y"
        },
        {
         "hovertemplate": "variable=b29<br>Epoch=%{x}<br>value=%{y}<extra></extra>",
         "legendgroup": "b29",
         "line": {
          "color": "#FF97FF",
          "dash": "solid"
         },
         "marker": {
          "symbol": "circle"
         },
         "mode": "lines",
         "name": "b29",
         "showlegend": true,
         "type": "scattergl",
         "x": [
          0,
          1,
          2,
          3,
          4,
          5,
          6,
          7,
          8,
          9,
          10,
          11,
          12,
          13,
          14,
          15,
          16,
          17,
          18,
          19,
          20,
          21,
          22,
          23,
          24,
          25,
          26,
          27,
          28,
          29,
          30,
          31,
          32,
          33,
          34,
          35,
          36,
          37,
          38,
          39,
          40,
          41,
          42,
          43,
          44,
          45,
          46,
          47,
          48,
          49
         ],
         "xaxis": "x",
         "y": [
          -0.00040412944508716464,
          0.00012899411376565695,
          0.002514422405511141,
          0.0038932436145842075,
          0.00431858142837882,
          0.004611400421708822,
          0.00481187179684639,
          0.0048333266749978065,
          0.00477218022570014,
          0.004623063374310732,
          0.0043191974982619286,
          0.00431850366294384,
          0.00431850366294384,
          0.004317976534366608,
          0.0027186621446162462,
          0.0011139835696667433,
          -0.002911804709583521,
          -0.0029086414724588394,
          -0.0029086414724588394,
          -0.0029086414724588394,
          -0.0029086414724588394,
          -0.0029086414724588394,
          -0.0029086414724588394,
          -0.0029086414724588394,
          -0.0029086414724588394,
          -0.0029086414724588394,
          -0.0029086414724588394,
          -0.0029085627757012844,
          -0.003443747991696,
          -0.008585221134126186,
          -0.008587105199694633,
          -0.008587105199694633,
          -0.008587105199694633,
          -0.008587105199694633,
          -0.008587105199694633,
          -0.008587105199694633,
          -0.008587231859564781,
          -0.008587231859564781,
          -0.014977309852838516,
          -0.015039428137242794,
          -0.015040373429656029,
          -0.02203119546175003,
          -0.029784053564071655,
          -0.03507877513766289,
          -0.068707175552845,
          -0.0805143490433693,
          -0.08070988953113556,
          -0.09271036833524704,
          -0.0970408096909523,
          -0.0970408096909523
         ],
         "yaxis": "y"
        },
        {
         "hovertemplate": "variable=b30<br>Epoch=%{x}<br>value=%{y}<extra></extra>",
         "legendgroup": "b30",
         "line": {
          "color": "#FECB52",
          "dash": "solid"
         },
         "marker": {
          "symbol": "circle"
         },
         "mode": "lines",
         "name": "b30",
         "showlegend": true,
         "type": "scattergl",
         "x": [
          0,
          1,
          2,
          3,
          4,
          5,
          6,
          7,
          8,
          9,
          10,
          11,
          12,
          13,
          14,
          15,
          16,
          17,
          18,
          19,
          20,
          21,
          22,
          23,
          24,
          25,
          26,
          27,
          28,
          29,
          30,
          31,
          32,
          33,
          34,
          35,
          36,
          37,
          38,
          39,
          40,
          41,
          42,
          43,
          44,
          45,
          46,
          47,
          48,
          49
         ],
         "xaxis": "x",
         "y": [
          -0.0018557623261585832,
          -0.014929333701729774,
          -0.04502832889556885,
          -0.04648466780781746,
          -0.03784072771668434,
          -0.020312875509262085,
          -0.007796522229909897,
          -0.003546446328982711,
          -0.000047592955525033176,
          0.0037272321060299873,
          0.008394413627684116,
          0.008401487953960896,
          0.008401487953960896,
          0.008405644446611404,
          0.01913432776927948,
          0.026966091245412827,
          0.03499821573495865,
          0.03499598801136017,
          0.03499598801136017,
          0.03499598801136017,
          0.03499598801136017,
          0.03499598801136017,
          0.03499598801136017,
          0.03499598801136017,
          0.03499598801136017,
          0.03499598801136017,
          0.03499598801136017,
          0.03499605879187584,
          0.03603877127170563,
          0.0382465161383152,
          0.038247477263212204,
          0.038247477263212204,
          0.038247477263212204,
          0.038247477263212204,
          0.038247477263212204,
          0.038247477263212204,
          0.03824754059314728,
          0.03824754059314728,
          0.04239184036850929,
          0.04245144873857498,
          0.04245235398411751,
          0.052589669823646545,
          0.06654589623212814,
          0.08122354000806808,
          0.11584934592247009,
          0.13173408806324005,
          0.13206788897514343,
          0.14982494711875916,
          0.15542349219322205,
          0.15542349219322205
         ],
         "yaxis": "y"
        },
        {
         "hovertemplate": "variable=b31<br>Epoch=%{x}<br>value=%{y}<extra></extra>",
         "legendgroup": "b31",
         "line": {
          "color": "#636efa",
          "dash": "solid"
         },
         "marker": {
          "symbol": "circle"
         },
         "mode": "lines",
         "name": "b31",
         "showlegend": true,
         "type": "scattergl",
         "x": [
          0,
          1,
          2,
          3,
          4,
          5,
          6,
          7,
          8,
          9,
          10,
          11,
          12,
          13,
          14,
          15,
          16,
          17,
          18,
          19,
          20,
          21,
          22,
          23,
          24,
          25,
          26,
          27,
          28,
          29,
          30,
          31,
          32,
          33,
          34,
          35,
          36,
          37,
          38,
          39,
          40,
          41,
          42,
          43,
          44,
          45,
          46,
          47,
          48,
          49
         ],
         "xaxis": "x",
         "y": [
          0.0005022775731049478,
          0.0055041187442839146,
          0.013922251760959625,
          0.006800421513617039,
          -0.006774440873414278,
          -0.02730650082230568,
          -0.039791472256183624,
          -0.043195512145757675,
          -0.045884087681770325,
          -0.04880084842443466,
          -0.05235019698739052,
          -0.05235527828335762,
          -0.05235527828335762,
          -0.05235806107521057,
          -0.05952907353639603,
          -0.06473374366760254,
          -0.06962961703538895,
          -0.06962954998016357,
          -0.06962954998016357,
          -0.06962954998016357,
          -0.06962954998016357,
          -0.06962954998016357,
          -0.06962954998016357,
          -0.06962954998016357,
          -0.06962954998016357,
          -0.06962954998016357,
          -0.06962954998016357,
          -0.06962966173887253,
          -0.07035574316978455,
          -0.07038901001214981,
          -0.07038918137550354,
          -0.07038918137550354,
          -0.07038918137550354,
          -0.07038918137550354,
          -0.07038918137550354,
          -0.07038918137550354,
          -0.07038919627666473,
          -0.07038919627666473,
          -0.0717596784234047,
          -0.07179003953933716,
          -0.07179050147533417,
          -0.07812366634607315,
          -0.08720586448907852,
          -0.09749242663383484,
          -0.11659526824951172,
          -0.12135796248912811,
          -0.12143395841121674,
          -0.12374940514564514,
          -0.1240147054195404,
          -0.1240147054195404
         ],
         "yaxis": "y"
        },
        {
         "hovertemplate": "variable=b32<br>Epoch=%{x}<br>value=%{y}<extra></extra>",
         "legendgroup": "b32",
         "line": {
          "color": "#EF553B",
          "dash": "solid"
         },
         "marker": {
          "symbol": "circle"
         },
         "mode": "lines",
         "name": "b32",
         "showlegend": true,
         "type": "scattergl",
         "x": [
          0,
          1,
          2,
          3,
          4,
          5,
          6,
          7,
          8,
          9,
          10,
          11,
          12,
          13,
          14,
          15,
          16,
          17,
          18,
          19,
          20,
          21,
          22,
          23,
          24,
          25,
          26,
          27,
          28,
          29,
          30,
          31,
          32,
          33,
          34,
          35,
          36,
          37,
          38,
          39,
          40,
          41,
          42,
          43,
          44,
          45,
          46,
          47,
          48,
          49
         ],
         "xaxis": "x",
         "y": [
          0.0020759152248501778,
          0.01084910798817873,
          0.03609859570860863,
          0.043739479035139084,
          0.04813408479094505,
          0.05125100910663605,
          0.050761159509420395,
          0.049287259578704834,
          0.0478147454559803,
          0.04624614864587784,
          0.044181592762470245,
          0.04417801275849342,
          0.04417801275849342,
          0.04417562857270241,
          0.03794815018773079,
          0.03333158418536186,
          0.028390927240252495,
          0.028394605964422226,
          0.028394605964422226,
          0.028394605964422226,
          0.028394605964422226,
          0.028394605964422226,
          0.028394605964422226,
          0.028394605964422226,
          0.028394605964422226,
          0.028394605964422226,
          0.028394605964422226,
          0.028394680470228195,
          0.0288833137601614,
          0.02870013564825058,
          0.028700025752186775,
          0.028700025752186775,
          0.028700025752186775,
          0.028700025752186775,
          0.028700025752186775,
          0.028700025752186775,
          0.02870001830160618,
          0.02870001830160618,
          0.028208978474140167,
          0.028202835470438004,
          0.02820274420082569,
          0.027677781879901886,
          0.026922788470983505,
          0.02861924096941948,
          0.04545908421278,
          0.054780907928943634,
          0.05495937168598175,
          0.06504379212856293,
          0.06873901933431625,
          0.06873901933431625
         ],
         "yaxis": "y"
        },
        {
         "hovertemplate": "variable=b33<br>Epoch=%{x}<br>value=%{y}<extra></extra>",
         "legendgroup": "b33",
         "line": {
          "color": "#00cc96",
          "dash": "solid"
         },
         "marker": {
          "symbol": "circle"
         },
         "mode": "lines",
         "name": "b33",
         "showlegend": true,
         "type": "scattergl",
         "x": [
          0,
          1,
          2,
          3,
          4,
          5,
          6,
          7,
          8,
          9,
          10,
          11,
          12,
          13,
          14,
          15,
          16,
          17,
          18,
          19,
          20,
          21,
          22,
          23,
          24,
          25,
          26,
          27,
          28,
          29,
          30,
          31,
          32,
          33,
          34,
          35,
          36,
          37,
          38,
          39,
          40,
          41,
          42,
          43,
          44,
          45,
          46,
          47,
          48,
          49
         ],
         "xaxis": "x",
         "y": [
          0.0035922741517424583,
          0.039937399327754974,
          0.13748669624328613,
          0.15764737129211426,
          0.14723436534404755,
          0.11222346872091293,
          0.08530249446630478,
          0.07649753242731094,
          0.069669209420681,
          0.06250080466270447,
          0.05413724482059479,
          0.054125018417835236,
          0.054125018417835236,
          0.05411793664097786,
          0.03674106299877167,
          0.025289546698331833,
          0.018137795850634575,
          0.018133653327822685,
          0.018133653327822685,
          0.018133653327822685,
          0.018133653327822685,
          0.018133653327822685,
          0.018133653327822685,
          0.018133653327822685,
          0.018133653327822685,
          0.018133653327822685,
          0.018133653327822685,
          0.018133247271180153,
          0.014599154703319073,
          0.015519853681325912,
          0.01552015170454979,
          0.01552015170454979,
          0.01552015170454979,
          0.01552015170454979,
          0.01552015170454979,
          0.01552015170454979,
          0.015520173124969006,
          0.015520173124969006,
          0.014793857000768185,
          0.01474667713046074,
          0.014745964668691158,
          0.0014001826057210565,
          -0.019606852903962135,
          -0.04275274649262428,
          -0.0680195689201355,
          -0.07839887589216232,
          -0.078743577003479,
          -0.09475252777338028,
          -0.09902546554803848,
          -0.09902546554803848
         ],
         "yaxis": "y"
        },
        {
         "hovertemplate": "variable=b34<br>Epoch=%{x}<br>value=%{y}<extra></extra>",
         "legendgroup": "b34",
         "line": {
          "color": "#ab63fa",
          "dash": "solid"
         },
         "marker": {
          "symbol": "circle"
         },
         "mode": "lines",
         "name": "b34",
         "showlegend": true,
         "type": "scattergl",
         "x": [
          0,
          1,
          2,
          3,
          4,
          5,
          6,
          7,
          8,
          9,
          10,
          11,
          12,
          13,
          14,
          15,
          16,
          17,
          18,
          19,
          20,
          21,
          22,
          23,
          24,
          25,
          26,
          27,
          28,
          29,
          30,
          31,
          32,
          33,
          34,
          35,
          36,
          37,
          38,
          39,
          40,
          41,
          42,
          43,
          44,
          45,
          46,
          47,
          48,
          49
         ],
         "xaxis": "x",
         "y": [
          0.004255115054547787,
          0.029415834695100784,
          0.09396786987781525,
          0.10878141969442368,
          0.1150692030787468,
          0.12351464480161667,
          0.12896554172039032,
          0.12970374524593353,
          0.1290169656276703,
          0.12764431536197662,
          0.12489563226699829,
          0.1248898133635521,
          0.1248898133635521,
          0.12488579750061035,
          0.11475808918476105,
          0.10753040760755539,
          0.0956849679350853,
          0.09569566696882248,
          0.09569566696882248,
          0.09569566696882248,
          0.09569566696882248,
          0.09569566696882248,
          0.09569566696882248,
          0.09569566696882248,
          0.09569566696882248,
          0.09569566696882248,
          0.09569566696882248,
          0.09569594264030457,
          0.09620003402233124,
          0.08906738460063934,
          0.08906470984220505,
          0.08906470984220505,
          0.08906470984220505,
          0.08906470984220505,
          0.08906470984220505,
          0.08906470984220505,
          0.08906453102827072,
          0.08906453102827072,
          0.08012464642524719,
          0.08004526048898697,
          0.08004405349493027,
          0.07354559749364853,
          0.0678628534078598,
          0.07099056988954544,
          0.06996265798807144,
          0.07888484746217728,
          0.0790589302778244,
          0.08512011915445328,
          0.08674213290214539,
          0.08674213290214539
         ],
         "yaxis": "y"
        },
        {
         "hovertemplate": "variable=b35<br>Epoch=%{x}<br>value=%{y}<extra></extra>",
         "legendgroup": "b35",
         "line": {
          "color": "#FFA15A",
          "dash": "solid"
         },
         "marker": {
          "symbol": "circle"
         },
         "mode": "lines",
         "name": "b35",
         "showlegend": true,
         "type": "scattergl",
         "x": [
          0,
          1,
          2,
          3,
          4,
          5,
          6,
          7,
          8,
          9,
          10,
          11,
          12,
          13,
          14,
          15,
          16,
          17,
          18,
          19,
          20,
          21,
          22,
          23,
          24,
          25,
          26,
          27,
          28,
          29,
          30,
          31,
          32,
          33,
          34,
          35,
          36,
          37,
          38,
          39,
          40,
          41,
          42,
          43,
          44,
          45,
          46,
          47,
          48,
          49
         ],
         "xaxis": "x",
         "y": [
          -0.001403518603183329,
          -0.00909616332501173,
          -0.022893786430358887,
          -0.016481006518006325,
          -0.003422799753025174,
          0.01392842922359705,
          0.022992189973592758,
          0.024625463411211967,
          0.025898607447743416,
          0.027401791885495186,
          0.02915680781006813,
          0.029158931225538254,
          0.029158931225538254,
          0.029159819707274437,
          0.03088957630097866,
          0.03141225129365921,
          0.02706846594810486,
          0.027074528858065605,
          0.027074528858065605,
          0.027074528858065605,
          0.027074528858065605,
          0.027074528858065605,
          0.027074528858065605,
          0.027074528858065605,
          0.027074528858065605,
          0.027074528858065605,
          0.027074528858065605,
          0.02707476168870926,
          0.026849109679460526,
          0.018220873549580574,
          0.01821798086166382,
          0.01821798086166382,
          0.01821798086166382,
          0.01821798086166382,
          0.01821798086166382,
          0.01821798086166382,
          0.0182177871465683,
          0.0182177871465683,
          0.00931021012365818,
          0.009242665953934193,
          0.009241637773811817,
          0.006106870714575052,
          0.005580895580351353,
          0.014668590389192104,
          0.005312999244779348,
          0.006230378523468971,
          0.0063411821611225605,
          0.008770162239670753,
          0.008985928259789944,
          0.008985928259789944
         ],
         "yaxis": "y"
        },
        {
         "hovertemplate": "variable=b36<br>Epoch=%{x}<br>value=%{y}<extra></extra>",
         "legendgroup": "b36",
         "line": {
          "color": "#19d3f3",
          "dash": "solid"
         },
         "marker": {
          "symbol": "circle"
         },
         "mode": "lines",
         "name": "b36",
         "showlegend": true,
         "type": "scattergl",
         "x": [
          0,
          1,
          2,
          3,
          4,
          5,
          6,
          7,
          8,
          9,
          10,
          11,
          12,
          13,
          14,
          15,
          16,
          17,
          18,
          19,
          20,
          21,
          22,
          23,
          24,
          25,
          26,
          27,
          28,
          29,
          30,
          31,
          32,
          33,
          34,
          35,
          36,
          37,
          38,
          39,
          40,
          41,
          42,
          43,
          44,
          45,
          46,
          47,
          48,
          49
         ],
         "xaxis": "x",
         "y": [
          0.002222257200628519,
          0.02891167625784874,
          0.08869948983192444,
          0.08933257311582565,
          0.08591559529304504,
          0.09417044371366501,
          0.10321830958127975,
          0.10610810667276382,
          0.10688070952892303,
          0.10681649297475815,
          0.10580635815858841,
          0.1058039665222168,
          0.1058039665222168,
          0.10580231249332428,
          0.1023571640253067,
          0.10151592642068863,
          0.10575102269649506,
          0.10575046390295029,
          0.10575046390295029,
          0.10575046390295029,
          0.10575046390295029,
          0.10575046390295029,
          0.10575046390295029,
          0.10575046390295029,
          0.10575046390295029,
          0.10575046390295029,
          0.10575046390295029,
          0.10575050115585327,
          0.10833825170993805,
          0.11771558225154877,
          0.11771859228610992,
          0.11771859228610992,
          0.11771859228610992,
          0.11771859228610992,
          0.11771859228610992,
          0.11771859228610992,
          0.11771879345178604,
          0.11771879345178604,
          0.12698207795619965,
          0.127058207988739,
          0.12705937027931213,
          0.13097138702869415,
          0.13224010169506073,
          0.11981736123561859,
          0.12371525913476944,
          0.11686336994171143,
          0.11663255840539932,
          0.10810524225234985,
          0.10560273379087448,
          0.10560273379087448
         ],
         "yaxis": "y"
        },
        {
         "hovertemplate": "variable=b37<br>Epoch=%{x}<br>value=%{y}<extra></extra>",
         "legendgroup": "b37",
         "line": {
          "color": "#FF6692",
          "dash": "solid"
         },
         "marker": {
          "symbol": "circle"
         },
         "mode": "lines",
         "name": "b37",
         "showlegend": true,
         "type": "scattergl",
         "x": [
          0,
          1,
          2,
          3,
          4,
          5,
          6,
          7,
          8,
          9,
          10,
          11,
          12,
          13,
          14,
          15,
          16,
          17,
          18,
          19,
          20,
          21,
          22,
          23,
          24,
          25,
          26,
          27,
          28,
          29,
          30,
          31,
          32,
          33,
          34,
          35,
          36,
          37,
          38,
          39,
          40,
          41,
          42,
          43,
          44,
          45,
          46,
          47,
          48,
          49
         ],
         "xaxis": "x",
         "y": [
          -0.00042478213435970247,
          -0.02198939025402069,
          -0.08658211678266525,
          -0.11230144649744034,
          -0.12005826085805893,
          -0.1159442588686943,
          -0.10975619405508041,
          -0.10763191431760788,
          -0.1063009649515152,
          -0.1050548329949379,
          -0.10412793606519699,
          -0.10412697494029999,
          -0.10412697494029999,
          -0.10412640869617462,
          -0.10366930812597275,
          -0.10474124550819397,
          -0.10994264483451843,
          -0.10993477702140808,
          -0.10993477702140808,
          -0.10993477702140808,
          -0.10993477702140808,
          -0.10993477702140808,
          -0.10993477702140808,
          -0.10993477702140808,
          -0.10993477702140808,
          -0.10993477702140808,
          -0.10993477702140808,
          -0.10993447154760361,
          -0.10692176222801208,
          -0.10786312073469162,
          -0.10786377638578415,
          -0.10786377638578415,
          -0.10786377638578415,
          -0.10786377638578415,
          -0.10786377638578415,
          -0.10786377638578415,
          -0.10786382108926773,
          -0.10786382108926773,
          -0.10987325012683868,
          -0.1098841205239296,
          -0.10988428443670273,
          -0.10865989327430725,
          -0.10512132197618484,
          -0.10044524073600769,
          -0.10363344848155975,
          -0.10415761917829514,
          -0.10407095402479172,
          -0.10061229765415192,
          -0.09984007477760315,
          -0.09984007477760315
         ],
         "yaxis": "y"
        },
        {
         "hovertemplate": "variable=b38<br>Epoch=%{x}<br>value=%{y}<extra></extra>",
         "legendgroup": "b38",
         "line": {
          "color": "#B6E880",
          "dash": "solid"
         },
         "marker": {
          "symbol": "circle"
         },
         "mode": "lines",
         "name": "b38",
         "showlegend": true,
         "type": "scattergl",
         "x": [
          0,
          1,
          2,
          3,
          4,
          5,
          6,
          7,
          8,
          9,
          10,
          11,
          12,
          13,
          14,
          15,
          16,
          17,
          18,
          19,
          20,
          21,
          22,
          23,
          24,
          25,
          26,
          27,
          28,
          29,
          30,
          31,
          32,
          33,
          34,
          35,
          36,
          37,
          38,
          39,
          40,
          41,
          42,
          43,
          44,
          45,
          46,
          47,
          48,
          49
         ],
         "xaxis": "x",
         "y": [
          -0.0006628731498494744,
          0.019939390942454338,
          0.062431033700704575,
          0.06618548184633255,
          0.06331029534339905,
          0.048755183815956116,
          0.040979623794555664,
          0.03986749053001404,
          0.038635507225990295,
          0.03677019849419594,
          0.03389710560441017,
          0.0338921919465065,
          0.0338921919465065,
          0.03388923779129982,
          0.02715577930212021,
          0.023929249495267868,
          0.022376105189323425,
          0.022374268621206284,
          0.022374268621206284,
          0.022374268621206284,
          0.022374268621206284,
          0.022374268621206284,
          0.022374268621206284,
          0.022374268621206284,
          0.022374268621206284,
          0.022374268621206284,
          0.022374268621206284,
          0.022374125197529793,
          0.02058463729918003,
          0.019897013902664185,
          0.019897188991308212,
          0.019897188991308212,
          0.019897188991308212,
          0.019897188991308212,
          0.019897188991308212,
          0.019897188991308212,
          0.019897202029824257,
          0.019897202029824257,
          0.02068607695400715,
          0.020691310986876488,
          0.020691392943263054,
          0.018653161823749542,
          0.012092315591871738,
          -0.007581194397062063,
          -0.016741909086704254,
          -0.016672497615218163,
          -0.016786208376288414,
          -0.02125565893948078,
          -0.022787023335695267,
          -0.022787023335695267
         ],
         "yaxis": "y"
        },
        {
         "hovertemplate": "variable=b39<br>Epoch=%{x}<br>value=%{y}<extra></extra>",
         "legendgroup": "b39",
         "line": {
          "color": "#FF97FF",
          "dash": "solid"
         },
         "marker": {
          "symbol": "circle"
         },
         "mode": "lines",
         "name": "b39",
         "showlegend": true,
         "type": "scattergl",
         "x": [
          0,
          1,
          2,
          3,
          4,
          5,
          6,
          7,
          8,
          9,
          10,
          11,
          12,
          13,
          14,
          15,
          16,
          17,
          18,
          19,
          20,
          21,
          22,
          23,
          24,
          25,
          26,
          27,
          28,
          29,
          30,
          31,
          32,
          33,
          34,
          35,
          36,
          37,
          38,
          39,
          40,
          41,
          42,
          43,
          44,
          45,
          46,
          47,
          48,
          49
         ],
         "xaxis": "x",
         "y": [
          0.01836862973868847,
          0.04231102764606476,
          0.09107990562915802,
          0.11276117712259293,
          0.11445587873458862,
          0.10702988505363464,
          0.0965523049235344,
          0.0909813791513443,
          0.0867154598236084,
          0.08298744261264801,
          0.0789707601070404,
          0.07896501570940018,
          0.07896501570940018,
          0.07896171510219574,
          0.07070329040288925,
          0.06464391201734543,
          0.05485949665307999,
          0.05486356467008591,
          0.05486356467008591,
          0.05486356467008591,
          0.05486356467008591,
          0.05486356467008591,
          0.05486356467008591,
          0.05486356467008591,
          0.05486356467008591,
          0.05486356467008591,
          0.05486356467008591,
          0.05486353114247322,
          0.05252818018198013,
          0.0431533083319664,
          0.043149761855602264,
          0.043149761855602264,
          0.043149761855602264,
          0.043149761855602264,
          0.043149761855602264,
          0.043149761855602264,
          0.043149519711732864,
          0.043149519711732864,
          0.030437510460615158,
          0.030298199504613876,
          0.03029608353972435,
          0.013230515643954277,
          -0.00524564553052187,
          -0.006515598855912685,
          -0.03644557297229767,
          -0.041490305215120316,
          -0.04168017581105232,
          -0.05622030794620514,
          -0.06091463938355446,
          -0.06091463938355446
         ],
         "yaxis": "y"
        },
        {
         "hovertemplate": "variable=b40<br>Epoch=%{x}<br>value=%{y}<extra></extra>",
         "legendgroup": "b40",
         "line": {
          "color": "#FECB52",
          "dash": "solid"
         },
         "marker": {
          "symbol": "circle"
         },
         "mode": "lines",
         "name": "b40",
         "showlegend": true,
         "type": "scattergl",
         "x": [
          0,
          1,
          2,
          3,
          4,
          5,
          6,
          7,
          8,
          9,
          10,
          11,
          12,
          13,
          14,
          15,
          16,
          17,
          18,
          19,
          20,
          21,
          22,
          23,
          24,
          25,
          26,
          27,
          28,
          29,
          30,
          31,
          32,
          33,
          34,
          35,
          36,
          37,
          38,
          39,
          40,
          41,
          42,
          43,
          44,
          45,
          46,
          47,
          48,
          49
         ],
         "xaxis": "x",
         "y": [
          0.0006934621487744153,
          -0.009458082728087902,
          -0.0423908568918705,
          -0.061061788350343704,
          -0.07572358101606369,
          -0.08750827610492706,
          -0.08993256837129593,
          -0.08841297030448914,
          -0.08702172338962555,
          -0.08577113598585129,
          -0.08431874960660934,
          -0.08431608229875565,
          -0.08431608229875565,
          -0.08431407809257507,
          -0.07921480387449265,
          -0.07554658502340317,
          -0.07215762883424759,
          -0.07216048985719681,
          -0.07216048985719681,
          -0.07216048985719681,
          -0.07216048985719681,
          -0.07216048985719681,
          -0.07216048985719681,
          -0.07216048985719681,
          -0.07216048985719681,
          -0.07216048985719681,
          -0.07216048985719681,
          -0.07216055691242218,
          -0.07250428199768066,
          -0.07284221053123474,
          -0.07284240424633026,
          -0.07284240424633026,
          -0.07284240424633026,
          -0.07284240424633026,
          -0.07284240424633026,
          -0.07284240424633026,
          -0.07284241914749146,
          -0.07284241914749146,
          -0.07363655418157578,
          -0.07364730536937714,
          -0.07364746928215027,
          -0.07551894336938858,
          -0.07749618589878082,
          -0.08272289484739304,
          -0.11371529847383499,
          -0.1275896281003952,
          -0.12783268094062805,
          -0.14126582443714142,
          -0.1461179405450821,
          -0.1461179405450821
         ],
         "yaxis": "y"
        },
        {
         "hovertemplate": "variable=b41<br>Epoch=%{x}<br>value=%{y}<extra></extra>",
         "legendgroup": "b41",
         "line": {
          "color": "#636efa",
          "dash": "solid"
         },
         "marker": {
          "symbol": "circle"
         },
         "mode": "lines",
         "name": "b41",
         "showlegend": true,
         "type": "scattergl",
         "x": [
          0,
          1,
          2,
          3,
          4,
          5,
          6,
          7,
          8,
          9,
          10,
          11,
          12,
          13,
          14,
          15,
          16,
          17,
          18,
          19,
          20,
          21,
          22,
          23,
          24,
          25,
          26,
          27,
          28,
          29,
          30,
          31,
          32,
          33,
          34,
          35,
          36,
          37,
          38,
          39,
          40,
          41,
          42,
          43,
          44,
          45,
          46,
          47,
          48,
          49
         ],
         "xaxis": "x",
         "y": [
          0.0053644683212041855,
          -0.014103938825428486,
          -0.056866277009248734,
          -0.08730282634496689,
          -0.11043155938386917,
          -0.11705688387155533,
          -0.11612925678491592,
          -0.11501971632242203,
          -0.11410558968782425,
          -0.11290201544761658,
          -0.11096224188804626,
          -0.11095810681581497,
          -0.11095810681581497,
          -0.11095502972602844,
          -0.10329777747392654,
          -0.09818309545516968,
          -0.087821364402771,
          -0.08782802522182465,
          -0.08782802522182465,
          -0.08782802522182465,
          -0.08782802522182465,
          -0.08782802522182465,
          -0.08782802522182465,
          -0.08782802522182465,
          -0.08782802522182465,
          -0.08782802522182465,
          -0.08782802522182465,
          -0.0878281369805336,
          -0.08431916683912277,
          -0.06874588131904602,
          -0.06874118745326996,
          -0.06874118745326996,
          -0.06874118745326996,
          -0.06874118745326996,
          -0.06874118745326996,
          -0.06874118745326996,
          -0.06874088197946548,
          -0.06874088197946548,
          -0.05430725961923599,
          -0.05418686196208,
          -0.05418503284454346,
          -0.04406485706567764,
          -0.032259974628686905,
          -0.023432910442352295,
          0.008467437699437141,
          0.012055451981723309,
          0.012121087871491909,
          0.01896459236741066,
          0.021852873265743256,
          0.021852873265743256
         ],
         "yaxis": "y"
        },
        {
         "hovertemplate": "variable=b42<br>Epoch=%{x}<br>value=%{y}<extra></extra>",
         "legendgroup": "b42",
         "line": {
          "color": "#EF553B",
          "dash": "solid"
         },
         "marker": {
          "symbol": "circle"
         },
         "mode": "lines",
         "name": "b42",
         "showlegend": true,
         "type": "scattergl",
         "x": [
          0,
          1,
          2,
          3,
          4,
          5,
          6,
          7,
          8,
          9,
          10,
          11,
          12,
          13,
          14,
          15,
          16,
          17,
          18,
          19,
          20,
          21,
          22,
          23,
          24,
          25,
          26,
          27,
          28,
          29,
          30,
          31,
          32,
          33,
          34,
          35,
          36,
          37,
          38,
          39,
          40,
          41,
          42,
          43,
          44,
          45,
          46,
          47,
          48,
          49
         ],
         "xaxis": "x",
         "y": [
          -0.01583370380103588,
          -0.03510789945721626,
          -0.060333799570798874,
          -0.06444617360830307,
          -0.051801860332489014,
          -0.04656701907515526,
          -0.04907791316509247,
          -0.05035553127527237,
          -0.04973747953772545,
          -0.0481400191783905,
          -0.04474663734436035,
          -0.04474044591188431,
          -0.04474044591188431,
          -0.04473670572042465,
          -0.0350477509200573,
          -0.02807062305510044,
          -0.021348608657717705,
          -0.02135618031024933,
          -0.02135618031024933,
          -0.02135618031024933,
          -0.02135618031024933,
          -0.02135618031024933,
          -0.02135618031024933,
          -0.02135618031024933,
          -0.02135618031024933,
          -0.02135618031024933,
          -0.02135618031024933,
          -0.02135639078915119,
          -0.025900525972247124,
          -0.03122747875750065,
          -0.031228287145495415,
          -0.031228287145495415,
          -0.031228287145495415,
          -0.031228287145495415,
          -0.031228287145495415,
          -0.031228287145495415,
          -0.031228335574269295,
          -0.031228335574269295,
          -0.032101813703775406,
          -0.03207801654934883,
          -0.03207765892148018,
          -0.02279760129749775,
          -0.010082105174660683,
          0.005396363791078329,
          0.028381643816828728,
          0.03632473573088646,
          0.03658802807331085,
          0.048214931041002274,
          0.05141480267047882,
          0.05141480267047882
         ],
         "yaxis": "y"
        },
        {
         "hovertemplate": "variable=b43<br>Epoch=%{x}<br>value=%{y}<extra></extra>",
         "legendgroup": "b43",
         "line": {
          "color": "#00cc96",
          "dash": "solid"
         },
         "marker": {
          "symbol": "circle"
         },
         "mode": "lines",
         "name": "b43",
         "showlegend": true,
         "type": "scattergl",
         "x": [
          0,
          1,
          2,
          3,
          4,
          5,
          6,
          7,
          8,
          9,
          10,
          11,
          12,
          13,
          14,
          15,
          16,
          17,
          18,
          19,
          20,
          21,
          22,
          23,
          24,
          25,
          26,
          27,
          28,
          29,
          30,
          31,
          32,
          33,
          34,
          35,
          36,
          37,
          38,
          39,
          40,
          41,
          42,
          43,
          44,
          45,
          46,
          47,
          48,
          49
         ],
         "xaxis": "x",
         "y": [
          0.0016842233017086983,
          0.01692264713346958,
          0.05720198154449463,
          0.06625576317310333,
          0.07126021385192871,
          0.07991396635770798,
          0.08756329864263535,
          0.0905318483710289,
          0.09228623658418655,
          0.09364030510187149,
          0.09481418132781982,
          0.09481518715620041,
          0.09481518715620041,
          0.09481552988290787,
          0.09622542560100555,
          0.09804562479257584,
          0.10065574198961258,
          0.10065589845180511,
          0.10065589845180511,
          0.10065589845180511,
          0.10065589845180511,
          0.10065589845180511,
          0.10065589845180511,
          0.10065589845180511,
          0.10065589845180511,
          0.10065589845180511,
          0.10065589845180511,
          0.1006559506058693,
          0.10160467028617859,
          0.10427164286375046,
          0.10427256673574448,
          0.10427256673574448,
          0.10427256673574448,
          0.10427256673574448,
          0.10427256673574448,
          0.10427256673574448,
          0.10427262634038925,
          0.10427262634038925,
          0.10759124904870987,
          0.10763158649206161,
          0.10763219743967056,
          0.11355990916490555,
          0.12136764824390411,
          0.12966422736644745,
          0.1635727733373642,
          0.18084430694580078,
          0.1811206191778183,
          0.19565518200397491,
          0.2003011852502823,
          0.2003011852502823
         ],
         "yaxis": "y"
        },
        {
         "hovertemplate": "variable=b44<br>Epoch=%{x}<br>value=%{y}<extra></extra>",
         "legendgroup": "b44",
         "line": {
          "color": "#ab63fa",
          "dash": "solid"
         },
         "marker": {
          "symbol": "circle"
         },
         "mode": "lines",
         "name": "b44",
         "showlegend": true,
         "type": "scattergl",
         "x": [
          0,
          1,
          2,
          3,
          4,
          5,
          6,
          7,
          8,
          9,
          10,
          11,
          12,
          13,
          14,
          15,
          16,
          17,
          18,
          19,
          20,
          21,
          22,
          23,
          24,
          25,
          26,
          27,
          28,
          29,
          30,
          31,
          32,
          33,
          34,
          35,
          36,
          37,
          38,
          39,
          40,
          41,
          42,
          43,
          44,
          45,
          46,
          47,
          48,
          49
         ],
         "xaxis": "x",
         "y": [
          -0.0009003294981084764,
          -0.005824024323374033,
          -0.023244697600603104,
          -0.039709534496068954,
          -0.055690646171569824,
          -0.07478080689907074,
          -0.08450081944465637,
          -0.08632383495569229,
          -0.08758531510829926,
          -0.08884920179843903,
          -0.09017021954059601,
          -0.09017147123813629,
          -0.09017147123813629,
          -0.09017171710729599,
          -0.09032006561756134,
          -0.0894203782081604,
          -0.0839398130774498,
          -0.0839468464255333,
          -0.0839468464255333,
          -0.0839468464255333,
          -0.0839468464255333,
          -0.0839468464255333,
          -0.0839468464255333,
          -0.0839468464255333,
          -0.0839468464255333,
          -0.0839468464255333,
          -0.0839468464255333,
          -0.083947092294693,
          -0.08374064415693283,
          -0.07519153505563736,
          -0.07518857717514038,
          -0.07518857717514038,
          -0.07518857717514038,
          -0.07518857717514038,
          -0.07518857717514038,
          -0.07518857717514038,
          -0.07518838346004486,
          -0.07518838346004486,
          -0.0658523440361023,
          -0.06577575951814651,
          -0.0657745972275734,
          -0.05985131859779358,
          -0.055030010640621185,
          -0.057834770530462265,
          -0.03548645228147507,
          -0.02988605760037899,
          -0.029822198674082756,
          -0.023273497819900513,
          -0.020496759563684464,
          -0.020496759563684464
         ],
         "yaxis": "y"
        },
        {
         "hovertemplate": "variable=b45<br>Epoch=%{x}<br>value=%{y}<extra></extra>",
         "legendgroup": "b45",
         "line": {
          "color": "#FFA15A",
          "dash": "solid"
         },
         "marker": {
          "symbol": "circle"
         },
         "mode": "lines",
         "name": "b45",
         "showlegend": true,
         "type": "scattergl",
         "x": [
          0,
          1,
          2,
          3,
          4,
          5,
          6,
          7,
          8,
          9,
          10,
          11,
          12,
          13,
          14,
          15,
          16,
          17,
          18,
          19,
          20,
          21,
          22,
          23,
          24,
          25,
          26,
          27,
          28,
          29,
          30,
          31,
          32,
          33,
          34,
          35,
          36,
          37,
          38,
          39,
          40,
          41,
          42,
          43,
          44,
          45,
          46,
          47,
          48,
          49
         ],
         "xaxis": "x",
         "y": [
          0.0017411935841664672,
          0.022713130339980125,
          0.07196164131164551,
          0.0739324614405632,
          0.06768020242452621,
          0.06319863349199295,
          0.061717502772808075,
          0.06103581190109253,
          0.059528764337301254,
          0.05735919997096062,
          0.054058004170656204,
          0.054052408784627914,
          0.054052408784627914,
          0.05404892936348915,
          0.04530965909361839,
          0.039561279118061066,
          0.03436514735221863,
          0.034368764609098434,
          0.034368764609098434,
          0.034368764609098434,
          0.034368764609098434,
          0.034368764609098434,
          0.034368764609098434,
          0.034368764609098434,
          0.034368764609098434,
          0.034368764609098434,
          0.034368764609098434,
          0.03436882048845291,
          0.03490534797310829,
          0.034943681210279465,
          0.03494345396757126,
          0.03494345396757126,
          0.03494345396757126,
          0.03494345396757126,
          0.03494345396757126,
          0.03494345396757126,
          0.034943439066410065,
          0.034943439066410065,
          0.033345289528369904,
          0.03331473842263222,
          0.03331427648663521,
          0.026324577629566193,
          0.016156816855072975,
          0.0025477225426584482,
          -0.022387873381376266,
          -0.031025363132357597,
          -0.031202908605337143,
          -0.03889555111527443,
          -0.0411374568939209,
          -0.0411374568939209
         ],
         "yaxis": "y"
        },
        {
         "hovertemplate": "variable=b46<br>Epoch=%{x}<br>value=%{y}<extra></extra>",
         "legendgroup": "b46",
         "line": {
          "color": "#19d3f3",
          "dash": "solid"
         },
         "marker": {
          "symbol": "circle"
         },
         "mode": "lines",
         "name": "b46",
         "showlegend": true,
         "type": "scattergl",
         "x": [
          0,
          1,
          2,
          3,
          4,
          5,
          6,
          7,
          8,
          9,
          10,
          11,
          12,
          13,
          14,
          15,
          16,
          17,
          18,
          19,
          20,
          21,
          22,
          23,
          24,
          25,
          26,
          27,
          28,
          29,
          30,
          31,
          32,
          33,
          34,
          35,
          36,
          37,
          38,
          39,
          40,
          41,
          42,
          43,
          44,
          45,
          46,
          47,
          48,
          49
         ],
         "xaxis": "x",
         "y": [
          0.0010220182593911886,
          0.0021652071736752987,
          -0.0015342187834903598,
          -0.011025944724678993,
          -0.01849767006933689,
          -0.026867639273405075,
          -0.031190533190965652,
          -0.03251905366778374,
          -0.033911045640707016,
          -0.03558005765080452,
          -0.03806103765964508,
          -0.038065165281295776,
          -0.038065165281295776,
          -0.038067638874053955,
          -0.04481624811887741,
          -0.05023711547255516,
          -0.05741146579384804,
          -0.05740632861852646,
          -0.05740632861852646,
          -0.05740632861852646,
          -0.05740632861852646,
          -0.05740632861852646,
          -0.05740632861852646,
          -0.05740632861852646,
          -0.05740632861852646,
          -0.05740632861852646,
          -0.05740632861852646,
          -0.0574062243103981,
          -0.05629083141684532,
          -0.056550417095422745,
          -0.05655071511864662,
          -0.05655071511864662,
          -0.05655071511864662,
          -0.05655071511864662,
          -0.05655071511864662,
          -0.05655071511864662,
          -0.056550733745098114,
          -0.056550733745098114,
          -0.05785980448126793,
          -0.057877376675605774,
          -0.057877641171216965,
          -0.06033063679933548,
          -0.06336843222379684,
          -0.06531209498643875,
          -0.06421639025211334,
          -0.061480674892663956,
          -0.06141391769051552,
          -0.057838208973407745,
          -0.05649130046367645,
          -0.05649130046367645
         ],
         "yaxis": "y"
        },
        {
         "hovertemplate": "variable=b47<br>Epoch=%{x}<br>value=%{y}<extra></extra>",
         "legendgroup": "b47",
         "line": {
          "color": "#FF6692",
          "dash": "solid"
         },
         "marker": {
          "symbol": "circle"
         },
         "mode": "lines",
         "name": "b47",
         "showlegend": true,
         "type": "scattergl",
         "x": [
          0,
          1,
          2,
          3,
          4,
          5,
          6,
          7,
          8,
          9,
          10,
          11,
          12,
          13,
          14,
          15,
          16,
          17,
          18,
          19,
          20,
          21,
          22,
          23,
          24,
          25,
          26,
          27,
          28,
          29,
          30,
          31,
          32,
          33,
          34,
          35,
          36,
          37,
          38,
          39,
          40,
          41,
          42,
          43,
          44,
          45,
          46,
          47,
          48,
          49
         ],
         "xaxis": "x",
         "y": [
          -0.002207842655479908,
          -0.011165779083967209,
          -0.04887035861611366,
          -0.06700918823480606,
          -0.07276315242052078,
          -0.07655850052833557,
          -0.07479331642389297,
          -0.07288704067468643,
          -0.07179185748100281,
          -0.07122066617012024,
          -0.07132001221179962,
          -0.07132072746753693,
          -0.07132072746753693,
          -0.07132114470005035,
          -0.07244361191987991,
          -0.07271936535835266,
          -0.07277090847492218,
          -0.0727694109082222,
          -0.0727694109082222,
          -0.0727694109082222,
          -0.0727694109082222,
          -0.0727694109082222,
          -0.0727694109082222,
          -0.0727694109082222,
          -0.0727694109082222,
          -0.0727694109082222,
          -0.0727694109082222,
          -0.07276932895183563,
          -0.07151759415864944,
          -0.0701775774359703,
          -0.07017699629068375,
          -0.07017699629068375,
          -0.07017699629068375,
          -0.07017699629068375,
          -0.07017699629068375,
          -0.07017699629068375,
          -0.07017695903778076,
          -0.07017695903778076,
          -0.0677754208445549,
          -0.06774506717920303,
          -0.06774460524320602,
          -0.06426845490932465,
          -0.06188305467367172,
          -0.07220054417848587,
          -0.07605200260877609,
          -0.078347347676754,
          -0.07839379459619522,
          -0.07968584448099136,
          -0.0803743451833725,
          -0.0803743451833725
         ],
         "yaxis": "y"
        },
        {
         "hovertemplate": "variable=b48<br>Epoch=%{x}<br>value=%{y}<extra></extra>",
         "legendgroup": "b48",
         "line": {
          "color": "#B6E880",
          "dash": "solid"
         },
         "marker": {
          "symbol": "circle"
         },
         "mode": "lines",
         "name": "b48",
         "showlegend": true,
         "type": "scattergl",
         "x": [
          0,
          1,
          2,
          3,
          4,
          5,
          6,
          7,
          8,
          9,
          10,
          11,
          12,
          13,
          14,
          15,
          16,
          17,
          18,
          19,
          20,
          21,
          22,
          23,
          24,
          25,
          26,
          27,
          28,
          29,
          30,
          31,
          32,
          33,
          34,
          35,
          36,
          37,
          38,
          39,
          40,
          41,
          42,
          43,
          44,
          45,
          46,
          47,
          48,
          49
         ],
         "xaxis": "x",
         "y": [
          0.0068030995316803455,
          -0.01707920990884304,
          -0.0895080491900444,
          -0.09045739471912384,
          -0.08503726124763489,
          -0.08004173636436462,
          -0.0801079198718071,
          -0.08129899203777313,
          -0.08124414086341858,
          -0.08002559840679169,
          -0.0775386393070221,
          -0.07753349840641022,
          -0.07753349840641022,
          -0.07752993702888489,
          -0.06822270900011063,
          -0.061455462127923965,
          -0.05380452796816826,
          -0.053809888660907745,
          -0.053809888660907745,
          -0.053809888660907745,
          -0.053809888660907745,
          -0.053809888660907745,
          -0.053809888660907745,
          -0.053809888660907745,
          -0.053809888660907745,
          -0.053809888660907745,
          -0.053809888660907745,
          -0.0538099966943264,
          -0.05345519632101059,
          -0.05039381608366966,
          -0.050392746925354004,
          -0.050392746925354004,
          -0.050392746925354004,
          -0.050392746925354004,
          -0.050392746925354004,
          -0.050392746925354004,
          -0.05039267614483833,
          -0.05039267614483833,
          -0.04646218940615654,
          -0.04641954228281975,
          -0.046418894082307816,
          -0.03958247974514961,
          -0.029009610414505005,
          -0.010518180206418037,
          0.029062598943710327,
          0.041945938020944595,
          0.04212980344891548,
          0.05014990270137787,
          0.05307392030954361,
          0.05307392030954361
         ],
         "yaxis": "y"
        },
        {
         "hovertemplate": "variable=b49<br>Epoch=%{x}<br>value=%{y}<extra></extra>",
         "legendgroup": "b49",
         "line": {
          "color": "#FF97FF",
          "dash": "solid"
         },
         "marker": {
          "symbol": "circle"
         },
         "mode": "lines",
         "name": "b49",
         "showlegend": true,
         "type": "scattergl",
         "x": [
          0,
          1,
          2,
          3,
          4,
          5,
          6,
          7,
          8,
          9,
          10,
          11,
          12,
          13,
          14,
          15,
          16,
          17,
          18,
          19,
          20,
          21,
          22,
          23,
          24,
          25,
          26,
          27,
          28,
          29,
          30,
          31,
          32,
          33,
          34,
          35,
          36,
          37,
          38,
          39,
          40,
          41,
          42,
          43,
          44,
          45,
          46,
          47,
          48,
          49
         ],
         "xaxis": "x",
         "y": [
          0.00041679127025417984,
          -0.0031755687668919563,
          -0.01970108598470688,
          -0.03606747090816498,
          -0.053470928221940994,
          -0.07413504272699356,
          -0.08353058248758316,
          -0.08421774208545685,
          -0.08440400660037994,
          -0.08464085310697556,
          -0.08465467393398285,
          -0.0846538096666336,
          -0.0846538096666336,
          -0.08465270698070526,
          -0.08131738752126694,
          -0.07806607335805893,
          -0.07124368101358414,
          -0.0712517499923706,
          -0.0712517499923706,
          -0.0712517499923706,
          -0.0712517499923706,
          -0.0712517499923706,
          -0.0712517499923706,
          -0.0712517499923706,
          -0.0712517499923706,
          -0.0712517499923706,
          -0.0712517499923706,
          -0.0712520182132721,
          -0.07212910056114197,
          -0.06653143465518951,
          -0.06652939319610596,
          -0.06652939319610596,
          -0.06652939319610596,
          -0.06652939319610596,
          -0.06652939319610596,
          -0.06652939319610596,
          -0.06652925908565521,
          -0.06652925908565521,
          -0.05996236577630043,
          -0.059907905757427216,
          -0.05990707874298096,
          -0.055753130465745926,
          -0.05238031595945358,
          -0.056047145277261734,
          -0.05048203095793724,
          -0.05065702274441719,
          -0.050712600350379944,
          -0.052288398146629333,
          -0.05277793109416962,
          -0.05277793109416962
         ],
         "yaxis": "y"
        },
        {
         "hovertemplate": "variable=b50<br>Epoch=%{x}<br>value=%{y}<extra></extra>",
         "legendgroup": "b50",
         "line": {
          "color": "#FECB52",
          "dash": "solid"
         },
         "marker": {
          "symbol": "circle"
         },
         "mode": "lines",
         "name": "b50",
         "showlegend": true,
         "type": "scattergl",
         "x": [
          0,
          1,
          2,
          3,
          4,
          5,
          6,
          7,
          8,
          9,
          10,
          11,
          12,
          13,
          14,
          15,
          16,
          17,
          18,
          19,
          20,
          21,
          22,
          23,
          24,
          25,
          26,
          27,
          28,
          29,
          30,
          31,
          32,
          33,
          34,
          35,
          36,
          37,
          38,
          39,
          40,
          41,
          42,
          43,
          44,
          45,
          46,
          47,
          48,
          49
         ],
         "xaxis": "x",
         "y": [
          0.005810395814478397,
          0.013161887414753437,
          0.0453842394053936,
          0.043181050568819046,
          0.033447373658418655,
          0.03264835849404335,
          0.030909959226846695,
          0.027963552623987198,
          0.02474633790552616,
          0.02153140679001808,
          0.01763223670423031,
          0.017626173794269562,
          0.017626173794269562,
          0.01762245036661625,
          0.007445569150149822,
          -0.0012172800488770008,
          -0.011604297906160355,
          -0.011596819385886192,
          -0.011596819385886192,
          -0.011596819385886192,
          -0.011596819385886192,
          -0.011596819385886192,
          -0.011596819385886192,
          -0.011596819385886192,
          -0.011596819385886192,
          -0.011596819385886192,
          -0.011596819385886192,
          -0.011596661061048508,
          -0.01053085271269083,
          -0.012420229613780975,
          -0.012421581894159317,
          -0.012421581894159317,
          -0.012421581894159317,
          -0.012421581894159317,
          -0.012421581894159317,
          -0.012421581894159317,
          -0.012421675957739353,
          -0.012421675957739353,
          -0.018415680155158043,
          -0.018494678661227226,
          -0.018495876342058182,
          -0.030054884031414986,
          -0.043087977916002274,
          -0.04582051932811737,
          -0.06805131584405899,
          -0.07124700397253036,
          -0.07121013849973679,
          -0.0684155598282814,
          -0.0669255182147026,
          -0.0669255182147026
         ],
         "yaxis": "y"
        },
        {
         "hovertemplate": "variable=b51<br>Epoch=%{x}<br>value=%{y}<extra></extra>",
         "legendgroup": "b51",
         "line": {
          "color": "#636efa",
          "dash": "solid"
         },
         "marker": {
          "symbol": "circle"
         },
         "mode": "lines",
         "name": "b51",
         "showlegend": true,
         "type": "scattergl",
         "x": [
          0,
          1,
          2,
          3,
          4,
          5,
          6,
          7,
          8,
          9,
          10,
          11,
          12,
          13,
          14,
          15,
          16,
          17,
          18,
          19,
          20,
          21,
          22,
          23,
          24,
          25,
          26,
          27,
          28,
          29,
          30,
          31,
          32,
          33,
          34,
          35,
          36,
          37,
          38,
          39,
          40,
          41,
          42,
          43,
          44,
          45,
          46,
          47,
          48,
          49
         ],
         "xaxis": "x",
         "y": [
          -0.006209155078977346,
          0.013379053212702274,
          0.08213390409946442,
          0.08930280059576035,
          0.09312885254621506,
          0.08811070770025253,
          0.0803256407380104,
          0.07754367589950562,
          0.07606256008148193,
          0.07489670813083649,
          0.07447726279497147,
          0.0744771659374237,
          0.0744771659374237,
          0.07447706162929535,
          0.07479444891214371,
          0.07587019354104996,
          0.07789920270442963,
          0.07789263874292374,
          0.07789263874292374,
          0.07789263874292374,
          0.07789263874292374,
          0.07789263874292374,
          0.07789263874292374,
          0.07789263874292374,
          0.07789263874292374,
          0.07789263874292374,
          0.07789263874292374,
          0.07789234817028046,
          0.07206996530294418,
          0.06471775472164154,
          0.06471598893404007,
          0.06471598893404007,
          0.06471598893404007,
          0.06471598893404007,
          0.06471598893404007,
          0.06471598893404007,
          0.06471587717533112,
          0.06471587717533112,
          0.05938364565372467,
          0.05934077873826027,
          0.05934012681245804,
          0.055855780839920044,
          0.05104102939367294,
          0.04748959839344025,
          0.026050491258502007,
          0.01795538328588009,
          0.017825357615947723,
          0.009013114497065544,
          0.0055564530193805695,
          0.0055564530193805695
         ],
         "yaxis": "y"
        },
        {
         "hovertemplate": "variable=b52<br>Epoch=%{x}<br>value=%{y}<extra></extra>",
         "legendgroup": "b52",
         "line": {
          "color": "#EF553B",
          "dash": "solid"
         },
         "marker": {
          "symbol": "circle"
         },
         "mode": "lines",
         "name": "b52",
         "showlegend": true,
         "type": "scattergl",
         "x": [
          0,
          1,
          2,
          3,
          4,
          5,
          6,
          7,
          8,
          9,
          10,
          11,
          12,
          13,
          14,
          15,
          16,
          17,
          18,
          19,
          20,
          21,
          22,
          23,
          24,
          25,
          26,
          27,
          28,
          29,
          30,
          31,
          32,
          33,
          34,
          35,
          36,
          37,
          38,
          39,
          40,
          41,
          42,
          43,
          44,
          45,
          46,
          47,
          48,
          49
         ],
         "xaxis": "x",
         "y": [
          -0.001603516167961061,
          -0.015166698023676872,
          -0.05176937207579613,
          -0.06127162650227547,
          -0.05975361168384552,
          -0.05067235976457596,
          -0.04238447546958923,
          -0.0390172079205513,
          -0.03621469810605049,
          -0.03317458927631378,
          -0.029440587386488914,
          -0.02943478897213936,
          -0.02943478897213936,
          -0.02943124622106552,
          -0.020307715982198715,
          -0.01367809996008873,
          -0.00638195313513279,
          -0.006384602282196283,
          -0.006384602282196283,
          -0.006384602282196283,
          -0.006384602282196283,
          -0.006384602282196283,
          -0.006384602282196283,
          -0.006384602282196283,
          -0.006384602282196283,
          -0.006384602282196283,
          -0.006384602282196283,
          -0.006384570151567459,
          -0.005100334528833628,
          -0.0013573882170021534,
          -0.0013560140505433083,
          -0.0013560140505433083,
          -0.0013560140505433083,
          -0.0013560140505433083,
          -0.0013560140505433083,
          -0.0013560140505433083,
          -0.001355922082439065,
          -0.001355922082439065,
          0.0038229229394346476,
          0.0038851131685078144,
          0.0038860563654452562,
          0.012761427089571953,
          0.024446597322821617,
          0.03505378216505051,
          0.06287508457899094,
          0.07403991371393204,
          0.07425860315561295,
          0.08602005243301392,
          0.08966562151908875,
          0.08966562151908875
         ],
         "yaxis": "y"
        },
        {
         "hovertemplate": "variable=b53<br>Epoch=%{x}<br>value=%{y}<extra></extra>",
         "legendgroup": "b53",
         "line": {
          "color": "#00cc96",
          "dash": "solid"
         },
         "marker": {
          "symbol": "circle"
         },
         "mode": "lines",
         "name": "b53",
         "showlegend": true,
         "type": "scattergl",
         "x": [
          0,
          1,
          2,
          3,
          4,
          5,
          6,
          7,
          8,
          9,
          10,
          11,
          12,
          13,
          14,
          15,
          16,
          17,
          18,
          19,
          20,
          21,
          22,
          23,
          24,
          25,
          26,
          27,
          28,
          29,
          30,
          31,
          32,
          33,
          34,
          35,
          36,
          37,
          38,
          39,
          40,
          41,
          42,
          43,
          44,
          45,
          46,
          47,
          48,
          49
         ],
         "xaxis": "x",
         "y": [
          -0.0035094248596578836,
          -0.032875750213861465,
          -0.11654376238584518,
          -0.14527058601379395,
          -0.15299184620380402,
          -0.14738215506076813,
          -0.13857382535934448,
          -0.13484278321266174,
          -0.1322864443063736,
          -0.12993371486663818,
          -0.12755484879016876,
          -0.1275513470172882,
          -0.1275513470172882,
          -0.12754909694194794,
          -0.1220569834113121,
          -0.11780054867267609,
          -0.11105357855558395,
          -0.11105448007583618,
          -0.11105448007583618,
          -0.11105448007583618,
          -0.11105448007583618,
          -0.11105448007583618,
          -0.11105448007583618,
          -0.11105448007583618,
          -0.11105448007583618,
          -0.11105448007583618,
          -0.11105448007583618,
          -0.11105436086654663,
          -0.10761973261833191,
          -0.10011164098978043,
          -0.10010916739702225,
          -0.10010916739702225,
          -0.10010916739702225,
          -0.10010916739702225,
          -0.10010916739702225,
          -0.10010916739702225,
          -0.10010900348424911,
          -0.10010900348424911,
          -0.09149022400379181,
          -0.09139884263277054,
          -0.09139745682477951,
          -0.0798325166106224,
          -0.06576492637395859,
          -0.06123417988419533,
          -0.03472844138741493,
          -0.030076252296566963,
          -0.029923753812909126,
          -0.019875243306159973,
          -0.016586188226938248,
          -0.016586188226938248
         ],
         "yaxis": "y"
        },
        {
         "hovertemplate": "variable=b54<br>Epoch=%{x}<br>value=%{y}<extra></extra>",
         "legendgroup": "b54",
         "line": {
          "color": "#ab63fa",
          "dash": "solid"
         },
         "marker": {
          "symbol": "circle"
         },
         "mode": "lines",
         "name": "b54",
         "showlegend": true,
         "type": "scattergl",
         "x": [
          0,
          1,
          2,
          3,
          4,
          5,
          6,
          7,
          8,
          9,
          10,
          11,
          12,
          13,
          14,
          15,
          16,
          17,
          18,
          19,
          20,
          21,
          22,
          23,
          24,
          25,
          26,
          27,
          28,
          29,
          30,
          31,
          32,
          33,
          34,
          35,
          36,
          37,
          38,
          39,
          40,
          41,
          42,
          43,
          44,
          45,
          46,
          47,
          48,
          49
         ],
         "xaxis": "x",
         "y": [
          -0.0036394044291228056,
          -0.042225103825330734,
          -0.14333359897136688,
          -0.14961130917072296,
          -0.14874610304832458,
          -0.15786892175674438,
          -0.16806291043758392,
          -0.17205026745796204,
          -0.1736786812543869,
          -0.17422983050346375,
          -0.17357376217842102,
          -0.17357076704502106,
          -0.17357076704502106,
          -0.17356827855110168,
          -0.16716523468494415,
          -0.16257239878177643,
          -0.15416640043258667,
          -0.1541760116815567,
          -0.1541760116815567,
          -0.1541760116815567,
          -0.1541760116815567,
          -0.1541760116815567,
          -0.1541760116815567,
          -0.1541760116815567,
          -0.1541760116815567,
          -0.1541760116815567,
          -0.1541760116815567,
          -0.15417630970478058,
          -0.1551697552204132,
          -0.15105357766151428,
          -0.15105204284191132,
          -0.15105204284191132,
          -0.15105204284191132,
          -0.15105204284191132,
          -0.15105204284191132,
          -0.15105204284191132,
          -0.15105193853378296,
          -0.15105193853378296,
          -0.14602892100811005,
          -0.14598947763442993,
          -0.14598888158798218,
          -0.14268530905246735,
          -0.13910053670406342,
          -0.13580217957496643,
          -0.13375522196292877,
          -0.14629380404949188,
          -0.14656460285186768,
          -0.16105137765407562,
          -0.16526928544044495,
          -0.16526928544044495
         ],
         "yaxis": "y"
        },
        {
         "hovertemplate": "variable=b55<br>Epoch=%{x}<br>value=%{y}<extra></extra>",
         "legendgroup": "b55",
         "line": {
          "color": "#FFA15A",
          "dash": "solid"
         },
         "marker": {
          "symbol": "circle"
         },
         "mode": "lines",
         "name": "b55",
         "showlegend": true,
         "type": "scattergl",
         "x": [
          0,
          1,
          2,
          3,
          4,
          5,
          6,
          7,
          8,
          9,
          10,
          11,
          12,
          13,
          14,
          15,
          16,
          17,
          18,
          19,
          20,
          21,
          22,
          23,
          24,
          25,
          26,
          27,
          28,
          29,
          30,
          31,
          32,
          33,
          34,
          35,
          36,
          37,
          38,
          39,
          40,
          41,
          42,
          43,
          44,
          45,
          46,
          47,
          48,
          49
         ],
         "xaxis": "x",
         "y": [
          -0.0009226137772202492,
          -0.009496087208390236,
          -0.0325656495988369,
          -0.038955818861722946,
          -0.040451522916555405,
          -0.04019870236515999,
          -0.04001491144299507,
          -0.040195658802986145,
          -0.040319737046957016,
          -0.04038463160395622,
          -0.04053238779306412,
          -0.040532685816287994,
          -0.040532685816287994,
          -0.04053287208080292,
          -0.04150013625621796,
          -0.04303815960884094,
          -0.047703325748443604,
          -0.047699280083179474,
          -0.047699280083179474,
          -0.047699280083179474,
          -0.047699280083179474,
          -0.047699280083179474,
          -0.047699280083179474,
          -0.047699280083179474,
          -0.047699280083179474,
          -0.047699280083179474,
          -0.047699280083179474,
          -0.04769916087388992,
          -0.047809846699237823,
          -0.052697859704494476,
          -0.052699603140354156,
          -0.052699603140354156,
          -0.052699603140354156,
          -0.052699603140354156,
          -0.052699603140354156,
          -0.052699603140354156,
          -0.05269971862435341,
          -0.05269971862435341,
          -0.05838271975517273,
          -0.058433473110198975,
          -0.058434244245290756,
          -0.0626872256398201,
          -0.06651134043931961,
          -0.06753190606832504,
          -0.09043831378221512,
          -0.09775155037641525,
          -0.09781072288751602,
          -0.10211243480443954,
          -0.10376117378473282,
          -0.10376117378473282
         ],
         "yaxis": "y"
        },
        {
         "hovertemplate": "variable=b56<br>Epoch=%{x}<br>value=%{y}<extra></extra>",
         "legendgroup": "b56",
         "line": {
          "color": "#19d3f3",
          "dash": "solid"
         },
         "marker": {
          "symbol": "circle"
         },
         "mode": "lines",
         "name": "b56",
         "showlegend": true,
         "type": "scattergl",
         "x": [
          0,
          1,
          2,
          3,
          4,
          5,
          6,
          7,
          8,
          9,
          10,
          11,
          12,
          13,
          14,
          15,
          16,
          17,
          18,
          19,
          20,
          21,
          22,
          23,
          24,
          25,
          26,
          27,
          28,
          29,
          30,
          31,
          32,
          33,
          34,
          35,
          36,
          37,
          38,
          39,
          40,
          41,
          42,
          43,
          44,
          45,
          46,
          47,
          48,
          49
         ],
         "xaxis": "x",
         "y": [
          0.0049532088451087475,
          0.03376172482967377,
          0.13182374835014343,
          0.18125228583812714,
          0.22092008590698242,
          0.27452313899993896,
          0.30206817388534546,
          0.3065085709095001,
          0.3089058995246887,
          0.3118111789226532,
          0.31546178460121155,
          0.3154659867286682,
          0.3154659867286682,
          0.3154674172401428,
          0.3196289539337158,
          0.3226299285888672,
          0.32239753007888794,
          0.3224034607410431,
          0.3224034607410431,
          0.3224034607410431,
          0.3224034607410431,
          0.3224034607410431,
          0.3224034607410431,
          0.3224034607410431,
          0.3224034607410431,
          0.3224034607410431,
          0.3224034607410431,
          0.32240375876426697,
          0.3204934298992157,
          0.3075096607208252,
          0.30750545859336853,
          0.30750545859336853,
          0.30750545859336853,
          0.30750545859336853,
          0.30750545859336853,
          0.30750545859336853,
          0.30750519037246704,
          0.30750519037246704,
          0.2943897247314453,
          0.29428818821907043,
          0.2942866384983063,
          0.2870497405529022,
          0.28184595704078674,
          0.2923625111579895,
          0.27938175201416016,
          0.2814691364765167,
          0.28152117133140564,
          0.2790486812591553,
          0.27708369493484497,
          0.27708369493484497
         ],
         "yaxis": "y"
        },
        {
         "hovertemplate": "variable=b57<br>Epoch=%{x}<br>value=%{y}<extra></extra>",
         "legendgroup": "b57",
         "line": {
          "color": "#FF6692",
          "dash": "solid"
         },
         "marker": {
          "symbol": "circle"
         },
         "mode": "lines",
         "name": "b57",
         "showlegend": true,
         "type": "scattergl",
         "x": [
          0,
          1,
          2,
          3,
          4,
          5,
          6,
          7,
          8,
          9,
          10,
          11,
          12,
          13,
          14,
          15,
          16,
          17,
          18,
          19,
          20,
          21,
          22,
          23,
          24,
          25,
          26,
          27,
          28,
          29,
          30,
          31,
          32,
          33,
          34,
          35,
          36,
          37,
          38,
          39,
          40,
          41,
          42,
          43,
          44,
          45,
          46,
          47,
          48,
          49
         ],
         "xaxis": "x",
         "y": [
          0.000020444525944185443,
          0.01797783561050892,
          0.07124602049589157,
          0.07496288418769836,
          0.07463352382183075,
          0.07503128796815872,
          0.07462188601493835,
          0.07454080879688263,
          0.07436084747314453,
          0.07405219972133636,
          0.07378435879945755,
          0.07378372550010681,
          0.07378372550010681,
          0.07378318160772324,
          0.07251875847578049,
          0.07202929258346558,
          0.07089200615882874,
          0.0708913654088974,
          0.0708913654088974,
          0.0708913654088974,
          0.0708913654088974,
          0.0708913654088974,
          0.0708913654088974,
          0.0708913654088974,
          0.0708913654088974,
          0.0708913654088974,
          0.0708913654088974,
          0.07089130580425262,
          0.06800463795661926,
          0.0616387277841568,
          0.06163688004016876,
          0.06163688004016876,
          0.06163688004016876,
          0.06163688004016876,
          0.06163688004016876,
          0.06163688004016876,
          0.06163675710558891,
          0.06163675710558891,
          0.05570884048938751,
          0.05565781891345978,
          0.0556570440530777,
          0.05126311630010605,
          0.0466623492538929,
          0.045530766248703,
          0.02928364835679531,
          0.029044294729828835,
          0.029100073501467705,
          0.031190471723675728,
          0.03151916339993477,
          0.03151916339993477
         ],
         "yaxis": "y"
        },
        {
         "hovertemplate": "variable=b58<br>Epoch=%{x}<br>value=%{y}<extra></extra>",
         "legendgroup": "b58",
         "line": {
          "color": "#B6E880",
          "dash": "solid"
         },
         "marker": {
          "symbol": "circle"
         },
         "mode": "lines",
         "name": "b58",
         "showlegend": true,
         "type": "scattergl",
         "x": [
          0,
          1,
          2,
          3,
          4,
          5,
          6,
          7,
          8,
          9,
          10,
          11,
          12,
          13,
          14,
          15,
          16,
          17,
          18,
          19,
          20,
          21,
          22,
          23,
          24,
          25,
          26,
          27,
          28,
          29,
          30,
          31,
          32,
          33,
          34,
          35,
          36,
          37,
          38,
          39,
          40,
          41,
          42,
          43,
          44,
          45,
          46,
          47,
          48,
          49
         ],
         "xaxis": "x",
         "y": [
          0.001132647623308003,
          0.00937035121023655,
          0.03322140872478485,
          0.04211729019880295,
          0.04889106750488281,
          0.05619304999709129,
          0.05968150496482849,
          0.06017781049013138,
          0.060401346534490585,
          0.060660749673843384,
          0.060910604894161224,
          0.0609106607735157,
          0.0609106607735157,
          0.06091047450900078,
          0.06044536828994751,
          0.06006351858377457,
          0.05879925936460495,
          0.05880095437169075,
          0.05880095437169075,
          0.05880095437169075,
          0.05880095437169075,
          0.05880095437169075,
          0.05880095437169075,
          0.05880095437169075,
          0.05880095437169075,
          0.05880095437169075,
          0.05880095437169075,
          0.05880101025104523,
          0.05862396955490112,
          0.05672672763466835,
          0.05672614276409149,
          0.05672614276409149,
          0.05672614276409149,
          0.05672614276409149,
          0.05672614276409149,
          0.05672614276409149,
          0.05672610551118851,
          0.05672610551118851,
          0.05500030890107155,
          0.05498861148953438,
          0.05498843267560005,
          0.054512154310941696,
          0.05469045415520668,
          0.059772640466690063,
          0.07230363041162491,
          0.08278097212314606,
          0.08297639340162277,
          0.09266193956136703,
          0.09577275812625885,
          0.09577275812625885
         ],
         "yaxis": "y"
        },
        {
         "hovertemplate": "variable=b59<br>Epoch=%{x}<br>value=%{y}<extra></extra>",
         "legendgroup": "b59",
         "line": {
          "color": "#FF97FF",
          "dash": "solid"
         },
         "marker": {
          "symbol": "circle"
         },
         "mode": "lines",
         "name": "b59",
         "showlegend": true,
         "type": "scattergl",
         "x": [
          0,
          1,
          2,
          3,
          4,
          5,
          6,
          7,
          8,
          9,
          10,
          11,
          12,
          13,
          14,
          15,
          16,
          17,
          18,
          19,
          20,
          21,
          22,
          23,
          24,
          25,
          26,
          27,
          28,
          29,
          30,
          31,
          32,
          33,
          34,
          35,
          36,
          37,
          38,
          39,
          40,
          41,
          42,
          43,
          44,
          45,
          46,
          47,
          48,
          49
         ],
         "xaxis": "x",
         "y": [
          -0.002514535328373313,
          -0.03270891681313515,
          -0.10774680972099304,
          -0.12330105900764465,
          -0.12490431219339371,
          -0.12054913491010666,
          -0.11776462942361832,
          -0.11784263700246811,
          -0.1180810034275055,
          -0.11825326830148697,
          -0.11867798119783401,
          -0.11867883056402206,
          -0.11867883056402206,
          -0.11867937445640564,
          -0.12113899737596512,
          -0.1242612674832344,
          -0.13044588267803192,
          -0.1304389238357544,
          -0.1304389238357544,
          -0.1304389238357544,
          -0.1304389238357544,
          -0.1304389238357544,
          -0.1304389238357544,
          -0.1304389238357544,
          -0.1304389238357544,
          -0.1304389238357544,
          -0.1304389238357544,
          -0.1304386705160141,
          -0.12876932322978973,
          -0.13292889297008514,
          -0.13293060660362244,
          -0.13293060660362244,
          -0.13293060660362244,
          -0.13293060660362244,
          -0.13293060660362244,
          -0.13293060660362244,
          -0.132930725812912,
          -0.132930725812912,
          -0.1386948525905609,
          -0.13874827325344086,
          -0.13874907791614532,
          -0.14319153130054474,
          -0.1467835009098053,
          -0.14896515011787415,
          -0.18312500417232513,
          -0.20296445488929749,
          -0.20319709181785583,
          -0.21679668128490448,
          -0.22142843902111053,
          -0.22142843902111053
         ],
         "yaxis": "y"
        },
        {
         "hovertemplate": "variable=b60<br>Epoch=%{x}<br>value=%{y}<extra></extra>",
         "legendgroup": "b60",
         "line": {
          "color": "#FECB52",
          "dash": "solid"
         },
         "marker": {
          "symbol": "circle"
         },
         "mode": "lines",
         "name": "b60",
         "showlegend": true,
         "type": "scattergl",
         "x": [
          0,
          1,
          2,
          3,
          4,
          5,
          6,
          7,
          8,
          9,
          10,
          11,
          12,
          13,
          14,
          15,
          16,
          17,
          18,
          19,
          20,
          21,
          22,
          23,
          24,
          25,
          26,
          27,
          28,
          29,
          30,
          31,
          32,
          33,
          34,
          35,
          36,
          37,
          38,
          39,
          40,
          41,
          42,
          43,
          44,
          45,
          46,
          47,
          48,
          49
         ],
         "xaxis": "x",
         "y": [
          -0.0020439308136701584,
          -0.012952860444784164,
          -0.03604506328701973,
          -0.022301601245999336,
          -0.003105818061158061,
          0.02246966026723385,
          0.03698398172855377,
          0.04097175598144531,
          0.04451768100261688,
          0.04854793846607208,
          0.05384648218750954,
          0.05385471135377884,
          0.05385471135377884,
          0.05385945737361908,
          0.06647014617919922,
          0.07641071081161499,
          0.09007564932107925,
          0.09006872028112411,
          0.09006872028112411,
          0.09006872028112411,
          0.09006872028112411,
          0.09006872028112411,
          0.09006872028112411,
          0.09006872028112411,
          0.09006872028112411,
          0.09006872028112411,
          0.09006872028112411,
          0.09006866812705994,
          0.09033030271530151,
          0.09444240480661392,
          0.09444418549537659,
          0.09444418549537659,
          0.09444418549537659,
          0.09444418549537659,
          0.09444418549537659,
          0.09444418549537659,
          0.09444430470466614,
          0.09444430470466614,
          0.10132737457752228,
          0.10141098499298096,
          0.10141225159168243,
          0.11329569667577744,
          0.12844713032245636,
          0.1425754725933075,
          0.1804960072040558,
          0.18991844356060028,
          0.19007444381713867,
          0.19841180741786957,
          0.2010231912136078,
          0.2010231912136078
         ],
         "yaxis": "y"
        },
        {
         "hovertemplate": "variable=b61<br>Epoch=%{x}<br>value=%{y}<extra></extra>",
         "legendgroup": "b61",
         "line": {
          "color": "#636efa",
          "dash": "solid"
         },
         "marker": {
          "symbol": "circle"
         },
         "mode": "lines",
         "name": "b61",
         "showlegend": true,
         "type": "scattergl",
         "x": [
          0,
          1,
          2,
          3,
          4,
          5,
          6,
          7,
          8,
          9,
          10,
          11,
          12,
          13,
          14,
          15,
          16,
          17,
          18,
          19,
          20,
          21,
          22,
          23,
          24,
          25,
          26,
          27,
          28,
          29,
          30,
          31,
          32,
          33,
          34,
          35,
          36,
          37,
          38,
          39,
          40,
          41,
          42,
          43,
          44,
          45,
          46,
          47,
          48,
          49
         ],
         "xaxis": "x",
         "y": [
          0.000554682279471308,
          0.006607110146433115,
          0.02279726229608059,
          0.026316605508327484,
          0.027248144149780273,
          0.030038874596357346,
          0.03322160243988037,
          0.035164982080459595,
          0.036868005990982056,
          0.038753580302000046,
          0.04143775254487991,
          0.04144233465194702,
          0.04144233465194702,
          0.04144527390599251,
          0.049998048692941666,
          0.05757112428545952,
          0.07015400379896164,
          0.07014450430870056,
          0.07014450430870056,
          0.07014450430870056,
          0.07014450430870056,
          0.07014450430870056,
          0.07014450430870056,
          0.07014450430870056,
          0.07014450430870056,
          0.07014450430870056,
          0.07014450430870056,
          0.07014428079128265,
          0.06975334882736206,
          0.0774628296494484,
          0.07746581733226776,
          0.07746581733226776,
          0.07746581733226776,
          0.07746581733226776,
          0.07746581733226776,
          0.07746581733226776,
          0.07746601849794388,
          0.07746601849794388,
          0.0878591388463974,
          0.08796456456184387,
          0.08796616643667221,
          0.09984506666660309,
          0.11330393701791763,
          0.12293271720409393,
          0.17417822778224945,
          0.1956627517938614,
          0.19598862528800964,
          0.21507807075977325,
          0.22147582471370697,
          0.22147582471370697
         ],
         "yaxis": "y"
        },
        {
         "hovertemplate": "variable=b62<br>Epoch=%{x}<br>value=%{y}<extra></extra>",
         "legendgroup": "b62",
         "line": {
          "color": "#EF553B",
          "dash": "solid"
         },
         "marker": {
          "symbol": "circle"
         },
         "mode": "lines",
         "name": "b62",
         "showlegend": true,
         "type": "scattergl",
         "x": [
          0,
          1,
          2,
          3,
          4,
          5,
          6,
          7,
          8,
          9,
          10,
          11,
          12,
          13,
          14,
          15,
          16,
          17,
          18,
          19,
          20,
          21,
          22,
          23,
          24,
          25,
          26,
          27,
          28,
          29,
          30,
          31,
          32,
          33,
          34,
          35,
          36,
          37,
          38,
          39,
          40,
          41,
          42,
          43,
          44,
          45,
          46,
          47,
          48,
          49
         ],
         "xaxis": "x",
         "y": [
          0.0017145865131169558,
          0.015496544539928436,
          0.055861663073301315,
          0.07170504331588745,
          0.08096005022525787,
          0.09016203135251999,
          0.0944753885269165,
          0.09520809352397919,
          0.09558619558811188,
          0.09601704776287079,
          0.0965857058763504,
          0.09658630937337875,
          0.09658630937337875,
          0.0965864360332489,
          0.09727539122104645,
          0.09815667569637299,
          0.09920268505811691,
          0.09920228272676468,
          0.09920228272676468,
          0.09920228272676468,
          0.09920228272676468,
          0.09920228272676468,
          0.09920228272676468,
          0.09920228272676468,
          0.09920228272676468,
          0.09920228272676468,
          0.09920228272676468,
          0.09920227527618408,
          0.09815148264169693,
          0.09574800729751587,
          0.09574734419584274,
          0.09574734419584274,
          0.09574734419584274,
          0.09574734419584274,
          0.09574734419584274,
          0.09574734419584274,
          0.09574729949235916,
          0.09574729949235916,
          0.09378800541162491,
          0.09377435594797134,
          0.09377414733171463,
          0.09304043650627136,
          0.09269591420888901,
          0.09638342261314392,
          0.10496790707111359,
          0.11336543411016464,
          0.11350534111261368,
          0.12011556327342987,
          0.12210685759782791,
          0.12210685759782791
         ],
         "yaxis": "y"
        },
        {
         "hovertemplate": "variable=b63<br>Epoch=%{x}<br>value=%{y}<extra></extra>",
         "legendgroup": "b63",
         "line": {
          "color": "#00cc96",
          "dash": "solid"
         },
         "marker": {
          "symbol": "circle"
         },
         "mode": "lines",
         "name": "b63",
         "showlegend": true,
         "type": "scattergl",
         "x": [
          0,
          1,
          2,
          3,
          4,
          5,
          6,
          7,
          8,
          9,
          10,
          11,
          12,
          13,
          14,
          15,
          16,
          17,
          18,
          19,
          20,
          21,
          22,
          23,
          24,
          25,
          26,
          27,
          28,
          29,
          30,
          31,
          32,
          33,
          34,
          35,
          36,
          37,
          38,
          39,
          40,
          41,
          42,
          43,
          44,
          45,
          46,
          47,
          48,
          49
         ],
         "xaxis": "x",
         "y": [
          0.00048657003208063543,
          0.004325279034674168,
          0.014765553176403046,
          0.013666394166648388,
          0.00707927905023098,
          -0.00544798094779253,
          -0.014155978336930275,
          -0.016954151913523674,
          -0.01919172890484333,
          -0.021578924730420113,
          -0.02446197159588337,
          -0.024466238915920258,
          -0.024466238915920258,
          -0.024468693882226944,
          -0.03090253844857216,
          -0.03571976721286774,
          -0.04092381149530411,
          -0.04092252627015114,
          -0.04092252627015114,
          -0.04092252627015114,
          -0.04092252627015114,
          -0.04092252627015114,
          -0.04092252627015114,
          -0.04092252627015114,
          -0.04092252627015114,
          -0.04092252627015114,
          -0.04092252627015114,
          -0.04092257842421532,
          -0.04184635728597641,
          -0.044172823429107666,
          -0.04417375102639198,
          -0.04417375102639198,
          -0.04417375102639198,
          -0.04417375102639198,
          -0.04417375102639198,
          -0.04417375102639198,
          -0.04417381435632706,
          -0.04417381435632706,
          -0.04790564626455307,
          -0.047954827547073364,
          -0.04795557260513306,
          -0.05582964047789574,
          -0.06647928804159164,
          -0.07842951267957687,
          -0.11378145962953568,
          -0.13109105825424194,
          -0.13142386078834534,
          -0.1491466462612152,
          -0.15485559403896332,
          -0.15485559403896332
         ],
         "yaxis": "y"
        },
        {
         "hovertemplate": "variable=b64<br>Epoch=%{x}<br>value=%{y}<extra></extra>",
         "legendgroup": "b64",
         "line": {
          "color": "#ab63fa",
          "dash": "solid"
         },
         "marker": {
          "symbol": "circle"
         },
         "mode": "lines",
         "name": "b64",
         "showlegend": true,
         "type": "scattergl",
         "x": [
          0,
          1,
          2,
          3,
          4,
          5,
          6,
          7,
          8,
          9,
          10,
          11,
          12,
          13,
          14,
          15,
          16,
          17,
          18,
          19,
          20,
          21,
          22,
          23,
          24,
          25,
          26,
          27,
          28,
          29,
          30,
          31,
          32,
          33,
          34,
          35,
          36,
          37,
          38,
          39,
          40,
          41,
          42,
          43,
          44,
          45,
          46,
          47,
          48,
          49
         ],
         "xaxis": "x",
         "y": [
          0.0009254438919015229,
          0.006376176606863737,
          0.023202048614621162,
          0.034090474247932434,
          0.04990483820438385,
          0.07628647983074188,
          0.09274740517139435,
          0.09694293141365051,
          0.09976721554994583,
          0.10262632369995117,
          0.10568587481975555,
          0.10568945854902267,
          0.10568945854902267,
          0.10569100826978683,
          0.10919498652219772,
          0.11095959693193436,
          0.10719001293182373,
          0.10719778388738632,
          0.10719778388738632,
          0.10719778388738632,
          0.10719778388738632,
          0.10719778388738632,
          0.10719778388738632,
          0.10719778388738632,
          0.10719778388738632,
          0.10719778388738632,
          0.10719778388738632,
          0.10719811171293259,
          0.1073945090174675,
          0.09782864153385162,
          0.09782537072896957,
          0.09782537072896957,
          0.09782537072896957,
          0.09782537072896957,
          0.09782537072896957,
          0.09782537072896957,
          0.09782515466213226,
          0.09782515466213226,
          0.08778135478496552,
          0.0877065435051918,
          0.08770540356636047,
          0.08368095755577087,
          0.08253785967826843,
          0.09213443845510483,
          0.08009635657072067,
          0.08338844776153564,
          0.08350830525159836,
          0.08540177345275879,
          0.08497775346040726,
          0.08497775346040726
         ],
         "yaxis": "y"
        },
        {
         "hovertemplate": "variable=b65<br>Epoch=%{x}<br>value=%{y}<extra></extra>",
         "legendgroup": "b65",
         "line": {
          "color": "#FFA15A",
          "dash": "solid"
         },
         "marker": {
          "symbol": "circle"
         },
         "mode": "lines",
         "name": "b65",
         "showlegend": true,
         "type": "scattergl",
         "x": [
          0,
          1,
          2,
          3,
          4,
          5,
          6,
          7,
          8,
          9,
          10,
          11,
          12,
          13,
          14,
          15,
          16,
          17,
          18,
          19,
          20,
          21,
          22,
          23,
          24,
          25,
          26,
          27,
          28,
          29,
          30,
          31,
          32,
          33,
          34,
          35,
          36,
          37,
          38,
          39,
          40,
          41,
          42,
          43,
          44,
          45,
          46,
          47,
          48,
          49
         ],
         "xaxis": "x",
         "y": [
          -0.001216088654473424,
          -0.01689901202917099,
          -0.04941451922059059,
          -0.04700911045074463,
          -0.040004801005125046,
          -0.0334274023771286,
          -0.032471951097249985,
          -0.03392232581973076,
          -0.0351298563182354,
          -0.03616514801979065,
          -0.037377290427684784,
          -0.03737930580973625,
          -0.03737930580973625,
          -0.03738067299127579,
          -0.041443031281232834,
          -0.045118387788534164,
          -0.049612026661634445,
          -0.04960789531469345,
          -0.04960789531469345,
          -0.04960789531469345,
          -0.04960789531469345,
          -0.04960789531469345,
          -0.04960789531469345,
          -0.04960789531469345,
          -0.04960789531469345,
          -0.04960789531469345,
          -0.04960789531469345,
          -0.0496077686548233,
          -0.048919420689344406,
          -0.05131370201706886,
          -0.051314640790224075,
          -0.051314640790224075,
          -0.051314640790224075,
          -0.051314640790224075,
          -0.051314640790224075,
          -0.051314640790224075,
          -0.05131470412015915,
          -0.05131470412015915,
          -0.05456232652068138,
          -0.05459515377879143,
          -0.05459564924240112,
          -0.05796954780817032,
          -0.061739757657051086,
          -0.06482461094856262,
          -0.08360867947340012,
          -0.09800197929143906,
          -0.09820165485143661,
          -0.10890691727399826,
          -0.11216705292463303,
          -0.11216705292463303
         ],
         "yaxis": "y"
        },
        {
         "hovertemplate": "variable=b66<br>Epoch=%{x}<br>value=%{y}<extra></extra>",
         "legendgroup": "b66",
         "line": {
          "color": "#19d3f3",
          "dash": "solid"
         },
         "marker": {
          "symbol": "circle"
         },
         "mode": "lines",
         "name": "b66",
         "showlegend": true,
         "type": "scattergl",
         "x": [
          0,
          1,
          2,
          3,
          4,
          5,
          6,
          7,
          8,
          9,
          10,
          11,
          12,
          13,
          14,
          15,
          16,
          17,
          18,
          19,
          20,
          21,
          22,
          23,
          24,
          25,
          26,
          27,
          28,
          29,
          30,
          31,
          32,
          33,
          34,
          35,
          36,
          37,
          38,
          39,
          40,
          41,
          42,
          43,
          44,
          45,
          46,
          47,
          48,
          49
         ],
         "xaxis": "x",
         "y": [
          0.0011291515547782183,
          0.01577707752585411,
          0.05599397420883179,
          0.07004553079605103,
          0.07131358236074448,
          0.06574349105358124,
          0.05947813019156456,
          0.0567997545003891,
          0.05460673198103905,
          0.05230530723929405,
          0.04964832216501236,
          0.049644339829683304,
          0.049644339829683304,
          0.049641914665699005,
          0.043845418840646744,
          0.04039236903190613,
          0.03999703750014305,
          0.039994556456804276,
          0.039994556456804276,
          0.039994556456804276,
          0.039994556456804276,
          0.039994556456804276,
          0.039994556456804276,
          0.039994556456804276,
          0.039994556456804276,
          0.039994556456804276,
          0.039994556456804276,
          0.03999440744519234,
          0.038819752633571625,
          0.040191225707530975,
          0.04019174352288246,
          0.04019174352288246,
          0.04019174352288246,
          0.04019174352288246,
          0.04019174352288246,
          0.04019174352288246,
          0.04019177705049515,
          0.04019177705049515,
          0.0413249135017395,
          0.041321903467178345,
          0.04132185876369476,
          0.038064152002334595,
          0.03201824799180031,
          0.023304875940084457,
          0.01586182415485382,
          0.008344493806362152,
          0.008140305057168007,
          -0.0015446688048541546,
          -0.004307946190237999,
          -0.004307946190237999
         ],
         "yaxis": "y"
        },
        {
         "hovertemplate": "variable=b67<br>Epoch=%{x}<br>value=%{y}<extra></extra>",
         "legendgroup": "b67",
         "line": {
          "color": "#FF6692",
          "dash": "solid"
         },
         "marker": {
          "symbol": "circle"
         },
         "mode": "lines",
         "name": "b67",
         "showlegend": true,
         "type": "scattergl",
         "x": [
          0,
          1,
          2,
          3,
          4,
          5,
          6,
          7,
          8,
          9,
          10,
          11,
          12,
          13,
          14,
          15,
          16,
          17,
          18,
          19,
          20,
          21,
          22,
          23,
          24,
          25,
          26,
          27,
          28,
          29,
          30,
          31,
          32,
          33,
          34,
          35,
          36,
          37,
          38,
          39,
          40,
          41,
          42,
          43,
          44,
          45,
          46,
          47,
          48,
          49
         ],
         "xaxis": "x",
         "y": [
          -0.0006934474804438651,
          -0.009616363793611526,
          -0.03486107289791107,
          -0.045494578778743744,
          -0.05540647730231285,
          -0.06922294199466705,
          -0.07705061882734299,
          -0.07873109728097916,
          -0.07973385602235794,
          -0.0806378424167633,
          -0.08149800449609756,
          -0.08149868994951248,
          -0.08149868994951248,
          -0.08149872720241547,
          -0.08154845982789993,
          -0.08165513724088669,
          -0.08095358312129974,
          -0.08095627278089523,
          -0.08095627278089523,
          -0.08095627278089523,
          -0.08095627278089523,
          -0.08095627278089523,
          -0.08095627278089523,
          -0.08095627278089523,
          -0.08095627278089523,
          -0.08095627278089523,
          -0.08095627278089523,
          -0.08095639199018478,
          -0.08140091598033905,
          -0.07990355044603348,
          -0.07990307360887527,
          -0.07990307360887527,
          -0.07990307360887527,
          -0.07990307360887527,
          -0.07990307360887527,
          -0.07990307360887527,
          -0.07990304380655289,
          -0.07990304380655289,
          -0.07858435064554214,
          -0.078579381108284,
          -0.07857930660247803,
          -0.07930343598127365,
          -0.080919548869133,
          -0.085052989423275,
          -0.09391847997903824,
          -0.09880334138870239,
          -0.0988931655883789,
          -0.10299666225910187,
          -0.1042245551943779,
          -0.1042245551943779
         ],
         "yaxis": "y"
        },
        {
         "hovertemplate": "variable=b68<br>Epoch=%{x}<br>value=%{y}<extra></extra>",
         "legendgroup": "b68",
         "line": {
          "color": "#B6E880",
          "dash": "solid"
         },
         "marker": {
          "symbol": "circle"
         },
         "mode": "lines",
         "name": "b68",
         "showlegend": true,
         "type": "scattergl",
         "x": [
          0,
          1,
          2,
          3,
          4,
          5,
          6,
          7,
          8,
          9,
          10,
          11,
          12,
          13,
          14,
          15,
          16,
          17,
          18,
          19,
          20,
          21,
          22,
          23,
          24,
          25,
          26,
          27,
          28,
          29,
          30,
          31,
          32,
          33,
          34,
          35,
          36,
          37,
          38,
          39,
          40,
          41,
          42,
          43,
          44,
          45,
          46,
          47,
          48,
          49
         ],
         "xaxis": "x",
         "y": [
          0.0009055943228304386,
          0.007845614105463028,
          0.026139037683606148,
          0.03176410123705864,
          0.03822018578648567,
          0.05005098134279251,
          0.057321902364492416,
          0.05883566662669182,
          0.059578634798526764,
          0.060163628309965134,
          0.06052630394697189,
          0.06052618846297264,
          0.06052618846297264,
          0.06052577495574951,
          0.05930684134364128,
          0.05830973759293556,
          0.05597272142767906,
          0.05597682297229767,
          0.05597682297229767,
          0.05597682297229767,
          0.05597682297229767,
          0.05597682297229767,
          0.05597682297229767,
          0.05597682297229767,
          0.05597682297229767,
          0.05597682297229767,
          0.05597682297229767,
          0.055976979434490204,
          0.05689651891589165,
          0.05554010719060898,
          0.05553960055112839,
          0.05553960055112839,
          0.05553960055112839,
          0.05553960055112839,
          0.05553960055112839,
          0.05553960055112839,
          0.0555395670235157,
          0.0555395670235157,
          0.054064277559518814,
          0.05405709519982338,
          0.054056987166404724,
          0.05473937839269638,
          0.05648844316601753,
          0.06057821586728096,
          0.06977152079343796,
          0.07501041144132614,
          0.07511904835700989,
          0.08012387901544571,
          0.08162203431129456,
          0.08162203431129456
         ],
         "yaxis": "y"
        },
        {
         "hovertemplate": "variable=b69<br>Epoch=%{x}<br>value=%{y}<extra></extra>",
         "legendgroup": "b69",
         "line": {
          "color": "#FF97FF",
          "dash": "solid"
         },
         "marker": {
          "symbol": "circle"
         },
         "mode": "lines",
         "name": "b69",
         "showlegend": true,
         "type": "scattergl",
         "x": [
          0,
          1,
          2,
          3,
          4,
          5,
          6,
          7,
          8,
          9,
          10,
          11,
          12,
          13,
          14,
          15,
          16,
          17,
          18,
          19,
          20,
          21,
          22,
          23,
          24,
          25,
          26,
          27,
          28,
          29,
          30,
          31,
          32,
          33,
          34,
          35,
          36,
          37,
          38,
          39,
          40,
          41,
          42,
          43,
          44,
          45,
          46,
          47,
          48,
          49
         ],
         "xaxis": "x",
         "y": [
          0.0013482582289725542,
          0.013785471208393574,
          0.05034562200307846,
          0.06645036488771439,
          0.07743193209171295,
          0.09082848578691483,
          0.09899117052555084,
          0.10155750066041946,
          0.10341223329305649,
          0.10526641458272934,
          0.10742847621440887,
          0.1074313297867775,
          0.1074313297867775,
          0.10743273049592972,
          0.1112772598862648,
          0.11432945728302002,
          0.11645875126123428,
          0.11645883321762085,
          0.11645883321762085,
          0.11645883321762085,
          0.11645883321762085,
          0.11645883321762085,
          0.11645883321762085,
          0.11645883321762085,
          0.11645883321762085,
          0.11645883321762085,
          0.11645883321762085,
          0.11645887792110443,
          0.11560572683811188,
          0.1119416281580925,
          0.11194051802158356,
          0.11194051802158356,
          0.11194051802158356,
          0.11194051802158356,
          0.11194051802158356,
          0.11194051802158356,
          0.11194044351577759,
          0.11194044351577759,
          0.1087239533662796,
          0.1087033748626709,
          0.10870306193828583,
          0.10786422342061996,
          0.10809934139251709,
          0.11303439736366272,
          0.1151420921087265,
          0.12195102870464325,
          0.1220615804195404,
          0.12621651589870453,
          0.12708359956741333,
          0.12708359956741333
         ],
         "yaxis": "y"
        }
       ],
       "layout": {
        "legend": {
         "title": {
          "text": "variable"
         },
         "tracegroupgap": 0
        },
        "template": {
         "data": {
          "bar": [
           {
            "error_x": {
             "color": "#2a3f5f"
            },
            "error_y": {
             "color": "#2a3f5f"
            },
            "marker": {
             "line": {
              "color": "#E5ECF6",
              "width": 0.5
             },
             "pattern": {
              "fillmode": "overlay",
              "size": 10,
              "solidity": 0.2
             }
            },
            "type": "bar"
           }
          ],
          "barpolar": [
           {
            "marker": {
             "line": {
              "color": "#E5ECF6",
              "width": 0.5
             },
             "pattern": {
              "fillmode": "overlay",
              "size": 10,
              "solidity": 0.2
             }
            },
            "type": "barpolar"
           }
          ],
          "carpet": [
           {
            "aaxis": {
             "endlinecolor": "#2a3f5f",
             "gridcolor": "white",
             "linecolor": "white",
             "minorgridcolor": "white",
             "startlinecolor": "#2a3f5f"
            },
            "baxis": {
             "endlinecolor": "#2a3f5f",
             "gridcolor": "white",
             "linecolor": "white",
             "minorgridcolor": "white",
             "startlinecolor": "#2a3f5f"
            },
            "type": "carpet"
           }
          ],
          "choropleth": [
           {
            "colorbar": {
             "outlinewidth": 0,
             "ticks": ""
            },
            "type": "choropleth"
           }
          ],
          "contour": [
           {
            "colorbar": {
             "outlinewidth": 0,
             "ticks": ""
            },
            "colorscale": [
             [
              0,
              "#0d0887"
             ],
             [
              0.1111111111111111,
              "#46039f"
             ],
             [
              0.2222222222222222,
              "#7201a8"
             ],
             [
              0.3333333333333333,
              "#9c179e"
             ],
             [
              0.4444444444444444,
              "#bd3786"
             ],
             [
              0.5555555555555556,
              "#d8576b"
             ],
             [
              0.6666666666666666,
              "#ed7953"
             ],
             [
              0.7777777777777778,
              "#fb9f3a"
             ],
             [
              0.8888888888888888,
              "#fdca26"
             ],
             [
              1,
              "#f0f921"
             ]
            ],
            "type": "contour"
           }
          ],
          "contourcarpet": [
           {
            "colorbar": {
             "outlinewidth": 0,
             "ticks": ""
            },
            "type": "contourcarpet"
           }
          ],
          "heatmap": [
           {
            "colorbar": {
             "outlinewidth": 0,
             "ticks": ""
            },
            "colorscale": [
             [
              0,
              "#0d0887"
             ],
             [
              0.1111111111111111,
              "#46039f"
             ],
             [
              0.2222222222222222,
              "#7201a8"
             ],
             [
              0.3333333333333333,
              "#9c179e"
             ],
             [
              0.4444444444444444,
              "#bd3786"
             ],
             [
              0.5555555555555556,
              "#d8576b"
             ],
             [
              0.6666666666666666,
              "#ed7953"
             ],
             [
              0.7777777777777778,
              "#fb9f3a"
             ],
             [
              0.8888888888888888,
              "#fdca26"
             ],
             [
              1,
              "#f0f921"
             ]
            ],
            "type": "heatmap"
           }
          ],
          "heatmapgl": [
           {
            "colorbar": {
             "outlinewidth": 0,
             "ticks": ""
            },
            "colorscale": [
             [
              0,
              "#0d0887"
             ],
             [
              0.1111111111111111,
              "#46039f"
             ],
             [
              0.2222222222222222,
              "#7201a8"
             ],
             [
              0.3333333333333333,
              "#9c179e"
             ],
             [
              0.4444444444444444,
              "#bd3786"
             ],
             [
              0.5555555555555556,
              "#d8576b"
             ],
             [
              0.6666666666666666,
              "#ed7953"
             ],
             [
              0.7777777777777778,
              "#fb9f3a"
             ],
             [
              0.8888888888888888,
              "#fdca26"
             ],
             [
              1,
              "#f0f921"
             ]
            ],
            "type": "heatmapgl"
           }
          ],
          "histogram": [
           {
            "marker": {
             "pattern": {
              "fillmode": "overlay",
              "size": 10,
              "solidity": 0.2
             }
            },
            "type": "histogram"
           }
          ],
          "histogram2d": [
           {
            "colorbar": {
             "outlinewidth": 0,
             "ticks": ""
            },
            "colorscale": [
             [
              0,
              "#0d0887"
             ],
             [
              0.1111111111111111,
              "#46039f"
             ],
             [
              0.2222222222222222,
              "#7201a8"
             ],
             [
              0.3333333333333333,
              "#9c179e"
             ],
             [
              0.4444444444444444,
              "#bd3786"
             ],
             [
              0.5555555555555556,
              "#d8576b"
             ],
             [
              0.6666666666666666,
              "#ed7953"
             ],
             [
              0.7777777777777778,
              "#fb9f3a"
             ],
             [
              0.8888888888888888,
              "#fdca26"
             ],
             [
              1,
              "#f0f921"
             ]
            ],
            "type": "histogram2d"
           }
          ],
          "histogram2dcontour": [
           {
            "colorbar": {
             "outlinewidth": 0,
             "ticks": ""
            },
            "colorscale": [
             [
              0,
              "#0d0887"
             ],
             [
              0.1111111111111111,
              "#46039f"
             ],
             [
              0.2222222222222222,
              "#7201a8"
             ],
             [
              0.3333333333333333,
              "#9c179e"
             ],
             [
              0.4444444444444444,
              "#bd3786"
             ],
             [
              0.5555555555555556,
              "#d8576b"
             ],
             [
              0.6666666666666666,
              "#ed7953"
             ],
             [
              0.7777777777777778,
              "#fb9f3a"
             ],
             [
              0.8888888888888888,
              "#fdca26"
             ],
             [
              1,
              "#f0f921"
             ]
            ],
            "type": "histogram2dcontour"
           }
          ],
          "mesh3d": [
           {
            "colorbar": {
             "outlinewidth": 0,
             "ticks": ""
            },
            "type": "mesh3d"
           }
          ],
          "parcoords": [
           {
            "line": {
             "colorbar": {
              "outlinewidth": 0,
              "ticks": ""
             }
            },
            "type": "parcoords"
           }
          ],
          "pie": [
           {
            "automargin": true,
            "type": "pie"
           }
          ],
          "scatter": [
           {
            "fillpattern": {
             "fillmode": "overlay",
             "size": 10,
             "solidity": 0.2
            },
            "type": "scatter"
           }
          ],
          "scatter3d": [
           {
            "line": {
             "colorbar": {
              "outlinewidth": 0,
              "ticks": ""
             }
            },
            "marker": {
             "colorbar": {
              "outlinewidth": 0,
              "ticks": ""
             }
            },
            "type": "scatter3d"
           }
          ],
          "scattercarpet": [
           {
            "marker": {
             "colorbar": {
              "outlinewidth": 0,
              "ticks": ""
             }
            },
            "type": "scattercarpet"
           }
          ],
          "scattergeo": [
           {
            "marker": {
             "colorbar": {
              "outlinewidth": 0,
              "ticks": ""
             }
            },
            "type": "scattergeo"
           }
          ],
          "scattergl": [
           {
            "marker": {
             "colorbar": {
              "outlinewidth": 0,
              "ticks": ""
             }
            },
            "type": "scattergl"
           }
          ],
          "scattermapbox": [
           {
            "marker": {
             "colorbar": {
              "outlinewidth": 0,
              "ticks": ""
             }
            },
            "type": "scattermapbox"
           }
          ],
          "scatterpolar": [
           {
            "marker": {
             "colorbar": {
              "outlinewidth": 0,
              "ticks": ""
             }
            },
            "type": "scatterpolar"
           }
          ],
          "scatterpolargl": [
           {
            "marker": {
             "colorbar": {
              "outlinewidth": 0,
              "ticks": ""
             }
            },
            "type": "scatterpolargl"
           }
          ],
          "scatterternary": [
           {
            "marker": {
             "colorbar": {
              "outlinewidth": 0,
              "ticks": ""
             }
            },
            "type": "scatterternary"
           }
          ],
          "surface": [
           {
            "colorbar": {
             "outlinewidth": 0,
             "ticks": ""
            },
            "colorscale": [
             [
              0,
              "#0d0887"
             ],
             [
              0.1111111111111111,
              "#46039f"
             ],
             [
              0.2222222222222222,
              "#7201a8"
             ],
             [
              0.3333333333333333,
              "#9c179e"
             ],
             [
              0.4444444444444444,
              "#bd3786"
             ],
             [
              0.5555555555555556,
              "#d8576b"
             ],
             [
              0.6666666666666666,
              "#ed7953"
             ],
             [
              0.7777777777777778,
              "#fb9f3a"
             ],
             [
              0.8888888888888888,
              "#fdca26"
             ],
             [
              1,
              "#f0f921"
             ]
            ],
            "type": "surface"
           }
          ],
          "table": [
           {
            "cells": {
             "fill": {
              "color": "#EBF0F8"
             },
             "line": {
              "color": "white"
             }
            },
            "header": {
             "fill": {
              "color": "#C8D4E3"
             },
             "line": {
              "color": "white"
             }
            },
            "type": "table"
           }
          ]
         },
         "layout": {
          "annotationdefaults": {
           "arrowcolor": "#2a3f5f",
           "arrowhead": 0,
           "arrowwidth": 1
          },
          "autotypenumbers": "strict",
          "coloraxis": {
           "colorbar": {
            "outlinewidth": 0,
            "ticks": ""
           }
          },
          "colorscale": {
           "diverging": [
            [
             0,
             "#8e0152"
            ],
            [
             0.1,
             "#c51b7d"
            ],
            [
             0.2,
             "#de77ae"
            ],
            [
             0.3,
             "#f1b6da"
            ],
            [
             0.4,
             "#fde0ef"
            ],
            [
             0.5,
             "#f7f7f7"
            ],
            [
             0.6,
             "#e6f5d0"
            ],
            [
             0.7,
             "#b8e186"
            ],
            [
             0.8,
             "#7fbc41"
            ],
            [
             0.9,
             "#4d9221"
            ],
            [
             1,
             "#276419"
            ]
           ],
           "sequential": [
            [
             0,
             "#0d0887"
            ],
            [
             0.1111111111111111,
             "#46039f"
            ],
            [
             0.2222222222222222,
             "#7201a8"
            ],
            [
             0.3333333333333333,
             "#9c179e"
            ],
            [
             0.4444444444444444,
             "#bd3786"
            ],
            [
             0.5555555555555556,
             "#d8576b"
            ],
            [
             0.6666666666666666,
             "#ed7953"
            ],
            [
             0.7777777777777778,
             "#fb9f3a"
            ],
            [
             0.8888888888888888,
             "#fdca26"
            ],
            [
             1,
             "#f0f921"
            ]
           ],
           "sequentialminus": [
            [
             0,
             "#0d0887"
            ],
            [
             0.1111111111111111,
             "#46039f"
            ],
            [
             0.2222222222222222,
             "#7201a8"
            ],
            [
             0.3333333333333333,
             "#9c179e"
            ],
            [
             0.4444444444444444,
             "#bd3786"
            ],
            [
             0.5555555555555556,
             "#d8576b"
            ],
            [
             0.6666666666666666,
             "#ed7953"
            ],
            [
             0.7777777777777778,
             "#fb9f3a"
            ],
            [
             0.8888888888888888,
             "#fdca26"
            ],
            [
             1,
             "#f0f921"
            ]
           ]
          },
          "colorway": [
           "#636efa",
           "#EF553B",
           "#00cc96",
           "#ab63fa",
           "#FFA15A",
           "#19d3f3",
           "#FF6692",
           "#B6E880",
           "#FF97FF",
           "#FECB52"
          ],
          "font": {
           "color": "#2a3f5f"
          },
          "geo": {
           "bgcolor": "white",
           "lakecolor": "white",
           "landcolor": "#E5ECF6",
           "showlakes": true,
           "showland": true,
           "subunitcolor": "white"
          },
          "hoverlabel": {
           "align": "left"
          },
          "hovermode": "closest",
          "mapbox": {
           "style": "light"
          },
          "paper_bgcolor": "white",
          "plot_bgcolor": "#E5ECF6",
          "polar": {
           "angularaxis": {
            "gridcolor": "white",
            "linecolor": "white",
            "ticks": ""
           },
           "bgcolor": "#E5ECF6",
           "radialaxis": {
            "gridcolor": "white",
            "linecolor": "white",
            "ticks": ""
           }
          },
          "scene": {
           "xaxis": {
            "backgroundcolor": "#E5ECF6",
            "gridcolor": "white",
            "gridwidth": 2,
            "linecolor": "white",
            "showbackground": true,
            "ticks": "",
            "zerolinecolor": "white"
           },
           "yaxis": {
            "backgroundcolor": "#E5ECF6",
            "gridcolor": "white",
            "gridwidth": 2,
            "linecolor": "white",
            "showbackground": true,
            "ticks": "",
            "zerolinecolor": "white"
           },
           "zaxis": {
            "backgroundcolor": "#E5ECF6",
            "gridcolor": "white",
            "gridwidth": 2,
            "linecolor": "white",
            "showbackground": true,
            "ticks": "",
            "zerolinecolor": "white"
           }
          },
          "shapedefaults": {
           "line": {
            "color": "#2a3f5f"
           }
          },
          "ternary": {
           "aaxis": {
            "gridcolor": "white",
            "linecolor": "white",
            "ticks": ""
           },
           "baxis": {
            "gridcolor": "white",
            "linecolor": "white",
            "ticks": ""
           },
           "bgcolor": "#E5ECF6",
           "caxis": {
            "gridcolor": "white",
            "linecolor": "white",
            "ticks": ""
           }
          },
          "title": {
           "x": 0.05
          },
          "xaxis": {
           "automargin": true,
           "gridcolor": "white",
           "linecolor": "white",
           "ticks": "",
           "title": {
            "standoff": 15
           },
           "zerolinecolor": "white",
           "zerolinewidth": 2
          },
          "yaxis": {
           "automargin": true,
           "gridcolor": "white",
           "linecolor": "white",
           "ticks": "",
           "title": {
            "standoff": 15
           },
           "zerolinecolor": "white",
           "zerolinewidth": 2
          }
         }
        },
        "title": {
         "text": "Body Pose"
        },
        "xaxis": {
         "anchor": "y",
         "domain": [
          0,
          1
         ],
         "title": {
          "text": "Epoch"
         }
        },
        "yaxis": {
         "anchor": "x",
         "domain": [
          0,
          1
         ],
         "title": {
          "text": "value"
         }
        }
       }
      },
      "text/html": [
       "<div>                            <div id=\"3ca4c7d3-9a47-4068-aebd-b18f1cde015c\" class=\"plotly-graph-div\" style=\"height:525px; width:100%;\"></div>            <script type=\"text/javascript\">                require([\"plotly\"], function(Plotly) {                    window.PLOTLYENV=window.PLOTLYENV || {};                                    if (document.getElementById(\"3ca4c7d3-9a47-4068-aebd-b18f1cde015c\")) {                    Plotly.newPlot(                        \"3ca4c7d3-9a47-4068-aebd-b18f1cde015c\",                        [{\"hovertemplate\":\"variable=b1\\u003cbr\\u003eEpoch=%{x}\\u003cbr\\u003evalue=%{y}\\u003cextra\\u003e\\u003c\\u002fextra\\u003e\",\"legendgroup\":\"b1\",\"line\":{\"color\":\"#636efa\",\"dash\":\"solid\"},\"marker\":{\"symbol\":\"circle\"},\"mode\":\"lines\",\"name\":\"b1\",\"showlegend\":true,\"x\":[0,1,2,3,4,5,6,7,8,9,10,11,12,13,14,15,16,17,18,19,20,21,22,23,24,25,26,27,28,29,30,31,32,33,34,35,36,37,38,39,40,41,42,43,44,45,46,47,48,49],\"xaxis\":\"x\",\"y\":[0.03510288894176483,0.030558275058865547,-0.02783714234828949,-0.05248311907052994,-0.05696951225399971,-0.0311555415391922,-0.007106306962668896,0.0022562735248357058,0.009317860938608646,0.01624756120145321,0.023365655913949013,0.02337503619492054,0.02337503619492054,0.023380279541015625,0.03488486632704735,0.041451308876276016,0.03886452689766884,0.03887743130326271,0.03887743130326271,0.03887743130326271,0.03887743130326271,0.03887743130326271,0.03887743130326271,0.03887743130326271,0.03887743130326271,0.03887743130326271,0.03887743130326271,0.03887803480029106,0.04333638772368431,0.03596601262688637,0.0359630361199379,0.0359630361199379,0.0359630361199379,0.0359630361199379,0.0359630361199379,0.0359630361199379,0.03596283122897148,0.03596283122897148,0.027441730722784996,0.027396997436881065,0.027396313846111298,0.031144743785262108,0.042159244418144226,0.06035858392715454,0.057098302990198135,0.06879811733961105,0.06915208697319031,0.08299527317285538,0.08568590879440308,0.08568590879440308],\"yaxis\":\"y\",\"type\":\"scattergl\"},{\"hovertemplate\":\"variable=b2\\u003cbr\\u003eEpoch=%{x}\\u003cbr\\u003evalue=%{y}\\u003cextra\\u003e\\u003c\\u002fextra\\u003e\",\"legendgroup\":\"b2\",\"line\":{\"color\":\"#EF553B\",\"dash\":\"solid\"},\"marker\":{\"symbol\":\"circle\"},\"mode\":\"lines\",\"name\":\"b2\",\"showlegend\":true,\"x\":[0,1,2,3,4,5,6,7,8,9,10,11,12,13,14,15,16,17,18,19,20,21,22,23,24,25,26,27,28,29,30,31,32,33,34,35,36,37,38,39,40,41,42,43,44,45,46,47,48,49],\"xaxis\":\"x\",\"y\":[0.004971021320670843,0.04366176202893257,0.14653658866882324,0.17020884156227112,0.168561190366745,0.1546284556388855,0.14368067681789398,0.14079530537128448,0.1386968344449997,0.13659599423408508,0.13475055992603302,0.13474860787391663,0.13474860787391663,0.1347477287054062,0.13484054803848267,0.1387505680322647,0.15880681574344635,0.15878617763519287,0.15878617763519287,0.15878617763519287,0.15878617763519287,0.15878617763519287,0.15878617763519287,0.15878617763519287,0.15878617763519287,0.15878617763519287,0.15878617763519287,0.15878549218177795,0.15757279098033905,0.1799602508544922,0.17996856570243835,0.17996856570243835,0.17996856570243835,0.17996856570243835,0.17996856570243835,0.17996856570243835,0.17996911704540253,0.17996911704540253,0.20708125829696655,0.20731952786445618,0.20732314884662628,0.22695297002792358,0.24306882917881012,0.23894762992858887,0.3243153989315033,0.3422437608242035,0.3423447906970978,0.3572697639465332,0.3641992211341858,0.3641992211341858],\"yaxis\":\"y\",\"type\":\"scattergl\"},{\"hovertemplate\":\"variable=b3\\u003cbr\\u003eEpoch=%{x}\\u003cbr\\u003evalue=%{y}\\u003cextra\\u003e\\u003c\\u002fextra\\u003e\",\"legendgroup\":\"b3\",\"line\":{\"color\":\"#00cc96\",\"dash\":\"solid\"},\"marker\":{\"symbol\":\"circle\"},\"mode\":\"lines\",\"name\":\"b3\",\"showlegend\":true,\"x\":[0,1,2,3,4,5,6,7,8,9,10,11,12,13,14,15,16,17,18,19,20,21,22,23,24,25,26,27,28,29,30,31,32,33,34,35,36,37,38,39,40,41,42,43,44,45,46,47,48,49],\"xaxis\":\"x\",\"y\":[0.09475752711296082,0.1387685090303421,0.18543075025081635,0.16716930270195007,0.14598479866981506,0.1418827623128891,0.1436907947063446,0.14570295810699463,0.14735080301761627,0.14858055114746094,0.1499645859003067,0.14996691048145294,0.14996691048145294,0.14996851980686188,0.1545453667640686,0.15794388949871063,0.15895392000675201,0.1589532345533371,0.1589532345533371,0.1589532345533371,0.1589532345533371,0.1589532345533371,0.1589532345533371,0.1589532345533371,0.1589532345533371,0.1589532345533371,0.1589532345533371,0.1589532196521759,0.1577347069978714,0.15455776453018188,0.15455658733844757,0.15455658733844757,0.15455658733844757,0.15455658733844757,0.15455658733844757,0.15455658733844757,0.1545564979314804,0.1545564979314804,0.15071173012256622,0.15067999064922333,0.15067949891090393,0.14839059114456177,0.14699941873550415,0.1529037058353424,0.15522915124893188,0.17444542050361633,0.17471130192279816,0.18474316596984863,0.18706145882606506,0.18706145882606506],\"yaxis\":\"y\",\"type\":\"scattergl\"},{\"hovertemplate\":\"variable=b4\\u003cbr\\u003eEpoch=%{x}\\u003cbr\\u003evalue=%{y}\\u003cextra\\u003e\\u003c\\u002fextra\\u003e\",\"legendgroup\":\"b4\",\"line\":{\"color\":\"#ab63fa\",\"dash\":\"solid\"},\"marker\":{\"symbol\":\"circle\"},\"mode\":\"lines\",\"name\":\"b4\",\"showlegend\":true,\"x\":[0,1,2,3,4,5,6,7,8,9,10,11,12,13,14,15,16,17,18,19,20,21,22,23,24,25,26,27,28,29,30,31,32,33,34,35,36,37,38,39,40,41,42,43,44,45,46,47,48,49],\"xaxis\":\"x\",\"y\":[0.007598108612000942,-0.006266230251640081,-0.01827705278992653,-0.04271139204502106,-0.05742574855685234,-0.03506675735116005,-0.00975565891712904,-0.000863875902723521,0.003992206882685423,0.008041762746870518,0.012645862065255642,0.012652527540922165,0.012652527540922165,0.012656165286898613,0.021165352314710617,0.027005935087800026,0.029061952605843544,0.029067635536193848,0.029067635536193848,0.029067635536193848,0.029067635536193848,0.029067635536193848,0.029067635536193848,0.029067635536193848,0.029067635536193848,0.029067635536193848,0.029067635536193848,0.029068008065223694,0.030798206105828285,0.02751450426876545,0.02751397341489792,0.02751397341489792,0.02751397341489792,0.02751397341489792,0.02751397341489792,0.02751397341489792,0.027513938024640083,0.027513938024640083,0.027398888021707535,0.02743719518184662,0.02743777632713318,0.03888178989291191,0.05492842569947243,0.06336352229118347,0.07561130821704865,0.07549809664487839,0.07566972821950912,0.08549927175045013,0.0880817249417305,0.0880817249417305],\"yaxis\":\"y\",\"type\":\"scattergl\"},{\"hovertemplate\":\"variable=b5\\u003cbr\\u003eEpoch=%{x}\\u003cbr\\u003evalue=%{y}\\u003cextra\\u003e\\u003c\\u002fextra\\u003e\",\"legendgroup\":\"b5\",\"line\":{\"color\":\"#FFA15A\",\"dash\":\"solid\"},\"marker\":{\"symbol\":\"circle\"},\"mode\":\"lines\",\"name\":\"b5\",\"showlegend\":true,\"x\":[0,1,2,3,4,5,6,7,8,9,10,11,12,13,14,15,16,17,18,19,20,21,22,23,24,25,26,27,28,29,30,31,32,33,34,35,36,37,38,39,40,41,42,43,44,45,46,47,48,49],\"xaxis\":\"x\",\"y\":[0.0004902401706203818,-0.013420107774436474,-0.06401807814836502,-0.09284504503011703,-0.10843317955732346,-0.11456181854009628,-0.11174982786178589,-0.1081075370311737,-0.10506363213062286,-0.10241539031267166,-0.09976938366889954,-0.09976552426815033,-0.09976552426815033,-0.09976296126842499,-0.09378042072057724,-0.09018974751234055,-0.09102917462587357,-0.09102590382099152,-0.09102590382099152,-0.09102590382099152,-0.09102590382099152,-0.09102590382099152,-0.09102590382099152,-0.09102590382099152,-0.09102590382099152,-0.09102590382099152,-0.09102590382099152,-0.09102574735879898,-0.08990884572267532,-0.09340173751115799,-0.09340330213308334,-0.09340330213308334,-0.09340330213308334,-0.09340330213308334,-0.09340330213308334,-0.09340330213308334,-0.0934034064412117,-0.0934034064412117,-0.09854879975318909,-0.09859319776296616,-0.09859387576580048,-0.10196676850318909,-0.10328179597854614,-0.10275789350271225,-0.138554647564888,-0.14816094934940338,-0.14829406142234802,-0.15822851657867432,-0.16246488690376282,-0.16246488690376282],\"yaxis\":\"y\",\"type\":\"scattergl\"},{\"hovertemplate\":\"variable=b6\\u003cbr\\u003eEpoch=%{x}\\u003cbr\\u003evalue=%{y}\\u003cextra\\u003e\\u003c\\u002fextra\\u003e\",\"legendgroup\":\"b6\",\"line\":{\"color\":\"#19d3f3\",\"dash\":\"solid\"},\"marker\":{\"symbol\":\"circle\"},\"mode\":\"lines\",\"name\":\"b6\",\"showlegend\":true,\"x\":[0,1,2,3,4,5,6,7,8,9,10,11,12,13,14,15,16,17,18,19,20,21,22,23,24,25,26,27,28,29,30,31,32,33,34,35,36,37,38,39,40,41,42,43,44,45,46,47,48,49],\"xaxis\":\"x\",\"y\":[-0.08496998995542526,-0.09714706242084503,-0.08452896028757095,-0.082534559071064,-0.07397516071796417,-0.06275904178619385,-0.05856427550315857,-0.06120463088154793,-0.06473372131586075,-0.06795687228441238,-0.0715058296918869,-0.07151100039482117,-0.07151100039482117,-0.07151414453983307,-0.07881009578704834,-0.08330156654119492,-0.08312270045280457,-0.08312338590621948,-0.08312338590621948,-0.08312338590621948,-0.08312338590621948,-0.08312338590621948,-0.08312338590621948,-0.08312338590621948,-0.08312338590621948,-0.08312338590621948,-0.08312338590621948,-0.08312340825796127,-0.08290990442037582,-0.07951512932777405,-0.07951373606920242,-0.07951373606920242,-0.07951373606920242,-0.07951373606920242,-0.07951373606920242,-0.07951373606920242,-0.07951363921165466,-0.07951363921165466,-0.07493674755096436,-0.07489392161369324,-0.07489326596260071,-0.06978435069322586,-0.06559795141220093,-0.0704026073217392,-0.05459124222397804,-0.06789764761924744,-0.06807631254196167,-0.07462450116872787,-0.07615537196397781,-0.07615537196397781],\"yaxis\":\"y\",\"type\":\"scattergl\"},{\"hovertemplate\":\"variable=b7\\u003cbr\\u003eEpoch=%{x}\\u003cbr\\u003evalue=%{y}\\u003cextra\\u003e\\u003c\\u002fextra\\u003e\",\"legendgroup\":\"b7\",\"line\":{\"color\":\"#FF6692\",\"dash\":\"solid\"},\"marker\":{\"symbol\":\"circle\"},\"mode\":\"lines\",\"name\":\"b7\",\"showlegend\":true,\"x\":[0,1,2,3,4,5,6,7,8,9,10,11,12,13,14,15,16,17,18,19,20,21,22,23,24,25,26,27,28,29,30,31,32,33,34,35,36,37,38,39,40,41,42,43,44,45,46,47,48,49],\"xaxis\":\"x\",\"y\":[0.026608262211084366,0.009902620688080788,-0.04572002962231636,-0.045993171632289886,-0.03605048730969429,-0.03706779330968857,-0.03726315498352051,-0.03544997423887253,-0.03305874019861221,-0.03036406636238098,-0.027483098208904266,-0.027478661388158798,-0.027478661388158798,-0.027475448325276375,-0.018214290961623192,-0.010909094475209713,0.0013783928006887436,0.0013701340649276972,0.0013701340649276972,0.0013701340649276972,0.0013701340649276972,0.0013701340649276972,0.0013701340649276972,0.0013701340649276972,0.0013701340649276972,0.0013701340649276972,0.0013701340649276972,0.0013699635164812207,0.00362201314419508,0.014639741741120815,0.014643000438809395,0.014643000438809395,0.014643000438809395,0.014643000438809395,0.014643000438809395,0.014643000438809395,0.014643215574324131,0.014643215574324131,0.02503870241343975,0.02512810193002224,0.02512945793569088,0.032410815358161926,0.04085230454802513,0.046775251626968384,0.07200206816196442,0.07779732346534729,0.07776713371276855,0.07495929300785065,0.07383199036121368,0.07383199036121368],\"yaxis\":\"y\",\"type\":\"scattergl\"},{\"hovertemplate\":\"variable=b8\\u003cbr\\u003eEpoch=%{x}\\u003cbr\\u003evalue=%{y}\\u003cextra\\u003e\\u003c\\u002fextra\\u003e\",\"legendgroup\":\"b8\",\"line\":{\"color\":\"#B6E880\",\"dash\":\"solid\"},\"marker\":{\"symbol\":\"circle\"},\"mode\":\"lines\",\"name\":\"b8\",\"showlegend\":true,\"x\":[0,1,2,3,4,5,6,7,8,9,10,11,12,13,14,15,16,17,18,19,20,21,22,23,24,25,26,27,28,29,30,31,32,33,34,35,36,37,38,39,40,41,42,43,44,45,46,47,48,49],\"xaxis\":\"x\",\"y\":[0.003922355826944113,0.0019637993536889553,0.01005335059016943,0.014552608132362366,0.023083453997969627,0.02988322637975216,0.03258495405316353,0.032466478645801544,0.03242070600390434,0.03257080540060997,0.03279678151011467,0.032796964049339294,0.032796964049339294,0.032796960324048996,0.03270264342427254,0.03211609274148941,0.029470279812812805,0.029472850263118744,0.029472850263118744,0.029472850263118744,0.029472850263118744,0.029472850263118744,0.029472850263118744,0.029472850263118744,0.029472850263118744,0.029472850263118744,0.029472850263118744,0.02947293221950531,0.029506376013159752,0.027573112398386,0.027572402730584145,0.027572402730584145,0.027572402730584145,0.027572402730584145,0.027572402730584145,0.027572402730584145,0.027572354301810265,0.027572354301810265,0.025421874597668648,0.025407981127500534,0.02540777064859867,0.02457404136657715,0.023772763088345528,0.026117179542779922,0.02983722649514675,0.033072154968976974,0.03313069045543671,0.034840553998947144,0.03517599403858185,0.03517599403858185],\"yaxis\":\"y\",\"type\":\"scattergl\"},{\"hovertemplate\":\"variable=b9\\u003cbr\\u003eEpoch=%{x}\\u003cbr\\u003evalue=%{y}\\u003cextra\\u003e\\u003c\\u002fextra\\u003e\",\"legendgroup\":\"b9\",\"line\":{\"color\":\"#FF97FF\",\"dash\":\"solid\"},\"marker\":{\"symbol\":\"circle\"},\"mode\":\"lines\",\"name\":\"b9\",\"showlegend\":true,\"x\":[0,1,2,3,4,5,6,7,8,9,10,11,12,13,14,15,16,17,18,19,20,21,22,23,24,25,26,27,28,29,30,31,32,33,34,35,36,37,38,39,40,41,42,43,44,45,46,47,48,49],\"xaxis\":\"x\",\"y\":[0.0007616737275384367,-0.006555361207574606,-0.019168546423316002,-0.015649262815713882,-0.010593621991574764,-0.005827849730849266,-0.0004251178470440209,0.002769492333754897,0.005004813428968191,0.006778091192245483,0.007803850807249546,0.007804102264344692,0.007804102264344692,0.00780382240191102,0.006177518516778946,0.004262740258127451,-0.0007780403830111027,-0.0007704027811996639,-0.0007704027811996639,-0.0007704027811996639,-0.0007704027811996639,-0.0007704027811996639,-0.0007704027811996639,-0.0007704027811996639,-0.0007704027811996639,-0.0007704027811996639,-0.0007704027811996639,-0.0007701346185058355,0.0026807840913534164,0.005116194952279329,0.0051166038028895855,0.0051166038028895855,0.0051166038028895855,0.0051166038028895855,0.0051166038028895855,0.0051166038028895855,0.005116632208228111,0.005116632208228111,0.0062810457311570644,0.00629314873367548,0.006293333601206541,0.00752066308632493,0.00984453409910202,0.01154087483882904,0.02382603846490383,0.03426854684948921,0.03445785492658615,0.04510660097002983,0.04865344241261482,0.04865344241261482],\"yaxis\":\"y\",\"type\":\"scattergl\"},{\"hovertemplate\":\"variable=b10\\u003cbr\\u003eEpoch=%{x}\\u003cbr\\u003evalue=%{y}\\u003cextra\\u003e\\u003c\\u002fextra\\u003e\",\"legendgroup\":\"b10\",\"line\":{\"color\":\"#FECB52\",\"dash\":\"solid\"},\"marker\":{\"symbol\":\"circle\"},\"mode\":\"lines\",\"name\":\"b10\",\"showlegend\":true,\"x\":[0,1,2,3,4,5,6,7,8,9,10,11,12,13,14,15,16,17,18,19,20,21,22,23,24,25,26,27,28,29,30,31,32,33,34,35,36,37,38,39,40,41,42,43,44,45,46,47,48,49],\"xaxis\":\"x\",\"y\":[0.017645159736275673,0.037149667739868164,0.04238343611359596,-0.01744452677667141,-0.08145982772111893,-0.12368328869342804,-0.13187740743160248,-0.12903758883476257,-0.12885062396526337,-0.13052386045455933,-0.1344493329524994,-0.13445600867271423,-0.13445600867271423,-0.13445940613746643,-0.14412818849086761,-0.1508340686559677,-0.1586264818906784,-0.1586194932460785,-0.1586194932460785,-0.1586194932460785,-0.1586194932460785,-0.1586194932460785,-0.1586194932460785,-0.1586194932460785,-0.1586194932460785,-0.1586194932460785,-0.1586194932460785,-0.15861934423446655,-0.154017835855484,-0.14679639041423798,-0.14679494500160217,-0.14679494500160217,-0.14679494500160217,-0.14679494500160217,-0.14679494500160217,-0.14679494500160217,-0.146794855594635,-0.146794855594635,-0.14386405050754547,-0.14386557042598724,-0.14386560022830963,-0.14933393895626068,-0.15809977054595947,-0.18429039418697357,-0.23636412620544434,-0.2570444643497467,-0.25744935870170593,-0.274953156709671,-0.2806604206562042,-0.2806604206562042],\"yaxis\":\"y\",\"type\":\"scattergl\"},{\"hovertemplate\":\"variable=b11\\u003cbr\\u003eEpoch=%{x}\\u003cbr\\u003evalue=%{y}\\u003cextra\\u003e\\u003c\\u002fextra\\u003e\",\"legendgroup\":\"b11\",\"line\":{\"color\":\"#636efa\",\"dash\":\"solid\"},\"marker\":{\"symbol\":\"circle\"},\"mode\":\"lines\",\"name\":\"b11\",\"showlegend\":true,\"x\":[0,1,2,3,4,5,6,7,8,9,10,11,12,13,14,15,16,17,18,19,20,21,22,23,24,25,26,27,28,29,30,31,32,33,34,35,36,37,38,39,40,41,42,43,44,45,46,47,48,49],\"xaxis\":\"x\",\"y\":[-0.0038778292946517467,-0.026193594560027122,-0.08384981751441956,-0.08705232292413712,-0.0666096955537796,-0.02320450358092785,0.005863451398909092,0.013732544146478176,0.019459057599306107,0.02537861466407776,0.03195912390947342,0.03196786716580391,0.03196786716580391,0.031972385942935944,0.042543526738882065,0.048696793615818024,0.048520203679800034,0.048530250787734985,0.048530250787734985,0.048530250787734985,0.048530250787734985,0.048530250787734985,0.048530250787734985,0.048530250787734985,0.048530250787734985,0.048530250787734985,0.048530250787734985,0.04853079468011856,0.05174305662512779,0.04537806659936905,0.04537578299641609,0.04537578299641609,0.04537578299641609,0.04537578299641609,0.04537578299641609,0.04537578299641609,0.045375630259513855,0.045375630259513855,0.03927266225218773,0.0392519012093544,0.03925158455967903,0.044321272522211075,0.05508790910243988,0.0697731077671051,0.06590624153614044,0.06651901453733444,0.06671832501888275,0.0755956619977951,0.07778742909431458,0.07778742909431458],\"yaxis\":\"y\",\"type\":\"scattergl\"},{\"hovertemplate\":\"variable=b12\\u003cbr\\u003eEpoch=%{x}\\u003cbr\\u003evalue=%{y}\\u003cextra\\u003e\\u003c\\u002fextra\\u003e\",\"legendgroup\":\"b12\",\"line\":{\"color\":\"#EF553B\",\"dash\":\"solid\"},\"marker\":{\"symbol\":\"circle\"},\"mode\":\"lines\",\"name\":\"b12\",\"showlegend\":true,\"x\":[0,1,2,3,4,5,6,7,8,9,10,11,12,13,14,15,16,17,18,19,20,21,22,23,24,25,26,27,28,29,30,31,32,33,34,35,36,37,38,39,40,41,42,43,44,45,46,47,48,49],\"xaxis\":\"x\",\"y\":[0.04513940215110779,0.05463886633515358,0.04450000822544098,0.03129124268889427,0.040041808038949966,0.0771746039390564,0.09327755868434906,0.089958555996418,0.08546573668718338,0.08118936419487,0.07540769129991531,0.07539751380681992,0.07539751380681992,0.07539062947034836,0.0573405995965004,0.04344559460878372,0.03255339711904526,0.03256779536604881,0.03256779536604881,0.03256779536604881,0.03256779536604881,0.03256779536604881,0.03256779536604881,0.03256779536604881,0.03256779536604881,0.03256779536604881,0.03256779536604881,0.0325683131814003,0.04018159210681915,0.05302800238132477,0.05303172767162323,0.05303172767162323,0.05303172767162323,0.05303172767162323,0.05303172767162323,0.05303172767162323,0.05303197354078293,0.05303197354078293,0.06452177464962006,0.06462345272302628,0.06462500989437103,0.07413890957832336,0.08055871725082397,0.0638122484087944,0.07371675968170166,0.03954343870282173,0.03895793855190277,0.016498880460858345,0.011643359437584877,0.011643359437584877],\"yaxis\":\"y\",\"type\":\"scattergl\"},{\"hovertemplate\":\"variable=b13\\u003cbr\\u003eEpoch=%{x}\\u003cbr\\u003evalue=%{y}\\u003cextra\\u003e\\u003c\\u002fextra\\u003e\",\"legendgroup\":\"b13\",\"line\":{\"color\":\"#00cc96\",\"dash\":\"solid\"},\"marker\":{\"symbol\":\"circle\"},\"mode\":\"lines\",\"name\":\"b13\",\"showlegend\":true,\"x\":[0,1,2,3,4,5,6,7,8,9,10,11,12,13,14,15,16,17,18,19,20,21,22,23,24,25,26,27,28,29,30,31,32,33,34,35,36,37,38,39,40,41,42,43,44,45,46,47,48,49],\"xaxis\":\"x\",\"y\":[0.00801868550479412,0.034685391932725906,0.09464156627655029,0.06308663636445999,0.013518774881958961,-0.02812979929149151,-0.04095429554581642,-0.04007977619767189,-0.04105911776423454,-0.04396606236696243,-0.04840182885527611,-0.048408567905426025,-0.048408567905426025,-0.04841221868991852,-0.05782878026366234,-0.06359394639730453,-0.06805809587240219,-0.06805814057588577,-0.06805814057588577,-0.06805814057588577,-0.06805814057588577,-0.06805814057588577,-0.06805814057588577,-0.06805814057588577,-0.06805814057588577,-0.06805814057588577,-0.06805814057588577,-0.06805825978517532,-0.06777802854776382,-0.06344985216856003,-0.06344857811927795,-0.06344857811927795,-0.06344857811927795,-0.06344857811927795,-0.06344857811927795,-0.06344857811927795,-0.06344849616289139,-0.06344849616289139,-0.06048599258065224,-0.06048225238919258,-0.060482196509838104,-0.06531879305839539,-0.0740647241473198,-0.09442690014839172,-0.12184552103281021,-0.13417784869670868,-0.13451430201530457,-0.14999346435070038,-0.154868483543396,-0.154868483543396],\"yaxis\":\"y\",\"type\":\"scattergl\"},{\"hovertemplate\":\"variable=b14\\u003cbr\\u003eEpoch=%{x}\\u003cbr\\u003evalue=%{y}\\u003cextra\\u003e\\u003c\\u002fextra\\u003e\",\"legendgroup\":\"b14\",\"line\":{\"color\":\"#ab63fa\",\"dash\":\"solid\"},\"marker\":{\"symbol\":\"circle\"},\"mode\":\"lines\",\"name\":\"b14\",\"showlegend\":true,\"x\":[0,1,2,3,4,5,6,7,8,9,10,11,12,13,14,15,16,17,18,19,20,21,22,23,24,25,26,27,28,29,30,31,32,33,34,35,36,37,38,39,40,41,42,43,44,45,46,47,48,49],\"xaxis\":\"x\",\"y\":[0.0058893002569675446,0.0472157746553421,0.16031043231487274,0.18910913169384003,0.195423886179924,0.192387655377388,0.18657705187797546,0.18405543267726898,0.1818264275789261,0.17930173873901367,0.1763390600681305,0.17633426189422607,0.17633426189422607,0.17633116245269775,0.1694650501012802,0.1660769134759903,0.16672317683696747,0.16671934723854065,0.16671934723854065,0.16671934723854065,0.16671934723854065,0.16671934723854065,0.16671934723854065,0.16671934723854065,0.16671934723854065,0.16671934723854065,0.16671934723854065,0.16671912372112274,0.16464045643806458,0.16665078699588776,0.1666516661643982,0.1666516661643982,0.1666516661643982,0.1666516661643982,0.1666516661643982,0.1666516661643982,0.16665172576904297,0.16665172576904297,0.16902387142181396,0.16903363168239594,0.16903378069400787,0.16672156751155853,0.16157805919647217,0.157322958111763,0.17745351791381836,0.18869884312152863,0.1887533813714981,0.19238612055778503,0.19391503930091858,0.19391503930091858],\"yaxis\":\"y\",\"type\":\"scattergl\"},{\"hovertemplate\":\"variable=b15\\u003cbr\\u003eEpoch=%{x}\\u003cbr\\u003evalue=%{y}\\u003cextra\\u003e\\u003c\\u002fextra\\u003e\",\"legendgroup\":\"b15\",\"line\":{\"color\":\"#FFA15A\",\"dash\":\"solid\"},\"marker\":{\"symbol\":\"circle\"},\"mode\":\"lines\",\"name\":\"b15\",\"showlegend\":true,\"x\":[0,1,2,3,4,5,6,7,8,9,10,11,12,13,14,15,16,17,18,19,20,21,22,23,24,25,26,27,28,29,30,31,32,33,34,35,36,37,38,39,40,41,42,43,44,45,46,47,48,49],\"xaxis\":\"x\",\"y\":[-0.03580714017152786,0.005266715306788683,0.09406452625989914,0.041103627532720566,-0.00808104407042265,-0.019628845155239105,-0.006559327710419893,0.002714428585022688,0.00741477170959115,0.010227290913462639,0.012066950090229511,0.012068876065313816,0.012068876065313816,0.012070340104401112,0.01657695695757866,0.02145960181951523,0.021880127489566803,0.02188372239470482,0.02188372239470482,0.02188372239470482,0.02188372239470482,0.02188372239470482,0.02188372239470482,0.02188372239470482,0.02188372239470482,0.02188372239470482,0.02188372239470482,0.021883906796574593,0.021484607830643654,0.014539362862706184,0.014536773785948753,0.014536773785948753,0.014536773785948753,0.014536773785948753,0.014536773785948753,0.014536773785948753,0.014536593109369278,0.014536593109369278,0.005830216221511364,0.005756000988185406,0.005754866171628237,5.5018055718392134e-05,-0.002715734764933586,-0.003273914335295558,-0.034008100628852844,-0.01858782023191452,-0.018191101029515266,6.614719950448489e-06,0.0038902764208614826,0.0038902764208614826],\"yaxis\":\"y\",\"type\":\"scattergl\"},{\"hovertemplate\":\"variable=b16\\u003cbr\\u003eEpoch=%{x}\\u003cbr\\u003evalue=%{y}\\u003cextra\\u003e\\u003c\\u002fextra\\u003e\",\"legendgroup\":\"b16\",\"line\":{\"color\":\"#19d3f3\",\"dash\":\"solid\"},\"marker\":{\"symbol\":\"circle\"},\"mode\":\"lines\",\"name\":\"b16\",\"showlegend\":true,\"x\":[0,1,2,3,4,5,6,7,8,9,10,11,12,13,14,15,16,17,18,19,20,21,22,23,24,25,26,27,28,29,30,31,32,33,34,35,36,37,38,39,40,41,42,43,44,45,46,47,48,49],\"xaxis\":\"x\",\"y\":[0.025439679622650146,0.055858828127384186,0.10126710683107376,0.08168359100818634,0.06831485778093338,0.08167719095945358,0.10541019588708878,0.11673469841480255,0.12321288138628006,0.1279548853635788,0.13061395287513733,0.1306147277355194,0.1306147277355194,0.13061469793319702,0.13019320368766785,0.12963758409023285,0.12087441980838776,0.12089109420776367,0.12089109420776367,0.12089109420776367,0.12089109420776367,0.12089109420776367,0.12089109420776367,0.12089109420776367,0.12089109420776367,0.12089109420776367,0.12089109420776367,0.12089173495769501,0.12650632858276367,0.12214554101228714,0.12214278429746628,0.12214278429746628,0.12214278429746628,0.12214278429746628,0.12214278429746628,0.12214278429746628,0.12214259058237076,0.12214259058237076,0.1125110387802124,0.11242653429508209,0.11242524534463882,0.105218306183815,0.1019989550113678,0.1063227578997612,0.07999809086322784,0.08731544762849808,0.08740034699440002,0.08468412607908249,0.08170651644468307,0.08170651644468307],\"yaxis\":\"y\",\"type\":\"scattergl\"},{\"hovertemplate\":\"variable=b17\\u003cbr\\u003eEpoch=%{x}\\u003cbr\\u003evalue=%{y}\\u003cextra\\u003e\\u003c\\u002fextra\\u003e\",\"legendgroup\":\"b17\",\"line\":{\"color\":\"#FF6692\",\"dash\":\"solid\"},\"marker\":{\"symbol\":\"circle\"},\"mode\":\"lines\",\"name\":\"b17\",\"showlegend\":true,\"x\":[0,1,2,3,4,5,6,7,8,9,10,11,12,13,14,15,16,17,18,19,20,21,22,23,24,25,26,27,28,29,30,31,32,33,34,35,36,37,38,39,40,41,42,43,44,45,46,47,48,49],\"xaxis\":\"x\",\"y\":[0.0020102818962186575,-0.02113831602036953,-0.0684167742729187,-0.0771171972155571,-0.07303928583860397,-0.07059022784233093,-0.06898240745067596,-0.06828448921442032,-0.06708628684282303,-0.0654674768447876,-0.06328276544809341,-0.06327919661998749,-0.06327919661998749,-0.06327694654464722,-0.05801994726061821,-0.05528106540441513,-0.05538493022322655,-0.055383797734975815,-0.055383797734975815,-0.055383797734975815,-0.055383797734975815,-0.055383797734975815,-0.055383797734975815,-0.055383797734975815,-0.055383797734975815,-0.055383797734975815,-0.055383797734975815,-0.055383723229169846,-0.05491909384727478,-0.056090760976076126,-0.05609120801091194,-0.05609120801091194,-0.05609120801091194,-0.05609120801091194,-0.05609120801091194,-0.05609120801091194,-0.05609123781323433,-0.05609123781323433,-0.057178761810064316,-0.05717967823147774,-0.05717969313263893,-0.055951233953237534,-0.053709909319877625,-0.05035190284252167,-0.05484862998127937,-0.056457724422216415,-0.05645067244768143,-0.057418081909418106,-0.05813520401716232,-0.05813520401716232],\"yaxis\":\"y\",\"type\":\"scattergl\"},{\"hovertemplate\":\"variable=b18\\u003cbr\\u003eEpoch=%{x}\\u003cbr\\u003evalue=%{y}\\u003cextra\\u003e\\u003c\\u002fextra\\u003e\",\"legendgroup\":\"b18\",\"line\":{\"color\":\"#B6E880\",\"dash\":\"solid\"},\"marker\":{\"symbol\":\"circle\"},\"mode\":\"lines\",\"name\":\"b18\",\"showlegend\":true,\"x\":[0,1,2,3,4,5,6,7,8,9,10,11,12,13,14,15,16,17,18,19,20,21,22,23,24,25,26,27,28,29,30,31,32,33,34,35,36,37,38,39,40,41,42,43,44,45,46,47,48,49],\"xaxis\":\"x\",\"y\":[0.002162443706765771,0.01682404614984989,0.049535319209098816,0.04266989976167679,0.041132040321826935,0.053282760083675385,0.06324231624603271,0.06576468050479889,0.06637967377901077,0.06636455655097961,0.06517750769853592,0.0651741474866867,0.0651741474866867,0.06517162173986435,0.05833729729056358,0.0533682219684124,0.045049410313367844,0.04506031423807144,0.04506031423807144,0.04506031423807144,0.04506031423807144,0.04506031423807144,0.04506031423807144,0.04506031423807144,0.04506031423807144,0.04506031423807144,0.04506031423807144,0.04506067559123039,0.04819705709815025,0.047816768288612366,0.04781615734100342,0.04781615734100342,0.04781615734100342,0.04781615734100342,0.04781615734100342,0.04781615734100342,0.047816116362810135,0.047816116362810135,0.045302215963602066,0.04527733847498894,0.04527696222066879,0.04243490472435951,0.039651528000831604,0.034137435257434845,0.022207850590348244,0.01917790062725544,0.019142882898449898,0.017552487552165985,0.016933437436819077,0.016933437436819077],\"yaxis\":\"y\",\"type\":\"scattergl\"},{\"hovertemplate\":\"variable=b19\\u003cbr\\u003eEpoch=%{x}\\u003cbr\\u003evalue=%{y}\\u003cextra\\u003e\\u003c\\u002fextra\\u003e\",\"legendgroup\":\"b19\",\"line\":{\"color\":\"#FF97FF\",\"dash\":\"solid\"},\"marker\":{\"symbol\":\"circle\"},\"mode\":\"lines\",\"name\":\"b19\",\"showlegend\":true,\"x\":[0,1,2,3,4,5,6,7,8,9,10,11,12,13,14,15,16,17,18,19,20,21,22,23,24,25,26,27,28,29,30,31,32,33,34,35,36,37,38,39,40,41,42,43,44,45,46,47,48,49],\"xaxis\":\"x\",\"y\":[0.007169833406805992,0.12564924359321594,0.43535086512565613,0.5160503387451172,0.5382233262062073,0.5495785474777222,0.5519933700561523,0.5517629384994507,0.5500110387802124,0.5471637845039368,0.5431647300720215,0.5431567430496216,0.5431567430496216,0.5431508421897888,0.5301491618156433,0.524143397808075,0.5224040746688843,0.5224018096923828,0.5224018096923828,0.5224018096923828,0.5224018096923828,0.5224018096923828,0.5224018096923828,0.5224018096923828,0.5224018096923828,0.5224018096923828,0.5224018096923828,0.5224015712738037,0.5168991684913635,0.5098260641098022,0.5098238587379456,0.5098238587379456,0.5098238587379456,0.5098238587379456,0.5098238587379456,0.5098238587379456,0.509823739528656,0.509823739528656,0.501427412033081,0.5013245940208435,0.5013230443000793,0.48224514722824097,0.45543622970581055,0.43281370401382446,0.3974640965461731,0.3949244022369385,0.3945886194705963,0.3762543797492981,0.370090126991272,0.370090126991272],\"yaxis\":\"y\",\"type\":\"scattergl\"},{\"hovertemplate\":\"variable=b20\\u003cbr\\u003eEpoch=%{x}\\u003cbr\\u003evalue=%{y}\\u003cextra\\u003e\\u003c\\u002fextra\\u003e\",\"legendgroup\":\"b20\",\"line\":{\"color\":\"#FECB52\",\"dash\":\"solid\"},\"marker\":{\"symbol\":\"circle\"},\"mode\":\"lines\",\"name\":\"b20\",\"showlegend\":true,\"x\":[0,1,2,3,4,5,6,7,8,9,10,11,12,13,14,15,16,17,18,19,20,21,22,23,24,25,26,27,28,29,30,31,32,33,34,35,36,37,38,39,40,41,42,43,44,45,46,47,48,49],\"xaxis\":\"x\",\"y\":[0.009155328385531902,0.05829031020402908,0.19380544126033783,0.23934730887413025,0.2579866945743561,0.2687346041202545,0.27080437541007996,0.2702721357345581,0.26950350403785706,0.2686537802219391,0.26798391342163086,0.2679826319217682,0.2679826319217682,0.2679814398288727,0.26682358980178833,0.26869383454322815,0.2796107828617096,0.2796003520488739,0.2796003520488739,0.2796003520488739,0.2796003520488739,0.2796003520488739,0.2796003520488739,0.2796003520488739,0.2796003520488739,0.2796003520488739,0.2796003520488739,0.27959999442100525,0.2777358293533325,0.28643301129341125,0.2864364683628082,0.2864364683628082,0.2864364683628082,0.2864364683628082,0.2864364683628082,0.2864364683628082,0.28643670678138733,0.28643670678138733,0.29784899950027466,0.2979521155357361,0.29795369505882263,0.30598753690719604,0.31188151240348816,0.3136579990386963,0.3780454993247986,0.4058281183242798,0.40615883469581604,0.4278029501438141,0.43579548597335815,0.43579548597335815],\"yaxis\":\"y\",\"type\":\"scattergl\"},{\"hovertemplate\":\"variable=b21\\u003cbr\\u003eEpoch=%{x}\\u003cbr\\u003evalue=%{y}\\u003cextra\\u003e\\u003c\\u002fextra\\u003e\",\"legendgroup\":\"b21\",\"line\":{\"color\":\"#636efa\",\"dash\":\"solid\"},\"marker\":{\"symbol\":\"circle\"},\"mode\":\"lines\",\"name\":\"b21\",\"showlegend\":true,\"x\":[0,1,2,3,4,5,6,7,8,9,10,11,12,13,14,15,16,17,18,19,20,21,22,23,24,25,26,27,28,29,30,31,32,33,34,35,36,37,38,39,40,41,42,43,44,45,46,47,48,49],\"xaxis\":\"x\",\"y\":[-0.0003023389435838908,-0.031515561044216156,-0.10493133217096329,-0.11826802790164948,-0.11361200362443924,-0.10094492882490158,-0.09499472379684448,-0.09547611325979233,-0.0960516408085823,-0.0963362455368042,-0.09687115252017975,-0.09687232971191406,-0.09687232971191406,-0.09687324613332748,-0.10032074898481369,-0.10471080988645554,-0.11392765492200851,-0.11391738057136536,-0.11391738057136536,-0.11391738057136536,-0.11391738057136536,-0.11391738057136536,-0.11391738057136536,-0.11391738057136536,-0.11391738057136536,-0.11391738057136536,-0.11391738057136536,-0.1139170229434967,-0.11148762702941895,-0.11570089310407639,-0.11570262163877487,-0.11570262163877487,-0.11570262163877487,-0.11570262163877487,-0.11570262163877487,-0.11570262163877487,-0.11570274084806442,-0.11570274084806442,-0.12125902622938156,-0.12130428850650787,-0.12130497395992279,-0.12364768236875534,-0.12496745586395264,-0.12610477209091187,-0.15206071734428406,-0.1693037450313568,-0.16947369277477264,-0.17881128191947937,-0.1817537397146225,-0.1817537397146225],\"yaxis\":\"y\",\"type\":\"scattergl\"},{\"hovertemplate\":\"variable=b22\\u003cbr\\u003eEpoch=%{x}\\u003cbr\\u003evalue=%{y}\\u003cextra\\u003e\\u003c\\u002fextra\\u003e\",\"legendgroup\":\"b22\",\"line\":{\"color\":\"#EF553B\",\"dash\":\"solid\"},\"marker\":{\"symbol\":\"circle\"},\"mode\":\"lines\",\"name\":\"b22\",\"showlegend\":true,\"x\":[0,1,2,3,4,5,6,7,8,9,10,11,12,13,14,15,16,17,18,19,20,21,22,23,24,25,26,27,28,29,30,31,32,33,34,35,36,37,38,39,40,41,42,43,44,45,46,47,48,49],\"xaxis\":\"x\",\"y\":[0.004704389255493879,0.07639440149068832,0.2713117301464081,0.3371414840221405,0.3743155300617218,0.4134277105331421,0.43428656458854675,0.43956249952316284,0.4428219199180603,0.44573676586151123,0.4489857852458954,0.44898900389671326,0.44898900389671326,0.4489896893501282,0.4519968330860138,0.4562230110168457,0.461480975151062,0.46147987246513367,0.46147987246513367,0.46147987246513367,0.46147987246513367,0.46147987246513367,0.46147987246513367,0.46147987246513367,0.46147987246513367,0.46147987246513367,0.46147987246513367,0.46147990226745605,0.4583462178707123,0.45074039697647095,0.45073819160461426,0.45073819160461426,0.45073819160461426,0.45073819160461426,0.45073819160461426,0.45073819160461426,0.4507380425930023,0.4507380425930023,0.44391584396362305,0.4438628852367401,0.44386208057403564,0.4374127984046936,0.4296976327896118,0.4284876883029938,0.4185745418071747,0.4208773970603943,0.42073720693588257,0.4100804924964905,0.4056682884693146,0.4056682884693146],\"yaxis\":\"y\",\"type\":\"scattergl\"},{\"hovertemplate\":\"variable=b23\\u003cbr\\u003eEpoch=%{x}\\u003cbr\\u003evalue=%{y}\\u003cextra\\u003e\\u003c\\u002fextra\\u003e\",\"legendgroup\":\"b23\",\"line\":{\"color\":\"#00cc96\",\"dash\":\"solid\"},\"marker\":{\"symbol\":\"circle\"},\"mode\":\"lines\",\"name\":\"b23\",\"showlegend\":true,\"x\":[0,1,2,3,4,5,6,7,8,9,10,11,12,13,14,15,16,17,18,19,20,21,22,23,24,25,26,27,28,29,30,31,32,33,34,35,36,37,38,39,40,41,42,43,44,45,46,47,48,49],\"xaxis\":\"x\",\"y\":[-0.006090345326811075,-0.0343305729329586,-0.11157330125570297,-0.1368608921766281,-0.14393247663974762,-0.1453242301940918,-0.14508944749832153,-0.14506912231445312,-0.14478370547294617,-0.14440762996673584,-0.14411386847496033,-0.14411334693431854,-0.14411334693431854,-0.14411285519599915,-0.14380301535129547,-0.1450204700231552,-0.15024466812610626,-0.1502387970685959,-0.1502387970685959,-0.1502387970685959,-0.1502387970685959,-0.1502387970685959,-0.1502387970685959,-0.1502387970685959,-0.1502387970685959,-0.1502387970685959,-0.1502387970685959,-0.15023858845233917,-0.14839719235897064,-0.1505056619644165,-0.15050667524337769,-0.15050667524337769,-0.15050667524337769,-0.15050667524337769,-0.15050667524337769,-0.15050667524337769,-0.15050674974918365,-0.15050674974918365,-0.15376979112625122,-0.15379659831523895,-0.1537970006465912,-0.1547994613647461,-0.15437434613704681,-0.15455986559391022,-0.179252028465271,-0.194746732711792,-0.19494369626045227,-0.20667248964309692,-0.2107704132795334,-0.2107704132795334],\"yaxis\":\"y\",\"type\":\"scattergl\"},{\"hovertemplate\":\"variable=b24\\u003cbr\\u003eEpoch=%{x}\\u003cbr\\u003evalue=%{y}\\u003cextra\\u003e\\u003c\\u002fextra\\u003e\",\"legendgroup\":\"b24\",\"line\":{\"color\":\"#ab63fa\",\"dash\":\"solid\"},\"marker\":{\"symbol\":\"circle\"},\"mode\":\"lines\",\"name\":\"b24\",\"showlegend\":true,\"x\":[0,1,2,3,4,5,6,7,8,9,10,11,12,13,14,15,16,17,18,19,20,21,22,23,24,25,26,27,28,29,30,31,32,33,34,35,36,37,38,39,40,41,42,43,44,45,46,47,48,49],\"xaxis\":\"x\",\"y\":[0.0009148402605205774,0.04102187603712082,0.14045293629169464,0.14844898879528046,0.133091002702713,0.10817137360572815,0.09501892328262329,0.09349629282951355,0.09242552518844604,0.09093181788921356,0.08946093171834946,0.08945943415164948,0.08945943415164948,0.08945898711681366,0.09003493189811707,0.09333442151546478,0.1062636747956276,0.10624819993972778,0.10624819993972778,0.10624819993972778,0.10624819993972778,0.10624819993972778,0.10624819993972778,0.10624819993972778,0.10624819993972778,0.10624819993972778,0.10624819993972778,0.10624764114618301,0.10416394472122192,0.1170426681637764,0.11704736948013306,0.11704736948013306,0.11704736948013306,0.11704736948013306,0.11704736948013306,0.11704736948013306,0.11704768240451813,0.11704768240451813,0.13187941908836365,0.13199931383132935,0.132001131772995,0.1393522024154663,0.14375221729278564,0.1391260176897049,0.18729236721992493,0.20813597738742828,0.2082841843366623,0.21986907720565796,0.2242358773946762,0.2242358773946762],\"yaxis\":\"y\",\"type\":\"scattergl\"},{\"hovertemplate\":\"variable=b25\\u003cbr\\u003eEpoch=%{x}\\u003cbr\\u003evalue=%{y}\\u003cextra\\u003e\\u003c\\u002fextra\\u003e\",\"legendgroup\":\"b25\",\"line\":{\"color\":\"#FFA15A\",\"dash\":\"solid\"},\"marker\":{\"symbol\":\"circle\"},\"mode\":\"lines\",\"name\":\"b25\",\"showlegend\":true,\"x\":[0,1,2,3,4,5,6,7,8,9,10,11,12,13,14,15,16,17,18,19,20,21,22,23,24,25,26,27,28,29,30,31,32,33,34,35,36,37,38,39,40,41,42,43,44,45,46,47,48,49],\"xaxis\":\"x\",\"y\":[0.02143115922808647,0.04983359947800636,0.08261556923389435,0.03835401311516762,-0.0035852089058607817,-0.0236071590334177,-0.018755925819277763,-0.012740940786898136,-0.010684090666472912,-0.010727254673838615,-0.013913026079535484,-0.013920539058744907,-0.013920539058744907,-0.013925016857683659,-0.02592316083610058,-0.03465787321329117,-0.049197252839803696,-0.04918110370635986,-0.04918110370635986,-0.04918110370635986,-0.04918110370635986,-0.04918110370635986,-0.04918110370635986,-0.04918110370635986,-0.04918110370635986,-0.04918110370635986,-0.04918110370635986,-0.04918061941862106,-0.04275759309530258,-0.039688438177108765,-0.039688773453235626,-0.039688773453235626,-0.039688773453235626,-0.039688773453235626,-0.039688773453235626,-0.039688773453235626,-0.039688803255558014,-0.039688803255558014,-0.042198099195957184,-0.04223527014255524,-0.0422358363866806,-0.0470837838947773,-0.050137948244810104,-0.05182430520653725,-0.05039653554558754,-0.03022840805351734,-0.029883170500397682,-0.013813546858727932,-0.009336239658296108,-0.009336239658296108],\"yaxis\":\"y\",\"type\":\"scattergl\"},{\"hovertemplate\":\"variable=b26\\u003cbr\\u003eEpoch=%{x}\\u003cbr\\u003evalue=%{y}\\u003cextra\\u003e\\u003c\\u002fextra\\u003e\",\"legendgroup\":\"b26\",\"line\":{\"color\":\"#19d3f3\",\"dash\":\"solid\"},\"marker\":{\"symbol\":\"circle\"},\"mode\":\"lines\",\"name\":\"b26\",\"showlegend\":true,\"x\":[0,1,2,3,4,5,6,7,8,9,10,11,12,13,14,15,16,17,18,19,20,21,22,23,24,25,26,27,28,29,30,31,32,33,34,35,36,37,38,39,40,41,42,43,44,45,46,47,48,49],\"xaxis\":\"x\",\"y\":[0.004006171599030495,-0.005357685498893261,-0.01746460236608982,-0.020200548693537712,-0.0164785273373127,-0.013027394190430641,-0.010431487113237381,-0.009409765712916851,-0.008327607996761799,-0.00711449608206749,-0.0057600620202720165,-0.005758192855864763,-0.005758192855864763,-0.0057571642100811005,-0.003599647432565689,-0.0026804383378475904,-0.003984822425991297,-0.003982664085924625,-0.003982664085924625,-0.003982664085924625,-0.003982664085924625,-0.003982664085924625,-0.003982664085924625,-0.003982664085924625,-0.003982664085924625,-0.003982664085924625,-0.003982664085924625,-0.003982572816312313,-0.003199552418664098,-0.0034712415654212236,-0.0034714487846940756,-0.0034714487846940756,-0.0034714487846940756,-0.0034714487846940756,-0.0034714487846940756,-0.0034714487846940756,-0.003471463220193982,-0.003471463220193982,-0.003978697117418051,-0.003977098502218723,-0.003977075219154358,-0.0032725094351917505,-0.0021156950388103724,8.670192619320005e-05,0.002348058158531785,0.004787513520568609,0.004834618419408798,0.0062832310795784,0.006485725753009319,0.006485725753009319],\"yaxis\":\"y\",\"type\":\"scattergl\"},{\"hovertemplate\":\"variable=b27\\u003cbr\\u003eEpoch=%{x}\\u003cbr\\u003evalue=%{y}\\u003cextra\\u003e\\u003c\\u002fextra\\u003e\",\"legendgroup\":\"b27\",\"line\":{\"color\":\"#FF6692\",\"dash\":\"solid\"},\"marker\":{\"symbol\":\"circle\"},\"mode\":\"lines\",\"name\":\"b27\",\"showlegend\":true,\"x\":[0,1,2,3,4,5,6,7,8,9,10,11,12,13,14,15,16,17,18,19,20,21,22,23,24,25,26,27,28,29,30,31,32,33,34,35,36,37,38,39,40,41,42,43,44,45,46,47,48,49],\"xaxis\":\"x\",\"y\":[0.002868969226256013,0.017555363476276398,0.040706321597099304,0.014860966242849827,-0.005480969324707985,-0.014003331772983074,-0.014396765269339085,-0.013393208384513855,-0.013350753113627434,-0.01369719859212637,-0.014413336291909218,-0.014414415694773197,-0.014414415694773197,-0.01441475935280323,-0.014371651224792004,-0.012621307745575905,-0.007511698175221682,-0.007515037897974253,-0.007515037897974253,-0.007515037897974253,-0.007515037897974253,-0.007515037897974253,-0.007515037897974253,-0.007515037897974253,-0.007515037897974253,-0.007515037897974253,-0.007515037897974253,-0.0075151207856833935,-0.006223806645721197,0.002306903712451458,0.00230965088121593,0.00230965088121593,0.00230965088121593,0.00230965088121593,0.00230965088121593,0.00230965088121593,0.002309831790626049,0.002309831790626049,0.010676729492843151,0.010744532570242882,0.010745563544332981,0.015099450014531612,0.018151914700865746,0.00793672539293766,0.006587069481611252,0.0007702041766606271,0.0005956655950285494,-0.0057675945572555065,-0.007708507124334574,-0.007708507124334574],\"yaxis\":\"y\",\"type\":\"scattergl\"},{\"hovertemplate\":\"variable=b28\\u003cbr\\u003eEpoch=%{x}\\u003cbr\\u003evalue=%{y}\\u003cextra\\u003e\\u003c\\u002fextra\\u003e\",\"legendgroup\":\"b28\",\"line\":{\"color\":\"#B6E880\",\"dash\":\"solid\"},\"marker\":{\"symbol\":\"circle\"},\"mode\":\"lines\",\"name\":\"b28\",\"showlegend\":true,\"x\":[0,1,2,3,4,5,6,7,8,9,10,11,12,13,14,15,16,17,18,19,20,21,22,23,24,25,26,27,28,29,30,31,32,33,34,35,36,37,38,39,40,41,42,43,44,45,46,47,48,49],\"xaxis\":\"x\",\"y\":[-0.0012277307687327266,0.0030256682075560093,0.0010586194694042206,-0.03312435373663902,-0.08116071671247482,-0.14836183190345764,-0.1868932843208313,-0.19623710215091705,-0.20333757996559143,-0.21108509600162506,-0.2203321009874344,-0.2203446924686432,-0.2203446924686432,-0.22035108506679535,-0.23648707568645477,-0.24745288491249084,-0.2528712749481201,-0.25287777185440063,-0.25287777185440063,-0.25287777185440063,-0.25287777185440063,-0.25287777185440063,-0.25287777185440063,-0.25287777185440063,-0.25287777185440063,-0.25287777185440063,-0.25287777185440063,-0.25287824869155884,-0.2533031105995178,-0.24154339730739594,-0.24153973162174225,-0.24153973162174225,-0.24153973162174225,-0.24153973162174225,-0.24153973162174225,-0.24153973162174225,-0.24153949320316315,-0.24153949320316315,-0.23148944973945618,-0.2314426302909851,-0.2314419150352478,-0.23487205803394318,-0.2445758581161499,-0.26589876413345337,-0.26368361711502075,-0.2628801763057709,-0.26293814182281494,-0.25963595509529114,-0.2569316029548645,-0.2569316029548645],\"yaxis\":\"y\",\"type\":\"scattergl\"},{\"hovertemplate\":\"variable=b29\\u003cbr\\u003eEpoch=%{x}\\u003cbr\\u003evalue=%{y}\\u003cextra\\u003e\\u003c\\u002fextra\\u003e\",\"legendgroup\":\"b29\",\"line\":{\"color\":\"#FF97FF\",\"dash\":\"solid\"},\"marker\":{\"symbol\":\"circle\"},\"mode\":\"lines\",\"name\":\"b29\",\"showlegend\":true,\"x\":[0,1,2,3,4,5,6,7,8,9,10,11,12,13,14,15,16,17,18,19,20,21,22,23,24,25,26,27,28,29,30,31,32,33,34,35,36,37,38,39,40,41,42,43,44,45,46,47,48,49],\"xaxis\":\"x\",\"y\":[-0.00040412944508716464,0.00012899411376565695,0.002514422405511141,0.0038932436145842075,0.00431858142837882,0.004611400421708822,0.00481187179684639,0.0048333266749978065,0.00477218022570014,0.004623063374310732,0.0043191974982619286,0.00431850366294384,0.00431850366294384,0.004317976534366608,0.0027186621446162462,0.0011139835696667433,-0.002911804709583521,-0.0029086414724588394,-0.0029086414724588394,-0.0029086414724588394,-0.0029086414724588394,-0.0029086414724588394,-0.0029086414724588394,-0.0029086414724588394,-0.0029086414724588394,-0.0029086414724588394,-0.0029086414724588394,-0.0029085627757012844,-0.003443747991696,-0.008585221134126186,-0.008587105199694633,-0.008587105199694633,-0.008587105199694633,-0.008587105199694633,-0.008587105199694633,-0.008587105199694633,-0.008587231859564781,-0.008587231859564781,-0.014977309852838516,-0.015039428137242794,-0.015040373429656029,-0.02203119546175003,-0.029784053564071655,-0.03507877513766289,-0.068707175552845,-0.0805143490433693,-0.08070988953113556,-0.09271036833524704,-0.0970408096909523,-0.0970408096909523],\"yaxis\":\"y\",\"type\":\"scattergl\"},{\"hovertemplate\":\"variable=b30\\u003cbr\\u003eEpoch=%{x}\\u003cbr\\u003evalue=%{y}\\u003cextra\\u003e\\u003c\\u002fextra\\u003e\",\"legendgroup\":\"b30\",\"line\":{\"color\":\"#FECB52\",\"dash\":\"solid\"},\"marker\":{\"symbol\":\"circle\"},\"mode\":\"lines\",\"name\":\"b30\",\"showlegend\":true,\"x\":[0,1,2,3,4,5,6,7,8,9,10,11,12,13,14,15,16,17,18,19,20,21,22,23,24,25,26,27,28,29,30,31,32,33,34,35,36,37,38,39,40,41,42,43,44,45,46,47,48,49],\"xaxis\":\"x\",\"y\":[-0.0018557623261585832,-0.014929333701729774,-0.04502832889556885,-0.04648466780781746,-0.03784072771668434,-0.020312875509262085,-0.007796522229909897,-0.003546446328982711,-4.7592955525033176e-05,0.0037272321060299873,0.008394413627684116,0.008401487953960896,0.008401487953960896,0.008405644446611404,0.01913432776927948,0.026966091245412827,0.03499821573495865,0.03499598801136017,0.03499598801136017,0.03499598801136017,0.03499598801136017,0.03499598801136017,0.03499598801136017,0.03499598801136017,0.03499598801136017,0.03499598801136017,0.03499598801136017,0.03499605879187584,0.03603877127170563,0.0382465161383152,0.038247477263212204,0.038247477263212204,0.038247477263212204,0.038247477263212204,0.038247477263212204,0.038247477263212204,0.03824754059314728,0.03824754059314728,0.04239184036850929,0.04245144873857498,0.04245235398411751,0.052589669823646545,0.06654589623212814,0.08122354000806808,0.11584934592247009,0.13173408806324005,0.13206788897514343,0.14982494711875916,0.15542349219322205,0.15542349219322205],\"yaxis\":\"y\",\"type\":\"scattergl\"},{\"hovertemplate\":\"variable=b31\\u003cbr\\u003eEpoch=%{x}\\u003cbr\\u003evalue=%{y}\\u003cextra\\u003e\\u003c\\u002fextra\\u003e\",\"legendgroup\":\"b31\",\"line\":{\"color\":\"#636efa\",\"dash\":\"solid\"},\"marker\":{\"symbol\":\"circle\"},\"mode\":\"lines\",\"name\":\"b31\",\"showlegend\":true,\"x\":[0,1,2,3,4,5,6,7,8,9,10,11,12,13,14,15,16,17,18,19,20,21,22,23,24,25,26,27,28,29,30,31,32,33,34,35,36,37,38,39,40,41,42,43,44,45,46,47,48,49],\"xaxis\":\"x\",\"y\":[0.0005022775731049478,0.0055041187442839146,0.013922251760959625,0.006800421513617039,-0.006774440873414278,-0.02730650082230568,-0.039791472256183624,-0.043195512145757675,-0.045884087681770325,-0.04880084842443466,-0.05235019698739052,-0.05235527828335762,-0.05235527828335762,-0.05235806107521057,-0.05952907353639603,-0.06473374366760254,-0.06962961703538895,-0.06962954998016357,-0.06962954998016357,-0.06962954998016357,-0.06962954998016357,-0.06962954998016357,-0.06962954998016357,-0.06962954998016357,-0.06962954998016357,-0.06962954998016357,-0.06962954998016357,-0.06962966173887253,-0.07035574316978455,-0.07038901001214981,-0.07038918137550354,-0.07038918137550354,-0.07038918137550354,-0.07038918137550354,-0.07038918137550354,-0.07038918137550354,-0.07038919627666473,-0.07038919627666473,-0.0717596784234047,-0.07179003953933716,-0.07179050147533417,-0.07812366634607315,-0.08720586448907852,-0.09749242663383484,-0.11659526824951172,-0.12135796248912811,-0.12143395841121674,-0.12374940514564514,-0.1240147054195404,-0.1240147054195404],\"yaxis\":\"y\",\"type\":\"scattergl\"},{\"hovertemplate\":\"variable=b32\\u003cbr\\u003eEpoch=%{x}\\u003cbr\\u003evalue=%{y}\\u003cextra\\u003e\\u003c\\u002fextra\\u003e\",\"legendgroup\":\"b32\",\"line\":{\"color\":\"#EF553B\",\"dash\":\"solid\"},\"marker\":{\"symbol\":\"circle\"},\"mode\":\"lines\",\"name\":\"b32\",\"showlegend\":true,\"x\":[0,1,2,3,4,5,6,7,8,9,10,11,12,13,14,15,16,17,18,19,20,21,22,23,24,25,26,27,28,29,30,31,32,33,34,35,36,37,38,39,40,41,42,43,44,45,46,47,48,49],\"xaxis\":\"x\",\"y\":[0.0020759152248501778,0.01084910798817873,0.03609859570860863,0.043739479035139084,0.04813408479094505,0.05125100910663605,0.050761159509420395,0.049287259578704834,0.0478147454559803,0.04624614864587784,0.044181592762470245,0.04417801275849342,0.04417801275849342,0.04417562857270241,0.03794815018773079,0.03333158418536186,0.028390927240252495,0.028394605964422226,0.028394605964422226,0.028394605964422226,0.028394605964422226,0.028394605964422226,0.028394605964422226,0.028394605964422226,0.028394605964422226,0.028394605964422226,0.028394605964422226,0.028394680470228195,0.0288833137601614,0.02870013564825058,0.028700025752186775,0.028700025752186775,0.028700025752186775,0.028700025752186775,0.028700025752186775,0.028700025752186775,0.02870001830160618,0.02870001830160618,0.028208978474140167,0.028202835470438004,0.02820274420082569,0.027677781879901886,0.026922788470983505,0.02861924096941948,0.04545908421278,0.054780907928943634,0.05495937168598175,0.06504379212856293,0.06873901933431625,0.06873901933431625],\"yaxis\":\"y\",\"type\":\"scattergl\"},{\"hovertemplate\":\"variable=b33\\u003cbr\\u003eEpoch=%{x}\\u003cbr\\u003evalue=%{y}\\u003cextra\\u003e\\u003c\\u002fextra\\u003e\",\"legendgroup\":\"b33\",\"line\":{\"color\":\"#00cc96\",\"dash\":\"solid\"},\"marker\":{\"symbol\":\"circle\"},\"mode\":\"lines\",\"name\":\"b33\",\"showlegend\":true,\"x\":[0,1,2,3,4,5,6,7,8,9,10,11,12,13,14,15,16,17,18,19,20,21,22,23,24,25,26,27,28,29,30,31,32,33,34,35,36,37,38,39,40,41,42,43,44,45,46,47,48,49],\"xaxis\":\"x\",\"y\":[0.0035922741517424583,0.039937399327754974,0.13748669624328613,0.15764737129211426,0.14723436534404755,0.11222346872091293,0.08530249446630478,0.07649753242731094,0.069669209420681,0.06250080466270447,0.05413724482059479,0.054125018417835236,0.054125018417835236,0.05411793664097786,0.03674106299877167,0.025289546698331833,0.018137795850634575,0.018133653327822685,0.018133653327822685,0.018133653327822685,0.018133653327822685,0.018133653327822685,0.018133653327822685,0.018133653327822685,0.018133653327822685,0.018133653327822685,0.018133653327822685,0.018133247271180153,0.014599154703319073,0.015519853681325912,0.01552015170454979,0.01552015170454979,0.01552015170454979,0.01552015170454979,0.01552015170454979,0.01552015170454979,0.015520173124969006,0.015520173124969006,0.014793857000768185,0.01474667713046074,0.014745964668691158,0.0014001826057210565,-0.019606852903962135,-0.04275274649262428,-0.0680195689201355,-0.07839887589216232,-0.078743577003479,-0.09475252777338028,-0.09902546554803848,-0.09902546554803848],\"yaxis\":\"y\",\"type\":\"scattergl\"},{\"hovertemplate\":\"variable=b34\\u003cbr\\u003eEpoch=%{x}\\u003cbr\\u003evalue=%{y}\\u003cextra\\u003e\\u003c\\u002fextra\\u003e\",\"legendgroup\":\"b34\",\"line\":{\"color\":\"#ab63fa\",\"dash\":\"solid\"},\"marker\":{\"symbol\":\"circle\"},\"mode\":\"lines\",\"name\":\"b34\",\"showlegend\":true,\"x\":[0,1,2,3,4,5,6,7,8,9,10,11,12,13,14,15,16,17,18,19,20,21,22,23,24,25,26,27,28,29,30,31,32,33,34,35,36,37,38,39,40,41,42,43,44,45,46,47,48,49],\"xaxis\":\"x\",\"y\":[0.004255115054547787,0.029415834695100784,0.09396786987781525,0.10878141969442368,0.1150692030787468,0.12351464480161667,0.12896554172039032,0.12970374524593353,0.1290169656276703,0.12764431536197662,0.12489563226699829,0.1248898133635521,0.1248898133635521,0.12488579750061035,0.11475808918476105,0.10753040760755539,0.0956849679350853,0.09569566696882248,0.09569566696882248,0.09569566696882248,0.09569566696882248,0.09569566696882248,0.09569566696882248,0.09569566696882248,0.09569566696882248,0.09569566696882248,0.09569566696882248,0.09569594264030457,0.09620003402233124,0.08906738460063934,0.08906470984220505,0.08906470984220505,0.08906470984220505,0.08906470984220505,0.08906470984220505,0.08906470984220505,0.08906453102827072,0.08906453102827072,0.08012464642524719,0.08004526048898697,0.08004405349493027,0.07354559749364853,0.0678628534078598,0.07099056988954544,0.06996265798807144,0.07888484746217728,0.0790589302778244,0.08512011915445328,0.08674213290214539,0.08674213290214539],\"yaxis\":\"y\",\"type\":\"scattergl\"},{\"hovertemplate\":\"variable=b35\\u003cbr\\u003eEpoch=%{x}\\u003cbr\\u003evalue=%{y}\\u003cextra\\u003e\\u003c\\u002fextra\\u003e\",\"legendgroup\":\"b35\",\"line\":{\"color\":\"#FFA15A\",\"dash\":\"solid\"},\"marker\":{\"symbol\":\"circle\"},\"mode\":\"lines\",\"name\":\"b35\",\"showlegend\":true,\"x\":[0,1,2,3,4,5,6,7,8,9,10,11,12,13,14,15,16,17,18,19,20,21,22,23,24,25,26,27,28,29,30,31,32,33,34,35,36,37,38,39,40,41,42,43,44,45,46,47,48,49],\"xaxis\":\"x\",\"y\":[-0.001403518603183329,-0.00909616332501173,-0.022893786430358887,-0.016481006518006325,-0.003422799753025174,0.01392842922359705,0.022992189973592758,0.024625463411211967,0.025898607447743416,0.027401791885495186,0.02915680781006813,0.029158931225538254,0.029158931225538254,0.029159819707274437,0.03088957630097866,0.03141225129365921,0.02706846594810486,0.027074528858065605,0.027074528858065605,0.027074528858065605,0.027074528858065605,0.027074528858065605,0.027074528858065605,0.027074528858065605,0.027074528858065605,0.027074528858065605,0.027074528858065605,0.02707476168870926,0.026849109679460526,0.018220873549580574,0.01821798086166382,0.01821798086166382,0.01821798086166382,0.01821798086166382,0.01821798086166382,0.01821798086166382,0.0182177871465683,0.0182177871465683,0.00931021012365818,0.009242665953934193,0.009241637773811817,0.006106870714575052,0.005580895580351353,0.014668590389192104,0.005312999244779348,0.006230378523468971,0.0063411821611225605,0.008770162239670753,0.008985928259789944,0.008985928259789944],\"yaxis\":\"y\",\"type\":\"scattergl\"},{\"hovertemplate\":\"variable=b36\\u003cbr\\u003eEpoch=%{x}\\u003cbr\\u003evalue=%{y}\\u003cextra\\u003e\\u003c\\u002fextra\\u003e\",\"legendgroup\":\"b36\",\"line\":{\"color\":\"#19d3f3\",\"dash\":\"solid\"},\"marker\":{\"symbol\":\"circle\"},\"mode\":\"lines\",\"name\":\"b36\",\"showlegend\":true,\"x\":[0,1,2,3,4,5,6,7,8,9,10,11,12,13,14,15,16,17,18,19,20,21,22,23,24,25,26,27,28,29,30,31,32,33,34,35,36,37,38,39,40,41,42,43,44,45,46,47,48,49],\"xaxis\":\"x\",\"y\":[0.002222257200628519,0.02891167625784874,0.08869948983192444,0.08933257311582565,0.08591559529304504,0.09417044371366501,0.10321830958127975,0.10610810667276382,0.10688070952892303,0.10681649297475815,0.10580635815858841,0.1058039665222168,0.1058039665222168,0.10580231249332428,0.1023571640253067,0.10151592642068863,0.10575102269649506,0.10575046390295029,0.10575046390295029,0.10575046390295029,0.10575046390295029,0.10575046390295029,0.10575046390295029,0.10575046390295029,0.10575046390295029,0.10575046390295029,0.10575046390295029,0.10575050115585327,0.10833825170993805,0.11771558225154877,0.11771859228610992,0.11771859228610992,0.11771859228610992,0.11771859228610992,0.11771859228610992,0.11771859228610992,0.11771879345178604,0.11771879345178604,0.12698207795619965,0.127058207988739,0.12705937027931213,0.13097138702869415,0.13224010169506073,0.11981736123561859,0.12371525913476944,0.11686336994171143,0.11663255840539932,0.10810524225234985,0.10560273379087448,0.10560273379087448],\"yaxis\":\"y\",\"type\":\"scattergl\"},{\"hovertemplate\":\"variable=b37\\u003cbr\\u003eEpoch=%{x}\\u003cbr\\u003evalue=%{y}\\u003cextra\\u003e\\u003c\\u002fextra\\u003e\",\"legendgroup\":\"b37\",\"line\":{\"color\":\"#FF6692\",\"dash\":\"solid\"},\"marker\":{\"symbol\":\"circle\"},\"mode\":\"lines\",\"name\":\"b37\",\"showlegend\":true,\"x\":[0,1,2,3,4,5,6,7,8,9,10,11,12,13,14,15,16,17,18,19,20,21,22,23,24,25,26,27,28,29,30,31,32,33,34,35,36,37,38,39,40,41,42,43,44,45,46,47,48,49],\"xaxis\":\"x\",\"y\":[-0.00042478213435970247,-0.02198939025402069,-0.08658211678266525,-0.11230144649744034,-0.12005826085805893,-0.1159442588686943,-0.10975619405508041,-0.10763191431760788,-0.1063009649515152,-0.1050548329949379,-0.10412793606519699,-0.10412697494029999,-0.10412697494029999,-0.10412640869617462,-0.10366930812597275,-0.10474124550819397,-0.10994264483451843,-0.10993477702140808,-0.10993477702140808,-0.10993477702140808,-0.10993477702140808,-0.10993477702140808,-0.10993477702140808,-0.10993477702140808,-0.10993477702140808,-0.10993477702140808,-0.10993477702140808,-0.10993447154760361,-0.10692176222801208,-0.10786312073469162,-0.10786377638578415,-0.10786377638578415,-0.10786377638578415,-0.10786377638578415,-0.10786377638578415,-0.10786377638578415,-0.10786382108926773,-0.10786382108926773,-0.10987325012683868,-0.1098841205239296,-0.10988428443670273,-0.10865989327430725,-0.10512132197618484,-0.10044524073600769,-0.10363344848155975,-0.10415761917829514,-0.10407095402479172,-0.10061229765415192,-0.09984007477760315,-0.09984007477760315],\"yaxis\":\"y\",\"type\":\"scattergl\"},{\"hovertemplate\":\"variable=b38\\u003cbr\\u003eEpoch=%{x}\\u003cbr\\u003evalue=%{y}\\u003cextra\\u003e\\u003c\\u002fextra\\u003e\",\"legendgroup\":\"b38\",\"line\":{\"color\":\"#B6E880\",\"dash\":\"solid\"},\"marker\":{\"symbol\":\"circle\"},\"mode\":\"lines\",\"name\":\"b38\",\"showlegend\":true,\"x\":[0,1,2,3,4,5,6,7,8,9,10,11,12,13,14,15,16,17,18,19,20,21,22,23,24,25,26,27,28,29,30,31,32,33,34,35,36,37,38,39,40,41,42,43,44,45,46,47,48,49],\"xaxis\":\"x\",\"y\":[-0.0006628731498494744,0.019939390942454338,0.062431033700704575,0.06618548184633255,0.06331029534339905,0.048755183815956116,0.040979623794555664,0.03986749053001404,0.038635507225990295,0.03677019849419594,0.03389710560441017,0.0338921919465065,0.0338921919465065,0.03388923779129982,0.02715577930212021,0.023929249495267868,0.022376105189323425,0.022374268621206284,0.022374268621206284,0.022374268621206284,0.022374268621206284,0.022374268621206284,0.022374268621206284,0.022374268621206284,0.022374268621206284,0.022374268621206284,0.022374268621206284,0.022374125197529793,0.02058463729918003,0.019897013902664185,0.019897188991308212,0.019897188991308212,0.019897188991308212,0.019897188991308212,0.019897188991308212,0.019897188991308212,0.019897202029824257,0.019897202029824257,0.02068607695400715,0.020691310986876488,0.020691392943263054,0.018653161823749542,0.012092315591871738,-0.007581194397062063,-0.016741909086704254,-0.016672497615218163,-0.016786208376288414,-0.02125565893948078,-0.022787023335695267,-0.022787023335695267],\"yaxis\":\"y\",\"type\":\"scattergl\"},{\"hovertemplate\":\"variable=b39\\u003cbr\\u003eEpoch=%{x}\\u003cbr\\u003evalue=%{y}\\u003cextra\\u003e\\u003c\\u002fextra\\u003e\",\"legendgroup\":\"b39\",\"line\":{\"color\":\"#FF97FF\",\"dash\":\"solid\"},\"marker\":{\"symbol\":\"circle\"},\"mode\":\"lines\",\"name\":\"b39\",\"showlegend\":true,\"x\":[0,1,2,3,4,5,6,7,8,9,10,11,12,13,14,15,16,17,18,19,20,21,22,23,24,25,26,27,28,29,30,31,32,33,34,35,36,37,38,39,40,41,42,43,44,45,46,47,48,49],\"xaxis\":\"x\",\"y\":[0.01836862973868847,0.04231102764606476,0.09107990562915802,0.11276117712259293,0.11445587873458862,0.10702988505363464,0.0965523049235344,0.0909813791513443,0.0867154598236084,0.08298744261264801,0.0789707601070404,0.07896501570940018,0.07896501570940018,0.07896171510219574,0.07070329040288925,0.06464391201734543,0.05485949665307999,0.05486356467008591,0.05486356467008591,0.05486356467008591,0.05486356467008591,0.05486356467008591,0.05486356467008591,0.05486356467008591,0.05486356467008591,0.05486356467008591,0.05486356467008591,0.05486353114247322,0.05252818018198013,0.0431533083319664,0.043149761855602264,0.043149761855602264,0.043149761855602264,0.043149761855602264,0.043149761855602264,0.043149761855602264,0.043149519711732864,0.043149519711732864,0.030437510460615158,0.030298199504613876,0.03029608353972435,0.013230515643954277,-0.00524564553052187,-0.006515598855912685,-0.03644557297229767,-0.041490305215120316,-0.04168017581105232,-0.05622030794620514,-0.06091463938355446,-0.06091463938355446],\"yaxis\":\"y\",\"type\":\"scattergl\"},{\"hovertemplate\":\"variable=b40\\u003cbr\\u003eEpoch=%{x}\\u003cbr\\u003evalue=%{y}\\u003cextra\\u003e\\u003c\\u002fextra\\u003e\",\"legendgroup\":\"b40\",\"line\":{\"color\":\"#FECB52\",\"dash\":\"solid\"},\"marker\":{\"symbol\":\"circle\"},\"mode\":\"lines\",\"name\":\"b40\",\"showlegend\":true,\"x\":[0,1,2,3,4,5,6,7,8,9,10,11,12,13,14,15,16,17,18,19,20,21,22,23,24,25,26,27,28,29,30,31,32,33,34,35,36,37,38,39,40,41,42,43,44,45,46,47,48,49],\"xaxis\":\"x\",\"y\":[0.0006934621487744153,-0.009458082728087902,-0.0423908568918705,-0.061061788350343704,-0.07572358101606369,-0.08750827610492706,-0.08993256837129593,-0.08841297030448914,-0.08702172338962555,-0.08577113598585129,-0.08431874960660934,-0.08431608229875565,-0.08431608229875565,-0.08431407809257507,-0.07921480387449265,-0.07554658502340317,-0.07215762883424759,-0.07216048985719681,-0.07216048985719681,-0.07216048985719681,-0.07216048985719681,-0.07216048985719681,-0.07216048985719681,-0.07216048985719681,-0.07216048985719681,-0.07216048985719681,-0.07216048985719681,-0.07216055691242218,-0.07250428199768066,-0.07284221053123474,-0.07284240424633026,-0.07284240424633026,-0.07284240424633026,-0.07284240424633026,-0.07284240424633026,-0.07284240424633026,-0.07284241914749146,-0.07284241914749146,-0.07363655418157578,-0.07364730536937714,-0.07364746928215027,-0.07551894336938858,-0.07749618589878082,-0.08272289484739304,-0.11371529847383499,-0.1275896281003952,-0.12783268094062805,-0.14126582443714142,-0.1461179405450821,-0.1461179405450821],\"yaxis\":\"y\",\"type\":\"scattergl\"},{\"hovertemplate\":\"variable=b41\\u003cbr\\u003eEpoch=%{x}\\u003cbr\\u003evalue=%{y}\\u003cextra\\u003e\\u003c\\u002fextra\\u003e\",\"legendgroup\":\"b41\",\"line\":{\"color\":\"#636efa\",\"dash\":\"solid\"},\"marker\":{\"symbol\":\"circle\"},\"mode\":\"lines\",\"name\":\"b41\",\"showlegend\":true,\"x\":[0,1,2,3,4,5,6,7,8,9,10,11,12,13,14,15,16,17,18,19,20,21,22,23,24,25,26,27,28,29,30,31,32,33,34,35,36,37,38,39,40,41,42,43,44,45,46,47,48,49],\"xaxis\":\"x\",\"y\":[0.0053644683212041855,-0.014103938825428486,-0.056866277009248734,-0.08730282634496689,-0.11043155938386917,-0.11705688387155533,-0.11612925678491592,-0.11501971632242203,-0.11410558968782425,-0.11290201544761658,-0.11096224188804626,-0.11095810681581497,-0.11095810681581497,-0.11095502972602844,-0.10329777747392654,-0.09818309545516968,-0.087821364402771,-0.08782802522182465,-0.08782802522182465,-0.08782802522182465,-0.08782802522182465,-0.08782802522182465,-0.08782802522182465,-0.08782802522182465,-0.08782802522182465,-0.08782802522182465,-0.08782802522182465,-0.0878281369805336,-0.08431916683912277,-0.06874588131904602,-0.06874118745326996,-0.06874118745326996,-0.06874118745326996,-0.06874118745326996,-0.06874118745326996,-0.06874118745326996,-0.06874088197946548,-0.06874088197946548,-0.05430725961923599,-0.05418686196208,-0.05418503284454346,-0.04406485706567764,-0.032259974628686905,-0.023432910442352295,0.008467437699437141,0.012055451981723309,0.012121087871491909,0.01896459236741066,0.021852873265743256,0.021852873265743256],\"yaxis\":\"y\",\"type\":\"scattergl\"},{\"hovertemplate\":\"variable=b42\\u003cbr\\u003eEpoch=%{x}\\u003cbr\\u003evalue=%{y}\\u003cextra\\u003e\\u003c\\u002fextra\\u003e\",\"legendgroup\":\"b42\",\"line\":{\"color\":\"#EF553B\",\"dash\":\"solid\"},\"marker\":{\"symbol\":\"circle\"},\"mode\":\"lines\",\"name\":\"b42\",\"showlegend\":true,\"x\":[0,1,2,3,4,5,6,7,8,9,10,11,12,13,14,15,16,17,18,19,20,21,22,23,24,25,26,27,28,29,30,31,32,33,34,35,36,37,38,39,40,41,42,43,44,45,46,47,48,49],\"xaxis\":\"x\",\"y\":[-0.01583370380103588,-0.03510789945721626,-0.060333799570798874,-0.06444617360830307,-0.051801860332489014,-0.04656701907515526,-0.04907791316509247,-0.05035553127527237,-0.04973747953772545,-0.0481400191783905,-0.04474663734436035,-0.04474044591188431,-0.04474044591188431,-0.04473670572042465,-0.0350477509200573,-0.02807062305510044,-0.021348608657717705,-0.02135618031024933,-0.02135618031024933,-0.02135618031024933,-0.02135618031024933,-0.02135618031024933,-0.02135618031024933,-0.02135618031024933,-0.02135618031024933,-0.02135618031024933,-0.02135618031024933,-0.02135639078915119,-0.025900525972247124,-0.03122747875750065,-0.031228287145495415,-0.031228287145495415,-0.031228287145495415,-0.031228287145495415,-0.031228287145495415,-0.031228287145495415,-0.031228335574269295,-0.031228335574269295,-0.032101813703775406,-0.03207801654934883,-0.03207765892148018,-0.02279760129749775,-0.010082105174660683,0.005396363791078329,0.028381643816828728,0.03632473573088646,0.03658802807331085,0.048214931041002274,0.05141480267047882,0.05141480267047882],\"yaxis\":\"y\",\"type\":\"scattergl\"},{\"hovertemplate\":\"variable=b43\\u003cbr\\u003eEpoch=%{x}\\u003cbr\\u003evalue=%{y}\\u003cextra\\u003e\\u003c\\u002fextra\\u003e\",\"legendgroup\":\"b43\",\"line\":{\"color\":\"#00cc96\",\"dash\":\"solid\"},\"marker\":{\"symbol\":\"circle\"},\"mode\":\"lines\",\"name\":\"b43\",\"showlegend\":true,\"x\":[0,1,2,3,4,5,6,7,8,9,10,11,12,13,14,15,16,17,18,19,20,21,22,23,24,25,26,27,28,29,30,31,32,33,34,35,36,37,38,39,40,41,42,43,44,45,46,47,48,49],\"xaxis\":\"x\",\"y\":[0.0016842233017086983,0.01692264713346958,0.05720198154449463,0.06625576317310333,0.07126021385192871,0.07991396635770798,0.08756329864263535,0.0905318483710289,0.09228623658418655,0.09364030510187149,0.09481418132781982,0.09481518715620041,0.09481518715620041,0.09481552988290787,0.09622542560100555,0.09804562479257584,0.10065574198961258,0.10065589845180511,0.10065589845180511,0.10065589845180511,0.10065589845180511,0.10065589845180511,0.10065589845180511,0.10065589845180511,0.10065589845180511,0.10065589845180511,0.10065589845180511,0.1006559506058693,0.10160467028617859,0.10427164286375046,0.10427256673574448,0.10427256673574448,0.10427256673574448,0.10427256673574448,0.10427256673574448,0.10427256673574448,0.10427262634038925,0.10427262634038925,0.10759124904870987,0.10763158649206161,0.10763219743967056,0.11355990916490555,0.12136764824390411,0.12966422736644745,0.1635727733373642,0.18084430694580078,0.1811206191778183,0.19565518200397491,0.2003011852502823,0.2003011852502823],\"yaxis\":\"y\",\"type\":\"scattergl\"},{\"hovertemplate\":\"variable=b44\\u003cbr\\u003eEpoch=%{x}\\u003cbr\\u003evalue=%{y}\\u003cextra\\u003e\\u003c\\u002fextra\\u003e\",\"legendgroup\":\"b44\",\"line\":{\"color\":\"#ab63fa\",\"dash\":\"solid\"},\"marker\":{\"symbol\":\"circle\"},\"mode\":\"lines\",\"name\":\"b44\",\"showlegend\":true,\"x\":[0,1,2,3,4,5,6,7,8,9,10,11,12,13,14,15,16,17,18,19,20,21,22,23,24,25,26,27,28,29,30,31,32,33,34,35,36,37,38,39,40,41,42,43,44,45,46,47,48,49],\"xaxis\":\"x\",\"y\":[-0.0009003294981084764,-0.005824024323374033,-0.023244697600603104,-0.039709534496068954,-0.055690646171569824,-0.07478080689907074,-0.08450081944465637,-0.08632383495569229,-0.08758531510829926,-0.08884920179843903,-0.09017021954059601,-0.09017147123813629,-0.09017147123813629,-0.09017171710729599,-0.09032006561756134,-0.0894203782081604,-0.0839398130774498,-0.0839468464255333,-0.0839468464255333,-0.0839468464255333,-0.0839468464255333,-0.0839468464255333,-0.0839468464255333,-0.0839468464255333,-0.0839468464255333,-0.0839468464255333,-0.0839468464255333,-0.083947092294693,-0.08374064415693283,-0.07519153505563736,-0.07518857717514038,-0.07518857717514038,-0.07518857717514038,-0.07518857717514038,-0.07518857717514038,-0.07518857717514038,-0.07518838346004486,-0.07518838346004486,-0.0658523440361023,-0.06577575951814651,-0.0657745972275734,-0.05985131859779358,-0.055030010640621185,-0.057834770530462265,-0.03548645228147507,-0.02988605760037899,-0.029822198674082756,-0.023273497819900513,-0.020496759563684464,-0.020496759563684464],\"yaxis\":\"y\",\"type\":\"scattergl\"},{\"hovertemplate\":\"variable=b45\\u003cbr\\u003eEpoch=%{x}\\u003cbr\\u003evalue=%{y}\\u003cextra\\u003e\\u003c\\u002fextra\\u003e\",\"legendgroup\":\"b45\",\"line\":{\"color\":\"#FFA15A\",\"dash\":\"solid\"},\"marker\":{\"symbol\":\"circle\"},\"mode\":\"lines\",\"name\":\"b45\",\"showlegend\":true,\"x\":[0,1,2,3,4,5,6,7,8,9,10,11,12,13,14,15,16,17,18,19,20,21,22,23,24,25,26,27,28,29,30,31,32,33,34,35,36,37,38,39,40,41,42,43,44,45,46,47,48,49],\"xaxis\":\"x\",\"y\":[0.0017411935841664672,0.022713130339980125,0.07196164131164551,0.0739324614405632,0.06768020242452621,0.06319863349199295,0.061717502772808075,0.06103581190109253,0.059528764337301254,0.05735919997096062,0.054058004170656204,0.054052408784627914,0.054052408784627914,0.05404892936348915,0.04530965909361839,0.039561279118061066,0.03436514735221863,0.034368764609098434,0.034368764609098434,0.034368764609098434,0.034368764609098434,0.034368764609098434,0.034368764609098434,0.034368764609098434,0.034368764609098434,0.034368764609098434,0.034368764609098434,0.03436882048845291,0.03490534797310829,0.034943681210279465,0.03494345396757126,0.03494345396757126,0.03494345396757126,0.03494345396757126,0.03494345396757126,0.03494345396757126,0.034943439066410065,0.034943439066410065,0.033345289528369904,0.03331473842263222,0.03331427648663521,0.026324577629566193,0.016156816855072975,0.0025477225426584482,-0.022387873381376266,-0.031025363132357597,-0.031202908605337143,-0.03889555111527443,-0.0411374568939209,-0.0411374568939209],\"yaxis\":\"y\",\"type\":\"scattergl\"},{\"hovertemplate\":\"variable=b46\\u003cbr\\u003eEpoch=%{x}\\u003cbr\\u003evalue=%{y}\\u003cextra\\u003e\\u003c\\u002fextra\\u003e\",\"legendgroup\":\"b46\",\"line\":{\"color\":\"#19d3f3\",\"dash\":\"solid\"},\"marker\":{\"symbol\":\"circle\"},\"mode\":\"lines\",\"name\":\"b46\",\"showlegend\":true,\"x\":[0,1,2,3,4,5,6,7,8,9,10,11,12,13,14,15,16,17,18,19,20,21,22,23,24,25,26,27,28,29,30,31,32,33,34,35,36,37,38,39,40,41,42,43,44,45,46,47,48,49],\"xaxis\":\"x\",\"y\":[0.0010220182593911886,0.0021652071736752987,-0.0015342187834903598,-0.011025944724678993,-0.01849767006933689,-0.026867639273405075,-0.031190533190965652,-0.03251905366778374,-0.033911045640707016,-0.03558005765080452,-0.03806103765964508,-0.038065165281295776,-0.038065165281295776,-0.038067638874053955,-0.04481624811887741,-0.05023711547255516,-0.05741146579384804,-0.05740632861852646,-0.05740632861852646,-0.05740632861852646,-0.05740632861852646,-0.05740632861852646,-0.05740632861852646,-0.05740632861852646,-0.05740632861852646,-0.05740632861852646,-0.05740632861852646,-0.0574062243103981,-0.05629083141684532,-0.056550417095422745,-0.05655071511864662,-0.05655071511864662,-0.05655071511864662,-0.05655071511864662,-0.05655071511864662,-0.05655071511864662,-0.056550733745098114,-0.056550733745098114,-0.05785980448126793,-0.057877376675605774,-0.057877641171216965,-0.06033063679933548,-0.06336843222379684,-0.06531209498643875,-0.06421639025211334,-0.061480674892663956,-0.06141391769051552,-0.057838208973407745,-0.05649130046367645,-0.05649130046367645],\"yaxis\":\"y\",\"type\":\"scattergl\"},{\"hovertemplate\":\"variable=b47\\u003cbr\\u003eEpoch=%{x}\\u003cbr\\u003evalue=%{y}\\u003cextra\\u003e\\u003c\\u002fextra\\u003e\",\"legendgroup\":\"b47\",\"line\":{\"color\":\"#FF6692\",\"dash\":\"solid\"},\"marker\":{\"symbol\":\"circle\"},\"mode\":\"lines\",\"name\":\"b47\",\"showlegend\":true,\"x\":[0,1,2,3,4,5,6,7,8,9,10,11,12,13,14,15,16,17,18,19,20,21,22,23,24,25,26,27,28,29,30,31,32,33,34,35,36,37,38,39,40,41,42,43,44,45,46,47,48,49],\"xaxis\":\"x\",\"y\":[-0.002207842655479908,-0.011165779083967209,-0.04887035861611366,-0.06700918823480606,-0.07276315242052078,-0.07655850052833557,-0.07479331642389297,-0.07288704067468643,-0.07179185748100281,-0.07122066617012024,-0.07132001221179962,-0.07132072746753693,-0.07132072746753693,-0.07132114470005035,-0.07244361191987991,-0.07271936535835266,-0.07277090847492218,-0.0727694109082222,-0.0727694109082222,-0.0727694109082222,-0.0727694109082222,-0.0727694109082222,-0.0727694109082222,-0.0727694109082222,-0.0727694109082222,-0.0727694109082222,-0.0727694109082222,-0.07276932895183563,-0.07151759415864944,-0.0701775774359703,-0.07017699629068375,-0.07017699629068375,-0.07017699629068375,-0.07017699629068375,-0.07017699629068375,-0.07017699629068375,-0.07017695903778076,-0.07017695903778076,-0.0677754208445549,-0.06774506717920303,-0.06774460524320602,-0.06426845490932465,-0.06188305467367172,-0.07220054417848587,-0.07605200260877609,-0.078347347676754,-0.07839379459619522,-0.07968584448099136,-0.0803743451833725,-0.0803743451833725],\"yaxis\":\"y\",\"type\":\"scattergl\"},{\"hovertemplate\":\"variable=b48\\u003cbr\\u003eEpoch=%{x}\\u003cbr\\u003evalue=%{y}\\u003cextra\\u003e\\u003c\\u002fextra\\u003e\",\"legendgroup\":\"b48\",\"line\":{\"color\":\"#B6E880\",\"dash\":\"solid\"},\"marker\":{\"symbol\":\"circle\"},\"mode\":\"lines\",\"name\":\"b48\",\"showlegend\":true,\"x\":[0,1,2,3,4,5,6,7,8,9,10,11,12,13,14,15,16,17,18,19,20,21,22,23,24,25,26,27,28,29,30,31,32,33,34,35,36,37,38,39,40,41,42,43,44,45,46,47,48,49],\"xaxis\":\"x\",\"y\":[0.0068030995316803455,-0.01707920990884304,-0.0895080491900444,-0.09045739471912384,-0.08503726124763489,-0.08004173636436462,-0.0801079198718071,-0.08129899203777313,-0.08124414086341858,-0.08002559840679169,-0.0775386393070221,-0.07753349840641022,-0.07753349840641022,-0.07752993702888489,-0.06822270900011063,-0.061455462127923965,-0.05380452796816826,-0.053809888660907745,-0.053809888660907745,-0.053809888660907745,-0.053809888660907745,-0.053809888660907745,-0.053809888660907745,-0.053809888660907745,-0.053809888660907745,-0.053809888660907745,-0.053809888660907745,-0.0538099966943264,-0.05345519632101059,-0.05039381608366966,-0.050392746925354004,-0.050392746925354004,-0.050392746925354004,-0.050392746925354004,-0.050392746925354004,-0.050392746925354004,-0.05039267614483833,-0.05039267614483833,-0.04646218940615654,-0.04641954228281975,-0.046418894082307816,-0.03958247974514961,-0.029009610414505005,-0.010518180206418037,0.029062598943710327,0.041945938020944595,0.04212980344891548,0.05014990270137787,0.05307392030954361,0.05307392030954361],\"yaxis\":\"y\",\"type\":\"scattergl\"},{\"hovertemplate\":\"variable=b49\\u003cbr\\u003eEpoch=%{x}\\u003cbr\\u003evalue=%{y}\\u003cextra\\u003e\\u003c\\u002fextra\\u003e\",\"legendgroup\":\"b49\",\"line\":{\"color\":\"#FF97FF\",\"dash\":\"solid\"},\"marker\":{\"symbol\":\"circle\"},\"mode\":\"lines\",\"name\":\"b49\",\"showlegend\":true,\"x\":[0,1,2,3,4,5,6,7,8,9,10,11,12,13,14,15,16,17,18,19,20,21,22,23,24,25,26,27,28,29,30,31,32,33,34,35,36,37,38,39,40,41,42,43,44,45,46,47,48,49],\"xaxis\":\"x\",\"y\":[0.00041679127025417984,-0.0031755687668919563,-0.01970108598470688,-0.03606747090816498,-0.053470928221940994,-0.07413504272699356,-0.08353058248758316,-0.08421774208545685,-0.08440400660037994,-0.08464085310697556,-0.08465467393398285,-0.0846538096666336,-0.0846538096666336,-0.08465270698070526,-0.08131738752126694,-0.07806607335805893,-0.07124368101358414,-0.0712517499923706,-0.0712517499923706,-0.0712517499923706,-0.0712517499923706,-0.0712517499923706,-0.0712517499923706,-0.0712517499923706,-0.0712517499923706,-0.0712517499923706,-0.0712517499923706,-0.0712520182132721,-0.07212910056114197,-0.06653143465518951,-0.06652939319610596,-0.06652939319610596,-0.06652939319610596,-0.06652939319610596,-0.06652939319610596,-0.06652939319610596,-0.06652925908565521,-0.06652925908565521,-0.05996236577630043,-0.059907905757427216,-0.05990707874298096,-0.055753130465745926,-0.05238031595945358,-0.056047145277261734,-0.05048203095793724,-0.05065702274441719,-0.050712600350379944,-0.052288398146629333,-0.05277793109416962,-0.05277793109416962],\"yaxis\":\"y\",\"type\":\"scattergl\"},{\"hovertemplate\":\"variable=b50\\u003cbr\\u003eEpoch=%{x}\\u003cbr\\u003evalue=%{y}\\u003cextra\\u003e\\u003c\\u002fextra\\u003e\",\"legendgroup\":\"b50\",\"line\":{\"color\":\"#FECB52\",\"dash\":\"solid\"},\"marker\":{\"symbol\":\"circle\"},\"mode\":\"lines\",\"name\":\"b50\",\"showlegend\":true,\"x\":[0,1,2,3,4,5,6,7,8,9,10,11,12,13,14,15,16,17,18,19,20,21,22,23,24,25,26,27,28,29,30,31,32,33,34,35,36,37,38,39,40,41,42,43,44,45,46,47,48,49],\"xaxis\":\"x\",\"y\":[0.005810395814478397,0.013161887414753437,0.0453842394053936,0.043181050568819046,0.033447373658418655,0.03264835849404335,0.030909959226846695,0.027963552623987198,0.02474633790552616,0.02153140679001808,0.01763223670423031,0.017626173794269562,0.017626173794269562,0.01762245036661625,0.007445569150149822,-0.0012172800488770008,-0.011604297906160355,-0.011596819385886192,-0.011596819385886192,-0.011596819385886192,-0.011596819385886192,-0.011596819385886192,-0.011596819385886192,-0.011596819385886192,-0.011596819385886192,-0.011596819385886192,-0.011596819385886192,-0.011596661061048508,-0.01053085271269083,-0.012420229613780975,-0.012421581894159317,-0.012421581894159317,-0.012421581894159317,-0.012421581894159317,-0.012421581894159317,-0.012421581894159317,-0.012421675957739353,-0.012421675957739353,-0.018415680155158043,-0.018494678661227226,-0.018495876342058182,-0.030054884031414986,-0.043087977916002274,-0.04582051932811737,-0.06805131584405899,-0.07124700397253036,-0.07121013849973679,-0.0684155598282814,-0.0669255182147026,-0.0669255182147026],\"yaxis\":\"y\",\"type\":\"scattergl\"},{\"hovertemplate\":\"variable=b51\\u003cbr\\u003eEpoch=%{x}\\u003cbr\\u003evalue=%{y}\\u003cextra\\u003e\\u003c\\u002fextra\\u003e\",\"legendgroup\":\"b51\",\"line\":{\"color\":\"#636efa\",\"dash\":\"solid\"},\"marker\":{\"symbol\":\"circle\"},\"mode\":\"lines\",\"name\":\"b51\",\"showlegend\":true,\"x\":[0,1,2,3,4,5,6,7,8,9,10,11,12,13,14,15,16,17,18,19,20,21,22,23,24,25,26,27,28,29,30,31,32,33,34,35,36,37,38,39,40,41,42,43,44,45,46,47,48,49],\"xaxis\":\"x\",\"y\":[-0.006209155078977346,0.013379053212702274,0.08213390409946442,0.08930280059576035,0.09312885254621506,0.08811070770025253,0.0803256407380104,0.07754367589950562,0.07606256008148193,0.07489670813083649,0.07447726279497147,0.0744771659374237,0.0744771659374237,0.07447706162929535,0.07479444891214371,0.07587019354104996,0.07789920270442963,0.07789263874292374,0.07789263874292374,0.07789263874292374,0.07789263874292374,0.07789263874292374,0.07789263874292374,0.07789263874292374,0.07789263874292374,0.07789263874292374,0.07789263874292374,0.07789234817028046,0.07206996530294418,0.06471775472164154,0.06471598893404007,0.06471598893404007,0.06471598893404007,0.06471598893404007,0.06471598893404007,0.06471598893404007,0.06471587717533112,0.06471587717533112,0.05938364565372467,0.05934077873826027,0.05934012681245804,0.055855780839920044,0.05104102939367294,0.04748959839344025,0.026050491258502007,0.01795538328588009,0.017825357615947723,0.009013114497065544,0.0055564530193805695,0.0055564530193805695],\"yaxis\":\"y\",\"type\":\"scattergl\"},{\"hovertemplate\":\"variable=b52\\u003cbr\\u003eEpoch=%{x}\\u003cbr\\u003evalue=%{y}\\u003cextra\\u003e\\u003c\\u002fextra\\u003e\",\"legendgroup\":\"b52\",\"line\":{\"color\":\"#EF553B\",\"dash\":\"solid\"},\"marker\":{\"symbol\":\"circle\"},\"mode\":\"lines\",\"name\":\"b52\",\"showlegend\":true,\"x\":[0,1,2,3,4,5,6,7,8,9,10,11,12,13,14,15,16,17,18,19,20,21,22,23,24,25,26,27,28,29,30,31,32,33,34,35,36,37,38,39,40,41,42,43,44,45,46,47,48,49],\"xaxis\":\"x\",\"y\":[-0.001603516167961061,-0.015166698023676872,-0.05176937207579613,-0.06127162650227547,-0.05975361168384552,-0.05067235976457596,-0.04238447546958923,-0.0390172079205513,-0.03621469810605049,-0.03317458927631378,-0.029440587386488914,-0.02943478897213936,-0.02943478897213936,-0.02943124622106552,-0.020307715982198715,-0.01367809996008873,-0.00638195313513279,-0.006384602282196283,-0.006384602282196283,-0.006384602282196283,-0.006384602282196283,-0.006384602282196283,-0.006384602282196283,-0.006384602282196283,-0.006384602282196283,-0.006384602282196283,-0.006384602282196283,-0.006384570151567459,-0.005100334528833628,-0.0013573882170021534,-0.0013560140505433083,-0.0013560140505433083,-0.0013560140505433083,-0.0013560140505433083,-0.0013560140505433083,-0.0013560140505433083,-0.001355922082439065,-0.001355922082439065,0.0038229229394346476,0.0038851131685078144,0.0038860563654452562,0.012761427089571953,0.024446597322821617,0.03505378216505051,0.06287508457899094,0.07403991371393204,0.07425860315561295,0.08602005243301392,0.08966562151908875,0.08966562151908875],\"yaxis\":\"y\",\"type\":\"scattergl\"},{\"hovertemplate\":\"variable=b53\\u003cbr\\u003eEpoch=%{x}\\u003cbr\\u003evalue=%{y}\\u003cextra\\u003e\\u003c\\u002fextra\\u003e\",\"legendgroup\":\"b53\",\"line\":{\"color\":\"#00cc96\",\"dash\":\"solid\"},\"marker\":{\"symbol\":\"circle\"},\"mode\":\"lines\",\"name\":\"b53\",\"showlegend\":true,\"x\":[0,1,2,3,4,5,6,7,8,9,10,11,12,13,14,15,16,17,18,19,20,21,22,23,24,25,26,27,28,29,30,31,32,33,34,35,36,37,38,39,40,41,42,43,44,45,46,47,48,49],\"xaxis\":\"x\",\"y\":[-0.0035094248596578836,-0.032875750213861465,-0.11654376238584518,-0.14527058601379395,-0.15299184620380402,-0.14738215506076813,-0.13857382535934448,-0.13484278321266174,-0.1322864443063736,-0.12993371486663818,-0.12755484879016876,-0.1275513470172882,-0.1275513470172882,-0.12754909694194794,-0.1220569834113121,-0.11780054867267609,-0.11105357855558395,-0.11105448007583618,-0.11105448007583618,-0.11105448007583618,-0.11105448007583618,-0.11105448007583618,-0.11105448007583618,-0.11105448007583618,-0.11105448007583618,-0.11105448007583618,-0.11105448007583618,-0.11105436086654663,-0.10761973261833191,-0.10011164098978043,-0.10010916739702225,-0.10010916739702225,-0.10010916739702225,-0.10010916739702225,-0.10010916739702225,-0.10010916739702225,-0.10010900348424911,-0.10010900348424911,-0.09149022400379181,-0.09139884263277054,-0.09139745682477951,-0.0798325166106224,-0.06576492637395859,-0.06123417988419533,-0.03472844138741493,-0.030076252296566963,-0.029923753812909126,-0.019875243306159973,-0.016586188226938248,-0.016586188226938248],\"yaxis\":\"y\",\"type\":\"scattergl\"},{\"hovertemplate\":\"variable=b54\\u003cbr\\u003eEpoch=%{x}\\u003cbr\\u003evalue=%{y}\\u003cextra\\u003e\\u003c\\u002fextra\\u003e\",\"legendgroup\":\"b54\",\"line\":{\"color\":\"#ab63fa\",\"dash\":\"solid\"},\"marker\":{\"symbol\":\"circle\"},\"mode\":\"lines\",\"name\":\"b54\",\"showlegend\":true,\"x\":[0,1,2,3,4,5,6,7,8,9,10,11,12,13,14,15,16,17,18,19,20,21,22,23,24,25,26,27,28,29,30,31,32,33,34,35,36,37,38,39,40,41,42,43,44,45,46,47,48,49],\"xaxis\":\"x\",\"y\":[-0.0036394044291228056,-0.042225103825330734,-0.14333359897136688,-0.14961130917072296,-0.14874610304832458,-0.15786892175674438,-0.16806291043758392,-0.17205026745796204,-0.1736786812543869,-0.17422983050346375,-0.17357376217842102,-0.17357076704502106,-0.17357076704502106,-0.17356827855110168,-0.16716523468494415,-0.16257239878177643,-0.15416640043258667,-0.1541760116815567,-0.1541760116815567,-0.1541760116815567,-0.1541760116815567,-0.1541760116815567,-0.1541760116815567,-0.1541760116815567,-0.1541760116815567,-0.1541760116815567,-0.1541760116815567,-0.15417630970478058,-0.1551697552204132,-0.15105357766151428,-0.15105204284191132,-0.15105204284191132,-0.15105204284191132,-0.15105204284191132,-0.15105204284191132,-0.15105204284191132,-0.15105193853378296,-0.15105193853378296,-0.14602892100811005,-0.14598947763442993,-0.14598888158798218,-0.14268530905246735,-0.13910053670406342,-0.13580217957496643,-0.13375522196292877,-0.14629380404949188,-0.14656460285186768,-0.16105137765407562,-0.16526928544044495,-0.16526928544044495],\"yaxis\":\"y\",\"type\":\"scattergl\"},{\"hovertemplate\":\"variable=b55\\u003cbr\\u003eEpoch=%{x}\\u003cbr\\u003evalue=%{y}\\u003cextra\\u003e\\u003c\\u002fextra\\u003e\",\"legendgroup\":\"b55\",\"line\":{\"color\":\"#FFA15A\",\"dash\":\"solid\"},\"marker\":{\"symbol\":\"circle\"},\"mode\":\"lines\",\"name\":\"b55\",\"showlegend\":true,\"x\":[0,1,2,3,4,5,6,7,8,9,10,11,12,13,14,15,16,17,18,19,20,21,22,23,24,25,26,27,28,29,30,31,32,33,34,35,36,37,38,39,40,41,42,43,44,45,46,47,48,49],\"xaxis\":\"x\",\"y\":[-0.0009226137772202492,-0.009496087208390236,-0.0325656495988369,-0.038955818861722946,-0.040451522916555405,-0.04019870236515999,-0.04001491144299507,-0.040195658802986145,-0.040319737046957016,-0.04038463160395622,-0.04053238779306412,-0.040532685816287994,-0.040532685816287994,-0.04053287208080292,-0.04150013625621796,-0.04303815960884094,-0.047703325748443604,-0.047699280083179474,-0.047699280083179474,-0.047699280083179474,-0.047699280083179474,-0.047699280083179474,-0.047699280083179474,-0.047699280083179474,-0.047699280083179474,-0.047699280083179474,-0.047699280083179474,-0.04769916087388992,-0.047809846699237823,-0.052697859704494476,-0.052699603140354156,-0.052699603140354156,-0.052699603140354156,-0.052699603140354156,-0.052699603140354156,-0.052699603140354156,-0.05269971862435341,-0.05269971862435341,-0.05838271975517273,-0.058433473110198975,-0.058434244245290756,-0.0626872256398201,-0.06651134043931961,-0.06753190606832504,-0.09043831378221512,-0.09775155037641525,-0.09781072288751602,-0.10211243480443954,-0.10376117378473282,-0.10376117378473282],\"yaxis\":\"y\",\"type\":\"scattergl\"},{\"hovertemplate\":\"variable=b56\\u003cbr\\u003eEpoch=%{x}\\u003cbr\\u003evalue=%{y}\\u003cextra\\u003e\\u003c\\u002fextra\\u003e\",\"legendgroup\":\"b56\",\"line\":{\"color\":\"#19d3f3\",\"dash\":\"solid\"},\"marker\":{\"symbol\":\"circle\"},\"mode\":\"lines\",\"name\":\"b56\",\"showlegend\":true,\"x\":[0,1,2,3,4,5,6,7,8,9,10,11,12,13,14,15,16,17,18,19,20,21,22,23,24,25,26,27,28,29,30,31,32,33,34,35,36,37,38,39,40,41,42,43,44,45,46,47,48,49],\"xaxis\":\"x\",\"y\":[0.0049532088451087475,0.03376172482967377,0.13182374835014343,0.18125228583812714,0.22092008590698242,0.27452313899993896,0.30206817388534546,0.3065085709095001,0.3089058995246887,0.3118111789226532,0.31546178460121155,0.3154659867286682,0.3154659867286682,0.3154674172401428,0.3196289539337158,0.3226299285888672,0.32239753007888794,0.3224034607410431,0.3224034607410431,0.3224034607410431,0.3224034607410431,0.3224034607410431,0.3224034607410431,0.3224034607410431,0.3224034607410431,0.3224034607410431,0.3224034607410431,0.32240375876426697,0.3204934298992157,0.3075096607208252,0.30750545859336853,0.30750545859336853,0.30750545859336853,0.30750545859336853,0.30750545859336853,0.30750545859336853,0.30750519037246704,0.30750519037246704,0.2943897247314453,0.29428818821907043,0.2942866384983063,0.2870497405529022,0.28184595704078674,0.2923625111579895,0.27938175201416016,0.2814691364765167,0.28152117133140564,0.2790486812591553,0.27708369493484497,0.27708369493484497],\"yaxis\":\"y\",\"type\":\"scattergl\"},{\"hovertemplate\":\"variable=b57\\u003cbr\\u003eEpoch=%{x}\\u003cbr\\u003evalue=%{y}\\u003cextra\\u003e\\u003c\\u002fextra\\u003e\",\"legendgroup\":\"b57\",\"line\":{\"color\":\"#FF6692\",\"dash\":\"solid\"},\"marker\":{\"symbol\":\"circle\"},\"mode\":\"lines\",\"name\":\"b57\",\"showlegend\":true,\"x\":[0,1,2,3,4,5,6,7,8,9,10,11,12,13,14,15,16,17,18,19,20,21,22,23,24,25,26,27,28,29,30,31,32,33,34,35,36,37,38,39,40,41,42,43,44,45,46,47,48,49],\"xaxis\":\"x\",\"y\":[2.0444525944185443e-05,0.01797783561050892,0.07124602049589157,0.07496288418769836,0.07463352382183075,0.07503128796815872,0.07462188601493835,0.07454080879688263,0.07436084747314453,0.07405219972133636,0.07378435879945755,0.07378372550010681,0.07378372550010681,0.07378318160772324,0.07251875847578049,0.07202929258346558,0.07089200615882874,0.0708913654088974,0.0708913654088974,0.0708913654088974,0.0708913654088974,0.0708913654088974,0.0708913654088974,0.0708913654088974,0.0708913654088974,0.0708913654088974,0.0708913654088974,0.07089130580425262,0.06800463795661926,0.0616387277841568,0.06163688004016876,0.06163688004016876,0.06163688004016876,0.06163688004016876,0.06163688004016876,0.06163688004016876,0.06163675710558891,0.06163675710558891,0.05570884048938751,0.05565781891345978,0.0556570440530777,0.05126311630010605,0.0466623492538929,0.045530766248703,0.02928364835679531,0.029044294729828835,0.029100073501467705,0.031190471723675728,0.03151916339993477,0.03151916339993477],\"yaxis\":\"y\",\"type\":\"scattergl\"},{\"hovertemplate\":\"variable=b58\\u003cbr\\u003eEpoch=%{x}\\u003cbr\\u003evalue=%{y}\\u003cextra\\u003e\\u003c\\u002fextra\\u003e\",\"legendgroup\":\"b58\",\"line\":{\"color\":\"#B6E880\",\"dash\":\"solid\"},\"marker\":{\"symbol\":\"circle\"},\"mode\":\"lines\",\"name\":\"b58\",\"showlegend\":true,\"x\":[0,1,2,3,4,5,6,7,8,9,10,11,12,13,14,15,16,17,18,19,20,21,22,23,24,25,26,27,28,29,30,31,32,33,34,35,36,37,38,39,40,41,42,43,44,45,46,47,48,49],\"xaxis\":\"x\",\"y\":[0.001132647623308003,0.00937035121023655,0.03322140872478485,0.04211729019880295,0.04889106750488281,0.05619304999709129,0.05968150496482849,0.06017781049013138,0.060401346534490585,0.060660749673843384,0.060910604894161224,0.0609106607735157,0.0609106607735157,0.06091047450900078,0.06044536828994751,0.06006351858377457,0.05879925936460495,0.05880095437169075,0.05880095437169075,0.05880095437169075,0.05880095437169075,0.05880095437169075,0.05880095437169075,0.05880095437169075,0.05880095437169075,0.05880095437169075,0.05880095437169075,0.05880101025104523,0.05862396955490112,0.05672672763466835,0.05672614276409149,0.05672614276409149,0.05672614276409149,0.05672614276409149,0.05672614276409149,0.05672614276409149,0.05672610551118851,0.05672610551118851,0.05500030890107155,0.05498861148953438,0.05498843267560005,0.054512154310941696,0.05469045415520668,0.059772640466690063,0.07230363041162491,0.08278097212314606,0.08297639340162277,0.09266193956136703,0.09577275812625885,0.09577275812625885],\"yaxis\":\"y\",\"type\":\"scattergl\"},{\"hovertemplate\":\"variable=b59\\u003cbr\\u003eEpoch=%{x}\\u003cbr\\u003evalue=%{y}\\u003cextra\\u003e\\u003c\\u002fextra\\u003e\",\"legendgroup\":\"b59\",\"line\":{\"color\":\"#FF97FF\",\"dash\":\"solid\"},\"marker\":{\"symbol\":\"circle\"},\"mode\":\"lines\",\"name\":\"b59\",\"showlegend\":true,\"x\":[0,1,2,3,4,5,6,7,8,9,10,11,12,13,14,15,16,17,18,19,20,21,22,23,24,25,26,27,28,29,30,31,32,33,34,35,36,37,38,39,40,41,42,43,44,45,46,47,48,49],\"xaxis\":\"x\",\"y\":[-0.002514535328373313,-0.03270891681313515,-0.10774680972099304,-0.12330105900764465,-0.12490431219339371,-0.12054913491010666,-0.11776462942361832,-0.11784263700246811,-0.1180810034275055,-0.11825326830148697,-0.11867798119783401,-0.11867883056402206,-0.11867883056402206,-0.11867937445640564,-0.12113899737596512,-0.1242612674832344,-0.13044588267803192,-0.1304389238357544,-0.1304389238357544,-0.1304389238357544,-0.1304389238357544,-0.1304389238357544,-0.1304389238357544,-0.1304389238357544,-0.1304389238357544,-0.1304389238357544,-0.1304389238357544,-0.1304386705160141,-0.12876932322978973,-0.13292889297008514,-0.13293060660362244,-0.13293060660362244,-0.13293060660362244,-0.13293060660362244,-0.13293060660362244,-0.13293060660362244,-0.132930725812912,-0.132930725812912,-0.1386948525905609,-0.13874827325344086,-0.13874907791614532,-0.14319153130054474,-0.1467835009098053,-0.14896515011787415,-0.18312500417232513,-0.20296445488929749,-0.20319709181785583,-0.21679668128490448,-0.22142843902111053,-0.22142843902111053],\"yaxis\":\"y\",\"type\":\"scattergl\"},{\"hovertemplate\":\"variable=b60\\u003cbr\\u003eEpoch=%{x}\\u003cbr\\u003evalue=%{y}\\u003cextra\\u003e\\u003c\\u002fextra\\u003e\",\"legendgroup\":\"b60\",\"line\":{\"color\":\"#FECB52\",\"dash\":\"solid\"},\"marker\":{\"symbol\":\"circle\"},\"mode\":\"lines\",\"name\":\"b60\",\"showlegend\":true,\"x\":[0,1,2,3,4,5,6,7,8,9,10,11,12,13,14,15,16,17,18,19,20,21,22,23,24,25,26,27,28,29,30,31,32,33,34,35,36,37,38,39,40,41,42,43,44,45,46,47,48,49],\"xaxis\":\"x\",\"y\":[-0.0020439308136701584,-0.012952860444784164,-0.03604506328701973,-0.022301601245999336,-0.003105818061158061,0.02246966026723385,0.03698398172855377,0.04097175598144531,0.04451768100261688,0.04854793846607208,0.05384648218750954,0.05385471135377884,0.05385471135377884,0.05385945737361908,0.06647014617919922,0.07641071081161499,0.09007564932107925,0.09006872028112411,0.09006872028112411,0.09006872028112411,0.09006872028112411,0.09006872028112411,0.09006872028112411,0.09006872028112411,0.09006872028112411,0.09006872028112411,0.09006872028112411,0.09006866812705994,0.09033030271530151,0.09444240480661392,0.09444418549537659,0.09444418549537659,0.09444418549537659,0.09444418549537659,0.09444418549537659,0.09444418549537659,0.09444430470466614,0.09444430470466614,0.10132737457752228,0.10141098499298096,0.10141225159168243,0.11329569667577744,0.12844713032245636,0.1425754725933075,0.1804960072040558,0.18991844356060028,0.19007444381713867,0.19841180741786957,0.2010231912136078,0.2010231912136078],\"yaxis\":\"y\",\"type\":\"scattergl\"},{\"hovertemplate\":\"variable=b61\\u003cbr\\u003eEpoch=%{x}\\u003cbr\\u003evalue=%{y}\\u003cextra\\u003e\\u003c\\u002fextra\\u003e\",\"legendgroup\":\"b61\",\"line\":{\"color\":\"#636efa\",\"dash\":\"solid\"},\"marker\":{\"symbol\":\"circle\"},\"mode\":\"lines\",\"name\":\"b61\",\"showlegend\":true,\"x\":[0,1,2,3,4,5,6,7,8,9,10,11,12,13,14,15,16,17,18,19,20,21,22,23,24,25,26,27,28,29,30,31,32,33,34,35,36,37,38,39,40,41,42,43,44,45,46,47,48,49],\"xaxis\":\"x\",\"y\":[0.000554682279471308,0.006607110146433115,0.02279726229608059,0.026316605508327484,0.027248144149780273,0.030038874596357346,0.03322160243988037,0.035164982080459595,0.036868005990982056,0.038753580302000046,0.04143775254487991,0.04144233465194702,0.04144233465194702,0.04144527390599251,0.049998048692941666,0.05757112428545952,0.07015400379896164,0.07014450430870056,0.07014450430870056,0.07014450430870056,0.07014450430870056,0.07014450430870056,0.07014450430870056,0.07014450430870056,0.07014450430870056,0.07014450430870056,0.07014450430870056,0.07014428079128265,0.06975334882736206,0.0774628296494484,0.07746581733226776,0.07746581733226776,0.07746581733226776,0.07746581733226776,0.07746581733226776,0.07746581733226776,0.07746601849794388,0.07746601849794388,0.0878591388463974,0.08796456456184387,0.08796616643667221,0.09984506666660309,0.11330393701791763,0.12293271720409393,0.17417822778224945,0.1956627517938614,0.19598862528800964,0.21507807075977325,0.22147582471370697,0.22147582471370697],\"yaxis\":\"y\",\"type\":\"scattergl\"},{\"hovertemplate\":\"variable=b62\\u003cbr\\u003eEpoch=%{x}\\u003cbr\\u003evalue=%{y}\\u003cextra\\u003e\\u003c\\u002fextra\\u003e\",\"legendgroup\":\"b62\",\"line\":{\"color\":\"#EF553B\",\"dash\":\"solid\"},\"marker\":{\"symbol\":\"circle\"},\"mode\":\"lines\",\"name\":\"b62\",\"showlegend\":true,\"x\":[0,1,2,3,4,5,6,7,8,9,10,11,12,13,14,15,16,17,18,19,20,21,22,23,24,25,26,27,28,29,30,31,32,33,34,35,36,37,38,39,40,41,42,43,44,45,46,47,48,49],\"xaxis\":\"x\",\"y\":[0.0017145865131169558,0.015496544539928436,0.055861663073301315,0.07170504331588745,0.08096005022525787,0.09016203135251999,0.0944753885269165,0.09520809352397919,0.09558619558811188,0.09601704776287079,0.0965857058763504,0.09658630937337875,0.09658630937337875,0.0965864360332489,0.09727539122104645,0.09815667569637299,0.09920268505811691,0.09920228272676468,0.09920228272676468,0.09920228272676468,0.09920228272676468,0.09920228272676468,0.09920228272676468,0.09920228272676468,0.09920228272676468,0.09920228272676468,0.09920228272676468,0.09920227527618408,0.09815148264169693,0.09574800729751587,0.09574734419584274,0.09574734419584274,0.09574734419584274,0.09574734419584274,0.09574734419584274,0.09574734419584274,0.09574729949235916,0.09574729949235916,0.09378800541162491,0.09377435594797134,0.09377414733171463,0.09304043650627136,0.09269591420888901,0.09638342261314392,0.10496790707111359,0.11336543411016464,0.11350534111261368,0.12011556327342987,0.12210685759782791,0.12210685759782791],\"yaxis\":\"y\",\"type\":\"scattergl\"},{\"hovertemplate\":\"variable=b63\\u003cbr\\u003eEpoch=%{x}\\u003cbr\\u003evalue=%{y}\\u003cextra\\u003e\\u003c\\u002fextra\\u003e\",\"legendgroup\":\"b63\",\"line\":{\"color\":\"#00cc96\",\"dash\":\"solid\"},\"marker\":{\"symbol\":\"circle\"},\"mode\":\"lines\",\"name\":\"b63\",\"showlegend\":true,\"x\":[0,1,2,3,4,5,6,7,8,9,10,11,12,13,14,15,16,17,18,19,20,21,22,23,24,25,26,27,28,29,30,31,32,33,34,35,36,37,38,39,40,41,42,43,44,45,46,47,48,49],\"xaxis\":\"x\",\"y\":[0.00048657003208063543,0.004325279034674168,0.014765553176403046,0.013666394166648388,0.00707927905023098,-0.00544798094779253,-0.014155978336930275,-0.016954151913523674,-0.01919172890484333,-0.021578924730420113,-0.02446197159588337,-0.024466238915920258,-0.024466238915920258,-0.024468693882226944,-0.03090253844857216,-0.03571976721286774,-0.04092381149530411,-0.04092252627015114,-0.04092252627015114,-0.04092252627015114,-0.04092252627015114,-0.04092252627015114,-0.04092252627015114,-0.04092252627015114,-0.04092252627015114,-0.04092252627015114,-0.04092252627015114,-0.04092257842421532,-0.04184635728597641,-0.044172823429107666,-0.04417375102639198,-0.04417375102639198,-0.04417375102639198,-0.04417375102639198,-0.04417375102639198,-0.04417375102639198,-0.04417381435632706,-0.04417381435632706,-0.04790564626455307,-0.047954827547073364,-0.04795557260513306,-0.05582964047789574,-0.06647928804159164,-0.07842951267957687,-0.11378145962953568,-0.13109105825424194,-0.13142386078834534,-0.1491466462612152,-0.15485559403896332,-0.15485559403896332],\"yaxis\":\"y\",\"type\":\"scattergl\"},{\"hovertemplate\":\"variable=b64\\u003cbr\\u003eEpoch=%{x}\\u003cbr\\u003evalue=%{y}\\u003cextra\\u003e\\u003c\\u002fextra\\u003e\",\"legendgroup\":\"b64\",\"line\":{\"color\":\"#ab63fa\",\"dash\":\"solid\"},\"marker\":{\"symbol\":\"circle\"},\"mode\":\"lines\",\"name\":\"b64\",\"showlegend\":true,\"x\":[0,1,2,3,4,5,6,7,8,9,10,11,12,13,14,15,16,17,18,19,20,21,22,23,24,25,26,27,28,29,30,31,32,33,34,35,36,37,38,39,40,41,42,43,44,45,46,47,48,49],\"xaxis\":\"x\",\"y\":[0.0009254438919015229,0.006376176606863737,0.023202048614621162,0.034090474247932434,0.04990483820438385,0.07628647983074188,0.09274740517139435,0.09694293141365051,0.09976721554994583,0.10262632369995117,0.10568587481975555,0.10568945854902267,0.10568945854902267,0.10569100826978683,0.10919498652219772,0.11095959693193436,0.10719001293182373,0.10719778388738632,0.10719778388738632,0.10719778388738632,0.10719778388738632,0.10719778388738632,0.10719778388738632,0.10719778388738632,0.10719778388738632,0.10719778388738632,0.10719778388738632,0.10719811171293259,0.1073945090174675,0.09782864153385162,0.09782537072896957,0.09782537072896957,0.09782537072896957,0.09782537072896957,0.09782537072896957,0.09782537072896957,0.09782515466213226,0.09782515466213226,0.08778135478496552,0.0877065435051918,0.08770540356636047,0.08368095755577087,0.08253785967826843,0.09213443845510483,0.08009635657072067,0.08338844776153564,0.08350830525159836,0.08540177345275879,0.08497775346040726,0.08497775346040726],\"yaxis\":\"y\",\"type\":\"scattergl\"},{\"hovertemplate\":\"variable=b65\\u003cbr\\u003eEpoch=%{x}\\u003cbr\\u003evalue=%{y}\\u003cextra\\u003e\\u003c\\u002fextra\\u003e\",\"legendgroup\":\"b65\",\"line\":{\"color\":\"#FFA15A\",\"dash\":\"solid\"},\"marker\":{\"symbol\":\"circle\"},\"mode\":\"lines\",\"name\":\"b65\",\"showlegend\":true,\"x\":[0,1,2,3,4,5,6,7,8,9,10,11,12,13,14,15,16,17,18,19,20,21,22,23,24,25,26,27,28,29,30,31,32,33,34,35,36,37,38,39,40,41,42,43,44,45,46,47,48,49],\"xaxis\":\"x\",\"y\":[-0.001216088654473424,-0.01689901202917099,-0.04941451922059059,-0.04700911045074463,-0.040004801005125046,-0.0334274023771286,-0.032471951097249985,-0.03392232581973076,-0.0351298563182354,-0.03616514801979065,-0.037377290427684784,-0.03737930580973625,-0.03737930580973625,-0.03738067299127579,-0.041443031281232834,-0.045118387788534164,-0.049612026661634445,-0.04960789531469345,-0.04960789531469345,-0.04960789531469345,-0.04960789531469345,-0.04960789531469345,-0.04960789531469345,-0.04960789531469345,-0.04960789531469345,-0.04960789531469345,-0.04960789531469345,-0.0496077686548233,-0.048919420689344406,-0.05131370201706886,-0.051314640790224075,-0.051314640790224075,-0.051314640790224075,-0.051314640790224075,-0.051314640790224075,-0.051314640790224075,-0.05131470412015915,-0.05131470412015915,-0.05456232652068138,-0.05459515377879143,-0.05459564924240112,-0.05796954780817032,-0.061739757657051086,-0.06482461094856262,-0.08360867947340012,-0.09800197929143906,-0.09820165485143661,-0.10890691727399826,-0.11216705292463303,-0.11216705292463303],\"yaxis\":\"y\",\"type\":\"scattergl\"},{\"hovertemplate\":\"variable=b66\\u003cbr\\u003eEpoch=%{x}\\u003cbr\\u003evalue=%{y}\\u003cextra\\u003e\\u003c\\u002fextra\\u003e\",\"legendgroup\":\"b66\",\"line\":{\"color\":\"#19d3f3\",\"dash\":\"solid\"},\"marker\":{\"symbol\":\"circle\"},\"mode\":\"lines\",\"name\":\"b66\",\"showlegend\":true,\"x\":[0,1,2,3,4,5,6,7,8,9,10,11,12,13,14,15,16,17,18,19,20,21,22,23,24,25,26,27,28,29,30,31,32,33,34,35,36,37,38,39,40,41,42,43,44,45,46,47,48,49],\"xaxis\":\"x\",\"y\":[0.0011291515547782183,0.01577707752585411,0.05599397420883179,0.07004553079605103,0.07131358236074448,0.06574349105358124,0.05947813019156456,0.0567997545003891,0.05460673198103905,0.05230530723929405,0.04964832216501236,0.049644339829683304,0.049644339829683304,0.049641914665699005,0.043845418840646744,0.04039236903190613,0.03999703750014305,0.039994556456804276,0.039994556456804276,0.039994556456804276,0.039994556456804276,0.039994556456804276,0.039994556456804276,0.039994556456804276,0.039994556456804276,0.039994556456804276,0.039994556456804276,0.03999440744519234,0.038819752633571625,0.040191225707530975,0.04019174352288246,0.04019174352288246,0.04019174352288246,0.04019174352288246,0.04019174352288246,0.04019174352288246,0.04019177705049515,0.04019177705049515,0.0413249135017395,0.041321903467178345,0.04132185876369476,0.038064152002334595,0.03201824799180031,0.023304875940084457,0.01586182415485382,0.008344493806362152,0.008140305057168007,-0.0015446688048541546,-0.004307946190237999,-0.004307946190237999],\"yaxis\":\"y\",\"type\":\"scattergl\"},{\"hovertemplate\":\"variable=b67\\u003cbr\\u003eEpoch=%{x}\\u003cbr\\u003evalue=%{y}\\u003cextra\\u003e\\u003c\\u002fextra\\u003e\",\"legendgroup\":\"b67\",\"line\":{\"color\":\"#FF6692\",\"dash\":\"solid\"},\"marker\":{\"symbol\":\"circle\"},\"mode\":\"lines\",\"name\":\"b67\",\"showlegend\":true,\"x\":[0,1,2,3,4,5,6,7,8,9,10,11,12,13,14,15,16,17,18,19,20,21,22,23,24,25,26,27,28,29,30,31,32,33,34,35,36,37,38,39,40,41,42,43,44,45,46,47,48,49],\"xaxis\":\"x\",\"y\":[-0.0006934474804438651,-0.009616363793611526,-0.03486107289791107,-0.045494578778743744,-0.05540647730231285,-0.06922294199466705,-0.07705061882734299,-0.07873109728097916,-0.07973385602235794,-0.0806378424167633,-0.08149800449609756,-0.08149868994951248,-0.08149868994951248,-0.08149872720241547,-0.08154845982789993,-0.08165513724088669,-0.08095358312129974,-0.08095627278089523,-0.08095627278089523,-0.08095627278089523,-0.08095627278089523,-0.08095627278089523,-0.08095627278089523,-0.08095627278089523,-0.08095627278089523,-0.08095627278089523,-0.08095627278089523,-0.08095639199018478,-0.08140091598033905,-0.07990355044603348,-0.07990307360887527,-0.07990307360887527,-0.07990307360887527,-0.07990307360887527,-0.07990307360887527,-0.07990307360887527,-0.07990304380655289,-0.07990304380655289,-0.07858435064554214,-0.078579381108284,-0.07857930660247803,-0.07930343598127365,-0.080919548869133,-0.085052989423275,-0.09391847997903824,-0.09880334138870239,-0.0988931655883789,-0.10299666225910187,-0.1042245551943779,-0.1042245551943779],\"yaxis\":\"y\",\"type\":\"scattergl\"},{\"hovertemplate\":\"variable=b68\\u003cbr\\u003eEpoch=%{x}\\u003cbr\\u003evalue=%{y}\\u003cextra\\u003e\\u003c\\u002fextra\\u003e\",\"legendgroup\":\"b68\",\"line\":{\"color\":\"#B6E880\",\"dash\":\"solid\"},\"marker\":{\"symbol\":\"circle\"},\"mode\":\"lines\",\"name\":\"b68\",\"showlegend\":true,\"x\":[0,1,2,3,4,5,6,7,8,9,10,11,12,13,14,15,16,17,18,19,20,21,22,23,24,25,26,27,28,29,30,31,32,33,34,35,36,37,38,39,40,41,42,43,44,45,46,47,48,49],\"xaxis\":\"x\",\"y\":[0.0009055943228304386,0.007845614105463028,0.026139037683606148,0.03176410123705864,0.03822018578648567,0.05005098134279251,0.057321902364492416,0.05883566662669182,0.059578634798526764,0.060163628309965134,0.06052630394697189,0.06052618846297264,0.06052618846297264,0.06052577495574951,0.05930684134364128,0.05830973759293556,0.05597272142767906,0.05597682297229767,0.05597682297229767,0.05597682297229767,0.05597682297229767,0.05597682297229767,0.05597682297229767,0.05597682297229767,0.05597682297229767,0.05597682297229767,0.05597682297229767,0.055976979434490204,0.05689651891589165,0.05554010719060898,0.05553960055112839,0.05553960055112839,0.05553960055112839,0.05553960055112839,0.05553960055112839,0.05553960055112839,0.0555395670235157,0.0555395670235157,0.054064277559518814,0.05405709519982338,0.054056987166404724,0.05473937839269638,0.05648844316601753,0.06057821586728096,0.06977152079343796,0.07501041144132614,0.07511904835700989,0.08012387901544571,0.08162203431129456,0.08162203431129456],\"yaxis\":\"y\",\"type\":\"scattergl\"},{\"hovertemplate\":\"variable=b69\\u003cbr\\u003eEpoch=%{x}\\u003cbr\\u003evalue=%{y}\\u003cextra\\u003e\\u003c\\u002fextra\\u003e\",\"legendgroup\":\"b69\",\"line\":{\"color\":\"#FF97FF\",\"dash\":\"solid\"},\"marker\":{\"symbol\":\"circle\"},\"mode\":\"lines\",\"name\":\"b69\",\"showlegend\":true,\"x\":[0,1,2,3,4,5,6,7,8,9,10,11,12,13,14,15,16,17,18,19,20,21,22,23,24,25,26,27,28,29,30,31,32,33,34,35,36,37,38,39,40,41,42,43,44,45,46,47,48,49],\"xaxis\":\"x\",\"y\":[0.0013482582289725542,0.013785471208393574,0.05034562200307846,0.06645036488771439,0.07743193209171295,0.09082848578691483,0.09899117052555084,0.10155750066041946,0.10341223329305649,0.10526641458272934,0.10742847621440887,0.1074313297867775,0.1074313297867775,0.10743273049592972,0.1112772598862648,0.11432945728302002,0.11645875126123428,0.11645883321762085,0.11645883321762085,0.11645883321762085,0.11645883321762085,0.11645883321762085,0.11645883321762085,0.11645883321762085,0.11645883321762085,0.11645883321762085,0.11645883321762085,0.11645887792110443,0.11560572683811188,0.1119416281580925,0.11194051802158356,0.11194051802158356,0.11194051802158356,0.11194051802158356,0.11194051802158356,0.11194051802158356,0.11194044351577759,0.11194044351577759,0.1087239533662796,0.1087033748626709,0.10870306193828583,0.10786422342061996,0.10809934139251709,0.11303439736366272,0.1151420921087265,0.12195102870464325,0.1220615804195404,0.12621651589870453,0.12708359956741333,0.12708359956741333],\"yaxis\":\"y\",\"type\":\"scattergl\"}],                        {\"template\":{\"data\":{\"histogram2dcontour\":[{\"type\":\"histogram2dcontour\",\"colorbar\":{\"outlinewidth\":0,\"ticks\":\"\"},\"colorscale\":[[0.0,\"#0d0887\"],[0.1111111111111111,\"#46039f\"],[0.2222222222222222,\"#7201a8\"],[0.3333333333333333,\"#9c179e\"],[0.4444444444444444,\"#bd3786\"],[0.5555555555555556,\"#d8576b\"],[0.6666666666666666,\"#ed7953\"],[0.7777777777777778,\"#fb9f3a\"],[0.8888888888888888,\"#fdca26\"],[1.0,\"#f0f921\"]]}],\"choropleth\":[{\"type\":\"choropleth\",\"colorbar\":{\"outlinewidth\":0,\"ticks\":\"\"}}],\"histogram2d\":[{\"type\":\"histogram2d\",\"colorbar\":{\"outlinewidth\":0,\"ticks\":\"\"},\"colorscale\":[[0.0,\"#0d0887\"],[0.1111111111111111,\"#46039f\"],[0.2222222222222222,\"#7201a8\"],[0.3333333333333333,\"#9c179e\"],[0.4444444444444444,\"#bd3786\"],[0.5555555555555556,\"#d8576b\"],[0.6666666666666666,\"#ed7953\"],[0.7777777777777778,\"#fb9f3a\"],[0.8888888888888888,\"#fdca26\"],[1.0,\"#f0f921\"]]}],\"heatmap\":[{\"type\":\"heatmap\",\"colorbar\":{\"outlinewidth\":0,\"ticks\":\"\"},\"colorscale\":[[0.0,\"#0d0887\"],[0.1111111111111111,\"#46039f\"],[0.2222222222222222,\"#7201a8\"],[0.3333333333333333,\"#9c179e\"],[0.4444444444444444,\"#bd3786\"],[0.5555555555555556,\"#d8576b\"],[0.6666666666666666,\"#ed7953\"],[0.7777777777777778,\"#fb9f3a\"],[0.8888888888888888,\"#fdca26\"],[1.0,\"#f0f921\"]]}],\"heatmapgl\":[{\"type\":\"heatmapgl\",\"colorbar\":{\"outlinewidth\":0,\"ticks\":\"\"},\"colorscale\":[[0.0,\"#0d0887\"],[0.1111111111111111,\"#46039f\"],[0.2222222222222222,\"#7201a8\"],[0.3333333333333333,\"#9c179e\"],[0.4444444444444444,\"#bd3786\"],[0.5555555555555556,\"#d8576b\"],[0.6666666666666666,\"#ed7953\"],[0.7777777777777778,\"#fb9f3a\"],[0.8888888888888888,\"#fdca26\"],[1.0,\"#f0f921\"]]}],\"contourcarpet\":[{\"type\":\"contourcarpet\",\"colorbar\":{\"outlinewidth\":0,\"ticks\":\"\"}}],\"contour\":[{\"type\":\"contour\",\"colorbar\":{\"outlinewidth\":0,\"ticks\":\"\"},\"colorscale\":[[0.0,\"#0d0887\"],[0.1111111111111111,\"#46039f\"],[0.2222222222222222,\"#7201a8\"],[0.3333333333333333,\"#9c179e\"],[0.4444444444444444,\"#bd3786\"],[0.5555555555555556,\"#d8576b\"],[0.6666666666666666,\"#ed7953\"],[0.7777777777777778,\"#fb9f3a\"],[0.8888888888888888,\"#fdca26\"],[1.0,\"#f0f921\"]]}],\"surface\":[{\"type\":\"surface\",\"colorbar\":{\"outlinewidth\":0,\"ticks\":\"\"},\"colorscale\":[[0.0,\"#0d0887\"],[0.1111111111111111,\"#46039f\"],[0.2222222222222222,\"#7201a8\"],[0.3333333333333333,\"#9c179e\"],[0.4444444444444444,\"#bd3786\"],[0.5555555555555556,\"#d8576b\"],[0.6666666666666666,\"#ed7953\"],[0.7777777777777778,\"#fb9f3a\"],[0.8888888888888888,\"#fdca26\"],[1.0,\"#f0f921\"]]}],\"mesh3d\":[{\"type\":\"mesh3d\",\"colorbar\":{\"outlinewidth\":0,\"ticks\":\"\"}}],\"scatter\":[{\"fillpattern\":{\"fillmode\":\"overlay\",\"size\":10,\"solidity\":0.2},\"type\":\"scatter\"}],\"parcoords\":[{\"type\":\"parcoords\",\"line\":{\"colorbar\":{\"outlinewidth\":0,\"ticks\":\"\"}}}],\"scatterpolargl\":[{\"type\":\"scatterpolargl\",\"marker\":{\"colorbar\":{\"outlinewidth\":0,\"ticks\":\"\"}}}],\"bar\":[{\"error_x\":{\"color\":\"#2a3f5f\"},\"error_y\":{\"color\":\"#2a3f5f\"},\"marker\":{\"line\":{\"color\":\"#E5ECF6\",\"width\":0.5},\"pattern\":{\"fillmode\":\"overlay\",\"size\":10,\"solidity\":0.2}},\"type\":\"bar\"}],\"scattergeo\":[{\"type\":\"scattergeo\",\"marker\":{\"colorbar\":{\"outlinewidth\":0,\"ticks\":\"\"}}}],\"scatterpolar\":[{\"type\":\"scatterpolar\",\"marker\":{\"colorbar\":{\"outlinewidth\":0,\"ticks\":\"\"}}}],\"histogram\":[{\"marker\":{\"pattern\":{\"fillmode\":\"overlay\",\"size\":10,\"solidity\":0.2}},\"type\":\"histogram\"}],\"scattergl\":[{\"type\":\"scattergl\",\"marker\":{\"colorbar\":{\"outlinewidth\":0,\"ticks\":\"\"}}}],\"scatter3d\":[{\"type\":\"scatter3d\",\"line\":{\"colorbar\":{\"outlinewidth\":0,\"ticks\":\"\"}},\"marker\":{\"colorbar\":{\"outlinewidth\":0,\"ticks\":\"\"}}}],\"scattermapbox\":[{\"type\":\"scattermapbox\",\"marker\":{\"colorbar\":{\"outlinewidth\":0,\"ticks\":\"\"}}}],\"scatterternary\":[{\"type\":\"scatterternary\",\"marker\":{\"colorbar\":{\"outlinewidth\":0,\"ticks\":\"\"}}}],\"scattercarpet\":[{\"type\":\"scattercarpet\",\"marker\":{\"colorbar\":{\"outlinewidth\":0,\"ticks\":\"\"}}}],\"carpet\":[{\"aaxis\":{\"endlinecolor\":\"#2a3f5f\",\"gridcolor\":\"white\",\"linecolor\":\"white\",\"minorgridcolor\":\"white\",\"startlinecolor\":\"#2a3f5f\"},\"baxis\":{\"endlinecolor\":\"#2a3f5f\",\"gridcolor\":\"white\",\"linecolor\":\"white\",\"minorgridcolor\":\"white\",\"startlinecolor\":\"#2a3f5f\"},\"type\":\"carpet\"}],\"table\":[{\"cells\":{\"fill\":{\"color\":\"#EBF0F8\"},\"line\":{\"color\":\"white\"}},\"header\":{\"fill\":{\"color\":\"#C8D4E3\"},\"line\":{\"color\":\"white\"}},\"type\":\"table\"}],\"barpolar\":[{\"marker\":{\"line\":{\"color\":\"#E5ECF6\",\"width\":0.5},\"pattern\":{\"fillmode\":\"overlay\",\"size\":10,\"solidity\":0.2}},\"type\":\"barpolar\"}],\"pie\":[{\"automargin\":true,\"type\":\"pie\"}]},\"layout\":{\"autotypenumbers\":\"strict\",\"colorway\":[\"#636efa\",\"#EF553B\",\"#00cc96\",\"#ab63fa\",\"#FFA15A\",\"#19d3f3\",\"#FF6692\",\"#B6E880\",\"#FF97FF\",\"#FECB52\"],\"font\":{\"color\":\"#2a3f5f\"},\"hovermode\":\"closest\",\"hoverlabel\":{\"align\":\"left\"},\"paper_bgcolor\":\"white\",\"plot_bgcolor\":\"#E5ECF6\",\"polar\":{\"bgcolor\":\"#E5ECF6\",\"angularaxis\":{\"gridcolor\":\"white\",\"linecolor\":\"white\",\"ticks\":\"\"},\"radialaxis\":{\"gridcolor\":\"white\",\"linecolor\":\"white\",\"ticks\":\"\"}},\"ternary\":{\"bgcolor\":\"#E5ECF6\",\"aaxis\":{\"gridcolor\":\"white\",\"linecolor\":\"white\",\"ticks\":\"\"},\"baxis\":{\"gridcolor\":\"white\",\"linecolor\":\"white\",\"ticks\":\"\"},\"caxis\":{\"gridcolor\":\"white\",\"linecolor\":\"white\",\"ticks\":\"\"}},\"coloraxis\":{\"colorbar\":{\"outlinewidth\":0,\"ticks\":\"\"}},\"colorscale\":{\"sequential\":[[0.0,\"#0d0887\"],[0.1111111111111111,\"#46039f\"],[0.2222222222222222,\"#7201a8\"],[0.3333333333333333,\"#9c179e\"],[0.4444444444444444,\"#bd3786\"],[0.5555555555555556,\"#d8576b\"],[0.6666666666666666,\"#ed7953\"],[0.7777777777777778,\"#fb9f3a\"],[0.8888888888888888,\"#fdca26\"],[1.0,\"#f0f921\"]],\"sequentialminus\":[[0.0,\"#0d0887\"],[0.1111111111111111,\"#46039f\"],[0.2222222222222222,\"#7201a8\"],[0.3333333333333333,\"#9c179e\"],[0.4444444444444444,\"#bd3786\"],[0.5555555555555556,\"#d8576b\"],[0.6666666666666666,\"#ed7953\"],[0.7777777777777778,\"#fb9f3a\"],[0.8888888888888888,\"#fdca26\"],[1.0,\"#f0f921\"]],\"diverging\":[[0,\"#8e0152\"],[0.1,\"#c51b7d\"],[0.2,\"#de77ae\"],[0.3,\"#f1b6da\"],[0.4,\"#fde0ef\"],[0.5,\"#f7f7f7\"],[0.6,\"#e6f5d0\"],[0.7,\"#b8e186\"],[0.8,\"#7fbc41\"],[0.9,\"#4d9221\"],[1,\"#276419\"]]},\"xaxis\":{\"gridcolor\":\"white\",\"linecolor\":\"white\",\"ticks\":\"\",\"title\":{\"standoff\":15},\"zerolinecolor\":\"white\",\"automargin\":true,\"zerolinewidth\":2},\"yaxis\":{\"gridcolor\":\"white\",\"linecolor\":\"white\",\"ticks\":\"\",\"title\":{\"standoff\":15},\"zerolinecolor\":\"white\",\"automargin\":true,\"zerolinewidth\":2},\"scene\":{\"xaxis\":{\"backgroundcolor\":\"#E5ECF6\",\"gridcolor\":\"white\",\"linecolor\":\"white\",\"showbackground\":true,\"ticks\":\"\",\"zerolinecolor\":\"white\",\"gridwidth\":2},\"yaxis\":{\"backgroundcolor\":\"#E5ECF6\",\"gridcolor\":\"white\",\"linecolor\":\"white\",\"showbackground\":true,\"ticks\":\"\",\"zerolinecolor\":\"white\",\"gridwidth\":2},\"zaxis\":{\"backgroundcolor\":\"#E5ECF6\",\"gridcolor\":\"white\",\"linecolor\":\"white\",\"showbackground\":true,\"ticks\":\"\",\"zerolinecolor\":\"white\",\"gridwidth\":2}},\"shapedefaults\":{\"line\":{\"color\":\"#2a3f5f\"}},\"annotationdefaults\":{\"arrowcolor\":\"#2a3f5f\",\"arrowhead\":0,\"arrowwidth\":1},\"geo\":{\"bgcolor\":\"white\",\"landcolor\":\"#E5ECF6\",\"subunitcolor\":\"white\",\"showland\":true,\"showlakes\":true,\"lakecolor\":\"white\"},\"title\":{\"x\":0.05},\"mapbox\":{\"style\":\"light\"}}},\"xaxis\":{\"anchor\":\"y\",\"domain\":[0.0,1.0],\"title\":{\"text\":\"Epoch\"}},\"yaxis\":{\"anchor\":\"x\",\"domain\":[0.0,1.0],\"title\":{\"text\":\"value\"}},\"legend\":{\"title\":{\"text\":\"variable\"},\"tracegroupgap\":0},\"title\":{\"text\":\"Body Pose\"}},                        {\"responsive\": true}                    ).then(function(){\n",
       "                            \n",
       "var gd = document.getElementById('3ca4c7d3-9a47-4068-aebd-b18f1cde015c');\n",
       "var x = new MutationObserver(function (mutations, observer) {{\n",
       "        var display = window.getComputedStyle(gd).display;\n",
       "        if (!display || display === 'none') {{\n",
       "            console.log([gd, 'removed!']);\n",
       "            Plotly.purge(gd);\n",
       "            observer.disconnect();\n",
       "        }}\n",
       "}});\n",
       "\n",
       "// Listen for the removal of the full notebook cells\n",
       "var notebookContainer = gd.closest('#notebook-container');\n",
       "if (notebookContainer) {{\n",
       "    x.observe(notebookContainer, {childList: true});\n",
       "}}\n",
       "\n",
       "// Listen for the clearing of the current output cell\n",
       "var outputEl = gd.closest('.output');\n",
       "if (outputEl) {{\n",
       "    x.observe(outputEl, {childList: true});\n",
       "}}\n",
       "\n",
       "                        })                };                });            </script>        </div>"
      ]
     },
     "metadata": {},
     "output_type": "display_data"
    }
   ],
   "source": [
    "df = pd.DataFrame(store_epoch[\"body_pose\"])\n",
    "body_pose = [\"b\" + str(i + 1) for i in range(69)]\n",
    "df.columns = body_pose\n",
    "df[\"Epoch\"] = df.index\n",
    "\n",
    "fig = px.line(df, x=\"Epoch\", y=body_pose, title=\"Body Pose\")\n",
    "fig.show()"
   ]
  },
  {
   "cell_type": "code",
   "execution_count": 42,
   "metadata": {},
   "outputs": [
    {
     "data": {
      "application/vnd.plotly.v1+json": {
       "config": {
        "plotlyServerURL": "https://plot.ly"
       },
       "data": [
        {
         "hovertemplate": "variable=b1<br>Epoch=%{x}<br>value=%{y}<extra></extra>",
         "legendgroup": "b1",
         "line": {
          "color": "#636efa",
          "dash": "solid"
         },
         "marker": {
          "symbol": "circle"
         },
         "mode": "lines",
         "name": "b1",
         "orientation": "v",
         "showlegend": true,
         "type": "scatter",
         "x": [
          0,
          1,
          2,
          3,
          4,
          5,
          6,
          7,
          8,
          9,
          10,
          11,
          12,
          13,
          14,
          15,
          16,
          17,
          18,
          19,
          20,
          21,
          22,
          23,
          24,
          25,
          26,
          27,
          28,
          29,
          30,
          31,
          32,
          33,
          34,
          35,
          36,
          37,
          38,
          39,
          40,
          41,
          42,
          43,
          44,
          45,
          46,
          47,
          48,
          49
         ],
         "xaxis": "x",
         "y": [
          -0.024540401995182037,
          -0.026752475649118423,
          -0.02457902394235134,
          -0.02479603886604309,
          -0.02473444491624832,
          -0.02522752434015274,
          -0.025324136018753052,
          -0.024618789553642273,
          -0.02405608259141445,
          -0.023701444268226624,
          -0.023421987891197205,
          -0.023422347381711006,
          -0.023422347381711006,
          -0.023422496393322945,
          -0.023897329345345497,
          -0.024170929566025734,
          -0.025480369105935097,
          -0.025479299947619438,
          -0.025479299947619438,
          -0.025479299947619438,
          -0.025479299947619438,
          -0.025479299947619438,
          -0.025479299947619438,
          -0.025479299947619438,
          -0.025479299947619438,
          -0.025479299947619438,
          -0.025479299947619438,
          -0.025479286909103394,
          -0.024538259953260422,
          -0.023615483194589615,
          -0.023615412414073944,
          -0.023615412414073944,
          -0.023615412414073944,
          -0.023615412414073944,
          -0.023615412414073944,
          -0.023615412414073944,
          -0.023615406826138496,
          -0.023615406826138496,
          -0.023593593388795853,
          -0.023594792932271957,
          -0.02359481155872345,
          -0.024017898365855217,
          -0.02438119240105152,
          -0.025032153353095055,
          -0.025458484888076782,
          -0.02446361631155014,
          -0.024455606937408447,
          -0.02385433204472065,
          -0.023899121209979057,
          -0.023899121209979057
         ],
         "yaxis": "y"
        },
        {
         "hovertemplate": "variable=b2<br>Epoch=%{x}<br>value=%{y}<extra></extra>",
         "legendgroup": "b2",
         "line": {
          "color": "#EF553B",
          "dash": "solid"
         },
         "marker": {
          "symbol": "circle"
         },
         "mode": "lines",
         "name": "b2",
         "orientation": "v",
         "showlegend": true,
         "type": "scatter",
         "x": [
          0,
          1,
          2,
          3,
          4,
          5,
          6,
          7,
          8,
          9,
          10,
          11,
          12,
          13,
          14,
          15,
          16,
          17,
          18,
          19,
          20,
          21,
          22,
          23,
          24,
          25,
          26,
          27,
          28,
          29,
          30,
          31,
          32,
          33,
          34,
          35,
          36,
          37,
          38,
          39,
          40,
          41,
          42,
          43,
          44,
          45,
          46,
          47,
          48,
          49
         ],
         "xaxis": "x",
         "y": [
          0.17257404327392578,
          0.17237502336502075,
          0.19350586831569672,
          0.18832996487617493,
          0.18909701704978943,
          0.18968139588832855,
          0.19075800478458405,
          0.19098329544067383,
          0.191313698887825,
          0.19194036722183228,
          0.19306769967079163,
          0.19306863844394684,
          0.19306863844394684,
          0.19306915998458862,
          0.1946563720703125,
          0.19623836874961853,
          0.198275625705719,
          0.19827468693256378,
          0.19827468693256378,
          0.19827468693256378,
          0.19827468693256378,
          0.19827468693256378,
          0.19827468693256378,
          0.19827468693256378,
          0.19827468693256378,
          0.19827468693256378,
          0.19827468693256378,
          0.1982746422290802,
          0.19693194329738617,
          0.19579368829727173,
          0.1957937628030777,
          0.1957937628030777,
          0.1957937628030777,
          0.1957937628030777,
          0.1957937628030777,
          0.1957937628030777,
          0.1957937628030777,
          0.1957937628030777,
          0.19675952196121216,
          0.19678321480751038,
          0.19678357243537903,
          0.2006538212299347,
          0.20478934049606323,
          0.20338238775730133,
          0.20451720058918,
          0.20284157991409302,
          0.20288974046707153,
          0.20587216317653656,
          0.20667502284049988,
          0.20667502284049988
         ],
         "yaxis": "y"
        },
        {
         "hovertemplate": "variable=b3<br>Epoch=%{x}<br>value=%{y}<extra></extra>",
         "legendgroup": "b3",
         "line": {
          "color": "#00cc96",
          "dash": "solid"
         },
         "marker": {
          "symbol": "circle"
         },
         "mode": "lines",
         "name": "b3",
         "orientation": "v",
         "showlegend": true,
         "type": "scatter",
         "x": [
          0,
          1,
          2,
          3,
          4,
          5,
          6,
          7,
          8,
          9,
          10,
          11,
          12,
          13,
          14,
          15,
          16,
          17,
          18,
          19,
          20,
          21,
          22,
          23,
          24,
          25,
          26,
          27,
          28,
          29,
          30,
          31,
          32,
          33,
          34,
          35,
          36,
          37,
          38,
          39,
          40,
          41,
          42,
          43,
          44,
          45,
          46,
          47,
          48,
          49
         ],
         "xaxis": "x",
         "y": [
          -0.05063166469335556,
          -0.05152153968811035,
          -0.053121667355298996,
          -0.0574074387550354,
          -0.06044735014438629,
          -0.0607488751411438,
          -0.06054943799972534,
          -0.060597244650125504,
          -0.0606020987033844,
          -0.06079656630754471,
          -0.060809239745140076,
          -0.06080923601984978,
          -0.06080923601984978,
          -0.06080929562449455,
          -0.061140332370996475,
          -0.06146964803338051,
          -0.06269999593496323,
          -0.06269782036542892,
          -0.06269782036542892,
          -0.06269782036542892,
          -0.06269782036542892,
          -0.06269782036542892,
          -0.06269782036542892,
          -0.06269782036542892,
          -0.06269782036542892,
          -0.06269782036542892,
          -0.06269782036542892,
          -0.06269773095846176,
          -0.06302765756845474,
          -0.06485878676176071,
          -0.06485919654369354,
          -0.06485919654369354,
          -0.06485919654369354,
          -0.06485919654369354,
          -0.06485919654369354,
          -0.06485919654369354,
          -0.06485922634601593,
          -0.06485922634601593,
          -0.0658724457025528,
          -0.06587663292884827,
          -0.06587669998407364,
          -0.06549465656280518,
          -0.06529300659894943,
          -0.06708624213933945,
          -0.07272873818874359,
          -0.07616008818149567,
          -0.07619373500347137,
          -0.07728475332260132,
          -0.07760224491357803,
          -0.07760224491357803
         ],
         "yaxis": "y"
        }
       ],
       "layout": {
        "legend": {
         "title": {
          "text": "variable"
         },
         "tracegroupgap": 0
        },
        "template": {
         "data": {
          "bar": [
           {
            "error_x": {
             "color": "#2a3f5f"
            },
            "error_y": {
             "color": "#2a3f5f"
            },
            "marker": {
             "line": {
              "color": "#E5ECF6",
              "width": 0.5
             },
             "pattern": {
              "fillmode": "overlay",
              "size": 10,
              "solidity": 0.2
             }
            },
            "type": "bar"
           }
          ],
          "barpolar": [
           {
            "marker": {
             "line": {
              "color": "#E5ECF6",
              "width": 0.5
             },
             "pattern": {
              "fillmode": "overlay",
              "size": 10,
              "solidity": 0.2
             }
            },
            "type": "barpolar"
           }
          ],
          "carpet": [
           {
            "aaxis": {
             "endlinecolor": "#2a3f5f",
             "gridcolor": "white",
             "linecolor": "white",
             "minorgridcolor": "white",
             "startlinecolor": "#2a3f5f"
            },
            "baxis": {
             "endlinecolor": "#2a3f5f",
             "gridcolor": "white",
             "linecolor": "white",
             "minorgridcolor": "white",
             "startlinecolor": "#2a3f5f"
            },
            "type": "carpet"
           }
          ],
          "choropleth": [
           {
            "colorbar": {
             "outlinewidth": 0,
             "ticks": ""
            },
            "type": "choropleth"
           }
          ],
          "contour": [
           {
            "colorbar": {
             "outlinewidth": 0,
             "ticks": ""
            },
            "colorscale": [
             [
              0,
              "#0d0887"
             ],
             [
              0.1111111111111111,
              "#46039f"
             ],
             [
              0.2222222222222222,
              "#7201a8"
             ],
             [
              0.3333333333333333,
              "#9c179e"
             ],
             [
              0.4444444444444444,
              "#bd3786"
             ],
             [
              0.5555555555555556,
              "#d8576b"
             ],
             [
              0.6666666666666666,
              "#ed7953"
             ],
             [
              0.7777777777777778,
              "#fb9f3a"
             ],
             [
              0.8888888888888888,
              "#fdca26"
             ],
             [
              1,
              "#f0f921"
             ]
            ],
            "type": "contour"
           }
          ],
          "contourcarpet": [
           {
            "colorbar": {
             "outlinewidth": 0,
             "ticks": ""
            },
            "type": "contourcarpet"
           }
          ],
          "heatmap": [
           {
            "colorbar": {
             "outlinewidth": 0,
             "ticks": ""
            },
            "colorscale": [
             [
              0,
              "#0d0887"
             ],
             [
              0.1111111111111111,
              "#46039f"
             ],
             [
              0.2222222222222222,
              "#7201a8"
             ],
             [
              0.3333333333333333,
              "#9c179e"
             ],
             [
              0.4444444444444444,
              "#bd3786"
             ],
             [
              0.5555555555555556,
              "#d8576b"
             ],
             [
              0.6666666666666666,
              "#ed7953"
             ],
             [
              0.7777777777777778,
              "#fb9f3a"
             ],
             [
              0.8888888888888888,
              "#fdca26"
             ],
             [
              1,
              "#f0f921"
             ]
            ],
            "type": "heatmap"
           }
          ],
          "heatmapgl": [
           {
            "colorbar": {
             "outlinewidth": 0,
             "ticks": ""
            },
            "colorscale": [
             [
              0,
              "#0d0887"
             ],
             [
              0.1111111111111111,
              "#46039f"
             ],
             [
              0.2222222222222222,
              "#7201a8"
             ],
             [
              0.3333333333333333,
              "#9c179e"
             ],
             [
              0.4444444444444444,
              "#bd3786"
             ],
             [
              0.5555555555555556,
              "#d8576b"
             ],
             [
              0.6666666666666666,
              "#ed7953"
             ],
             [
              0.7777777777777778,
              "#fb9f3a"
             ],
             [
              0.8888888888888888,
              "#fdca26"
             ],
             [
              1,
              "#f0f921"
             ]
            ],
            "type": "heatmapgl"
           }
          ],
          "histogram": [
           {
            "marker": {
             "pattern": {
              "fillmode": "overlay",
              "size": 10,
              "solidity": 0.2
             }
            },
            "type": "histogram"
           }
          ],
          "histogram2d": [
           {
            "colorbar": {
             "outlinewidth": 0,
             "ticks": ""
            },
            "colorscale": [
             [
              0,
              "#0d0887"
             ],
             [
              0.1111111111111111,
              "#46039f"
             ],
             [
              0.2222222222222222,
              "#7201a8"
             ],
             [
              0.3333333333333333,
              "#9c179e"
             ],
             [
              0.4444444444444444,
              "#bd3786"
             ],
             [
              0.5555555555555556,
              "#d8576b"
             ],
             [
              0.6666666666666666,
              "#ed7953"
             ],
             [
              0.7777777777777778,
              "#fb9f3a"
             ],
             [
              0.8888888888888888,
              "#fdca26"
             ],
             [
              1,
              "#f0f921"
             ]
            ],
            "type": "histogram2d"
           }
          ],
          "histogram2dcontour": [
           {
            "colorbar": {
             "outlinewidth": 0,
             "ticks": ""
            },
            "colorscale": [
             [
              0,
              "#0d0887"
             ],
             [
              0.1111111111111111,
              "#46039f"
             ],
             [
              0.2222222222222222,
              "#7201a8"
             ],
             [
              0.3333333333333333,
              "#9c179e"
             ],
             [
              0.4444444444444444,
              "#bd3786"
             ],
             [
              0.5555555555555556,
              "#d8576b"
             ],
             [
              0.6666666666666666,
              "#ed7953"
             ],
             [
              0.7777777777777778,
              "#fb9f3a"
             ],
             [
              0.8888888888888888,
              "#fdca26"
             ],
             [
              1,
              "#f0f921"
             ]
            ],
            "type": "histogram2dcontour"
           }
          ],
          "mesh3d": [
           {
            "colorbar": {
             "outlinewidth": 0,
             "ticks": ""
            },
            "type": "mesh3d"
           }
          ],
          "parcoords": [
           {
            "line": {
             "colorbar": {
              "outlinewidth": 0,
              "ticks": ""
             }
            },
            "type": "parcoords"
           }
          ],
          "pie": [
           {
            "automargin": true,
            "type": "pie"
           }
          ],
          "scatter": [
           {
            "fillpattern": {
             "fillmode": "overlay",
             "size": 10,
             "solidity": 0.2
            },
            "type": "scatter"
           }
          ],
          "scatter3d": [
           {
            "line": {
             "colorbar": {
              "outlinewidth": 0,
              "ticks": ""
             }
            },
            "marker": {
             "colorbar": {
              "outlinewidth": 0,
              "ticks": ""
             }
            },
            "type": "scatter3d"
           }
          ],
          "scattercarpet": [
           {
            "marker": {
             "colorbar": {
              "outlinewidth": 0,
              "ticks": ""
             }
            },
            "type": "scattercarpet"
           }
          ],
          "scattergeo": [
           {
            "marker": {
             "colorbar": {
              "outlinewidth": 0,
              "ticks": ""
             }
            },
            "type": "scattergeo"
           }
          ],
          "scattergl": [
           {
            "marker": {
             "colorbar": {
              "outlinewidth": 0,
              "ticks": ""
             }
            },
            "type": "scattergl"
           }
          ],
          "scattermapbox": [
           {
            "marker": {
             "colorbar": {
              "outlinewidth": 0,
              "ticks": ""
             }
            },
            "type": "scattermapbox"
           }
          ],
          "scatterpolar": [
           {
            "marker": {
             "colorbar": {
              "outlinewidth": 0,
              "ticks": ""
             }
            },
            "type": "scatterpolar"
           }
          ],
          "scatterpolargl": [
           {
            "marker": {
             "colorbar": {
              "outlinewidth": 0,
              "ticks": ""
             }
            },
            "type": "scatterpolargl"
           }
          ],
          "scatterternary": [
           {
            "marker": {
             "colorbar": {
              "outlinewidth": 0,
              "ticks": ""
             }
            },
            "type": "scatterternary"
           }
          ],
          "surface": [
           {
            "colorbar": {
             "outlinewidth": 0,
             "ticks": ""
            },
            "colorscale": [
             [
              0,
              "#0d0887"
             ],
             [
              0.1111111111111111,
              "#46039f"
             ],
             [
              0.2222222222222222,
              "#7201a8"
             ],
             [
              0.3333333333333333,
              "#9c179e"
             ],
             [
              0.4444444444444444,
              "#bd3786"
             ],
             [
              0.5555555555555556,
              "#d8576b"
             ],
             [
              0.6666666666666666,
              "#ed7953"
             ],
             [
              0.7777777777777778,
              "#fb9f3a"
             ],
             [
              0.8888888888888888,
              "#fdca26"
             ],
             [
              1,
              "#f0f921"
             ]
            ],
            "type": "surface"
           }
          ],
          "table": [
           {
            "cells": {
             "fill": {
              "color": "#EBF0F8"
             },
             "line": {
              "color": "white"
             }
            },
            "header": {
             "fill": {
              "color": "#C8D4E3"
             },
             "line": {
              "color": "white"
             }
            },
            "type": "table"
           }
          ]
         },
         "layout": {
          "annotationdefaults": {
           "arrowcolor": "#2a3f5f",
           "arrowhead": 0,
           "arrowwidth": 1
          },
          "autotypenumbers": "strict",
          "coloraxis": {
           "colorbar": {
            "outlinewidth": 0,
            "ticks": ""
           }
          },
          "colorscale": {
           "diverging": [
            [
             0,
             "#8e0152"
            ],
            [
             0.1,
             "#c51b7d"
            ],
            [
             0.2,
             "#de77ae"
            ],
            [
             0.3,
             "#f1b6da"
            ],
            [
             0.4,
             "#fde0ef"
            ],
            [
             0.5,
             "#f7f7f7"
            ],
            [
             0.6,
             "#e6f5d0"
            ],
            [
             0.7,
             "#b8e186"
            ],
            [
             0.8,
             "#7fbc41"
            ],
            [
             0.9,
             "#4d9221"
            ],
            [
             1,
             "#276419"
            ]
           ],
           "sequential": [
            [
             0,
             "#0d0887"
            ],
            [
             0.1111111111111111,
             "#46039f"
            ],
            [
             0.2222222222222222,
             "#7201a8"
            ],
            [
             0.3333333333333333,
             "#9c179e"
            ],
            [
             0.4444444444444444,
             "#bd3786"
            ],
            [
             0.5555555555555556,
             "#d8576b"
            ],
            [
             0.6666666666666666,
             "#ed7953"
            ],
            [
             0.7777777777777778,
             "#fb9f3a"
            ],
            [
             0.8888888888888888,
             "#fdca26"
            ],
            [
             1,
             "#f0f921"
            ]
           ],
           "sequentialminus": [
            [
             0,
             "#0d0887"
            ],
            [
             0.1111111111111111,
             "#46039f"
            ],
            [
             0.2222222222222222,
             "#7201a8"
            ],
            [
             0.3333333333333333,
             "#9c179e"
            ],
            [
             0.4444444444444444,
             "#bd3786"
            ],
            [
             0.5555555555555556,
             "#d8576b"
            ],
            [
             0.6666666666666666,
             "#ed7953"
            ],
            [
             0.7777777777777778,
             "#fb9f3a"
            ],
            [
             0.8888888888888888,
             "#fdca26"
            ],
            [
             1,
             "#f0f921"
            ]
           ]
          },
          "colorway": [
           "#636efa",
           "#EF553B",
           "#00cc96",
           "#ab63fa",
           "#FFA15A",
           "#19d3f3",
           "#FF6692",
           "#B6E880",
           "#FF97FF",
           "#FECB52"
          ],
          "font": {
           "color": "#2a3f5f"
          },
          "geo": {
           "bgcolor": "white",
           "lakecolor": "white",
           "landcolor": "#E5ECF6",
           "showlakes": true,
           "showland": true,
           "subunitcolor": "white"
          },
          "hoverlabel": {
           "align": "left"
          },
          "hovermode": "closest",
          "mapbox": {
           "style": "light"
          },
          "paper_bgcolor": "white",
          "plot_bgcolor": "#E5ECF6",
          "polar": {
           "angularaxis": {
            "gridcolor": "white",
            "linecolor": "white",
            "ticks": ""
           },
           "bgcolor": "#E5ECF6",
           "radialaxis": {
            "gridcolor": "white",
            "linecolor": "white",
            "ticks": ""
           }
          },
          "scene": {
           "xaxis": {
            "backgroundcolor": "#E5ECF6",
            "gridcolor": "white",
            "gridwidth": 2,
            "linecolor": "white",
            "showbackground": true,
            "ticks": "",
            "zerolinecolor": "white"
           },
           "yaxis": {
            "backgroundcolor": "#E5ECF6",
            "gridcolor": "white",
            "gridwidth": 2,
            "linecolor": "white",
            "showbackground": true,
            "ticks": "",
            "zerolinecolor": "white"
           },
           "zaxis": {
            "backgroundcolor": "#E5ECF6",
            "gridcolor": "white",
            "gridwidth": 2,
            "linecolor": "white",
            "showbackground": true,
            "ticks": "",
            "zerolinecolor": "white"
           }
          },
          "shapedefaults": {
           "line": {
            "color": "#2a3f5f"
           }
          },
          "ternary": {
           "aaxis": {
            "gridcolor": "white",
            "linecolor": "white",
            "ticks": ""
           },
           "baxis": {
            "gridcolor": "white",
            "linecolor": "white",
            "ticks": ""
           },
           "bgcolor": "#E5ECF6",
           "caxis": {
            "gridcolor": "white",
            "linecolor": "white",
            "ticks": ""
           }
          },
          "title": {
           "x": 0.05
          },
          "xaxis": {
           "automargin": true,
           "gridcolor": "white",
           "linecolor": "white",
           "ticks": "",
           "title": {
            "standoff": 15
           },
           "zerolinecolor": "white",
           "zerolinewidth": 2
          },
          "yaxis": {
           "automargin": true,
           "gridcolor": "white",
           "linecolor": "white",
           "ticks": "",
           "title": {
            "standoff": 15
           },
           "zerolinecolor": "white",
           "zerolinewidth": 2
          }
         }
        },
        "title": {
         "text": "Camera Translation"
        },
        "xaxis": {
         "anchor": "y",
         "domain": [
          0,
          1
         ],
         "title": {
          "text": "Epoch"
         }
        },
        "yaxis": {
         "anchor": "x",
         "domain": [
          0,
          1
         ],
         "title": {
          "text": "value"
         }
        }
       }
      },
      "text/html": [
       "<div>                            <div id=\"b25c0557-032e-416c-afd7-1c202618789d\" class=\"plotly-graph-div\" style=\"height:525px; width:100%;\"></div>            <script type=\"text/javascript\">                require([\"plotly\"], function(Plotly) {                    window.PLOTLYENV=window.PLOTLYENV || {};                                    if (document.getElementById(\"b25c0557-032e-416c-afd7-1c202618789d\")) {                    Plotly.newPlot(                        \"b25c0557-032e-416c-afd7-1c202618789d\",                        [{\"hovertemplate\":\"variable=b1\\u003cbr\\u003eEpoch=%{x}\\u003cbr\\u003evalue=%{y}\\u003cextra\\u003e\\u003c\\u002fextra\\u003e\",\"legendgroup\":\"b1\",\"line\":{\"color\":\"#636efa\",\"dash\":\"solid\"},\"marker\":{\"symbol\":\"circle\"},\"mode\":\"lines\",\"name\":\"b1\",\"orientation\":\"v\",\"showlegend\":true,\"x\":[0,1,2,3,4,5,6,7,8,9,10,11,12,13,14,15,16,17,18,19,20,21,22,23,24,25,26,27,28,29,30,31,32,33,34,35,36,37,38,39,40,41,42,43,44,45,46,47,48,49],\"xaxis\":\"x\",\"y\":[-0.024540401995182037,-0.026752475649118423,-0.02457902394235134,-0.02479603886604309,-0.02473444491624832,-0.02522752434015274,-0.025324136018753052,-0.024618789553642273,-0.02405608259141445,-0.023701444268226624,-0.023421987891197205,-0.023422347381711006,-0.023422347381711006,-0.023422496393322945,-0.023897329345345497,-0.024170929566025734,-0.025480369105935097,-0.025479299947619438,-0.025479299947619438,-0.025479299947619438,-0.025479299947619438,-0.025479299947619438,-0.025479299947619438,-0.025479299947619438,-0.025479299947619438,-0.025479299947619438,-0.025479299947619438,-0.025479286909103394,-0.024538259953260422,-0.023615483194589615,-0.023615412414073944,-0.023615412414073944,-0.023615412414073944,-0.023615412414073944,-0.023615412414073944,-0.023615412414073944,-0.023615406826138496,-0.023615406826138496,-0.023593593388795853,-0.023594792932271957,-0.02359481155872345,-0.024017898365855217,-0.02438119240105152,-0.025032153353095055,-0.025458484888076782,-0.02446361631155014,-0.024455606937408447,-0.02385433204472065,-0.023899121209979057,-0.023899121209979057],\"yaxis\":\"y\",\"type\":\"scatter\"},{\"hovertemplate\":\"variable=b2\\u003cbr\\u003eEpoch=%{x}\\u003cbr\\u003evalue=%{y}\\u003cextra\\u003e\\u003c\\u002fextra\\u003e\",\"legendgroup\":\"b2\",\"line\":{\"color\":\"#EF553B\",\"dash\":\"solid\"},\"marker\":{\"symbol\":\"circle\"},\"mode\":\"lines\",\"name\":\"b2\",\"orientation\":\"v\",\"showlegend\":true,\"x\":[0,1,2,3,4,5,6,7,8,9,10,11,12,13,14,15,16,17,18,19,20,21,22,23,24,25,26,27,28,29,30,31,32,33,34,35,36,37,38,39,40,41,42,43,44,45,46,47,48,49],\"xaxis\":\"x\",\"y\":[0.17257404327392578,0.17237502336502075,0.19350586831569672,0.18832996487617493,0.18909701704978943,0.18968139588832855,0.19075800478458405,0.19098329544067383,0.191313698887825,0.19194036722183228,0.19306769967079163,0.19306863844394684,0.19306863844394684,0.19306915998458862,0.1946563720703125,0.19623836874961853,0.198275625705719,0.19827468693256378,0.19827468693256378,0.19827468693256378,0.19827468693256378,0.19827468693256378,0.19827468693256378,0.19827468693256378,0.19827468693256378,0.19827468693256378,0.19827468693256378,0.1982746422290802,0.19693194329738617,0.19579368829727173,0.1957937628030777,0.1957937628030777,0.1957937628030777,0.1957937628030777,0.1957937628030777,0.1957937628030777,0.1957937628030777,0.1957937628030777,0.19675952196121216,0.19678321480751038,0.19678357243537903,0.2006538212299347,0.20478934049606323,0.20338238775730133,0.20451720058918,0.20284157991409302,0.20288974046707153,0.20587216317653656,0.20667502284049988,0.20667502284049988],\"yaxis\":\"y\",\"type\":\"scatter\"},{\"hovertemplate\":\"variable=b3\\u003cbr\\u003eEpoch=%{x}\\u003cbr\\u003evalue=%{y}\\u003cextra\\u003e\\u003c\\u002fextra\\u003e\",\"legendgroup\":\"b3\",\"line\":{\"color\":\"#00cc96\",\"dash\":\"solid\"},\"marker\":{\"symbol\":\"circle\"},\"mode\":\"lines\",\"name\":\"b3\",\"orientation\":\"v\",\"showlegend\":true,\"x\":[0,1,2,3,4,5,6,7,8,9,10,11,12,13,14,15,16,17,18,19,20,21,22,23,24,25,26,27,28,29,30,31,32,33,34,35,36,37,38,39,40,41,42,43,44,45,46,47,48,49],\"xaxis\":\"x\",\"y\":[-0.05063166469335556,-0.05152153968811035,-0.053121667355298996,-0.0574074387550354,-0.06044735014438629,-0.0607488751411438,-0.06054943799972534,-0.060597244650125504,-0.0606020987033844,-0.06079656630754471,-0.060809239745140076,-0.06080923601984978,-0.06080923601984978,-0.06080929562449455,-0.061140332370996475,-0.06146964803338051,-0.06269999593496323,-0.06269782036542892,-0.06269782036542892,-0.06269782036542892,-0.06269782036542892,-0.06269782036542892,-0.06269782036542892,-0.06269782036542892,-0.06269782036542892,-0.06269782036542892,-0.06269782036542892,-0.06269773095846176,-0.06302765756845474,-0.06485878676176071,-0.06485919654369354,-0.06485919654369354,-0.06485919654369354,-0.06485919654369354,-0.06485919654369354,-0.06485919654369354,-0.06485922634601593,-0.06485922634601593,-0.0658724457025528,-0.06587663292884827,-0.06587669998407364,-0.06549465656280518,-0.06529300659894943,-0.06708624213933945,-0.07272873818874359,-0.07616008818149567,-0.07619373500347137,-0.07728475332260132,-0.07760224491357803,-0.07760224491357803],\"yaxis\":\"y\",\"type\":\"scatter\"}],                        {\"template\":{\"data\":{\"histogram2dcontour\":[{\"type\":\"histogram2dcontour\",\"colorbar\":{\"outlinewidth\":0,\"ticks\":\"\"},\"colorscale\":[[0.0,\"#0d0887\"],[0.1111111111111111,\"#46039f\"],[0.2222222222222222,\"#7201a8\"],[0.3333333333333333,\"#9c179e\"],[0.4444444444444444,\"#bd3786\"],[0.5555555555555556,\"#d8576b\"],[0.6666666666666666,\"#ed7953\"],[0.7777777777777778,\"#fb9f3a\"],[0.8888888888888888,\"#fdca26\"],[1.0,\"#f0f921\"]]}],\"choropleth\":[{\"type\":\"choropleth\",\"colorbar\":{\"outlinewidth\":0,\"ticks\":\"\"}}],\"histogram2d\":[{\"type\":\"histogram2d\",\"colorbar\":{\"outlinewidth\":0,\"ticks\":\"\"},\"colorscale\":[[0.0,\"#0d0887\"],[0.1111111111111111,\"#46039f\"],[0.2222222222222222,\"#7201a8\"],[0.3333333333333333,\"#9c179e\"],[0.4444444444444444,\"#bd3786\"],[0.5555555555555556,\"#d8576b\"],[0.6666666666666666,\"#ed7953\"],[0.7777777777777778,\"#fb9f3a\"],[0.8888888888888888,\"#fdca26\"],[1.0,\"#f0f921\"]]}],\"heatmap\":[{\"type\":\"heatmap\",\"colorbar\":{\"outlinewidth\":0,\"ticks\":\"\"},\"colorscale\":[[0.0,\"#0d0887\"],[0.1111111111111111,\"#46039f\"],[0.2222222222222222,\"#7201a8\"],[0.3333333333333333,\"#9c179e\"],[0.4444444444444444,\"#bd3786\"],[0.5555555555555556,\"#d8576b\"],[0.6666666666666666,\"#ed7953\"],[0.7777777777777778,\"#fb9f3a\"],[0.8888888888888888,\"#fdca26\"],[1.0,\"#f0f921\"]]}],\"heatmapgl\":[{\"type\":\"heatmapgl\",\"colorbar\":{\"outlinewidth\":0,\"ticks\":\"\"},\"colorscale\":[[0.0,\"#0d0887\"],[0.1111111111111111,\"#46039f\"],[0.2222222222222222,\"#7201a8\"],[0.3333333333333333,\"#9c179e\"],[0.4444444444444444,\"#bd3786\"],[0.5555555555555556,\"#d8576b\"],[0.6666666666666666,\"#ed7953\"],[0.7777777777777778,\"#fb9f3a\"],[0.8888888888888888,\"#fdca26\"],[1.0,\"#f0f921\"]]}],\"contourcarpet\":[{\"type\":\"contourcarpet\",\"colorbar\":{\"outlinewidth\":0,\"ticks\":\"\"}}],\"contour\":[{\"type\":\"contour\",\"colorbar\":{\"outlinewidth\":0,\"ticks\":\"\"},\"colorscale\":[[0.0,\"#0d0887\"],[0.1111111111111111,\"#46039f\"],[0.2222222222222222,\"#7201a8\"],[0.3333333333333333,\"#9c179e\"],[0.4444444444444444,\"#bd3786\"],[0.5555555555555556,\"#d8576b\"],[0.6666666666666666,\"#ed7953\"],[0.7777777777777778,\"#fb9f3a\"],[0.8888888888888888,\"#fdca26\"],[1.0,\"#f0f921\"]]}],\"surface\":[{\"type\":\"surface\",\"colorbar\":{\"outlinewidth\":0,\"ticks\":\"\"},\"colorscale\":[[0.0,\"#0d0887\"],[0.1111111111111111,\"#46039f\"],[0.2222222222222222,\"#7201a8\"],[0.3333333333333333,\"#9c179e\"],[0.4444444444444444,\"#bd3786\"],[0.5555555555555556,\"#d8576b\"],[0.6666666666666666,\"#ed7953\"],[0.7777777777777778,\"#fb9f3a\"],[0.8888888888888888,\"#fdca26\"],[1.0,\"#f0f921\"]]}],\"mesh3d\":[{\"type\":\"mesh3d\",\"colorbar\":{\"outlinewidth\":0,\"ticks\":\"\"}}],\"scatter\":[{\"fillpattern\":{\"fillmode\":\"overlay\",\"size\":10,\"solidity\":0.2},\"type\":\"scatter\"}],\"parcoords\":[{\"type\":\"parcoords\",\"line\":{\"colorbar\":{\"outlinewidth\":0,\"ticks\":\"\"}}}],\"scatterpolargl\":[{\"type\":\"scatterpolargl\",\"marker\":{\"colorbar\":{\"outlinewidth\":0,\"ticks\":\"\"}}}],\"bar\":[{\"error_x\":{\"color\":\"#2a3f5f\"},\"error_y\":{\"color\":\"#2a3f5f\"},\"marker\":{\"line\":{\"color\":\"#E5ECF6\",\"width\":0.5},\"pattern\":{\"fillmode\":\"overlay\",\"size\":10,\"solidity\":0.2}},\"type\":\"bar\"}],\"scattergeo\":[{\"type\":\"scattergeo\",\"marker\":{\"colorbar\":{\"outlinewidth\":0,\"ticks\":\"\"}}}],\"scatterpolar\":[{\"type\":\"scatterpolar\",\"marker\":{\"colorbar\":{\"outlinewidth\":0,\"ticks\":\"\"}}}],\"histogram\":[{\"marker\":{\"pattern\":{\"fillmode\":\"overlay\",\"size\":10,\"solidity\":0.2}},\"type\":\"histogram\"}],\"scattergl\":[{\"type\":\"scattergl\",\"marker\":{\"colorbar\":{\"outlinewidth\":0,\"ticks\":\"\"}}}],\"scatter3d\":[{\"type\":\"scatter3d\",\"line\":{\"colorbar\":{\"outlinewidth\":0,\"ticks\":\"\"}},\"marker\":{\"colorbar\":{\"outlinewidth\":0,\"ticks\":\"\"}}}],\"scattermapbox\":[{\"type\":\"scattermapbox\",\"marker\":{\"colorbar\":{\"outlinewidth\":0,\"ticks\":\"\"}}}],\"scatterternary\":[{\"type\":\"scatterternary\",\"marker\":{\"colorbar\":{\"outlinewidth\":0,\"ticks\":\"\"}}}],\"scattercarpet\":[{\"type\":\"scattercarpet\",\"marker\":{\"colorbar\":{\"outlinewidth\":0,\"ticks\":\"\"}}}],\"carpet\":[{\"aaxis\":{\"endlinecolor\":\"#2a3f5f\",\"gridcolor\":\"white\",\"linecolor\":\"white\",\"minorgridcolor\":\"white\",\"startlinecolor\":\"#2a3f5f\"},\"baxis\":{\"endlinecolor\":\"#2a3f5f\",\"gridcolor\":\"white\",\"linecolor\":\"white\",\"minorgridcolor\":\"white\",\"startlinecolor\":\"#2a3f5f\"},\"type\":\"carpet\"}],\"table\":[{\"cells\":{\"fill\":{\"color\":\"#EBF0F8\"},\"line\":{\"color\":\"white\"}},\"header\":{\"fill\":{\"color\":\"#C8D4E3\"},\"line\":{\"color\":\"white\"}},\"type\":\"table\"}],\"barpolar\":[{\"marker\":{\"line\":{\"color\":\"#E5ECF6\",\"width\":0.5},\"pattern\":{\"fillmode\":\"overlay\",\"size\":10,\"solidity\":0.2}},\"type\":\"barpolar\"}],\"pie\":[{\"automargin\":true,\"type\":\"pie\"}]},\"layout\":{\"autotypenumbers\":\"strict\",\"colorway\":[\"#636efa\",\"#EF553B\",\"#00cc96\",\"#ab63fa\",\"#FFA15A\",\"#19d3f3\",\"#FF6692\",\"#B6E880\",\"#FF97FF\",\"#FECB52\"],\"font\":{\"color\":\"#2a3f5f\"},\"hovermode\":\"closest\",\"hoverlabel\":{\"align\":\"left\"},\"paper_bgcolor\":\"white\",\"plot_bgcolor\":\"#E5ECF6\",\"polar\":{\"bgcolor\":\"#E5ECF6\",\"angularaxis\":{\"gridcolor\":\"white\",\"linecolor\":\"white\",\"ticks\":\"\"},\"radialaxis\":{\"gridcolor\":\"white\",\"linecolor\":\"white\",\"ticks\":\"\"}},\"ternary\":{\"bgcolor\":\"#E5ECF6\",\"aaxis\":{\"gridcolor\":\"white\",\"linecolor\":\"white\",\"ticks\":\"\"},\"baxis\":{\"gridcolor\":\"white\",\"linecolor\":\"white\",\"ticks\":\"\"},\"caxis\":{\"gridcolor\":\"white\",\"linecolor\":\"white\",\"ticks\":\"\"}},\"coloraxis\":{\"colorbar\":{\"outlinewidth\":0,\"ticks\":\"\"}},\"colorscale\":{\"sequential\":[[0.0,\"#0d0887\"],[0.1111111111111111,\"#46039f\"],[0.2222222222222222,\"#7201a8\"],[0.3333333333333333,\"#9c179e\"],[0.4444444444444444,\"#bd3786\"],[0.5555555555555556,\"#d8576b\"],[0.6666666666666666,\"#ed7953\"],[0.7777777777777778,\"#fb9f3a\"],[0.8888888888888888,\"#fdca26\"],[1.0,\"#f0f921\"]],\"sequentialminus\":[[0.0,\"#0d0887\"],[0.1111111111111111,\"#46039f\"],[0.2222222222222222,\"#7201a8\"],[0.3333333333333333,\"#9c179e\"],[0.4444444444444444,\"#bd3786\"],[0.5555555555555556,\"#d8576b\"],[0.6666666666666666,\"#ed7953\"],[0.7777777777777778,\"#fb9f3a\"],[0.8888888888888888,\"#fdca26\"],[1.0,\"#f0f921\"]],\"diverging\":[[0,\"#8e0152\"],[0.1,\"#c51b7d\"],[0.2,\"#de77ae\"],[0.3,\"#f1b6da\"],[0.4,\"#fde0ef\"],[0.5,\"#f7f7f7\"],[0.6,\"#e6f5d0\"],[0.7,\"#b8e186\"],[0.8,\"#7fbc41\"],[0.9,\"#4d9221\"],[1,\"#276419\"]]},\"xaxis\":{\"gridcolor\":\"white\",\"linecolor\":\"white\",\"ticks\":\"\",\"title\":{\"standoff\":15},\"zerolinecolor\":\"white\",\"automargin\":true,\"zerolinewidth\":2},\"yaxis\":{\"gridcolor\":\"white\",\"linecolor\":\"white\",\"ticks\":\"\",\"title\":{\"standoff\":15},\"zerolinecolor\":\"white\",\"automargin\":true,\"zerolinewidth\":2},\"scene\":{\"xaxis\":{\"backgroundcolor\":\"#E5ECF6\",\"gridcolor\":\"white\",\"linecolor\":\"white\",\"showbackground\":true,\"ticks\":\"\",\"zerolinecolor\":\"white\",\"gridwidth\":2},\"yaxis\":{\"backgroundcolor\":\"#E5ECF6\",\"gridcolor\":\"white\",\"linecolor\":\"white\",\"showbackground\":true,\"ticks\":\"\",\"zerolinecolor\":\"white\",\"gridwidth\":2},\"zaxis\":{\"backgroundcolor\":\"#E5ECF6\",\"gridcolor\":\"white\",\"linecolor\":\"white\",\"showbackground\":true,\"ticks\":\"\",\"zerolinecolor\":\"white\",\"gridwidth\":2}},\"shapedefaults\":{\"line\":{\"color\":\"#2a3f5f\"}},\"annotationdefaults\":{\"arrowcolor\":\"#2a3f5f\",\"arrowhead\":0,\"arrowwidth\":1},\"geo\":{\"bgcolor\":\"white\",\"landcolor\":\"#E5ECF6\",\"subunitcolor\":\"white\",\"showland\":true,\"showlakes\":true,\"lakecolor\":\"white\"},\"title\":{\"x\":0.05},\"mapbox\":{\"style\":\"light\"}}},\"xaxis\":{\"anchor\":\"y\",\"domain\":[0.0,1.0],\"title\":{\"text\":\"Epoch\"}},\"yaxis\":{\"anchor\":\"x\",\"domain\":[0.0,1.0],\"title\":{\"text\":\"value\"}},\"legend\":{\"title\":{\"text\":\"variable\"},\"tracegroupgap\":0},\"title\":{\"text\":\"Camera Translation\"}},                        {\"responsive\": true}                    ).then(function(){\n",
       "                            \n",
       "var gd = document.getElementById('b25c0557-032e-416c-afd7-1c202618789d');\n",
       "var x = new MutationObserver(function (mutations, observer) {{\n",
       "        var display = window.getComputedStyle(gd).display;\n",
       "        if (!display || display === 'none') {{\n",
       "            console.log([gd, 'removed!']);\n",
       "            Plotly.purge(gd);\n",
       "            observer.disconnect();\n",
       "        }}\n",
       "}});\n",
       "\n",
       "// Listen for the removal of the full notebook cells\n",
       "var notebookContainer = gd.closest('#notebook-container');\n",
       "if (notebookContainer) {{\n",
       "    x.observe(notebookContainer, {childList: true});\n",
       "}}\n",
       "\n",
       "// Listen for the clearing of the current output cell\n",
       "var outputEl = gd.closest('.output');\n",
       "if (outputEl) {{\n",
       "    x.observe(outputEl, {childList: true});\n",
       "}}\n",
       "\n",
       "                        })                };                });            </script>        </div>"
      ]
     },
     "metadata": {},
     "output_type": "display_data"
    }
   ],
   "source": [
    "df = pd.DataFrame(store_epoch[\"camera_translation\"])\n",
    "camera_translation = [\"b\" + str(i + 1) for i in range(3)]\n",
    "df.columns = camera_translation\n",
    "df[\"Epoch\"] = df.index\n",
    "\n",
    "fig = px.line(df, x=\"Epoch\", y=camera_translation, title=\"Camera Translation\")\n",
    "fig.show()"
   ]
  },
  {
   "cell_type": "code",
   "execution_count": null,
   "metadata": {},
   "outputs": [],
   "source": []
  }
 ],
 "metadata": {
  "kernelspec": {
   "display_name": "env",
   "language": "python",
   "name": "python3"
  },
  "language_info": {
   "codemirror_mode": {
    "name": "ipython",
    "version": 3
   },
   "file_extension": ".py",
   "mimetype": "text/x-python",
   "name": "python",
   "nbconvert_exporter": "python",
   "pygments_lexer": "ipython3",
   "version": "3.9.2"
  }
 },
 "nbformat": 4,
 "nbformat_minor": 2
}
