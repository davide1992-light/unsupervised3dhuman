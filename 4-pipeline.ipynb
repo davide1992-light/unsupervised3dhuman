{
 "cells": [
  {
   "cell_type": "code",
   "execution_count": null,
   "metadata": {},
   "outputs": [],
   "source": [
    "import os\n",
    "import json\n",
    "import pandas as pd\n",
    "\n",
    "from utils.center_rotate_scale import center_rotate_scale\n",
    "from SMPLfitter import SMPLfitter\n",
    "from SMPLmeasure import SMPLmeasure"
   ]
  },
  {
   "cell_type": "code",
   "execution_count": null,
   "metadata": {},
   "outputs": [],
   "source": [
    "df_ground_truth = pd.read_csv(\"./examples/ground_truth.csv\").set_index(\"info\")\n",
    "ground_truth_dict = df_ground_truth.to_dict()"
   ]
  },
  {
   "cell_type": "code",
   "execution_count": null,
   "metadata": {},
   "outputs": [],
   "source": [
    "anonimos = [\n",
    "    \"anonimo1\",\n",
    "    \"anonimo2\",\n",
    "    \"anonimo3\",\n",
    "    # \"anonimo4\",\n",
    "    \"anonimo5\",\n",
    "    # \"anonimo6\",\n",
    "    # \"anonimo7\",\n",
    "    # \"anonimo8\",\n",
    "    \"anonimo9\",\n",
    "    \"anonimo10\",\n",
    "    \"anonimo11\",\n",
    "    \"anonimo12\",\n",
    "    \"anonimo13\",\n",
    "    \"anonimo14\",\n",
    "    \"anonimo15\",\n",
    "    \"anonimo16\",\n",
    "    \"anonimo17\",\n",
    "    \"anonimo18\",\n",
    "    \"anonimo19\",\n",
    "    \"anonimo20\",\n",
    "    \"anonimo21\",\n",
    "]"
   ]
  },
  {
   "cell_type": "code",
   "execution_count": null,
   "metadata": {},
   "outputs": [],
   "source": [
    "def pipeline(front_path, back_path, gender, height):\n",
    "\n",
    "    front_path_rotated = \"./temp/front.ply\"\n",
    "    back_path_rotated = \"./temp/back.ply\"\n",
    "    center_rotate_scale(front_path, front_path_rotated, \"front\")\n",
    "    center_rotate_scale(back_path, back_path_rotated, \"back\")\n",
    "\n",
    "    fitter = SMPLfitter.SMPLfitter(smpl_gender=gender)\n",
    "\n",
    "    front_points = fitter.load_pc(front_path_rotated)\n",
    "    front_sampled_points = fitter.sample_pc(front_points)\n",
    "    front_centered_points, front_center_trans = fitter.center_pc(front_sampled_points)\n",
    "\n",
    "    back_points = fitter.load_pc(back_path_rotated)\n",
    "    back_sampled_points = fitter.sample_pc(back_points)\n",
    "    back_centered_points, back_center_trans = fitter.center_pc(back_sampled_points)\n",
    "\n",
    "    init_pose_front, init_pose_back, init_betas, init_cam_trans_front, init_cam_trans_back = fitter.initialize_params()\n",
    "\n",
    "    pred_pose_front, pred_pose_back, pred_betas, pred_cam_trans_front, pred_cam_trans_back = fitter.smpl_fit(\n",
    "        front_centered_points,\n",
    "        back_centered_points,\n",
    "        init_pose_front,\n",
    "        init_pose_back,\n",
    "        init_betas,\n",
    "        init_cam_trans_front,\n",
    "        init_cam_trans_back,\n",
    "    )\n",
    "\n",
    "    # Store results\n",
    "    result_path = f\"./temp/pred.ply\"\n",
    "    fitter.save_smpl_ply(pred_pose_front, pred_betas, pred_cam_trans_front, result_path)\n",
    "\n",
    "    measure_smpl = SMPLmeasure.SMPLmeasure()\n",
    "    result = measure_smpl.measure_smpl(filename=result_path, height=height)\n",
    "\n",
    "    return result"
   ]
  },
  {
   "cell_type": "code",
   "execution_count": null,
   "metadata": {},
   "outputs": [],
   "source": [
    "for anonimo in anonimos:\n",
    "    print(anonimo, ground_truth_dict[anonimo][\"gender\"], ground_truth_dict[anonimo][\"height\"])\n",
    "    samples = os.listdir(f\"./examples/{anonimo}/\")\n",
    "    for sample in samples:\n",
    "        front_path = f\"./examples/{anonimo}/{sample}/a.ply\"\n",
    "        back_path = f\"./examples/{anonimo}/{sample}/c.ply\"\n",
    "        result = pipeline(\n",
    "            front_path, back_path, ground_truth_dict[anonimo][\"gender\"], ground_truth_dict[anonimo][\"height\"]\n",
    "        )\n",
    "\n",
    "        with open(f\"./results/{anonimo}_{sample}.json\", \"w\") as json_file:\n",
    "            json.dump(result, json_file, indent=4)"
   ]
  }
 ],
 "metadata": {
  "kernelspec": {
   "display_name": "env",
   "language": "python",
   "name": "python3"
  },
  "language_info": {
   "codemirror_mode": {
    "name": "ipython",
    "version": 3
   },
   "file_extension": ".py",
   "mimetype": "text/x-python",
   "name": "python",
   "nbconvert_exporter": "python",
   "pygments_lexer": "ipython3",
   "version": "3.10.12"
  }
 },
 "nbformat": 4,
 "nbformat_minor": 2
}
